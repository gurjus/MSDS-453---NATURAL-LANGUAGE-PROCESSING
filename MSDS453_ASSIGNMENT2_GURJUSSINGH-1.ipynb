{
  "nbformat": 4,
  "nbformat_minor": 0,
  "metadata": {
    "colab": {
      "name": "MSDS453_ASSIGNMENT2_GURJUSSINGH.ipynb",
      "provenance": [],
      "collapsed_sections": [],
      "toc_visible": true
    },
    "kernelspec": {
      "name": "python3",
      "display_name": "Python 3"
    },
    "language_info": {
      "name": "python"
    },
    "accelerator": "GPU"
  },
  "cells": [
    {
      "cell_type": "code",
      "metadata": {
        "colab": {
          "base_uri": "https://localhost:8080/"
        },
        "id": "-9SmJrvkmRu3",
        "outputId": "9845151d-246f-4bb9-d15a-469e72c995ae"
      },
      "source": [
        "from google.colab import drive\n",
        "drive.mount('/content/drive')"
      ],
      "execution_count": 2,
      "outputs": [
        {
          "output_type": "stream",
          "text": [
            "Mounted at /content/drive\n"
          ],
          "name": "stdout"
        }
      ]
    },
    {
      "cell_type": "code",
      "metadata": {
        "colab": {
          "base_uri": "https://localhost:8080/"
        },
        "id": "8TtmkDd6HkKS",
        "outputId": "1163e7c4-fc7a-4905-a39c-89aff1f6b4dc"
      },
      "source": [
        "pip install phrasemachine"
      ],
      "execution_count": 3,
      "outputs": [
        {
          "output_type": "stream",
          "text": [
            "Collecting phrasemachine\n",
            "\u001b[?25l  Downloading https://files.pythonhosted.org/packages/1d/ce/fdfe4af594aa9572f30e3eb71d1f6fcdf8a72b636facf7a94fedfcbfaab0/phrasemachine-1.0.7.tar.gz (2.7MB)\n",
            "\u001b[K     |████████████████████████████████| 2.7MB 8.4MB/s \n",
            "\u001b[?25hRequirement already satisfied: nltk in /usr/local/lib/python3.7/dist-packages (from phrasemachine) (3.2.5)\n",
            "Requirement already satisfied: six in /usr/local/lib/python3.7/dist-packages (from nltk->phrasemachine) (1.15.0)\n",
            "Building wheels for collected packages: phrasemachine\n",
            "  Building wheel for phrasemachine (setup.py) ... \u001b[?25l\u001b[?25hdone\n",
            "  Created wheel for phrasemachine: filename=phrasemachine-1.0.7-cp37-none-any.whl size=2694882 sha256=c8c0f095734e3d798394628efcdab928f1ed772fa59acde784dc27a02714a0e1\n",
            "  Stored in directory: /root/.cache/pip/wheels/dd/9b/97/55e03013915dde1b059f16364f54a553f2e1d94dc046285a4a\n",
            "Successfully built phrasemachine\n",
            "Installing collected packages: phrasemachine\n",
            "Successfully installed phrasemachine-1.0.7\n"
          ],
          "name": "stdout"
        }
      ]
    },
    {
      "cell_type": "code",
      "metadata": {
        "colab": {
          "base_uri": "https://localhost:8080/"
        },
        "id": "ine-T-VqHrz0",
        "outputId": "78bae56f-765c-46ef-936b-c3f973603290"
      },
      "source": [
        "pip install rake_nltk"
      ],
      "execution_count": 4,
      "outputs": [
        {
          "output_type": "stream",
          "text": [
            "Collecting rake_nltk\n",
            "  Downloading https://files.pythonhosted.org/packages/8e/c4/b4ff57e541ac5624ad4b20b89c2bafd4e98f29fd83139f3a81858bdb3815/rake_nltk-1.0.4.tar.gz\n",
            "Requirement already satisfied: nltk in /usr/local/lib/python3.7/dist-packages (from rake_nltk) (3.2.5)\n",
            "Requirement already satisfied: six in /usr/local/lib/python3.7/dist-packages (from nltk->rake_nltk) (1.15.0)\n",
            "Building wheels for collected packages: rake-nltk\n",
            "  Building wheel for rake-nltk (setup.py) ... \u001b[?25l\u001b[?25hdone\n",
            "  Created wheel for rake-nltk: filename=rake_nltk-1.0.4-py2.py3-none-any.whl size=7819 sha256=693206f5c9becdf653bd98ff616118924196f5446791596718e60b93c51d63e5\n",
            "  Stored in directory: /root/.cache/pip/wheels/ef/92/fc/271b3709e71a96ffe934b27818946b795ac6b9b8ff8682483f\n",
            "Successfully built rake-nltk\n",
            "Installing collected packages: rake-nltk\n",
            "Successfully installed rake-nltk-1.0.4\n"
          ],
          "name": "stdout"
        }
      ]
    },
    {
      "cell_type": "code",
      "metadata": {
        "id": "4W_2i3OOnvX2"
      },
      "source": [
        "###############################################################################\n",
        "### packages required to run code.  Make sure to install all required packages.\n",
        "###############################################################################\n",
        "import re,string\n",
        "from nltk.corpus import stopwords\n",
        "from nltk.stem import PorterStemmer\n",
        "from nltk.tokenize import word_tokenize \n",
        "from nltk.tokenize import RegexpTokenizer\n",
        "from nltk.stem.wordnet import WordNetLemmatizer\n",
        "from nltk.stem import LancasterStemmer\n",
        "from nltk import ngrams, FreqDist\n",
        "import nltk\n",
        "\n",
        "from sklearn.feature_extraction.text import TfidfVectorizer\n",
        "from sklearn.feature_extraction.text import CountVectorizer\n",
        "from sklearn.metrics.pairwise import cosine_similarity\n",
        "from sklearn.cluster import KMeans\n",
        "from sklearn.manifold import MDS\n",
        "from sklearn.preprocessing import LabelEncoder, OneHotEncoder\n",
        "from sklearn.ensemble import RandomForestClassifier\n",
        "from sklearn.metrics import roc_auc_score, accuracy_score, confusion_matrix\n",
        "from sklearn.model_selection import cross_val_score, StratifiedKFold\n",
        "from sklearn.tree import DecisionTreeClassifier\n",
        "from sklearn.model_selection import train_test_split, KFold\n",
        "from sklearn.manifold import TSNE\n",
        "\n",
        "from gensim.models import Word2Vec,LdaMulticore, TfidfModel\n",
        "from gensim import corpora\n",
        "from gensim.models.doc2vec import Doc2Vec, TaggedDocument\n",
        "\n",
        "\n",
        "import pandas as pd\n",
        "import os\n",
        "import numpy as np\n",
        "import phrasemachine\n",
        "from rake_nltk import Rake\n",
        "import re\n",
        "import matplotlib.pyplot as plt\n",
        "from numpy import array\n",
        "from numpy import argmax\n",
        "import gensim"
      ],
      "execution_count": 5,
      "outputs": []
    },
    {
      "cell_type": "code",
      "metadata": {
        "colab": {
          "base_uri": "https://localhost:8080/",
          "height": 388
        },
        "id": "6uf93NbQnBQ6",
        "outputId": "d1e850ec-5e52-4bfc-b389-5fa22afaca41"
      },
      "source": [
        "#load class corpus\n",
        "data=pd.read_csv(r'/content/drive/MyDrive/2021_Spring_453_Sec56_Class_Corpus-4.csv')\n",
        "data"
      ],
      "execution_count": 6,
      "outputs": [
        {
          "output_type": "execute_result",
          "data": {
            "text/html": [
              "<div>\n",
              "<style scoped>\n",
              "    .dataframe tbody tr th:only-of-type {\n",
              "        vertical-align: middle;\n",
              "    }\n",
              "\n",
              "    .dataframe tbody tr th {\n",
              "        vertical-align: top;\n",
              "    }\n",
              "\n",
              "    .dataframe thead th {\n",
              "        text-align: right;\n",
              "    }\n",
              "</style>\n",
              "<table border=\"1\" class=\"dataframe\">\n",
              "  <thead>\n",
              "    <tr style=\"text-align: right;\">\n",
              "      <th></th>\n",
              "      <th>Doc_ID</th>\n",
              "      <th>DSI_Title</th>\n",
              "      <th>Text</th>\n",
              "    </tr>\n",
              "  </thead>\n",
              "  <tbody>\n",
              "    <tr>\n",
              "      <th>0</th>\n",
              "      <td>0</td>\n",
              "      <td>BJL_Doc3_Having-received-a.txt</td>\n",
              "      <td>Having received a mysterious signal emanating ...</td>\n",
              "    </tr>\n",
              "    <tr>\n",
              "      <th>1</th>\n",
              "      <td>1</td>\n",
              "      <td>BJL_Doc2_An-exploration-of.txt</td>\n",
              "      <td>TL;DR – An exploration of a film that effortle...</td>\n",
              "    </tr>\n",
              "    <tr>\n",
              "      <th>2</th>\n",
              "      <td>2</td>\n",
              "      <td>BJL_Doc6_TRON-Legacy-is.txt</td>\n",
              "      <td>‘TRON: Legacy’ is the sequel to the 1982 film ...</td>\n",
              "    </tr>\n",
              "    <tr>\n",
              "      <th>3</th>\n",
              "      <td>3</td>\n",
              "      <td>BJL_Doc1_So-when-I.txt</td>\n",
              "      <td>So when I say that Tron: Legacy had me on the ...</td>\n",
              "    </tr>\n",
              "    <tr>\n",
              "      <th>4</th>\n",
              "      <td>4</td>\n",
              "      <td>BJL_Doc5_The_addition_of.txt</td>\n",
              "      <td>The addition of that stately \"legacy\" to the t...</td>\n",
              "    </tr>\n",
              "    <tr>\n",
              "      <th>...</th>\n",
              "      <td>...</td>\n",
              "      <td>...</td>\n",
              "      <td>...</td>\n",
              "    </tr>\n",
              "    <tr>\n",
              "      <th>72</th>\n",
              "      <td>72</td>\n",
              "      <td>SCFIDRJ_Doc3_The_Matrix.txt</td>\n",
              "      <td>\"The Matrix,\" with Keanu Reeves, Laurence Fish...</td>\n",
              "    </tr>\n",
              "    <tr>\n",
              "      <th>73</th>\n",
              "      <td>73</td>\n",
              "      <td>SCFIDRJ_Doc4_I_Robot.txt</td>\n",
              "      <td>'I, Robot\" takes place in Chicago circa 2035, ...</td>\n",
              "    </tr>\n",
              "    <tr>\n",
              "      <th>74</th>\n",
              "      <td>74</td>\n",
              "      <td>SCFIDRJ_Doc5_Ex_Machina.txt</td>\n",
              "      <td>After a recent run ofoverly-hyped, butultimate...</td>\n",
              "    </tr>\n",
              "    <tr>\n",
              "      <th>75</th>\n",
              "      <td>75</td>\n",
              "      <td>SCFIDRJ_Doc6_Her.txt</td>\n",
              "      <td>Spike Jonze's \"Her\" plays like a kind of mirac...</td>\n",
              "    </tr>\n",
              "    <tr>\n",
              "      <th>76</th>\n",
              "      <td>76</td>\n",
              "      <td>SCFIDRJ_Doc7_The Terminator.txt</td>\n",
              "      <td>On Oct. 26, 1984, a newsci-fifranchise was lau...</td>\n",
              "    </tr>\n",
              "  </tbody>\n",
              "</table>\n",
              "<p>77 rows × 3 columns</p>\n",
              "</div>"
            ],
            "text/plain": [
              "    Doc_ID  ...                                               Text\n",
              "0        0  ...  Having received a mysterious signal emanating ...\n",
              "1        1  ...  TL;DR – An exploration of a film that effortle...\n",
              "2        2  ...  ‘TRON: Legacy’ is the sequel to the 1982 film ...\n",
              "3        3  ...  So when I say that Tron: Legacy had me on the ...\n",
              "4        4  ...  The addition of that stately \"legacy\" to the t...\n",
              "..     ...  ...                                                ...\n",
              "72      72  ...  \"The Matrix,\" with Keanu Reeves, Laurence Fish...\n",
              "73      73  ...  'I, Robot\" takes place in Chicago circa 2035, ...\n",
              "74      74  ...  After a recent run ofoverly-hyped, butultimate...\n",
              "75      75  ...  Spike Jonze's \"Her\" plays like a kind of mirac...\n",
              "76      76  ...  On Oct. 26, 1984, a newsci-fifranchise was lau...\n",
              "\n",
              "[77 rows x 3 columns]"
            ]
          },
          "metadata": {
            "tags": []
          },
          "execution_count": 6
        }
      ]
    },
    {
      "cell_type": "code",
      "metadata": {
        "colab": {
          "base_uri": "https://localhost:8080/"
        },
        "id": "kNajTkIa8Y01",
        "outputId": "d9104063-d0e1-4d68-dde1-83ba1188d384"
      },
      "source": [
        "for i in range(0, len(data['Text'])):\n",
        "  print(data['Text'][i])"
      ],
      "execution_count": 13,
      "outputs": [
        {
          "output_type": "stream",
          "text": [
            "Having received a mysterious signal emanating from his father’s arcade, Sam sets off to investigate, and following a few brief key presses on an old computer terminal, he too finds himself locked inside the Grid.\r\n",
            "\r\n",
            "Almost like an atonement for the lengthy scene-setting that forms Legacy’s opening, Kosinski has Sam kinkily stripped out of his civilian wear, zipped into a skin-tight costume made of rubber and glowsticks, and throws him into a series of Tron-referencing gladiatorial games, beginning with a high-velocity tournament with deadly discs, and then a dizzying Light Cycle chicken run, before he’s whisked away by slinky heroine Quorra.\r\n",
            "\r\n",
            "Quorra, played with feline innocence by Olivia Wilde, is a warrior program who, like Sam, is dangerously multi-talented, and as at home talking about 20th century literature as she is driving an off-road vehicle or smashing opponents into cubes with fists and feet. Whisking Sam off the Grid, Quorra ushers Sam to a refuge in the world’s digital wilderness, where his father Kevin sits in a zen-like trance.\r\n",
            "\r\n",
            "It’s here we learn a little more of Kevin’s backstory – his most advanced program, Clu, has gone rogue, turning the Grid into a fascist state, subjugating its populace and trapping Kevin inside the world’s neon confines. \r\n",
            "\r\n",
            "It also feels, at the same time, that Kosinski is a little impatient with some of the trappings he’s inherited – the disc battles and Light Cycle duels are dispensed with early on and never revisited, which is a pity because, as muddled and synapse-frying as these sequences are, they’re never topped elsewhere.\r\n",
            "\r\n",
            "There’s an aerial dogfight that attempts to dazzle with sheer light and noise, but is too obviously reminiscent of its analogues in the Star Wars movies to really satisfy, and gives way to a denouement that could be seen as muted,\r\n",
            "\r\n",
            "we haven’t yet reached the point where we can create an entirely convincing human head out of pixels.\r\n",
            "\r\n",
            "It’s this aspect that will be looked upon least fondly in another 28 years, I fear. But at the same time, there’s an awful lot in Kosinski’s take on Tron that is enormously enjoyable.\r\n",
            "\r\n",
            "Clu may have all the presence of a Texas Instruments calculator, but the real Jeff Bridges is an absolute delight as Kevin Flynn. Playing up to his Baby Boomer equivalent of Obi Wan Kenobi, his every utterance of “far out” and “I’m gonna go and touch the sky” are perfectly delivered – they’re lines that could only work coming from his mouth, and had he wandered around the Grid with a carton of milk in his hand, this could just as easily have been Tron: Lebowski.\r\n",
            "\r\n",
            "Garett Hedlund is merely okay in his everyman hero role, but Olivia Wilde is great as Quorra, and the film could have benefited from more of her.\r\n",
            "\r\n",
            "As a big-screen experience, and as pure eye-candy, Tron: Legacy is a riot of colour and esoteric design, and visually, Legacy is a confident debut from Kosinski.\r\n",
            "\r\n",
            "It’s in storytelling terms that Legacy seems unusually timid. \n",
            "TL;DR – An exploration of a film that effortless blends music, visuals, story, and passion into something that is greater in almost every way.\r\n",
            "There are some movies that just touch you in your heart, you can’t really explain why? They just fill you with joy and no matter how many times you have watched it, you are always ready to crack open that DVD/BluRay/digital copy/whatever and give it another watch. For me, one such film is Tron: Legacy, it is the hill I am ready to die on and I love it with all my heart. \r\n",
            "The first area that the film excels in is the music and when you have Daft Punk working on your musical score then you know something special is about to happen. There is the electronic pulsing of The Game Has Changed, the lively strings of Outlands, and the warmth of the Finale. Where we really see this glory come to the foreground is towards the end of the second act when Sam makes his way through the city to the End of Line club where we get the apt title End of Line and also a cameo for the music makers themselves. To begin with we have a relatively mellow club track with a pulsating rhythm and drums underneath as Sam has entered a place of safety. Fun fact that there are a lot of samples of old video games including Commander Keen dropped throughout the song. Of course, no good deed goes unpunished and Zuse (Michael Sheen) turns on Sam bringing the more up-tempo Derezzed into play. The electronics rise and fall in quick succession, the drums are louder, the perfect music for a kick-ass action sequence. Then the moment Flynn arrives, the mood changes again and Fall starts as Zuse states ‘the aura was palpable’ and he’s not wrong. It is an amazing couple of minutes of cinema.               \r\n",
            "While the music is a centrepiece of the film, another key factor is just how beautiful the visuals are. From a visual effects perspective, the film was revolutionary with its de-ageing technic to bring CLU (Jeff Bridges/John Reardon) to life. Yes, we have gotten much better at it over the last ten years, and yes it does not always work, they probably should not have shown his face in close up at the start of the film in the real world. But nevertheless, it is still a marvel of the time and you still get sucked in thanks to Bridges performance. As well as the de-aging, the film is filled with visual effects of such high quality that they still hold up today. The world of the Grid is filled with a blending of physical and digital sets that combine flawlessly to create a fantastic world. Where we see that come to fruition is in the games, first the disk wars and then the light cycle battle.\r\n",
            "\n",
            "‘TRON: Legacy’ is the sequel to the 1982 film ‘TRON’ and stars Jeff Bridges, Garrett Hedlund and Olivia Wilde. Hedlund plays Sam Flynn, son of Kevin Flynn, the original creator of the TRON game. After his father disappears, Sam finds himself thrust into the digital world that Kevin had created, now being ruled by C.L.U, a corrupted digital avatar of his father.\r\n",
            "\r\n",
            "At the time of its release, I loved the film despite it getting mixed reviews. However, I hadn’t seen it since then. So, when I saw that ‘TRON: Legacy’ was on Disney+, I decided to give the film another watch and see whether it was a bad film disguised by the amazing 3D, the awesome soundtrack and the incredible visuals, or whether it is actually a good film. \r\n",
            "\r\n",
            "And now that I’ve watched it 10 years after its initial release, I still really enjoy ‘TRON: Legacy’. However, I also accept that, while the story is interesting, it’s more the experience that the focus should be on. Garrett Hedlund and Jeff Bridge work well together and their father/son relationship is believable. Even Jeff Bridges is menacing as C.L.U, who is constantly thriving for his own image of perfection. \r\n",
            "\r\n",
            "C.L.U was one of the earliest examples of Disney experimenting with de-aging technology, something that is now used in films such as ‘Star Wars: Rouge One’, ‘Captain Marvel’ and ‘Avengers: Endgame’. And, while it looks a little dated now, it’s not jarring to look at. This was a sign that Disney knew how to handle the technology. \r\n",
            "\r\n",
            "The plot is a basic A-to-B type story; get Sam and Kevin Flynn out of the digital world that they’re trapped in before the portal they need to use to travel back closes. However, the journey is incredible to look at. The visuals still hold up today and make the digital world look sleek and stylish. Vehicles from the source material have been given a modern makeover and, while they look a lot more updated and colourful, they’re still recognizable. The visuals are a character here, and it’s obvious why it was an aspect of the film that was talked about the most.\r\n",
            "\r\n",
            "Another aspect of the film that was highlighted was the score. Created by Daft Punk, it was a perfect companion to this gorgeous piece of work; it was nominated for 12 awards, including a Grammy Award for Best Score and it’s clear why. A soundtrack should either accompany the visuals or elevate it, and this soundtrack did both effortlessly.\r\n",
            "\r\n",
            "The decision to have Daft Punk create it made sense; they were partly influenced by the original, so fit in perfectly. Even today, I still listen to the soundtrack.\r\n",
            "\r\n",
            "Overall, ‘TRON: Legacy’ is not only a film, but an experience. It was the perfect film to watch in IMAX to really showcase what the technology could do. While the plot is something that’s been repeated countless times, it’s the visuals and the soundtrack that should be focused on here.\n",
            "So when I say that Tron: Legacy had me on the edge of my seat and impressed as all hell with its special effects and action know that it really means a lot. This, simply put, is one badass movie and while it has it’s flaws they’re easily overlooked because it just looks so damn good and has action that your probably not going to see anywhere else. In short, it’s almost exactly like the original Tron, and I think that’s a great thing.\r\n",
            "\r\n",
            "If you’re hoping for some big, meaningful plot out of Tron because in the past 25 years you concocted something really meaningful out of the first film then you’re going to be pretty disappointed in Tron: Legacy. Years after the original ended Kevin Flynn (Jeff Bridges) has had a child and his technology company, Encom, is making millions and billions of dollars. Then he simply disappears. Jump forward even more years and his son, Sam (Garrett Hedlund), has rejected his responsibility to run his father’s company despite being the majority stockholder. Suddenly a page comes from his father and he discovers, after all these years, his father’s lab at Flynn’s Arcade. A few keystrokes later and Sam is sucked into the computer world of the original film where he finds his father in a battle with Clu (a digitally younger Jeff Bridges) for control over the mainframe.\r\n",
            "\r\n",
            "There’s also some stuff about creating life and saving the world, but trust me it all takes a back seat to the absolutely stunning special effects and action sequences. Once Sam enters the computer (in a Wizard of Oz-inspired twist the 3D for the film doesn’t kick in until then) there’s a solid 30-minute span crammed with disc battles, bike races, and fistfights that simply blow you away with both how good it looks and how well it’s put together. Even more impressive is the use of 3D, especially during the bike scene, which uses 3D to great effect because of a multi-leveled arena where the bikes are racing around above and below each other. \r\n",
            "\r\n",
            "It should also be noted that Daft Punk’s soundtrack is phenomenal. Ear splittingly good, the duo, who do make a cameo, doesn’t simply create some catchy songs to play over the film but has actually made an impressive soundtrack that fits perfectly with the world of Tron. It’s hard to imagine the move being anywhere near as good without the digital soundtrack that they’ve laid down, and it should be getting an Oscar nod if for no other reason than it is one of the most original scores of the year.\r\n",
            "\r\n",
            "If you were expecting Shakespeare from Tron: Legacy then you’ve put the original on a pedestal and I’m afraid your hopes are going to be crushed. However, if you were simply looking forward to action-packed, special effect bonanza than there is no way you’re going to be let down. \n",
            "The addition of that stately \"legacy\" to the title strains to confer a retrospective classic status on Disney's virtual reality sci-fi thriller from 1982, about people trapped in a computer game and forced to engage in gladiatorial combat. It might have come as a surprise to some that Tron had much of a legacy; the film was overshadowed by Spielberg's ET in that year, and in the UK suffered the mortification of being upstaged by Peter Greenaway's The Draughtsman's Contract. Yet a generation grew up prizing Tron for being audacious, ahead of its time, a futurist trailblazer about games culture and the digital world. Its most famous legatee is Christopher Nolan, creator of Inception, and maybe that's the movie that original Tron fans would still prefer to watch.\r\n",
            "\r\n",
            "This hog-whimperingly expensive and worryingly dull reboot stars Jeff Bridges as entrepreneur and genius Kevin Flynn. Twenty years ago, Kevin created a brilliant new digital system. (This happened in 1989, not 1982, incidentally, in order to make his infant son young enough to be a twentysomething hunk in the present day.) At the height of his sensational celebrity, Flynn vanished, and now in 2010 his boy Sam (Garrett Hedlund) tumbles into the virtual domain that his dad created, and where he is now in exile: this hidden universe is dominated by an unimaginably colossal gaming arena and is ruled by Kevin's evil alter ego Clu, his own digitally created younger self from 1989. Where once Kevin had hoped to draw upon the positive energies of this secret world – creating \"bio-digital jazz\" – the sinister Clu wants only to rule over a digital police state and preside over the cruel neo-imperial spectacle of games.\r\n",
            "\r\n",
            "There's interesting stuff in this new Tron, particularly some subversive jabs at the regressive solipsism of computer games. But there's plenty that's very dull and laborious, too. The digital technology used to create the \"young\" Jeff Bridges is weird and not in a good way: this waxy, unlined figure resembles one of the Westworld robots, but looks less real. In the original 1982 Tron, the superimposition of glowing real human faces on computer-graphic figures might have seemed odd, yet it now arguably looks interestingly Soviet-heroic, or like something by Fritz Lang.\r\n",
            "\r\n",
            "Obviously, this has all gone. There is now no question of seeing the join. The digital effects are the finest money can buy. And yet the effect is strangely   retro – the black-and-chrome stylings look like something from the late 1970s or early 80s. Nightclubs of the era looked a lot like this. And the sudden appearance of vivid-white boudoir spaces is taken straight from 2001: very Sanderson, very Stanley Kubrick. Successful or not, Tron was pushing the envelope, trying for something new, Tron: Legacy is paralysed by its reverence for the old.\n",
            "The good news for that cult is that Tron: Legacy serves up similarly astonishing sights. Everyone else may continue scratching their heads, for the story here is just as spotty as in the film's predecessor.\r\n",
            "\r\n",
            "The filmmakers offer a brief prologue to refresh the memory after the three-decade break. In 1989, original Tron hero Kevin Flynn (Jeff Bridges, digitally altered to appear closer to 40 than 60) tells his young son Sam a bedtime story about how he managed to digitize himself and enter the world within the computer -- and how, through his ongoing entrances into that digital realm, he's on the verge of revolutionizing artificial intelligences as we know them. \r\n",
            "\r\n",
            "Jump to the present day, and Sam (Garrett Hedlund) is a headstrong computer genius without much use for authority, just like Dad. His strongest qualities seem to be rebellion, riding motorcycles at high speed and staring sullenly over the water from the industrial garage he's converted into a home. But a mysterious message leads him to his father's old arcade, where he winds up falling into the same digital world that swallowed his father.\r\n",
            "\r\n",
            "For those viewing the film in 3-D, this is where the screen gets some depth; Kosinski steals a page from The Wizard of Oz, using three dimensions only once we arrive in Sam's equivalent of the colorized Oz. Once there, the director uses the medium elegantly and without cheap 3-D gimmickry.\r\n",
            "\r\n",
            "Jeff Bridges plays Kevin Flynn, who has been trapped for two decades by the artificial intelligence he created. What Sam finds is a fascist world ruled by Clu, the artificially intelligent program his father created to run the place, with his father trapped in exile \"off the grid.\" Bridges plays both roles, though his Clu is digitally altered to remain young. (The character represents an impressive advancement in rendering humans digitally, but it's still lacking enough to be vaguely creepy.)\r\n",
            "\r\n",
            "The most problematic part of both Trons is the uneasy juxtaposition of two genres, with conventions as distinct as the two worlds of the movie. On the one hand, this new outing wants to be dark, moody science fiction full of Big Ideas. But it's also ostensibly a kids' movie, by a kids' studio, so it's obligated to stage the races and battles that audience demands. The result is an experience akin to trying to meditate on a roller coaster -- which may explain why Flynn, while trapped inside, seems to have become a kind of digital surfer bodhisattva, appending the word \"man\" to his sentences and doling out Zen proclamations like, \"I'm gonna go knock on the sky and listen to the sound.\" (Even in Tronworld, it seems, the Dude abides.)\r\n",
            "\r\n",
            "If that sounds a little ridiculous, well, it is. Tron: Legacy revels in its over-the-top nature: the sharp contrast of inky blacks against vibrant neons, the bombastic clash of orchestral and synthetic elements in the soundtrack (by French electronic musicians Daft Punk), the trippy, sometimes incoherent ideas it presents. \n",
            "Both Blade Runner and Tron are unlikely cult hits. Both are considered state-of-the-art examples of science fiction cinema. \r\n",
            "\r\n",
            "The Blade Runner movies are much darker than the Tron films.  But Blade Runner 2049 and Tron: Legacy have similar themes of obsession over family legacies. 2049 focuses on K (Ryan Gosling), an LAPD android-hunter who’s tasked with investigating the story of a female replicant who gave birth to a child. As K’s investigation proceeds, he sees evidence that suggests he might be the mystery child, and that his parents are none other than Blade Runner’s Rick Deckard (Harrison Ford) and Rachael (Sean Young).\r\n",
            "\r\n",
            "This hunt to track down a missing parent is mirrored in the setup to Tron: Legacy. In the 2010 sequel, Garrett Hedlund plays Sam Flynn, son of the missing-in-action Kevin Flynn (Jeff Bridges), one of the heroes of the 1982 original. Sam  is encouraged by Kevin’s old friend Alan (Bruce Boxleitner) to investigate the origin of a message emanating from the arcade where the two older men once worked. There, Sam is inexplicably transported into the virtual-reality world known as The Grid. Inside the Grid, the digital inhabitants quickly identify Sam as a human, and bring him to their leader, Clu, who looks exactly like Kevin did as a young man. Eventually, Sam learns that his actual father is also inside the Grid, hiding from its dangerous ruler.\r\n",
            "\r\n",
            "So much of the 2010 movie relies on believing that Sam and his father are facing off against a virtual-reality creation that looks like a young Jeff Bridges, which means that much of the film relies on that virtual Bridges looking real. A large amount of Tron: Legacy’s budget was dedicated to the crucial FX surrounding Clu. Clu feels less like an authentically young Jeff Bridges, and more like an offshoot of the motion-capture horror-show of films of the uncanny-valley effect.\r\n",
            "\r\n",
            "While the rest of Tron: Legacy’s visual palette and its pulsating Daft Punk soundtrack are striking, the story, characters, and dialogue fall flat. To see Jeff Bridges in Big Lebowski mode as the elder Flynn, no one can sell an unironic line of dialogue like “It’s biodigital jazz, man!” The film’s clunkiest line, meant to describe the technological power of the Grid, but representative of its largely uninspired screenplay. \r\n",
            "\r\n",
            "Like Tron: Legacy, Blade Runner 2049 has a booming soundtrack, remarkable visuals, and a sense of portent permeating the story. It boasts multi-dimensional, complex performances from its two above-the-line leads. The film’s biggest selling point is Roger Deakins’ jaw-dropping cinematography — audiences really need to see this on the biggest screen possible, if only for the imagery — but Ryan Gosling’s performance is among his very best. K is an internal, subtly emotional character with a full, satisfactory arc, and Gosling brings an appropriate, welcome sense of complexity to the role. The script is perhaps overly solemn, and leaves some plot strands untied, but 2049 still has a sense of completeness and intelligence that’s unfortunately absent from Legacy.\r\n",
            "\n",
            "For nearly two hours of its 151-minute runtime, “Wonder Woman 1984” accomplishes what we look to Hollywood tentpoles to do: It whisks us away from our worries, erasing them with pure escapism. For those old enough to remember the ’80s, it’s like going home for Christmas and discovering a box full of childhood toys in your parents’ attic. This is what it felt like to watch Richard Donner’s “Superman” for the first time, or to marvel at the strong female role models of such vintage TV shows as “Wonder Woman” and “The Bionic Woman.” Even if the ’80s seem as distant to you as the World War I setting of Patty Jenkins’ history-making “Wonder Woman” feature three years ago, the sequel offers an amusing tour through that tackiest of decades, when shoulder pads and permed hair were all the rage.\n",
            "\n",
            "\n",
            "\n",
            "In Jenkins’ 2017 origin story, Gal Gadot plays the fish out of water, as Amazon princess/goddess Diana Prince finds herself thrust into war-torn Europe — in 1918, a good 10 years before the invention of sliced bread — doing her best to adapt to the conventions of a less enlightened patriarchy, with the help of stud pilot Steve Trevor (Chris Pine). This time, it’s Steve’s turn to feel out of sync with society, as Diana makes a wish that resurrects her lost love, bringing him back to the year the Apple Macintosh was unveiled. In between, Zack Snyder made a noisy, present-day “Justice League” movie (due for a director’s cut next year), but Jenkins has a much better handle on what audiences want from the divine Miss Diana, and “Wonder Woman 1984” delivers, for a time.\n",
            "\n",
            "\n",
            "\n",
            "Embracing both her iconic Washington, D.C., setting and the slightly corny comic book style of the period, Jenkins serves up scenes in which Wonder Woman intervenes in everyday crises, saving a Walkman-wearing jogger from being run down by a Pontiac Firebird or rescuing two girls endangered during a shopping-mall jewelry heist. That robbery results in the recovery of the Dreamstone, an ancient citrine artifact with magic powers. The gem can grant the wish of anyone who touches it. But it also comes with a catch: It takes as much as it gives. (The characters hastily reference “The Monkey’s Paw,” the classic W.W. Jacobs short story in which wishes have consequences, but that’s hardly enough to explain the totem’s complicated rules.)\n",
            "\n",
            "\n",
            "\n",
            "After touching the stone, Diana gets her boyfriend back, but she’s gonna be in trouble. Unless she renounces it, the wish will eventually cost Wonder Woman her powers. Her clumsy co-worker at the Smithsonian Museum, superficially Selina Kyle-like Barbara Minerva (Kristen Wiig), asks to be as strong, sexy, cool and special as Diana, but loses … her endearingly uncouth, undesirable, unfashionable and unremarkable qualities (a better trade-off than the one Diana gets). Later, Barbara will get a second wish — to become “an apex predator” — which transforms Wiig into the Cheetah, a creature who’s less Catwoman than lame “Cats”-level miscalculation.\n",
            "In Rodney Ascher’s  documentary “Room 237,” four theorists attempt to explain the hidden messages in Stanley Kubrick’s movie “The Shining.” The ideas about what the movie is about range from the possible to the downright bizarre. One theory fixates on the possibility that “The Shining” was Kubrick’s way of confessing he faked the landing on the moon footage, and another obsesses over the details of the hedge maze. The other two see evidence that the 1980 film indirectly references either the genocide of Native Americans or the Holocaust.\n",
            "\n",
            "Like “The Shining,” there are a number of different ways to interpret Jordan Peele’s excellent new horror movie, “Us.” Every image seems to be a clue for what’s about to happen or a stand-in for something outside the main story of a family in danger. Peele’s film, which he directed, wrote and produced, will likely reward audiences on multiple viewings, each visit revealing a new secret, showing you something you missed before in a new light.\n",
            "\n",
            "“Us” begins back in 1986 with a young girl and her parents wandering through the Santa Cruz boardwalk at night. She separates from them to walk out on the empty beach, watching a foreboding flock of thunderclouds roll in. Her eyes find an attraction just off the main pier, and she walks into what looks like an abandoned hall of mirrors, discovering something deeply terrifying—her doppelgänger. The movie shifts to the present day, with Janelle Monae on the radio as the Wilson family is heading towards their vacation home. The little girl has now grown up to be a woman, Adelaide (Lupita Nyong’o), nervous about returning to that spot on the Santa Cruz beach. Her husband, Gabe (Winston Duke), thinks her reaction is overblown, but he tries to make her feel at ease so they can take their kids Zora (Shahadi Wright Joseph) and Jason (Evan Alex) to the beach and meet up with old friends, the Tylers (Elisabeth Moss and Tim Heidecker) and their twin daughters. After one small scare and a few strange coincidences on the beach, the family returns home for a quiet night in, only to have their peace broken by a most unlikely set of trespassers lined up across their driveway: doppelgängers of their family.\n",
            "\n",
            "Part of the appeal of “Us” is how you interpret what all of this information and images mean. No doubt the movie will give audiences plenty to mull over long after the credits. In the film, the Jeremiah 11:11 Bible verse appears twice before pivotal moments, and there are plenty of other Biblical references to dig into, including an analogy to heaven and hell. Perhaps Jason’s “Jaws” shirt is a reference to the rocket sweater the little boy wears in “The Shining” or it could be a warning about the film’s oceanside dangers. In the ‘80s scene, when young Adelaide walks into the mysterious attraction, the sign welcoming her is that of a Native American in a headdress above the name “Shaman Vision Quest.”\n",
            "That old-time American religion of vengeance runs like a river through “True Grit,” a comic-serious tale about some nasty, brutish times. Beautifully adapted by Joel and Ethan Coen from the parodic western novel by Charles Portis, it turns on a 14-year-old Arkansas girl who hires a “one-eyed fat man” to hunt down her father’s killer. First published in 1968, Mr. Portis’s tall tale was brought to the screen the next year custom-fitted for John Wayne, who rode the role of that fat man, Rooster Cogburn, straight to an Oscar. Now it’s the thinner scene-stealer Jeff Bridges who sits and sometimes drunkenly slumps in the saddle.\n",
            "\n",
            "Much as he did in the raucously entertaining original film directed by Henry Hathaway, Rooster enters on his best behavior, seated in a courtroom amid a fog of cigar smoke and conspicuous lies. The pale, ghostly light comes courtesy of the Coens’ frequent cinematographer, Roger Deakins, while many of the twisty, funny sentences have been plucked by the filmmakers right from the novel. A deputy United States marshal, Rooster has attracted the interest of Mattie Ross (Hailee Steinfeld, in a terrific film debut), a half-pint who, with her bloodlust and severely braided hair, is an authentic American Gothic. As she listens to Rooster recount his bloody deeds and high body count, her eyes shine with a true believer’s excitement.\n",
            "\n",
            "Avenging her father and keeping close track of her family’s expenses are what preoccupy Mattie, a richly conceived and written eccentric, as memorable on the page as she is now on screen. Softened for the first film (in which she was played by a 21-year-old Kim Darby, in a bob), she has been toughed up again by the Coens so that she resembles the seemingly humorless if often unintentionally humorous Scripture-quoting martinet of Mr. Portis’s imagination. At times she brings to mind D. H. Lawrence’s famed formulation that “the essential American soul is hard, isolate, stoic and a killer.” At other times, as when she wears her dead father’s oversize coat and hat, she looks like a foolish child left to perilous play.\n",
            "\n",
            "The Coens deliver that line with a touch so light you might not even notice its sting. They have been surprisingly faithful to the tone and idiomatic tang of Mr. Portis’s novel, perhaps because its worldview suits their ironic purposes. The whiskey-soaked Rooster still likes to “pull a cork,” as he does in the book, and the Coens and Mr. Bridges get into the boozy spirit of things with slurs and pratfalls.\n",
            "\n",
            "Despite Mr. Bridges’s showy turn, the movie opens and closes with Mattie’s voice-over, which shifts the story away from Rooster and back to her. The Coens also restore the novel’s framing device: “True Grit” isn’t just the story of a gutsy 14-year-old; it is her story as called from the memory of the woman (Elizabeth Marvel) she became.\n",
            "I went into “The Babadook” under a kind of misapprehension. I’d heard a bit about the movie—it would have been difficult, as a working film reviewer to not have—but not orally, so I thought that the title was pronounced with a long “o” or even a sort of “u,” so it rhymed with “Luke,” or, more pertinently, an obscure Italian-American slang word that Robert De Niro uses in “Raging Bull,” that word being “mamaluke.” As in, “I look like a mamaluke.” “A WHAT?” “Like a mamaluke. Like the mamaluke of the year.” Under this misapprehension, I actually underestimated this horror movie, the debut feature written and directed by Australian filmmaker Jennifer Kent.\n",
            "\n",
            "I was wrong. Both about the pronunciation of the title character—it’s a short double-“o,” as in “look” or “book”—and what it implied for the movie, which as it turned out, is, in my opinion, the finest and most genuinely provocative horror movie to emerge in this still very-new century. Both a relentless psychological thriller with heavy primal stuff on its mind and a full-throttle slam-bang scare-fest, it delivers raw sensation without insulting the intelligence the way the more sensationalist but also essentially trite pictures in the New Horror Paradigm along the lines of “Insidious” tend to do. This is strictly my opinion, I am quick to point out. So impressed was I by “The Babadook” that upon seeing it I tweeted that I thought it might be the first capital-G “Great” horror movie of the 21st Century and was almost immediately beset upon by a couple of guys who thought I was out of my mind. “The Babadook” was both a snoozefest and ridiculous, and superior films included “Sinister” and “The Conjuring.” Now I’m not sure that “ridiculous” is a word that ought to be applied to horror movies, especially if you’re implying by comparison that stuff like “Sinister” and “The Conjuring” is NOT ridiculous. It’s all ridiculous in a sense. What makes a difference is how purposeful the ridiculousness is made to seem.\n",
            "\n",
            "In “The Babadook,” a sense of urgency establishes itself immediately in a nightmare scene in which Essie Davis’ Amelia is being rushed to the hospital…and this really is a nightmare scene. The urgency is over, the child she was being rushed to the hospital to deliver is now in early elementary school. And the father is dead, killed in an accident during that trip to the hospital. And the child, a little boy, is a pip. Samuel (the cherub-faced Noah Wiseman, giving one of the most amazing and intense child-actor performances I’ve ever seen) spends a lot of time playing games and concocting crude weapons with which to protect himself and his mum from imaginary enemies, and he’s at work on this project day and night, loudly. When his vigilance isn’t literally wreaking havoc on the small house within which he and Amelia live in near-isolation, Sam is a needy clinger who won’t let his mum sleep.\n",
            "Role models are what \"Coach Carter,\" Jackson's new film, is all about. He plays Ken Carter, who began as a sports star at Richmond (California) High School, setting records that still stand, and then had success in the military and as a small businessman. He's asked to take over as basketball coach, an unpaid volunteer position; the former coach tells him, \"I can't get them to show up for school.\" Ken Carter thinks he can fix that.\n",
            "\n",
            "The movie was directed by Thomas Carter (\"Save the Last Dance\"), no relation to the coach. It follows long-established genre patterns; it's not only a sports movie with the usual big games and important shots, but also a coach movie, with inspiring locker room speeches and difficult moral decisions. There are certain parallels with \"Friday Night Lights,\" although there it's the movie itself, and not the coach, that underlines the futility of high school stars planning on pro sports as a career.\n",
            "\n",
            "Certainly both movies give full weight to public opinion in the communities where they're set -- places where the public's interest in secondary education seems entirely focused on sports, where coaches are more important than teachers, where scores are more important than grades.\n",
            "\n",
            "Coach Carter wants to change all that. He walks into a gymnasium ruled by loud, arrogant, disrespectful student jocks, and commands attention with the fierceness of his attitude. He makes rules. He requires the students to sign a contract, promising to maintain a decent grade-point average as the price of being on the team. He deals with the usual personnel problems; a star player named Kenyon Stone (Ron Brown) has a pregnant girlfriend named Kyra (R&B singer Ashanti, in her, ahem, first role), and she sees a threat to her future in Carter's determination to get his players into college.\n",
            "\n",
            "Ken Carter's most dramatic decision, which got news coverage in 1999, was to lock the gymnasium, forfeit games and endanger the team's title chances after some of his players refused to live up to the terms of the contract. The community of course was outraged that a coach would put grades above winning games; for them, the future for the student athletes lies in the NBA, not education.\n",
            "\n",
            "Given the odds against making it in the NBA (dramatically demonstrated in the great documentary \"Hoop Dreams\"), this reasoning is like considering the lottery a better bet than working for a living.\n",
            "''Miracle,'' the movie version of the 1980 United States Olympic hockey team's Cinderella season, faces a hurdle that most fact-based films don't have to contemplate: the actual story the picture is based on was so corny and rousing that it hit all the notes many filmmakers would have too much shame to embrace. Fortunately -- or unfortunately, depending on how you look at it -- Disney, has no such restraint.\n",
            "\n",
            "\n",
            "\n",
            "Accordingly, ''Miracle'' does a yeoman's job of recycling the day-old dough that passes for its story. You can feel the film chafing against restrictions, given that many of the principals, like the goalie Jim Craig (Eddie Cahill) and the team captain Mike Eruzione (Patrick O'Brien Demsey), are still alive.\n",
            "\n",
            "\n",
            "\n",
            "And since ''Miracle,'' which opens nationwide today, is aimed mostly at an audience that wasn't even born when the coach Herb Brooks's boys defeated the fearsome Soviet hockey team at Lake Placid, N.Y., younger audiences may not recognize the picture's staleness; that may make ''Miracle'' chewier. The movie efficiently delivers the story points, though nonsports fans should be warned: the climax features an almost 20-minute re-creation of the penultimate 1980 game between the Americans and the Soviets. \n",
            "\n",
            "\n",
            "\n",
            "The voice-over from Kurt Russell recognizes that this event preceded the Dream Team invention. That device allowed American professionals to play in the Olympics, as well as professionals on other nations' teams.\n",
            "\n",
            "\n",
            "\n",
            "The Soviet hockey players were then the experienced, intimidating squad that whipped all comers, including a National Hockey League all-star team and, a week before the Olympics began, the very squad that Brooks assembled in an exhibition game. (Brooks, who died in an auto accident last year, once joked that he knew his team had already lost that game when he saw them applauding as their opponents took the ice.)\n",
            "\n",
            "\n",
            "\n",
            "Mr. Russell tightens his face, limiting nearly all movement to his lower jaw. He plays Brooks as a man who refuses to waste emotion; it's why his driving his team so hard seems partly a shock, because he's not initially a bellower.\n",
            "\n",
            "\n",
            "\n",
            "Taking a group of young, unproven players allows him to beat them down by constant pressure into the unit he wants -- he says they may not be the best team, but they're the right one. Mr. Russell's cagey and remote performance gives ''Miracle'' its few breezes of fresh air. He's yet to give a good performance in a movie people have turned out for; this may be his chance to realize an achievement similar to that of the man he plays.\n",
            "\n",
            "\n",
            "\n",
            "And since Mr. Russell gets more screen time than anyone other than the broadcaster Al Michaels, playing himself, it's good to see that he's capable of maintaining focus. Eventually, it may seem that the real star of ''Miracle'' is Mr. Michaels, the ABC sportscaster whose heartfelt, enthusiastic cry ''Do you believe in miracles? Yes!'' was the shout heard 'round the world\n",
            "Rather than fight this stereotype, Singer embraces it in Superman Returns. As a result, a comparison between most recent super-fare and Singer's film is like night and day--literally. The former have tended toward dark settings and noirish brooding, perhaps to offset the innate silliness of the cape-and-tights genre. Superman Returns, by contrast, takes place in such dazzling daylight that viewers might be forgiven for applying sunscreen. The sky that looks down on Clark Kent (Brandon Routh) and beckons his super-alter-ego is as blue as his eyes and no less innocent.\n",
            "\n",
            "\n",
            "\n",
            "For the first two-thirds of his movie, Singer creates an aura of gee-whiz credulity that remarkably avoids bathos, though sometimes by a close call. The mood is jocular without being jokey, heartfelt without being sentimental. Unlike Batman's Gotham City, Metropolis is a cheery place, almost an urban Eden. When you first see that Perry White, Clark's boss at the Daily Planet newspaper, is played by the formidable Frank Langella, you might expect he'd give Spidey's J. Jonah Jameson a run for his money as the Publisher from Hell; but no, he's like a gruff uncle, wishing only the best for his staff and Superman alike. Even Lex Luthor (Kevin Spacey), the world's most villainous egghead (in both senses of the word), is an amiable enough presence in the early going, supplying more dark comedy than genuine menace. The first calamity he causes--the harrowing near-crash of a jetliner carrying Lois Lane (Kate Bosworth)--is just the inadvertent byproduct of an experiment he undertakes with a model train.\n",
            "\n",
            "\n",
            "\n",
            "The story, in a nutshell, is that after a five-year journey to find his devastated, lifeless home planet of Krypton, Superman returns to Metropolis to discover a few changes have taken place. Lois, the love of his life, has jilted him both as a woman (by getting engaged to another man and having a baby) and, perhaps more cuttingly, as a journalist (by winning a Pulitzer for an editorial entitled \"Why the World Doesn't Need Superman\"). Luthor, meanwhile, has gotten out of prison, married a wealthy invalid, and begun turning his subsequent inheritance to nefarious ends. Well, perhaps not nefarious so much as ridiculous: Luthor's evil plot involves stealing a crystal from Superman's arctic Fortress of Solitude and dropping it in the ocean off the Eastern seaboard. Once submerged, it will expand even more quickly than Donald Trump's self-regard, growing into a new continent that will swamp North America, kill billions of people, and provide Luthor with the makings of his own tidy real-estate empire.\n",
            "\n",
            "\n",
            "\n",
            "This is, self-evidently, the most idiotic plot for global domination ever committed to celluloid. Yet Singer somehow prevents it from ruining the film and even gives it an ominous resonance: The jagged crystalline peaks of Luthor's new world emerge from the waves like Serpents staking their claim on Paradise, a mountainous Mordor suddenly casting its shadow over the skyscraper-studded Shire of Metropolis\n",
            "Title: The Notebook: Review\n",
            "\n",
            "Authors: Stephen Holden  \n",
            "\n",
            "Source/Date: New York Times / June 25, 2004\n",
            "\n",
            "URL: https://www.nytimes.com/2004/06/25/movies/film-review-when-love-is-madness-and-life-a-straitjacket.html \n",
            "\n",
            "Keywords: Ryan Gosling, Rachel McAdams, World War II, Allie, James Marsden, Nick Cassavetes, Love, Affair, Noah\n",
            "\n",
            "Total Word Count: 468 words (trimmed)\n",
            "\n",
            "Brief Summary: In 1940s South Carolina, mill worker Noah Calhoun (Ryan Gosling) and rich girl Allie (Rachel McAdams) are desperately in love. But her parents don't approve. When Noah goes off to serve in World War II, it seems to mark the end of their love affair. In the interim, Allie becomes involved with another man (James Marsden). But when Noah returns to their small town years later, on the cusp of Allie's marriage, it soon becomes clear that their romance is anything but over. \n",
            "\n",
            "Young love -- the old-fashioned kind that flourished before the age of the hook-up -- has always been one of the most challenging emotions to portray on the screen with any specificity. Beyond the smooches, sighs, and adoring glances, how do you convey the reality of a shared, private paradise?\n",
            "\n",
            "\n",
            "\n",
            "In the strongest scenes of ''The Notebook,'' the screen adaptation of Nicholas Sparks's treacly best seller, Ryan Gosling and Rachel McAdams break through the barrier to evoke high-strung, slightly crazed teenagers plunging headlong into first love. It is passion that begins in playfulness. Their performances are so spontaneous and combustible that you quickly identify with the reckless sweethearts, who embody an innocence that has all but vanished from American teenage life. And against your better judgment, you root for the pair to beat the odds against them.\n",
            "\n",
            "\n",
            "\n",
            "The romantic drama, directed by Nick Cassavetes from a screenplay by Jeremy Leven and adapted by Jan Sardi from the novel, opens today nationwide. It is told in flashback as Duke (James Garner), a garrulous, ailing old codger in a comfortable nursing home, reads aloud excerpts of a love story to Allie Calhoun (Gena Rowlands), a patient suffering from Alzheimer's. She is so smitten with the 1940's tale of Noah (Mr. Gosling), a poor Southern boy who works in a lumberyard, and his wealthy girlfriend, also named Allie (Ms. McAdams), that for brief intervals his readings jog her blurred memory into focus.\n",
            "\n",
            "\n",
            "\n",
            "As the movie seesaws between Seabrook, N.C., in the summer of 1940, when Noah and Allie meet at a fairground, and the present, it is deliberately (and annoyingly) coy as to who these oldsters might be. Gosh, could they be the same young lovers six decades later?\n",
            "\n",
            "Mr. Garner and Ms. Rowlands are wonderful actors, but Mr. Garner, in particular, plays ''old'' with a hammy avuncularity that sugarcoats his character with a glaze of nostalgia. His performance reinforces the impression that in Hollywood, old age is even more difficult to depict with real honesty than young love.\n",
            "The story follows the universal fondness for finding the chinks in superhero armor; if Superman hadn't had kryptonite, he would have been perfect, and therefore boring, and all the superheroes since him have spent most of their time compensating for weaknesses. Think about it: Every story begins with a superhero who is invincible, but who soon faces total defeat.\n",
            "\n",
            "Mr. Incredible, the hero of \"The Incredibles,\" is a superhero in the traditional 1950s mold, dashing about town fighting crime and saving the lives of endangered civilians. Alas, the populace is not unanimously grateful, and he's faced with so many lawsuits for unlawful rescue and inadvertent side-effects that he's forced to retire. Under the government's Superhero Relocation Program, Mr. Incredible (voice by Craig T. Nelson) moves to the suburbs, joined by his wife Elastigirl (Holly Hunter) and their children Violet (Sarah Vowell), Dashiell (Spencer Fox) and little Jack Jack (Eli Fucile, Maeve Andrews).\n",
            "\n",
            "They are now officially the Parr family, Bob and Helen. Bob works at an insurance agency, where his muscle-bound supertorso barely squeezes into a cubicle.\n",
            "\n",
            "Helen raises the kids, and there's a lot of raising to do: The world is occasionally too much for the teenager Violet, whose superpowers allow her to turn invisible and create force fields out of (I think) impregnable bubbles. Dashiell, called Dash, can run at the speed of light, but has to slow down considerably when he's finally allowed to compete in school track meets (if they can't see you running around the track, they assume you never left the finish line, instead of that you're back to it already). Jack Jack's powers are still limited, not yet encompassing the uses of the potty.\n",
            "\n",
            "Bob Parr hates the insurance business. Joining him in the suburb is another relocated superhero, Frozone (Samuel L. Jackson), who can freeze stuff. Claiming they belong to a bowling league, they sneak out nights to remember the good old days and do a little low-profile superheroing. Then the old life beckons, in the form of a challenge from Mirage (Elizabeth Pena), who lures him to a Pacific island where Mr. Incredible, overweight and slowed down, battles a robot named Omnidroid 7.\n",
            "\n",
            "This robot, we learn, is one of a race of fearsome new machines created by the evil mastermind Syndrome (Jason Lee), who admired Mr. Incredible as a kid but became bitter when Incredible refused to let him become his boy wonder. He now wants to set up as a superpower by unleashing his robots on an unsuspecting world.\n",
            "\n",
            "\n",
            "\n",
            "On the surface, \"The Incredibles\" is a goof on superhero comics. Underneath, it's a critique of modern American uniformity. Mr. Incredible is forced to retire, not because of age or obsolescence, but because of trial lawyers seeking damages for his unsolicited good deeds; he's in the same position as the Boy Scout who helps the little old lady across the street when she doesn't want to go. What his society needs is not superdeeds but tort reform. \"They keep finding new ways,\" he sighs, \"to celebrate mediocrity.\"\n",
            "Troy is based on the epic poem The Iliad by Homer, according to the credits. Homer's estate should sue. The movie sidesteps the existence of the Greek gods, turns its heroes into action movie cliches and demonstrates that we're getting tired of computer-generated armies. Better a couple of hundred sweaty warriors than two masses of 50,000 men marching toward one another across a sea of special effects.\n",
            "\n",
            "Pitt is a good actor and a handsome man, and he worked out for six months to get buff for the role, but Achilles is not a character he inhabits comfortably. Say what you will about Charlton Heston and Victor Mature, but one good way to carry off a sword-and-sandal epic is to be filmed by a camera down around your knees, while you intone quasi-formal prose in a heroic baritone. Pitt is modern, nuanced, introspective; he brings complexity to a role where it is not required.\n",
            "\n",
            "By treating Achilles and the other characters as if they were human, instead of the larger-than-life creations of Greek myth, director Wolfgang Petersen miscalculates. What happens in Greek myth cannot happen between psychologically plausible characters. That's the whole point of myth. \n",
            "\n",
            "The best scene in the movie has Peter O'Toole creating an island of drama and emotion in the middle of all that plodding dialogue. He plays old King Priam of Troy, who at night ventures outside his walls and into the enemy camp, surprising Achilles in his tent. Achilles has defeated Priam's son Hector in hand-to-hand combat before the walls of Troy, and dragged his body back to camp behind his chariot. Now Priam asks that the body be returned for proper preparation and burial. This scene is given the time and attention it needs to build its mood, and we believe it when Achilles tells Priam, \"You're a far better king than the one who leads this army.\"\n",
            "\n",
            "As for the Greek cities themselves, a cliche from the old Hollywood epics has remained intact. This is the convention that whenever a battle of great drama takes place, all the important characters have box seats for it. When Achilles battles Hector before the walls of Troy, for example, Priam and his family have a sort of viewing stand right at the front of the palace, and we get the usual crowd reaction shots, some of them awkward closeups of actresses told to look grieved.\n",
            "\n",
            "In a way, \"Troy\" resembles \"The Alamo.\" Both are about fortresses under siege. Both are defeated because of faulty night watchmen. The Mexicans sneak up on the Alamo undetected, and absolutely nobody is awake to see the Greeks climbing out of the Trojan Horse. One difference between the two movies is that Billy Bob Thornton and the other \"Alamo\" actors are given evocative dialogue, and deliver it well, while \"Troy\" provides dialogue that probably cannot be delivered well because it would sound even sillier that way.\n",
            "\"The Witch,\" a period drama/horror film by first-time writer/director Robert Eggers, tellingly advertises itself as \"a New England folktale\" instead of a fairy tale. Fairy tales are, at heart, parables that prescribe moral values. \"The Witch,\" a feminist narrative that focuses on an American colonial family as they undergo what seems to be an otherworldly curse, is more like a sermon. Sermons pose questions that use pointedly allegorical symbols to make us reconsider our lives, just as one character uses the Book of Job to understand her role in her family (more on Job shortly). But \"The Witch\" is not a morality play in a traditional sense. It's an ensemble drama about a faithless family on the verge of self-destruction. And it is about women, and the patriarchal stresses that lead to their disenfranchisement.\n",
            "\n",
            "For a while, it is unclear which character is exactly the focus of \"The Witch.\" It's probably not grieving mother Katherine (Kate Dickie), though Eggers gives ample consideration to her mourning of infant son Samuel, who has disappeared under unusual circumstances. And it's definitely not Katherine's mischievous young twins Jonas and Mercy (Lucas Dawson and Ellie Grainger, respectively), though Mercy does often speak for her and her brother's inability to understand how the world works after their family is banished to a foreboding forest by a nearby colony. The film's main protagonist might be William (Ralph Ineson), Katherine's troubled husband. Or it could be her eldest son Caleb (Harvey Scrimshaw), a young man desperate to defend his father from his mother's frustration. \n",
            "\n",
            "But more often than not, \"The Witch\" concerns Thomasin (Anya Taylor-Joy), the eldest of Katherine and William's five children. Thomasin undergoes puberty under the mistrustful eyes of her family, but realistically, they're not too concerned with her when crops are failing, money is scarce, and Samuel is missing. Still, Thomasin absorbs the brunt of her family's anxieties: her younger siblings look to her for comfort, but she balks at the added pressure, especially after her mother makes her do more chores than the rest of her family members. There are other subplots in \"The Witch,\" but all roads eventually lead to Thomasin. That's the dark beauty of Eggers's expansive story: it's not just about the marginalized presence of women in a male-dominated microcosm, but the harsh conditions that can, even under extremely isolated circumstances, lead women to resentment, and crippling self-doubt.\n",
            "\n",
            "\"The Witch\" is, in that sense, an anti-parable. Eggers eventually leads Thomasin out of the woods, but he takes his time in clearing her path. The result sometimes feels like an imaginary Harold Pinter-scripted version of \"The Crucible,\" since it follows desperate, lonely souls who do everything—set animal traps, milk goats, till the fields, do laundry—to avoid thinking about what's really troubling them. It takes a while for Thomasin's clan to even consider that their problems are caused by witch, or demonic enchantment. But it eventually happens. Before that, there are only signs and portents, particularly evil-looking animals: a tetchy goat\n",
            "Creepy beyond belief, \"Hereditary\" is one of those movies you shouldn't describe in detail, because if you do, it will not only ruin surprises but make the listener wonder if you saw the film or dreamed it. The movie sustains a throb of dread throughout its first 90 minutes, and its final 30 are off-the-rails in the best way. Writer/director Ari Aster structures the tale so that it’s hard to be sure if the uncanny events you're seeing are real or figments of the imaginations of the Graham family, a clan cursed both by Biblical bad luck and a genetic disposition towards various types of mental illness.\n",
            "\n",
            "Toni Collette stars as Annie Graham, an artist and mother who's coping with the death of her mother while trying to finish an exhibition of dioramas that appear to depict her own family's life and Annie's internal state. Alex Wolff is Annie's oldest child, Peter, a sad-eyed pothead drifting through life. Milly Shapiro plays Charlie, Peter's younger sister, a disturbed 13-year-old with the dead stare of a statue. Gabriel Byrne plays Annie's stoic, kindhearted husband Steve, who just wants the family to be happy and struggles to make peace. All are reeling from the death of the family matriarch, who we learn was anything but cuddly. The family is uncomfortable with frank displays of emotion, and with anything that might reveal their interiors to one another. Annie tells her husband that she's going off to the movies when she's really attending a grief management circle that meets in a church basement. Peter anesthetizes himself with marijuana. Charlie draws obsessively in a small notebook, and ...\n",
            "\n",
            "Well, maybe I shouldn't tell you about the things I was just about to tell you about. Maybe it's better if you just experience the story on your own. The deeper that \"Hereditary\" pulled me in, the more grateful I was that I didn't know much about it before setting foot in the theater—including what relationship, if any, the plot has to the movie's one word title. \n",
            "\n",
            "Film literate in the extreme, \"Hereditary\" seems inspired by a wide array of classic sources both inside and outside of the horror genre. \"Rosemary's Baby,\" \"The Exorcist,\" \"The Amityville Horror\" and \"The Texas Chainsaw Massacre” loom large, as do Asian horror touchstones like \"The Grudge\" and \"The Eye.\" \n",
            "\n",
            "But the film owes just as much to the intense family psychodramas of Mike Leigh and John Cassavetes, which place strong-willed but deeply damaged people in close proximity and look on as they suffer barely-concealed torment from sitting on their rage, then finally lash out in displays of emotional violence that are as intense, in their own way, as the bloodletting and surrealism. Unspeakable things happen to the family throughout. Every time they experience new trauma, it cracks their controlling facades a bit more, exposes emotional fissures in the family as a whole, and makes you wonder if perhaps the social institutions surrounding us and the intricate practices of language, science, and\n",
            "Houdini would have been active at the time of \"The Prestige,\" but his insights would have been fatal to the movie's plot, which is the problem with the plot. We meet two apprentice magicians, Robert Angier (Hugh Jackman) and Alfred Borden (Christian Bale), who work as fake \"volunteers\" from the audience for Milton the Magician (the invaluable Ricky Jay). They assist in tying up a helpless damsel, in reality, Robert's wife, Julia (Piper Perabo), and lowering her into the Chinese Water Torture box. Concealed by curtains, she somehow escapes, as Houdini always did, but one night, Alfred ties her knots too tightly, she cannot escape, and by the time a manager (Michael Caine) rushes onstage with an ax, it is too late to save her from drowning.\n",
            "\n",
            "This sets off a lifelong hatred between Robert and Alfred, during which the frigid and ominous Alfred rises to the top of the profession. The hapless Alfred (now in love with his new assistant Olivia, played by Scarlett Johansson) falls to the bottom, is reduced to performing in flea pits, and yet presents an illusion named the Transported Man in which he walks into a door on one side of the stage and instantly emerges from a door at the other. How is that physically possible? It's the sort of thing that made his fans claim Houdini was supernormal. Robert becomes obsessed with finding the secret of the trick.\n",
            "\n",
            "But magicians do not explain their illusions, not even to their peers, unless money changes hands (\"The trick is told when the trick is sold\"). The Transported Man begins, you will agree, with a terrific Pledge. Now how will Robert ever discover the secret of the Prestige? He treks into the snows of Colorado to visit the hidden laboratory of the (real-life) Nikola Tesla (David Bowie), who may have manufactured the trick for Alfred. Tesla, the discoverer/inventor of alternating current, was believed at the time to be capable of all manner of wonders with the genie of electricity, but how could AC, or even DC, explain the Transported Man?\n",
            "\n",
            "You will not learn here. What you will learn in the movie is, I believe, a disappointment -- nothing but a trick about a trick. With a sinking heart, I realized that \"The Prestige\" had jumped the rails, and that rules we thought were in place no longer applied.\n",
            "\n",
            "I have been in love with magic all my life. I'm no good at it, even though I bored my friends for years with cheesy illusions, and even today can make a dime disappear from your forehead. These days I am most impressed with the skills required for close-up magic. Teddy Nava, the son of writer-directors Gregory Nava and Anna Thomas, can make cards change while I am holding them in my hands. Now how does he do that? Not through divine intervention, I am fairly sure. But I was holding them!\n",
            "\"Insidious\" is an affectionate visit to the Haunted House Movie, a genre that seems classic in contrast to Queasy-Cam gorefests. It depends on characters, atmosphere, sneaky happenings and mounting dread. This one is not terrifically good, but moviegoers will get what they're expecting. It's a new collaboration between director James Wan and writer Leigh Whannell, who launched the \"Saw\" franchise.\n",
            "\n",
            "As the movie opens, an unsuspecting family is moving into a big old house they must have found through the Amityville Multiple Listing Service. It's the kind of house you require for a haunting movie, with lots of rooms, nooks, crannies, corridors, staircases, closets and shadows — and an attic, of course. Although more modern houses were used in the \"Paranormal Activity\" movies, this genre really requires all the creaky old bells and whistles.\n",
            "\n",
            "The Lambert family seems to have been happy before this real estate transaction. Josh (Patrick Wilson) is a teacher, Renai (Rose Byrne) writes songs and young Dalton (Ty Simpkins) is the most curious of the kids. That's why he sneaks into the attic, falls off a treacherous ladder and immediately goes into a coma. Brain scans reveal no head injury. Could it be ... something else?\n",
            "\n",
            "Renai is positive that something sneaky is happening. Her boxes get moved around by unseen hands. Doors and windows open by themselves. We are even more sure than Renai is, because we begin to see the stark apparition of a fearsome specter. Imagine a beast from Hades.\n",
            "\n",
            "Dad begins to stay at work late. The movie probably wants us to blame him for not caring and trying to avoid the problems at home. We know better. We identify an example of the Absent Father Syndrome, that screenwriter's convenience for getting Dad out of the way so Mom can be home alone and told she's imagining things.\n",
            "\n",
            "This is a family that needs help. They hire a psychic named Elise Rainier (Lin Shaye), who sends over two ghostbusters (Angus Sampson and the writer Leigh Whannell). These two seem singularly incompetent and provide some nice chuckles. Since the whole film teeters on the edge of being a comedy, it's probably a good idea that when Lin Shaye turns up, she brings in some cause for serious alarm. She's seen these cases before.\n",
            "\n",
            "What is the malevolent presence? Why is it there? What does it want? What can it gain from the hapless Lamberts? The answers to such questions must necessarily remain theoretical at a metaphysical level, but at a practical level, the purpose of the presence is to generate startling bangs at frequent intervals, materialize unexpectedly, look horrifying and be a nuisance. Its purpose, in short, is to go BOO!\n",
            "This Time the Dream’s on Me\n",
            "\n",
            "“Inception” is not necessarily the kind of experience you would take to your next shrink appointment. It is more like a diverting reverie than a primal nightmare, something to be mused over rather than analyzed, something you may forget as soon as it’s over. Which is to say that the time — nearly two and a half hours — passes quickly and for the most part pleasantly, and that you see some things that are amazing, and amazingly pretty: cities that fold in on themselves like pulsing, three-dimensional maps; chases and fights that defy the laws that usually govern space, time and motion; Marion Cotillard’s face.\n",
            "\n",
            "Better to explain what Cobb does for a living, since that exhaustive enumeration of the metaphysical rules of his profession occupies an awful lot of the dialogue in Mr. Nolan’s script. Using a combination of drugs, wires and other vaguely Matrix-y methods, Cobb and his co-workers penetrate the minds of their slumbering targets, usually for the purpose of extracting hidden information. But a wealthy client named Saito (Ken Watanabe) induces them to try the much more difficult trick known as inception, which involves planting an idea someone else’s mind that will bear fruit in the real world. “That’s impossible!” more than one person has occasion to exclaim.\n",
            "\n",
            "In any case, Cobb and his team are trying to induce a young man (Cillian Murphy), whose father (Pete Postlethwaite) is a business rival of Saito’s, to break up the company he is about to inherit. This bit of commercial intrigue provides the banal material foundation on which Mr. Nolan’s phantasmagorical world is built.\n",
            "\n",
            "And the content of those dreams, once Cobb and company have dropped into their mark’s sleeping mind, is often curiously pedestrian. Most of the time, one group of guys with guns chases another, in cars across the rain-soaked streets of Los Angeles, on foot through the corridors of a retro-elegant hotel, and on skis and snowmobiles through an icy Alpine landscape from which James Bond might recently have departed.\n",
            "\n",
            "Cobb, whose life depends on suppressing emotions and memories that he cannot control, is thus a typical Christopher Nolan hero. His air of guilt and sorrow — the sense of unfinished psychic business pushing against his conscious intentions — marks his kinship with Christian Bale’s Batman\n",
            "\n",
            "The accomplishments of “Inception” are mainly technical, which is faint praise only if you insist on expecting something more from commercial entertainment. That audiences do — and should — expect more is partly, I suspect, what has inspired some of the feverish early notices hailing “Inception” as a masterpiece, just as the desire for a certifiably great superhero movie led to the wild overrating of “The Dark Knight.” In both cases Mr. Nolan’s virtuosity as a conjurer of brilliant scenes and stunning set pieces, along with his ability to invest grandeur and novelty into conventional themes, have fostered the illusion that he is visionary.\n",
            "Title: Kal Ho Naa Ho: Review\n",
            "\n",
            "Authors: Rohini Iyer \n",
            "\n",
            "Source/Date: Rediff / November 25, 2003 14:27 IST\n",
            "\n",
            "URL: https://www.rediff.com/movies/2003/nov/25kal.htm \n",
            "\n",
            "Keywords: Naina, Saif Ali Khan, Shah Rukh Khan, Life, Aman, Preity Zinta, Jaya Bachchan\n",
            "\n",
            "Total Word Count: 495 words (trimmed)\n",
            "\n",
            "Brief Summary: Student Naina is good friends with her classmate, skirt-chaser Rohit. Her home life is rife with family tensions as her widowed mum's restaurant runs into difficulties. When charismatic Aman moves into the neighbourhood, he changes everyone's lives, bringing a breath of fresh air, and although he loses his heart to Naina, Aman has a secret that prevents him from marrying her.\n",
            "\n",
            "\n",
            "\n",
            "For all those who want to know whether Kal Ho Naa Ho is a remake of Hrishikesh Mukherjee's Anand, the answer is yes. And no.\n",
            "\n",
            "\n",
            "\n",
            "Shah Rukh Khan's character (Aman) is largely inspired by Rajesh Khanna's happy-go-lucky charmer in Anand. But on the whole, Kal Ho Naa Ho is as different as they come.\n",
            "\n",
            "\n",
            "\n",
            "The film kicks off with Manhattan resident Naina Catherine Kapur (Preity Zinta) narrating the story of her life over her daily morning jog.\n",
            "\n",
            "\n",
            "\n",
            "The characters in Naina's life are introduced with the same energy that Naina puts into her jog. There is her mom Jennifer (Jaya Bachchan in jeans), who shares a love-hate relationship with her mother-in-law Sushma Seth (at her loudest Punjabi best).\n",
            "\n",
            "\n",
            "\n",
            "Mommy runs a flop restaurant. Grandmother is a flop singer. Together they are chaos.\n",
            "\n",
            "\n",
            "\n",
            "Enough reason for Naina to turn into a boring, bespectacled spinster type who takes life too seriously.\n",
            "\n",
            "\n",
            "\n",
            "The only interesting person in Naina's life is buddy Rohit Patel (Saif Ali Khan). He is uncool with women but thinks he is cool. He is also a typical Gujarati, whose father (Satish Shah) runs a business called Dial A Dhokla.\n",
            "\n",
            "\n",
            "\n",
            "Shah Rukh in KHNH Enter funny guy Aman, who turns out to be the proverbial angel in Naina's life. He is Dale Carnegie-Jim Carrey-Richard Gere-Deepak Chopra all rolled into one. He zooms into Naina's neighbourhood singing Pretty Woman and woos everyone in sight, including uppity Naina.\n",
            "\n",
            "\n",
            "\n",
            "Naina hates him at first sight, but can't help being overwhelmed by Aman's charm.\n",
            "\n",
            "\n",
            "\n",
            "Even Rohit takes tips from Aman on how to be cool and influence people. Life is a song and dance till the interval.\n",
            "\n",
            "\n",
            "\n",
            "Post interval, it is time to bring out the tissues -- an entire box of them in fact. It is time for the audience to discover that Aman is not what he seems.\n",
            "\n",
            "\n",
            "\n",
            "You will sob all the way to the end.\n",
            "\n",
            "\n",
            "\n",
            "Full marks to director Nikhil Advani and producer Karan Johar for not letting the proceedings turn heavy.\n",
            "\n",
            "\n",
            "\n",
            "The climax is a revelation. Set against the superbly picturised Mahi ve, the film ends on a note that can be best described as clapworthy.\n",
            "\n",
            "\n",
            "\n",
            "Preity Zinta slips into character beautifully. Right from the preppy spectacles to her no-nonsense demeanor, Preity captures the spirit of Naina Kapur. She has never looked so pretty.\n",
            "And although Sam Mendes’ extraordinary World War I drama 1917 is notable for the technical feat of its cinematography—Mendes and director of photography Roger Deakins have constructed it to be perceived as one unbroken shot—the true key to its effectiveness is the face of one of its central actors, George MacKay. MacKay plays a young British soldier, Schofield, who just happens to be nearby when one of his mates, Blake (Dean-Charles Chapman), accepts a dangerous assignment: The two must cross enemy lines to deliver a message to British troops on the other side by the next day’s dawn. Blake has a personal stake in the assignment: he has a brother among the troops at risk. Schofield doesn’t think the mission is such a good idea—but he sticks by his friend anyway.\n",
            "\n",
            "\n",
            "\n",
            "The first thing that strikes you is how young these two are, barely out of boyhood.\n",
            "\n",
            "\n",
            "\n",
            "Mendes captures all of that tense sadness in 1917, yet the film—which he co-wrote with Krysty Wilson-Cairns, and which is dedicated to his grandfather, a veteran of the war—also has a glorious, pulsing energy. It’s a carefully polished picture, not one that strives for gritty realism.\n",
            "\n",
            "\n",
            "\n",
            "1917 opens in a moment of repose: Blake and Schofield are lounging around a tree, reveling in the ultimate luxury of killing time, when they’re informed that they’re to report for a special assignment. (The general who gives them the order is a businesslike but clear-eyed Colin Firth—he looks from one lad to the other as if fully aware of the likelihood that neither will make it back.)\n",
            "\n",
            "\n",
            "\n",
            "Deakins’ camera follows this duo as they leap out of the bleak safety of the trenches and embark on a bone-rattling trek across no-man’s land. They pass dead horses ringed by haloes of flies, and the corpses of fellow soldiers, twisted and deformed in their shallow graves of mud. \n",
            "\n",
            "\n",
            "\n",
            "Mendes moves his heroes through a field of chopped-down cherry trees, desolate in their lifeless beauty—though even then, there’s the promise that, after the stones have sunk into the ground, even more trees will pop up in their wake. He’ll be shot at; he’ll have to silently kill a young German soldier with his bare hands. But Mendes is so careful with the story’s pacing that you never feel assaulted, even if you do feel the weight of every act.\n",
            "\n",
            "\n",
            "\n",
            "The camera’s movement has its own silent dignity; there’s an overarching calmness to the film, even in its most intense moments. \n",
            "\n",
            "\n",
            "\n",
            "The actors, moving through this world of terror with no glory, are terrific: Chapman’s baby face is sullen one moment, radiantly good-natured the next. But it’s MacKay’s face that haunts you after the screen dims. It’s not a modern face, but a 1917 face, that of a young man who’s staunch in doing his duty but who has no idea what he’s gotten into. That he inspires this care in us is the key to the movie.\n",
            "The Epic Intimacy of Arrival\n",
            "\n",
            "Arrival, the remarkable new film by Denis Villeneuve. Adams plays Dr. Louise Banks, a world-class linguist. The Army needs her help again, although this time the work is decidedly more esoteric: Aliens have arrived on Earth in a dozen giant craft scattered across the globe, one of them in the wilds of Montana. Colonel Weber would like Louise to come with him, learn the aliens’ language, and ask them why they are here. On the flight into Big Sky Country, she is introduced to her partner in this endeavor, a genial physicist named Ian Donelly.\n",
            "\n",
            "As the chopper bearing the scientists skims over the plains, the alien craft emerges, literally, from the mist: a 1,500-foot edifice of what looks like black rock floating weightlessly just above the ground, like a giant skipping-stone poised on one tip.\n",
            "\n",
            "Accompanied by soldiers and technicians, Louise and Ian enter the craft by means of a square shaft in its base. Once inside, however, gravity releases them and then shifts 90 degrees, such that the shaft is now a corridor and one of its walls the floor. As Ian responded to the sudden inversion with “holy fuck,” I was right there with him.\n",
            "\n",
            "At the end of the corridor they meet their hosts, two giant, squid-like beings that float on the other side of a transparent barrier. Louise and Ian call them “heptapods” owing to their seven symmetrical tentacles, and name the two “Abbott” and “Costello,” because, well, why not? Efforts at verbal communication are unsuccessful, but written language proves more promising. From their starfish-like hands, the heptapods can emit swirling circles of inky gas, each one of them—as Louise concludes—a fully formed sentence with neither beginning nor end. Communication with the creatures moves slowly, but it at least begins to move.\n",
            "\n",
            ".As events unspool, we can sense that—like Louise with the heptapods—we do not entirely comprehend them. (We are correct in this.) As she and Ian try to decode the creatures’ language, they are constrained in their efforts by Colonel Weber and, especially, a CIA agent named Halpern (Michael Stuhlbarg). Until we know more of the aliens’ intentions—conquest? tourism? cup of sugar?—Weber and Halpern are greatly concerned that we do not accidentally teach them more about ourselves than we learn about them.\n",
            "\n",
            "The look of Arrival is stately and elegant; its pace, sober and deliberate. Suffice to say that Arrival is a “twist” movie, but the twist is more than a mere gimmick\n",
            "\n",
            "The entire cast is strong, but Arrival is Adams’s movie from the first frame to the last. I confess that I initially thought that her gifts might be wasted on such space-invader fare, but the performance she gives is mesmerizingly open, by turns uplifting and sorrowful. If you are unmoved by the film’s conclusion, then you are made of considerably harder stuff than I.\n",
            "\"The Mighty Ducks\" is the kind of movie that might have been written by a computer program. It tells a story that has been told time and time and time again, about the misfit coach who is handed a team of kids who are losers, and turns them into winners while redeeming himself. Even the usual supporting characters are here: The opposing coach who persecuted the hero when he was a kid; the kid who has a divorced mother that the hero falls in love with; the tough rebel kid who only needs to channel his anger.\n",
            "\n",
            "\n",
            "\n",
            "The movie is set in Minneapolis, and deals with Pee Wee ice hockey leagues. I have earlier seen this same plot applied to baseball (\"The Bad News Bears\"), football (\"Wildcats\"), basketball (\"Hoosiers\"), and even hockey (\"Youngblood\"). The evidence is clear: Hollywood likes this plot. If you are a would-be screenwriter desperate for a sale, rent the videos of all of these movies, and then simply apply the formula to a sport that hasn't been covered yet. The lacrosse team, maybe. Pay special attention to \"Hoosiers,\" since it's the good one.\n",
            "\n",
            "\n",
            "\n",
            "The film stars Emilio Estevez as the coach. He's a lawyer who gets arrested on a DUI, and his boss, the crusty Mr. Ducksworth, thinks it will help him slow down if he goes on a leave of absence from the firm, and coaches a Pee Wee hockey team. Estevez arrives at the first practice session in a limousine, inexplicable in plot terms but good for some inane scenes in which the little hockey stars flatten their noses against the glass. And then the season starts.\n",
            "\n",
            "\n",
            "\n",
            "The screenplay by Steven Brill leaves nothing to chance.\n",
            "\n",
            "\n",
            "\n",
            "There is not a single surprise in the film. Not even one small one, to show he's a good sport. We march in lockstep past the obligatory flashbacks to Estevez's own childhood, when an evil coach (Lane Smith) made him feel worthless after he missed an important shot. Of course, this same villain is now coaching the opponents of the Ducks.\n",
            "\n",
            "\n",
            "\n",
            "There are more obligatory stops on the way to the end.\n",
            "\n",
            "\n",
            "\n",
            "We see how bad the Estevez team is in its early games. We endure the name change, to the \"Ducks,\" so named because then Mr.Ducksworth will pop for new uniforms, and then we hear the team's new war cry, \"Quack.\" All leads to the big playoff games. No prizes for predicting which team wins, or whether everything depends on a big final shot, or which coach makes a stirring speech about how it doesn't matter so much whether you win or lose - it's how you play the game. It must be said that this movie is sweet and innocent, and that at a certain level it might appeal to younger kids. I doubt if its ambitions reach much beyond that.\n",
            "Title: The Pursuit of Happyness: Review\n",
            "\n",
            "Authors: Frederic and Mary Ann Brussat  \n",
            "\n",
            "Source/Date: Spirituality and Practice / December 15, 2006\n",
            "\n",
            "URL: https://www.spiritualityandpractice.com/films/reviews/view/16385/the-pursuit-of-happyness  \n",
            "\n",
            "Keywords: Son, Bone Scanner, Life, Will Smith, Thandie Newton, Jaden Smith \n",
            "\n",
            "Total Word Count: 491 words (trimmed)\n",
            "\n",
            "Brief Summary: Life is a struggle for single father Chris Gardner (Will Smith). Evicted from their apartment, he and his young son (Jaden Christopher Syre Smith) find themselves alone with no place to go. Even though Chris eventually lands a job as an intern at a prestigious brokerage firm, the position pays no money. The pair must live in shelters and endure many hardships, but Chris refuses to give in to despair as he struggles to create a better life for himself and his son.\n",
            "\n",
            "The year is 1981, and Chris Gardener (Will Smith) if trying to make a living by selling bone scanner machines in San Francisco to doctors and medical centers. It's a bother to lug around the clunky machines but he enjoys making connections with people. Although he is a natural born salesman, this African-American believes that he is destined for a better career path. His wife Linda (Thandie Newton) is working at two jobs to help pay the bills, and they are behind on their rent. Their five-year old son, Christopher (Jaden Christopher Syre Smith), goes to a day carecenter, and it bugs his dad that on the outside of the building, the term \"the pursuit of happyness\" is misspelled. He is convinced that these little details make all the difference in life.\n",
            "\n",
            "The constant strain of financial pressure is too much for Linda to handle so she decides to take a job with a relative in a restaurant in New York. Although her husband is a disappointment to her, she does have confidence that he will find a way to take care of their son, and so she leaves Christopher with him.\n",
            "\n",
            "Chris's persistence pays off when he is chosen for an internship program at a prestigious stock brokerage firm. The determining factor seems to be that he impresses one of the top officers by solving a Rubiks Cube in record time. It is obvious that he has a special gift for numbers in addition to his flair for sales. The only hitches to his new lease on life are that the program does not pay any salary and only one of the 20 interns will eventually be hired. Meanwhile, his financial condition grows more shaky when a few of his bone scanning machines are stolen, and he and his son are evicted from their apartment. They move into a small room at a motel but then are forced on to the streets. Father and son wind up sleeping in a bathroom in a bus station. Luckily, they are able to make this harrowing experience into a game by pretending they are hiding out in a cave from dinosaurs.\n",
            "We're instinctively afraid of natural things (snakes, barking dogs, the dark) but have to be taught to fear walking into traffic or touching an electrical wire. Horror films that tap into our hard-wired instinctive fears probe a deeper place than movies with more sophisticated threats. A villain is only an actor, but a shark is more than a shark.\n",
            "\n",
            "\"The Blair Witch Project,\" an extraordinarily effective horror film, knows this and uses it. It has no fancy special effects or digital monsters, but its characters get lost in the woods, hear noises in the night and find disturbing stick figures hanging from trees. One of them discovers slime on his backpack. Because their imaginations have been inflamed by talk of witches, hermits and child murderers in the forest, because their food is running out and their smokes are gone, they (and we) are a lot more scared than if they were merely being chased by some guy in a ski mask.\n",
            "\n",
            "The movie is like a celebration of rock-bottom production values--of how it doesn't take bells and whistles to scare us. It's presented in the form of a documentary. We learn from the opening titles that in 1994 three young filmmakers went into a wooded area in search of a legendary witch: \"A year later, their footage was found.\" The film's style and even its production strategy enhance the illusion that it's a real documentary. The characters have the same names as the actors. All of the footage in the film was shot by two cameras--a color video camcorder operated by the director, Heather (Heather Donahue), and a 16-mm. black and white camera, operated by the cameraman, Josh (Joshua Leonard). Mike (Michael Williams) does the sound. All three carry backpacks, and are prepared for two or three nights of sleeping in tents in the woods. It doesn't work out that way.\n",
            "\n",
            "The buried structure of the film, which was written and directed by Eduardo Sanchez and Daniel Myrick, is insidious in the way it introduces information without seeming to. Heather and her crew arrive in the small town of Burkittsville (\"formerly Blair\") and interview locals. Many have vaguely heard of the Blair Witch and other ominous legends; one says, \"I think I saw a documentary on the Discovery Channel or something.\" We hear that children have been killed in the woods, that bodies have disappeared, that strange things happened at Coffin Rock. But the movie wisely doesn't present this information as if it can be trusted; it's gossip, legend and lore, passed along half-jokingly by local people, and Heather, Josh and Mike view it as good footage, not a warning.\n",
            "\n",
            "Once they get into the woods, the situation gradually turns ominous. They walk in circles. Something happens to their map. Nature itself begins to seem oppressive and dead. They find ominous signs. Bundles of twigs. Unsettling stick figures. These crude objects are scarier than more elaborate effects; they look like they were created by a being who haunts\n",
            "Quentin Tarantino’s “Inglourious Basterds” is a big, bold, audacious war movie that will annoy some, startle others and demonstrate once again that he’s the real thing, a director of quixotic delights. For starters (and at this late stage after the premiere in May at Cannes, I don’t believe I’m spoiling anything), he provides World War II with a much-needed alternative ending.\n",
            "\n",
            "From the title, ripped off from a 1978 B-movie, to the Western sound of the Ennio Morricone opening music to the key location, a movie theater, the film embeds Tarantino’s love of the movies. \n",
            "\n",
            "And above all, there are three iconic characters, drawn broadly and with love: the Hero, the Nazi and the Girl. These three, played by Brad Pitt, Christoph Waltz and Melanie Laurent, are seen with that Tarantino knack of taking a character and making it a Character, definitive, larger than life, approaching satire in its intensity but not — quite — going that far. \n",
            "\n",
            "The story begins in Nazi-occupied France, early in the war, when the cruel, droll Nazi Col. Hans Landa (Waltz) arrives at an isolated dairy farm where he believes the farmer (Denis Menochet) is hiding Jews. He’s right, and a young woman named Shosanna (Melanie Laurent) flees into the woods. It is for this scene, and his performance throughout the movie, that Christoph Waltz deserves an Oscar nomination to go with his best actor award from Cannes. He creates a character unlike any Nazi — indeed, anyone at all — I’ve seen in a movie: evil, sardonic, ironic, mannered, absurd.\n",
            "\n",
            "The Hero is Brad Pitt, as Lt. Aldo Raine, leader of the Basterds. Tarantino probably wants us to hear “Aldo Ray,” star of countless war films and B pictures. Pitt’s version of Italian is worthy of a Marx brother.\n",
            "\n",
            "The Girl is Shosanna, played by Laurent as a curvy siren with red lipstick and, at the film’s end, a slinky red dress. \n",
            "\n",
            "Shosanna calculatingly flirts with Frederick Zoller (Daniel Bruhl), a Nazi war hero and now movie star; he persuades Joseph Goebbels to hold the premiere of his new war film in her theater. \n",
            "\n",
            "A Tarantino film resists categorization. “Inglourious Basterds” is no more about war than “Pulp Fiction” is about — what the hell is it about? Of course nothing in the movie is possible, except that it’s so bloody entertaining. He’s a master at bringing performances as far as they can go toward iconographic exaggeration.\n",
            "\n",
            "\n",
            "\n",
            "I knew Tarantino had made a considerable film, but I wanted it to settle, and to see it again. Like a lot of real movies, you relish it more the next time. Immediately after “Pulp Fiction” played at Cannes, QT asked me what I thought. “It’s either the best film of the year or the worst film,” I said. I hardly knew what the hell had happened to me. The answer was: the best film. Tarantino films have a way of growing on you. It’s not enough to see them once.\n",
            "The latest by Canadian director Michael Dowse (Fubar, It’s All Gone Pete Tong), Goon may seem patterned off Rudy or Rocky in the way it follows Seann William Scott’s unlikely rise from the junior leagues to a farm team for an unlicensed National Hockey League stand-in. It was inspired by the true story of hockey pro Doug Smith, though, as reported in a biography adapted to the screen by Jay Baruchel and Evan Goldberg. That aside, the film’s giddy violence and scatological humor share more in common with bygone hybrid sports-comedies like The Longest Yard, Major League, and, Necessary Roughness. Goon opens in a tiny Massachusetts town where Scott works as a barroom bouncer so big-hearted, he apologizes to patrons before knocking them out in the back alley. After defending his big-mouthed best friend (Baruchel) at a local hockey game, Scott gets called up to try out for the hometown team, where he’s re-christened “Doug The Thug.” His inability to skate is offset by his talent for taking down his opponents with a swift sock to the jaw, a gift that eventually gets him transferred to a Halifax farm team to protect a self-destructive star player (Marc-André Grondin) while preparing for a toe-to-toe with Liev Schreiber’s graying league-enforcer legend.\n",
            "\n",
            "\n",
            "\n",
            "Goon leavens its well-worn sports-flick trajectory with two factors. The first is its effective, practically acrobatic dick ’n’ fart humor. Goon is unabashedly crass and violent, establishing a rare equilibrium between faithfully rendered splatter and jokes about skull-fucking. But the movie’s real secret weapon is Scott. As in David Wain’s excellent Role Models (or the less excellent Southland Tales), Scott moves away from the smug-douche mugging of the American Pie films. He plays his thug as a gentle giant and a lovable oaf.\n",
            "\n",
            "\n",
            "\n",
            "Balancing violence with humor and sweetness would be enough of a coup, but Dowse goes further. Goon is a flurrying riposte to Canada’s toothless tradition of hockey films with titles like Breakaway and Score: A Hockey Musical. It’s the rare hockey movie to approach violence head-on, without hectoring or hand-wringing, as an essential element of the sport, not some inhumane sideshow. Where George Roy Hill’s Slap Shot, the former reigning champ of the narrow hockey-film canon, descends into anticlimactic late-game zaniness, Goon fully commits to its theme of violence for violence’s sake. It’s Paper Lion by way of Sam Peckinpah.\n",
            "Since 2011, “Impractical Jokers” has cracked up cable television audiences on truTV.\n",
            "\n",
            "Now, hosts Joseph “Joe” Gatto, James “Murr” Murray, Brian “Q” Quinn and Salvatore “Sal” Vulcano bring their antics to the big screen in “Impractical Jokers: The Movie.”\n",
            "\n",
            "“The movie is like 90% improv and hidden camera,” Murray told WTOP. “Over like 10 years of filming ‘Jokers,’ we’ve saved this list of dozens of crazy ideas that are just too big for TV, too crazy for TV, we couldn’t afford or couldn’t fit into a half-hour episode, so we stuck all that into the movie.”\n",
            "\n",
            "The movie is structured differently from “Jackass: The Movie” (2002), which was a hilarious array of pranks edited together. Instead, it strings the gags together between a fictional storyline, which doesn’t work nearly as well.\n",
            "\n",
            "In order to decide who gets the concert tickets, the four guys go on a cross-country road trip competing in various reality challenges. Like the TV show, the gags involve one member out in public as the other three give instructions in an earpiece.\n",
            "\n",
            "While such gags make the hosts hilariously uncomfortable, others elicit genuine fear.\n",
            "\n",
            "“Sal is terrified of cats,” Murray said. “We locked Sal in a motel room with a 600-pound white Bengal tiger attached to a chain, and he almost soiled himself in the movie. So if you want to see that, this is the kind of movie for you.”\n",
            "\n",
            "D.C. audiences will enjoy a segment involving spreading ashes at the Lincoln Memorial Reflecting Pool.\n",
            "\n",
            "Their biggest coup comes infiltrating the Atlanta Hawks for a job interview.\n",
            "\n",
            "Do their increasingly famous faces make it harder to go undercover?\n",
            "\n",
            "“It happens more and more,” Murray said. “But honestly, that’s a good thing. It means the show is popular. I’d rather have it be a little tougher to film than nobody recognizes us, in which case the show would suck. It’s a good problem to have.”\n",
            "\n",
            "It’s the culmination of a lifetime rising the comedy ranks. The high school buddies formed their stand-up troupe, The Tenderloins in 1999, performing at various comedy clubs around New York. They even pitched a few TV pilots that never made it to series.\n",
            "\n",
            "Are they surprised the show has lasted nearly a decade?\n",
            "\n",
            "“The fans really embraced it, we embraced our fans, and the momentum carried us through 200 episodes of television, being able to tour live and now ultimately the movie,” Gatto said. “It’s all because we just put something out there that people can relate to and enjoy and not have to think about all the B.S. going on in the world.”\n",
            "\n",
            "What’s something that they can tell us about the guys behind the scenes?\n",
            "\n",
            "In all seriousness, they cherish their friendship.\n",
            "\n",
            "“They’re the best guys in the world,” Murray said. “I think Sal is the funniest guy I’ve ever met in my life. He’s all heart and he wears his emotions on his sleeve, which is both his greatest strength and his greatest weakness. Q is sweet and charming.”\n",
            "Many movies like to toy with timelines, stirring up chronology or switching the order of events. Like few films before it, however, “Memento” truly turns the narrative editing into a specifically artistic endeavor, beginning not just at the end, but also playing out, scene by scene, in reverse. To complicate matters further, two storylines exist: the first is in color, moving backwards by scene (initially completely in reverse to show the only disconnected final shot); the second is in black-and-white and unfolds in order. By the conclusion, the two stories will meet, with the black-and-white turning to color. These baffling interchanges are also marked by a few key flashbacks and visions. As director Christopher Nolan’s second feature, “Memento” garnered Academy Award nominations for Editing and Screenplay, though it was relatively obscure upon its original release. Nolan’s success with subsequent films (particularly the Dark Knight trilogy) would cause audiences to revisit this early masterpiece of storytelling and style.\n",
            "\n",
            "Leonard (Guy Pearce) has a rare brain damage condition caused by a blow to the head. He narrates, in a neo-noirish fashion, describing the symptoms and the cause: it’s not amnesia, but it’s similar; he remembers who he is, and everything leading up to the attack on his wife (when he received the injury trying to defend her), but nothing beyond that. To keep his life manageable, he has strict discipline, habits, and routines, and takes plenty of notes and photographs. He also has tattoos inked across his body, detailing the facts of the man who raped and murdered his wife.\n",
            "\n",
            "His sole purpose in life now is revenge; but even if he gets it, he won’t remember the satisfaction for long. He has a system to cope, unlike Sammy Jankis (Stephen Tobolowsky), a man with a similar condition. \n",
            "\n",
            "Many of the events are complete surprises, mysteries that both the audience and the characters must work at spontaneously to solve. Several sequences start with sudden action, like a chase, that Leonard must talk the viewer through to uncover why he’s in such a predicament. Every role possesses ulterior motives, while Nolan also seems intent to add deceptive imagery and visual cues. Just as memories can be distorted, influenced, and planted, he manipulates the audience, ensuring that predicting the next moment is completely impossible.\n",
            "\n",
            "“Memento” is a first-rate thriller that uses a mind-bogglingly unique storytelling device and a wickedly clever murder-mystery to show a movie in a way never before seen by mainstream audiences. Although the plot itself isn’t terribly complex, the editing is so labyrinthine that multiple viewings are almost certainly necessary. The good news is that it never gets boring, it’s well paced, and enthralling little details are discovered every time. Many moments include overlapping bits that also help to mentally organize the rearranged segments. It may confuse some viewers (perhaps that’s part of the point), but its singular narrative and expert character actors make it one of the most interesting, inventive, and intelligent cinematic experiments ever conducted.\n",
            "The Inexorable Pull Of Cuaron's 'Gravity'\n",
            "\n",
            "Doctoral theses will be penned on the breath-catching realistic, gorgeously choreographed, entirely mesmerizing opening that director Alfonso Cuaron has conjured for Gravity — both how the scene was managed and how it works on a viewer's psyche.\n",
            "\n",
            "I'll leave the technical stuff to grad students; for now, let's just call the shot immersive in a way that cinema rarely manages to be. For more than 13 minutes, without a cut or edit — yes, I know this was digitally managed, not done in a single go — Cuaron sends his camera swooping in graceful arcs around an orbiting repair crew.\n",
            "\n",
            "They're astronauts working on the Hubble Space Telescope high above the Earth, their shuttle idled nearby, disaster imminent though they won't know that until it's upon them.We first see the crew and their spacecraft as a tiny dot on the edge of a majestic, screen-filling planet, their isolation and sheer cosmic puniness their most salient feature. The camera floats toward them, or perhaps they toward it, as we hear them chattering faintly in staticky NASA-speak. Soon we're close enough to discern who's who — George Clooney's veteran space walker cracking wise as he sails above, around and past Sandra Bullock's newbie, who's struggling gamely with circuits, wiring, bolts (one floats straight out into the auditorium) and a queasy stomach.\n",
            "\n",
            "And as we take in the dazzling, star-backed blue-and-white planet, and register the physics of space-walking — how much force is required to move from one Hubble strut to another, what happens when an electronic panel floats free and out of reach — Mission Control chimes in occasionally (the voice is Apollo 13's Ed Harris, mischievously enough) with words of encouragement.\n",
            "\n",
            "And then with alarm. A Russian satellite has exploded, sending shards of potentially lethal space debris their way — debris that becomes visible in the background — remember there still has not been a single \"edit\" — just before it rips into the Hubble, and the shuttle, and all those struts and panels, sending them and the astronauts and all of us reeling.\n",
            "\n",
            "Bullock, whose anxiety about being outside an enclosed capsule is evident even when she's moored to the equipment she's repairing, is sent spinning free, head-over-heels into inky blackness. The camera joins her in her point of view — the stars are streaks now — and we can see her breath coming so rapidly it fogs her vision. Her disorientation is our disorientation, even as Clooney tries to get her to focus and tell him her position so he can try to find her.\n",
            "\n",
            "I've no doubt the filmmakers have good reasons for this — that we're meant to see Bullock curled in a fetal position as signaling a moment of rebirth, that spiritual questions might reasonably occur to someone working through grief while surrounded by the cosmic infinity of space.\n",
            "\"Pearl Harbor\" is a two-hour movie squeezed into three hours, about how on Dec. 7, 1941, the Japanese staged a surprise attack on an American love triangle. Its centerpiece is 40 minutes of redundant special effects, surrounded by a love story of stunning banality. The film has been directed without grace, vision, or originality, and although you may walk out quoting lines of dialog, it will not be because you admire them.\n",
            "\n",
            "The filmmakers seem to have aimed the film at an audience that may not have heard of Pearl Harbor, or perhaps even of World War Two. There is no sense of history, strategy or context; according to this movie, Japan attacked Pearl Harbor because America cut off its oil supply, and they were down to an 18 month reserve. Would going to war restore the fuel sources? Did they perhaps also have imperialist designs? Movie doesn't say.\n",
            "\n",
            "I predict some viewers will leave the theater sincerely confused about why there were Japanese in China.\n",
            "\n",
            "As for the movie's portrait of the Japanese themselves, it is so oblique that Japanese audiences will find little to complain about apart from the fact that they play such a small role in their own raid. There are several scenes where the Japanese high command debates military tactics, but all of their dialog is strictly expository; they state facts but do not emerge with personalities or passions.\n",
            "\n",
            "The American side of the story centers on two childhood friends from Tennessee with the standard-issue screenplay names Rafe McCawley (Ben Affleck) and Danny Walker (Josh Hartnett). They enter the Army Air Corps and both fall in love with the same nurse, Evelyn Johnson (Kate Beckinsale)--first Rafe falls for her, and then, after he is reported dead, Danny. There is not a shred of conviction or chemistry in the love triangle, which results after Rafe returns alive to Hawaii shortly before the raid on Pearl Harbor and is angry at Evelyn for falling in love with Danny, inspiring her timeless line, \"I didn't even know until the day you turned up alive--and then all this happened.\" \n",
            "\n",
            "The most involving material in the film comes at the end, when Jimmy Doolittle (Alec Baldwin) leads his famous raid on Tokyo, flying Army bombers off the decks of Navy carriers and hoping to crash-land in China.\n",
            "\n",
            "What is the point, really, of more than half an hour of planes bombing ships, of explosions and fireballs, of roars on the soundtrack and bodies flying through the air and people running away from fighters that are strafing them? How can it be entertaining or moving when it's simply about the most appalling slaughter? Why do the filmmakers think we want to see this, unrelieved by intelligence, viewpoint or insight? Three thousand died in all. This is not a movie about them.\n",
            "\n",
            "It is an unremarkable action movie; Pearl Harbor supplies the subject, but not the inspiration.\n",
            "We are a scant few minutes into the film’s 2½-hour run time and it has already delivered: the sequence ends with interior and exterior shots of an explosion, which the editor Jennifer Lame transforms with as perfect an action cut as ever there was. In that microsecond, we’re reminded of something the last few months have conspired to make us forget: cinematic scale. “Tenet” operates on a physiological level, in the stomach-pit rumbles of Ludwig Goransson’s score, and the dilated-pupil responses to Hoyte van Hoytema’s cinematography, which delivers the same magnificence whether observing a narratively superfluous catamaran race, or the nap and weave of Jeffrey Kurland’s immaculately creaseless costumes. Seriously, the most mind-boggling aspect of “Tenet” might be the ironing budget.\n",
            "\n",
            "\n",
            "\n",
            "Washington’s unnamed character is quickly inducted into the mysteries of “inversion,” a process by which an object — or a person — can have its entropy reversed, making it appear, to those of us moving lamely forward through time, as if it is spooling backward. His new inversion-related mission leads him first to a fixer, Neil (a delightful Robert Pattinson), useful for both his action chops and his master’s in physics, then to a Mumbai arms dealer (Dimple Kapadia), whose fortress apartment can only be accessed by bungee jump, and thence to the villainous Ukrainian squillionaire Andrei Sator (Kenneth Branagh), who can only be accessed via his wife, Kat (Elizabeth Debicki), a miserable, imperiled art dealer who loathes him.\n",
            "\n",
            "\n",
            "\n",
            "For once, spoiler sensitivity might be the reviewer’s luckiest break, absolving me of even attempting an explanation of a plot so contorted it’s best not to worry about it. Even the scientist played by Clémence Poésy, here exclusively to deliver exposition, eventually cops out. “Don’t try to understand it, feel it” is the best advice anyone offers. Suffice to say, the time-inversion idea is most impressive not in the film’s grander architecture, which, as widely surmised, loosely resembles a palindrome, but in single scenes in which some elements run forward while others reverse. Similar to “Inception,” which created an entire dream-world mythology only to have its revolving-hallway tussle become its most iconic sequence, in “Tenet,” time inversion poses a civilization-annihilating threat, but the killer scene is, again, a corridor fight. We see it twice, and each time, after your brain clicks to one of the combatants fighting forward in time while the other goes backward, the sheer how-did-they-do-that ingenuity is dazzling.\n",
            "\n",
            "\n",
            "\n",
            "“Tenet” dazzles the senses, but it does not move the heart — a criticism common to all of Nolan’s original films. And other widely recognized Nolan blind spots are also in evidence: it’s depressing that as fine an actress as Debicki should be saddled with such a cipher role, given a son in lieu of a character and made responsible for the story’s only bad decisions. Everyone else performs to perfection, especially Washington’s history-less protagonist who proves that not all superheroes wear capes.\n",
            "If ever a movie had a case of the blues and the blahs, it’s “Spider-Man 3,” the third and what feels like the end of Sam Raimi’s big-screen comic-book adaptations. (Ready or not, the studio is talking about a fourth.) Aesthetically and conceptually wrung out, fizzled rather than fizzy, this latest installment in the spider-bites-boy adventure story shoots high, swings low and every so often hits the sweet spot, but mostly just plods and plods along, as if its heart were pumping tired radioactive blood.\n",
            "\n",
            "Maybe it’s middle age. In fictional terms Spider-Man a k a Peter Parker a k a Tobey Maguire looks like he’s pushing 23, but there’s something about the guy that shrieks midlife crisis. Peter is still hitting the books and still snapping photographs for The Daily Bugle, run by the flattop blowhard J. Jonah Jameson (J. K. Simmons, in clover, as usual). It’s a living, kind of, enough for an enviably situated dump in Manhattan with artfully peeling walls and a fabulous picture window through which Peter regularly bounds into the air in full superhero drag. (The neighbors in this part of town evidently always keep the blinds drawn.) It’s a calling, sort of, though it’s also started to feel a bit like punching the clock.\n",
            "\n",
            "The programmatic screenplay credited to Mr. Raimi, his brother Ivan Raimi (a third Raimi brother, Ted, plays a tiny role in the picture) and Alvin Sargent certainly feels more like work than play. The big selling point in “Spider-Man 3” is that Spider-Man or Peter or some combination of the two discovers his so-called dark side when an inky extraterrestrial glob (a symbiote in Marvel-speak) spreads its gooey tentacles over his body, turning his suit and soul black. Though there’s something dubious about the idea that black still conveys evil in our culture, pop or otherwise (tell it to Batman and Barack Obama, for starters), the idea of messing with Spider-Man’s squeaky-clean profile, smearing it with dirt, a touch of naughtiness, seems too good to resist.\n",
            "\n",
            "It’s also too good to be true. There’s no knowing if the problem is bottom-line reserve, or a lack of imagination or creative nerve, but Spider-Man’s voyage into darkness turns out to be little more than an overnighter. The goo transforms Spider-Man, but the alteration barely registers. There’s some wacky, misguided nonsense involving Peter’s super-inflated ego and Mr. Raimi’s apparent desire to direct a musical, as well as fleeting nastiness with a resurrected foe, Flint Marko (Thomas Haden Church), recently escaped from prison. Marko has the makings of a super-antagonist, and Mr. Church brings a touching delicacy to the few short scenes in which you can see his face, the skin pulled back so tightly that you fear his jagged cheekbones might pierce right through.\n",
            "\n",
            "\n",
            "\n",
            "With his hard-body physique and a striped shirt that evokes a 1930s chain gang, Marko also feels and looks like a fugitive from an earlier era, one of the film’s many such nostalgic flourishes.\n",
            "One of the many turning points in “The Blind Side” comes during a Memphis high school football game. Michael Oher, the offensive tackle whose remarkable life is the subject of the film (and of the nonfiction best seller on which it is based), is having trouble protecting his quarterback.\n",
            "\n",
            "\n",
            "\n",
            "What Michael (played by Quinton Aaron) does to that hapless defender is pretty much what Sandra Bullock does to the audience for the entirety of “The Blind Side,” which is a very long time. Ms. Bullock plays Leigh Anne Tuohy, a Memphis decorator who, along with her family, rescues Michael from homelessness and sets him on a path to football stardom. The outlines of the story are both interesting and inspiring. A wealthy, white Southern family adopts a poor black teenager, cultivating his athletic gifts and providing him with the comfort and safety of a happy, loving home.\n",
            "\n",
            "\n",
            "\n",
            "And the film, not unsurprisingly for a holiday- (and football-) season release from a major Hollywood studio, plays this story straight down the middle, shedding nuance and complication in favor of maximum uplift. Ms. Bullock is convincing enough as an energetic, multitasking woman of the New South, who knows her own mind and usually gets her own way. \n",
            "\n",
            "\n",
            "\n",
            "The Tuohys have a pretty daughter named Collins (Lily Collins) and a wisecracking whirligig of a son, S J (Jae Head), who would, if this were an animated children’s movie, be Michael’s annoying-but-lovable talking-animal sidekick. And “The Blind Side,” written and directed by John Lee Hancock (“The Rookie,” “The Alamo”), is, in effect, a live-action, reality-based version of a Disney cartoon: it’s the heartwarming tale of a foundling taken in by strangers, who accept him even though he’s different and treat him as one of their own.\n",
            "\n",
            "\n",
            "\n",
            "In a typical Disney movie, however, that process would be full of conflict, excitement and danger. “The Blind Side,” until the end  when an N.C.A.A. bureaucrat throws a hasty obstacle in the way of Michael’s triumph  is more like a two-hour holiday greeting card. Leigh Anne and Sean first spot Michael in the school gym after one of Collins’s volleyball games, and on the drive home figure out that, even though he attends this private Christian academy on scholarship, he has no place to sleep. Before you know it this impulsive act of generosity turns into a project, to which Leigh Anne devotes herself with tireless zeal. \n",
            "\n",
            "\n",
            "\n",
            "And the audience is meant to respond in similar fashion, choking up, chuckling with warm laughter, feeling so sorry for this poor young man and so gratified that he found someone to care for him. Will you be moved? Maybe, though only in the sense that “moved” can describe the experience of defensive player, overpowered by a blocker and left flat on his back with a possible concussion.\n",
            "Despite the serious, potentially stodgy subject matter — this is a movie that deals with both prejudice and Cartesian coordinates — the material is handled with a light touch. The lead trio are introduced at the side of a road: their ride, a sky-blue Chrysler, has broken down and a police officer is nosing about, suspicious. These two obstacles are deftly overcome, revealing the traits of each of the heroines and establishing their tight bond. Mary (Janelle Monáe) is a quick-witted thrillseeker; Dorothy (Octavia Spencer) is practical and unflappable; Katherine (Taraji P. Henson) is quiet but needle-sharp. As they are drafted into NASA, in demand for their smarts as the agency races to beat Russia to the moon, they are split up and have fewer scenes together. But each of them brings a different kind of strength to the screen. Henson gets the A-plot, pulled out of an all-women pool of computors and dropped into the main event, the previously male-only, Caucasian flight research team. Despite her promotion, rhere she is still subject to all manner of demeaning rules: she cannot pour herself a drink from the communal coffee pot, she is not allowed to attend briefing meetings, and when she needs the toilet she has to jog for 20 minutes to a distant restroom. As she suffers these indignities stoically (there are perhaps one or two too many musical montages involving her legging it around the campus while clutching stacks of paperwork), you can see the pressure gauge inside her cranking up and up. The release, when it comes, is glorious.\n",
            "\n",
            "\n",
            "\n",
            "There has been awards chatter too for her two co-stars, even if they don’t make quite so much of an impression. The drama is more rote in Spencer’s subplot, though she gets to deliver a couple of eloquent monologues. Monáe’s strand, meanwhile, involves her fight to get enrolled in a segregated school, and she is as good as she is in Moonlight, leavening the earnestness with flirty lines such as, “Equal rights mean I have the right to see the fine in every colour.”\n",
            "\n",
            "Perhaps inevitably, it’s the supporting cast who get the thinnest material. Hidden Figures features more racist old white men than a Trump cabinet, and even the more fleshed-out secondary characters are still pretty broad. Dunst simpers and smirks as Dorothy’s supervisor, while Parsons (though perfectly cast for such a maths-heavy project, given his Big Bang Theory background) struggles to bring more than one dimension to his snippy egghead. Fortunately, Costner is present to bring both gravitas and heart to the NASA workforce. A waist-coated ballbuster, chewing furiously on gum and calculus problems alike, his Al Harrison is a great representation of an American idealist, slowly waking up to the fact he’s lost his moral moorings.\n",
            "\n",
            "\n",
            "\n",
            "It’s unashamedly pitched at a mass audience — Pharrell’s poppy soundtrack drives that home — and if you’re allergic to clichés, you may want to pick up the non-fiction book upon which it’s based instead. But you’d be missing out on a moving, important and furiously upbeat tale for our times.\n",
            "When Traveling Through Time, Pack a Change of Identities Jumping across time and space is tough, thankless business in “Predestination,” a slab of science-fiction speculation draped in old-fashioned detective story crepe. The story centers on a temporal agent, a futuristic enforcer (he tries to right wrongs before they happen) nicely played by Ethan Hawke with a hungry, hangdog look that suggests that his character has spent long nights howling in the wasteland, often without either a scrap or a prayer. Whether slinking through 1985 or another vintage year (usually while chasing down a bomber), the temporal agent looks like a classic lone wolf.He is and isn’t, as the story’s multiple twists gradually, if not altogether too clearly, reveal. The movie opens with a misterioso figure whose face is obscured by a fedora and some clever camera angles and editing. The noir atmospherics seem to have been included largely because the story jumps in and out of 1945, or perhaps because the writer-director brothers Peter and Michael Spierig like tipping their fedoras to film history. Whatever the case, after the bandages come off in one decade, the newly mustachioed temporal agent turns up tending bar in another, pouring shots for a man curiously known only as the Unmarried Mother (Sarah Snook, wearing a sneer and a sack suit). The Unmarried Mother writes confession stories from the women’s angle, one he knows intimately. He has a story to tell, which begins with “When I was a little girl” and leaps across the years and yawning gaps in logic.The source for all this jumpy action is Robert A. Heinlein’s “All You Zombies,” a mind-and-body-bending short-story classic that he wrote in 1958. From its many temporal and sexual kinks, the story suggests that Mr. Heinlein was looking to dust off H. G. Wells’s time-travel machinations with some 1950s-style transgender sizzle borrowed from one of the tale’s touchstones, Christine Jorgensen. Ms. Snook looks remarkably like a Leonardo DiCaprio cousin when duded up, but is more persuasive when dolled up in period dresses with a slash of red lipstick. She smoothly maneuvers through the labyrinthine plot and in and out of his-and-her threads, but the character might have worked better, particularly for the would-be shocker ending, with someone with less natural va-va-voom appeal.Although he disappears for large stretches, Mr. Hawke serves as both the narrator and the story’s ballast amid all the woo-woo interludes and disruptions, the puzzle piece you hold and worry about even as the scenery changes and identities shift. His temporal agent contains sly multitudes and could easily have become a gimmick, but Mr. Hawke brings enough pathos and soul to his performance that the conceit soon becomes a man — well, for starters.\n",
            "As possibly Cinema’s greatest exponent, Orson Welles would sigh when quizzed about his final film. Within its morally charged story, he was the voice of Unicron the chaos-bringer, most massive and deadly of the Transformers, a role he described without irony as “a big toy who attacked a lot of smaller toys”.\n",
            "\n",
            "It is not, you should understand, a film for those who seek the solace of art. It is, however, the most straight-up, brain-on-standby, CG-buffed explosion of out-and-out fun the summer has yet delivered. Another of cinema’s great exponents, Alfred Hitchcock, would often despair of certain cinemagoers’ predilection for plot logic. He would ignore the cry of these ‘Plausibles’ and fiddle his books with rollicking suspense. Michael Bay, too, is no friend of the Plausibles, but his trick is to deafen them with ‘Bayhem’ (def: blowing shit up at sunset). \n",
            "\n",
            "When you’ve got a film about sentient robots from outer space (originally Cybertron, but they fragged their home planet in some internecine techno-squabble) who can inhabit the guise of a canary-yellow Camaro or jet fighter or boombox (Gremlin-like midget-bot Frenzy is an in-joke reference to a misconceived toy that swizzled into a cassette tape), judging your tone can be tricky. Transformers was hardly going to embrace the giddy naturalism of the French New Wave, but Bay bravely pushes his film from the stern hegemony of cool into goofy, and it fits. \n",
            "\n",
            "The film is winningly willing to admit to its own silliness. For the first third, until the Autobots assemble like the A-Team in metallic drag under the governorship of stiff-rigged head-bot Optimus Prime (voiced with a headmaster’s growl by Peter Cullen), it plays more like a teen comedy than a brash actioner. A good one, too, as the human leads are every bit as charming as the boulder-sized hood ornaments.\n",
            "\n",
            "Bay has done himself a real favour casting LaBeouf as the excitable loser about to discover his first car has a big surprise under the hood. He shares the pop-neurotic jabber of a young Woody Allen with Tom Hanks’ steady charisma, a straightforward-looking guy who still shines like a movie star. A smart, natural comedian, he levels the bluntness of this toy story with an ironic bluster.\n",
            "\n",
            "The cast is at its best young: the older actors, notably Jon Voight and John Turturro as governmental stooges as slow on the uptake as many a parent might be, hammily herk and jerk as if undergoing their own internal shake-up. \n",
            "\n",
            "Whether it’s Optimus Prime gracefully unpacking his flame-decaled truck chassis into a warrior-robot as polished as the knights in Excalibur, or Starscream flitting into and out of a Lockheed Raptor like a steel-clad fairy, or the splendid Megatron, all barbs and violent blooms like a psychopathic rose bush, the dynamics are intricately detailed, conjuring images of a million sprockets whirring in unison. All their U-turns and spins, skid-stops and take-offs are choreographed into a stunning ballet of impossible motion.\n",
            "The hungry heart of “Moneyball,” a movie about baseball in the digital age, is a beautiful hard case named Billy Beane. That he’s played by Brad Pitt giving the quintessential Brad Pitt performance just seals the deal. It didn’t turn out that way, and in 2001 this high school star turned major-league washout was no longer a player but the general manager of the Oakland Athletics.\n",
            "\n",
            "Based on Michael Lewis’s nimble, joyously entertaining nonfiction chronicle of the Athletics’ sprint toward the top despite the odds and dollar signs, “Moneyball” is an exuberant fictionalized look at how Mr. Beane helped transform the team, one of the poorest in baseball, into serious competition for the wealthiest franchises, mostly by ignoring everything he’d been taught about the game.\n",
            "\n",
            "The old baseball knowledge, as more than a few earlier movies have taught, was built on rich whiffs of romance and new sod, and highly subjective ideas about what it takes to win, including looking right for the part, having a certain stance on the mound, even a good face. Early in “Moneyball” there’s a funny scene of Billy (who of course has a great face), sitting around with his council of elders: the old-timers, mostly, who scour the country for the next big hope. \n",
            "\n",
            "“Moneyball” is about a fundamental cultural shift and the rise of the information elite. Instead of going by instinct, Peter knows what he knows because he’s a disciple of Bill James, a once-marginal figure who, starting in 1977, began publishing an abstract that offered a new, rationalized way of looking at the game. In a nutshell, Mr. James looked at baseball statistics in a different light, less by breaking the numbers down in another way but by seeing that what appeared to be objective facts, like fielding statistics, were, as he wrote, “a record of opinions.” And these numbers didn’t just describe baseball; they gave the game its language, its “fiction and drama and poetry.”\n",
            "\n",
            "Mr. Miller, largely shaking off the official art-house pretensions of his breakout feature, “Capote,” takes all this seemingly dry, dusty, inside-baseball stuff and turns it into the kind of all-too-rare pleasurable Hollywood diversion that gives you a contact high. He still has his serious, or rather too-serious, side: he bookends the story with ophthalmologically close shots of Billy’s eyes shining in the dark, as if soliciting you to peep into the windows of a soul that, as much as any man’s or woman’s can be revealed, emerges through the script and Mr. Pitt’s fully inhabited, appealingly barbed performance. \n",
            "\n",
            "The movie and its meaning are already there, in the details, the performances and especially in the emphasis on process and how teams and players are built and broken, saved and discarded. What works in “Moneyball” is showing not telling: the scenes of men doing and being and sometimes failing, as in the interwoven flashbacks to the young Billy, played by Reed Thompson.\n",
            "Off to the Stars, With Grief, Dread and Regret\n",
            "\n",
            "0:30\n",
            "\n",
            "2:57\n",
            "\n",
            "The possibility that such a “you” might be out there, in a position to grant clemency, is one of the movie’s tantalizing puzzles. Some kind of message seems to be coming across the emptiness of space and along the kinks in the fabric of time, offering a twinkle of hope amid humanity’s rapidly darkening prospects. For most of “Interstellar,” the working hypothesis is that a benevolent alien race, dwelling somewhere on the far side of a wormhole near one of the moons of Saturn, is sending data across the universe, encrypted advice that just may save us if we can decode it fast enough.\n",
            "\n",
            "\n",
            "\n",
            "What our planet and species need saving from is a slow-motion environmental catastrophe. Rather than explain how this bleak future arrived through the usual montages of mayhem, Mr. Nolan (who wrote the screenplay with his brother Jonathan) drops us quietly into what looks like a fairly ordinary reality. We are in a rural stretch of North America, a land of battered pickup trucks, dusty bluejeans and wind-burned farmers scanning the horizon for signs of a storm. Talking-head testimony from old-timers chronicles what sounds like the Dust Bowl of the 1930s, until we spot a laptop on the table being set for family dinner.\n",
            "\n",
            "The head of the family in question is Cooper (Matthew McConaughey), a widower who lives with his two children and his father-in-law (John Lithgow). Once a NASA pilot, Cooper now grows corn, the only thing that will grow after a blight has wiped out most of the planet’s other crops. The human population has shrunk to a desperate remnant, but the survivors cling to the habits and rituals of normal life. For now, there is plenty of candy and soda and beer, there are parent-teacher conferences after school; and Cooper’s farmhouse is full of books and toys. But the blight is spreading, the dust storms are growing worse, and the sense of an ending is palpable.\n",
            "\n",
            " \n",
            "\n",
            "Cooper is devoted to his children, in particular his daughter, Murph, played as a young girl by the preternaturally alert and skeptical Mackenzie Foy and as an adult by Jessica Chastain. When her father is recruited for a secret NASA mission to search for a habitable new planet, Murph is devastated by his departure. Her subsequent scientific career is both a tribute to his memory and a way of getting even.\n",
            "\n",
            " “Interstellar” is built around twinned father-daughter stories. Among Cooper’s colleagues on board the spaceship is Dr. Brand, whose father, also called Dr. Brand, has developed the theories behind their quest. He and Murph remain on the ground, crunching the numbers and growing older in the usual earthly way, while Cooper and the younger Brand, thanks to relativity, stay pretty much the same age. \n",
            "\n",
            "“Interstellar” may take its place in the pantheon of space movies because it answers an acute earthly need, a desire not only for adventure and novelty but also, in the end, for comfort.\n",
            "Jason Momoa is back as Aquaman himself, though there’s still no depiction of the presumably big moment in his life when he got those humungous tattoos. His parents got it together in 1985, when his Earthling dad Tom Curry (Temuera Morrison), while tending to his lighthouse in Massachusetts, discovered the beautiful Queen Atlanna (Nicole Kidman) unconscious on the beach, on the run from an arranged marriage in the undersea world of Atlantis. Atlanna can breathe air and does not have to be kept in the bath, and she and Tom fall in love and have a baby, named Arthur after the British mythic king and for some residual lady-of-the-lake vibes. But then the terrifying Atlantis stormtroopers show up to grab Atlanna back, with those water-filled helmets which for some reason Atlanna herself doesn’t need. Kidman is rather well cast as Atlanna, and her willowy grace and unearthly beauty make her a plausible Atlantic monarch, although her character sadly absents herself for most of the action. Tom is now a single dad.\n",
            "\n",
            "\n",
            "\n",
            "The one really good moment in the film comes in Aquaman’s lonely teen years, when he is bullied by a couple of older kids while on a school trip to the aquarium and an enraged shark smashes up against the glass, in an attempt to protect him. But then he becomes the amiably self-satisfied gym bunny and happy-hour enthusiast that we all know, pretty much free from the agonised self-questioning that is a part of every single other superhero’s psychological makeup. Aquaman doesn’t do emotional vulnerability.\n",
            "\n",
            "\n",
            "\n",
            "The crisis of his adult life arrives when Aquaman’s half-brother King Orm (Patrick Wilson), the entirely ridiculous and sometimes gold-clad potentate below the sea, wishes to unite the various kings under his own unscrupulous rule and lead a pre-emptive attack on all those air-breathers walking around above sea level, poisoning both land and sea. Aquaman is the only person who can stop this; his own mixed ancestry will bring a spiritually amphibious peace between humans and water-dwellers. The ghastly Orm has also hired gangster/mercenary David Kane, soon to be Black Manta (Yahya Abdul-Mateen II), with a bag of what look like rusty doubloons – are those legal tender in the US? – to kill Aquaman, against whom Black Manta in any case holds a grudge for killing his pirate father in a way that was admittedly a bit ruthless. Black Manta has a point about this.\n",
            "\n",
            "The extraordinary thing about this film is that Willem Dafoe is in it, proving yet again what everyone says: Dafoe’s sheer actorly integrity can ride out whatever silliness he finds himself in. When you see him under the sea, riding some sea creature like a horse, and with a completely straight face, you don’t laugh at him. Dolph Lundgren plays King Nereus, and carries it off reasonably well, although like every other marine character, there is the issue of hair distractingly waving and rippling in the water like seaweed.\n",
            "\n",
            "But Wilson is just, frankly, dull.\n",
            "The latest entry in the \"let's kick some asteroid butt\" stakes is a doomsday countdown spectacle from producer Jerry Bruckheimer and \"Bad Boy\" Bay that extends their commitment to extreme tosh. With no messing about, this opens on the demolition of downtown Manhattan plus the imperilment of a nice little dog, all within a few minutes. Yikes! It's a meteor shower, heralding \"the worst parts of the Bible\" to come, and the first of a thousand-and-one big bangs: whenever there's a lull in proceedings, there's a wake-up call such as the splattering of Shanghai or - a highlight - the annihilation of Paris.\n",
            "\n",
            "At the obligatory scientific-military crisis conflab with NASA's director (Thornton) we get a refresher course in extermination events. This particular cosmic uh-oh, Asteroid Dottie, is the size of Texas and will hit planet Earth in 18 days, leaving not even a bacterium alive. Our only hope is for a rock rendezvous mission to drill a hole deep into the sucker and nuke it at the core. Hence the urgent need to locate \"the world's best deep-core driller\". Cue Bruce Willis as Harry Stamper, a rowdy, globe-trotting maverick inspired by famed oil well firefighter Red Adair. Harry graciously agrees to save the world - like ya do - but only if he can take his own team with him.\n",
            "\n",
            "In addition to the two credited with the screenplay, Jonathan Hensleigh (The Rock, Con Air), and J.J. Abrams (Forever Young), a veritable mob of \"serious\" screenwriters - including Robert Towne, Paul Attanasio and Scott Rosenberg - was deployed to provide action ideas, key dramatic sequences, wisecracks for the boys. Collectively they should be cringing, because much of this opus has the basic content and tone of a Coca-Cola ad: extras clustered for intermittent, picturesque group poses at the Taj Mahal, a Midwestern farmstead or a Balkans village, eyeing the skies and sharing the moment. There are also abundant gag-making shots of stoic principals framed by the Stars And Stripes, hammering home the inadequacies of the Russians with their delapidated spaceware, or anyone else on earth, to undertake the task at hand.\n",
            "\n",
            "Had Armageddon foregone the comedy and corn, the film would have been an hour long instead of the two-and-a-half in which some potentially thrilling momentum is lost. But Bruckheimer's genius for posturing, vulgarity and cheap sentiment fun rivals Cecil B. DeMille's (hey, he even uses Charlton Heston as narrator!) To its credit, more happens in the first five minutes of Armageddon than in the whole of Deep Impact, and if you get off on global catastrophe you'll enjoy this more.\n",
            "\n",
            "It's a million laughs (many of them unintentional), and it even has a mildly revolutionary ending. In a dismal summer for popcorn movies, this epic may be the silliest but still looks like the best shot.\n",
            "In ‘The Martian,’ Marooned but Not Alone\n",
            "\n",
            "A space western and a blissed-out cosmic high, “The Martian” stars Matt Damon as an American astronaut who, like a latter-day Robinson Crusoe, learns to survive on his own island of despair. At once epic and intimate, it involves a dual journey into outer and inner space, a trip that takes you into that immensity called the universe and deep into the equally vast landscape of a single consciousness. For this accidental castaway, space is the place where he’s physically marooned, but also where his mind is set free — a dynamic that of course invokes moviegoing itself.\n",
            "\n",
            "Based on the novel “The Martian” by Andy Weir that Drew Goddard has turned into a fast-moving, streamlined script, the movie focuses on Mark Watney (Mr. Damon), who, during a windstorm on Mars, is accidentally left behind by his team. \n",
            "\n",
            "After some self-surgery to deal with the rod spearing his gut, along with some anxious stock-taking — he has plenty of tunes but not enough air, water and food to survive for long — Watney gets down to the business of living, including farming. “I’m not going to die here,” he helpfully mutters, helpfully because he talks out loud a lot whether just murmuring to himself or recording a video entry in his growing space log. The log keeps the words flowing in what could have been a fairly quiet movie, creating an animated lively babble that approaches the chummy feel of a video face chat. Watney makes for affably pleasant if worrisome company, and if there isn’t much mystery to him it’s because the purity of his struggle doesn’t leave him, at least, time for deep dives into questions of existence.\n",
            "\n",
            "\n",
            "\n",
            "Gradually, the two stories become one as Watney and everyone else gets to work. At NASA, various brainiacs take hammers and tongs to physics at both the Johnson Space Center and the Jet Propulsion Laboratory, where super nerds take on the logistics of a rescue mission. The movie gently thumps several issues: It’s unambiguously on the side of science and rationalism with glints of manifest destiny, American can-do-ism and a little flag-waving folded in. \n",
            "\n",
            "\n",
            "\n",
            "“The Martian” has sweep but not the vanity that creeps into many large productions, turning them into bloated vehicles for directorial self-aggrandizement. Mr. Damon’s Everyman quality (he’s our Jimmy Stewart) helps scale the story down, but what makes this epic personal is Mr. Scott’s filmmaking, in which every soaring aerial shot of the red planet is answered by the intimate landscape of a face. There’s a touch of Cecil B. DeMille in his cinematic DNA (for better and occasionally for worse), though, like many who saw “2001: A Space Odyssey” during their esthetically formative years, there’s even more Stanley Kubrick. But Mr. Scott is very much his own artist, one whose reputation as a visual stylist has at times obscured that his great, persistent theme is what it means to be human.\n",
            "When Dune the adaptation of Frank Herbert's seminal 1965 novel of the same name, was released in December of 1984, it was met with near-unanimous derision. Roger Ebert hated it, hated it. \"It took Dune about nine minutes to completely strip me of my anticipation,\" he said. \"This movie is a real mess, an incomprehensible, ugly, unstructured, pointless excursion into the murkier realms of one of the most confusing screenplays of all time.\" Janet Maslin opened her New York Times review by stating, \"Several of the characters in Dune are psychic, which puts them in the unique position of being able to understand what goes on in the movie.\" Zing!\n",
            "\n",
            "Herbert's book offered a meticulously detailed saga of a dark future where royal houses war for control of the desert planet Arrakis and its precious resource, the spice melange. Fitting all of that tale into movie length proved comically impossible for Jodorowsky. Lynch’s film palpably suffers from numerous cuts and recuts to the final edit, which clocks in at two hours and 17 minutes. So instead of showing not telling the story, the movie relies on a flurry of voiceover and breathy exposition. Like this:\n",
            "\n",
            "After all that, it probably doesn't sound like there's anything worthwhile in Lynch's film. That's far from the truth. It’s certainly a different kind of sci fi than Star Wars, which was created to comfort and entertain. Dune wanted to challenge, and though its stumbling attempts to pontificate on religion and ecology may have been its downfall, those attempts also produced some of the film's most resonant moments.\n",
            "\n",
            "If the movie's goal was to create, like the book, a world that felt utterly alien, then Lynch and his surreal style were the right choice. With its bizarre dream sequences, rife with images of unborn fetuses and shimmering energies, and unsettling scenery like the industrial hell of the Harkonnen homeworld, the film’s actually closer to Kubrick (2001: A Space Odyssey) than Lucas. It seeks to put the viewer somewhere unfamiliar while hinting at a greater, hidden story.\n",
            "\n",
            "The special effects were not particularly impressive from a technical standpoint, something critics eagerly pointed out. But the miniature sets, created mostly by Emilio Ruiz del Río, achieve a staggering sense of scale. Watch the scene where the Atreides fleet departs for Arrakis. Dozens of already massive ships file into what looks like an ornate keyhole, instantly dwarfing them in the viewer’s eye and creating a sense of ponderous motion fit for a massive interstellar space craft. The novel’s iconic sandworms feel similarly gargantuan onscreen as they rumble out of the barren desert.\n",
            "\n",
            "Before his death in 1986, Herbert said that he was largely pleased with Lynch’s film's representation of his universe. You can understand why. While it's hardly a cohesive experience, individual scenes are brought to life with striking power. Watching Dune today holds the same joy as flipping through an illustrated version of the novel. Considering the density and imagination of Herbert's world, that should count as something of an achievement.\n",
            "Dunkirk is an impressionist masterpiece. Somber, grim and as resolute in its creative confidence as the British are in this ultimate historical narrative of having one's back to the wall, this is the film that Christopher Nolan earned the right to make thanks to his abundant contributions to Warner Bros. with his Dark Knight trilogy.\n",
            "\n",
            "It's about resolve, determination and survival on the ground, on the water and in the air.\n",
            "\n",
            "Using a risky, even radical narrative structure that splits the storytelling into three intercut chronologies of different duration, Dunkirk dramatizes the calamitous climax of the attempt by the British Expeditionary Force to help French, Belgian and Canadian forces stem the Germans' stunningly swift sweep through France in the spring of 1940. \n",
            "\n",
            "\n",
            "\n",
            "The first scene has several English soldiers being shot at as they run through city streets, and all are cut down except one. Tommy (Fionn Whitehead) makes it to the beach, where he finds countless thousands of other soldiers already lined up waiting for transport; the arbitrariness of who lives and dies is established at once.\n",
            "\n",
            "The ace flier is played by Tom Hardy, whose face is once again largely hidden behind a mask (as in Nolan's The Dark Knight Rises as well as in the more recent Mad Max: Fury Road). \n",
            "\n",
            "The third major narrative thread involves the brave effort of a middle-aged civilian sailor, Dawson (Mark Rylance), and his teenaged-son Peter (Tom Glynn-Carney) to sail their small private yacht across the Channel to bring home whomever they can. \n",
            "\n",
            "Yet all these actions are combined as if they are happening simultaneously, a strategy that ultimately works to emphasize that what we are seeing is a highly selective representation of the whole, both in number of participants and time span.\n",
            "\n",
            "Dunkirk also vividly contrasts the hugely different ways in which the soldiers experienced the same event. The hundreds of thousands of soldiers are at once all in this vast struggle together and quite on their own to respond as each moment demands.\n",
            "\n",
            "All of Nolan's films are intensely visual, but it's fair to say that Dunkirk is especially so, given the sparseness, and strict functionality, of the dialogue. Hardy probably has a half-dozen lines in the whole picture and, given his mask, does most of his acting with his eyes, something at which he's become very good indeed. \n",
            "\n",
            "There's never a sense of Nolan — unlike, say Spielberg — manipulating the drama in order to play the viewer's heartstrings. Nor is there anything resembling a John Williams score to stir the emotional pot.\n",
            "\n",
            "In what has to be one of the most adventurous of his countless soundtracks, Hans Zimmer enormously strengthens the film with a work that equally incorporates both sound and music to extraordinary effect. \n",
            "\n",
            "So the climax of the film, as beautiful as it is thanks to the visually stunning presentation of Hardy's character's fate, is more like the beginning of the real war.\n",
            "\n",
            "In Dunkirk, Nolan has gotten everything just right.\n",
            "1998's Saving Private Ryan introduced a new era of war movies. Replacing them are stories steeped in the gritty reality of combat - violent, bloody, horrific, and chaotic. For those who are not easily sickened by such visceral, cinematic assaults, films like Black Hawk Down can deliver a powerful, indelible impact.\n",
            "\n",
            "\n",
            "\n",
            "Bowden, a staff reporter for the Philadelphia Inquirer, first detailed the disastrous 1993 raid into Mogadishu in a serialized, 29-part story that appeared in the paper during November and December of 1997. The final product attracted the interest of two marquee Hollywood names - uber-producer Jerry Bruckheimer and producer/director Ridley Scott, who was in search of something to follow-up Hannibal and Gladiator.\n",
            "\n",
            "\n",
            "\n",
            "Some have argued that not enough background is given, but I would counter that the introductory crawl is sufficient to set the stage. Black Hawk Down is not an attempt to analyze what happened in Somalia - its concern is dramatizing 24 hours of hell that killed 18 United States servicemen and injured 70 others while racking up a Somalian body count that numbered in the hundreds.\n",
            "\n",
            "\n",
            "\n",
            "The story begins on October 2, 1993. Characters are introduced - Major General William Garrison (Sam Shepard), who is in command of the U.S. military presence in the region; Staff Sergeant Matt Eversmann (Josh Hartnett), recently promoted to commanding a team; Company Clerk John Grimes (Ewan McGregor), who is about to exchange paperwork for a gun; Lt. Colonel Danny McKnight (Tom Sizemore), in charge of a segment of the ground troops; and Master Sergeant Paul Howe (William Fichtner), who will challenge orders if he thinks they are ill-advised. \n",
            "\n",
            "\n",
            "\n",
            "The objective is to capture several key advisors to Mohamed Farrah Aidid, the warlord who controls Mogadishu. But the troops, both on the ground and in the air, encounter stiffer resistance than expected, and this results in the downing of two black hawk helicopters. The ground troops then become divided as the raid turns into a rescue mission, and, in part because of poor planning and in part because of bad luck, the fire fight turns into a debacle.\n",
            "\n",
            "\n",
            "\n",
            "Scott's movie is fast-paced and riveting. Cinematographer Slavomir Idziak (best known as a frequent collaborator of the late, great Polish filmmaker Krzysztof Kieslowski) makes frequent, effective use of filters to dampen hues and enhance the \"grittiness\" of Black Hawk Down's appearance. Hans Zimmer's music is generally effective, although there are times when it calls attention to itself a little too much.\n",
            "\n",
            "\n",
            "\n",
            "But the real stars of Black Hawk Down are character actors Tom Sizemore and William Fichtner, both of whom create vivid personalities with limited screen time. \n",
            "\n",
            "\n",
            "\n",
            "For Jerry Bruckheimer, who is most easily recognized for his involvement in big-budget, high-testosterone, low-intelligence projects, this is an opportunity to upgrade his image. (For the first time, pundits are mentioning \"Bruckheimer\" and \"Oscar\" in the same sentence.) And, at the moment, Ridley Scott is riding the highest wave of his career. On the whole, Black Hawk Down is one hell of a ride.\n",
            "When soldiers are killed in ''Saving Private Ryan,'' their comrades carefully preserve any messages they left behind. Steven Spielberg's soberly magnificent new war film, the second such pinnacle in a career of magical versatility, has been made in the same spirit of urgent communication. It is the ultimate devastating letter home.\n",
            "\n",
            "\n",
            "\n",
            "Since the end of World War II and the virtual death of the western, the combat film has disintegrated into a showcase for swagger, cynicism, obscenely overblown violence and hollow, self-serving victories. This film simply looks at war as if war had not been looked at before.\n",
            "\n",
            "\n",
            "\n",
            "Though the experience it recounts is grueling, the viscerally enthralling ''Saving Private Ryan'' is anything but. Like the soldiers, viewers are made furiously alive to each new crisis and never free to rest.\n",
            "\n",
            "\n",
            "\n",
            "The film's immense dignity is its signal characteristic, and some of it is achieved though deliberate elision. We don't know anything about these men as they prepare to land at Omaha Beach on D-Day, which might make them featureless in the hands of a less intuitive filmmaker. \n",
            "\n",
            "\n",
            "\n",
            "The battle scenes avoid conventional suspense and sensationalism; they disturb not by being manipulative but by being hellishly frank.\n",
            "\n",
            "\n",
            "\n",
            "So somehow we are everywhere: aboard landing craft in the throes of anticipatory jitters; underwater where bullets kill near-silently and men drown under the weight of heavy equipment; on the shore with the man who flies upward in an explosion and then comes down minus a leg; moving inland with the Red Cross and the priest and the sharpshooter; reaching a target with the savagely vengeful troops who firebomb a German bunker and let the men burn. Most of all, we are with Capt. John Miller (Tom Hanks) in heights of furious courage and then, suddenly, in an epiphany of shellshocked confusion. \n",
            "\n",
            "\n",
            "\n",
            "Next we are drawn into the incongruously small-scale drama of the Ryan family, with three sons killed and only one remaining, lost somewhere in Normandy. Miller and his unit, played with seamless ensemble spirit by actors whose pre-production boot-camp experience really shows here, are sent to find what the captain calls ''a needle in a stack of needles'' and bring him home alive.\n",
            "\n",
            "\n",
            "\n",
            "On the way, they establish strong individual identities and raise the film's underlying questions about the meaning of sacrifice.\n",
            "\n",
            "\n",
            "\n",
            "The soldiers' decisions are never made easily, and sometimes they are fatally wrong. \n",
            "\n",
            "\n",
            "\n",
            "The film divides gracefully into a string of well-defined sequences that lead inexorably to Ryan. But the film still manages to create considerable suspense about when and how he will appear. \n",
            "\n",
            "\n",
            "\n",
            "Among the many epiphanies in ''Saving Private Ryan'' are some especially unforgettable ones: the anguished ordeal of Mr. Davies's map maker and translator in a staircase in the midst of battle; the tranquil pause in a bombed-out French village, to the strains of Edith Piaf; the brisk way the soldiers sift through a pile of dog tags, momentarily forgetting that each one signifies a death. Only the finest war movie of our time.\n",
            "1. When it was first announced that gifted young actor Miles Teller would be playing Reed Richards (a.k.a. Mr. Fantastic), I assumed he’d be “aging up” for the role. After all, since the launch of Marvel’s “first family” in 1961, Richards—whose primary physical signifiers included gray temples and pipe-smoking—had been among the most prominent patres familias in comic-dom. But in fact the reverse is the case. Teller, 28, plays Richards as an 18-year-old: a self-taught, world-class genius who cracks the secret of inter-dimensional travel for his high-school science fair. If this sounds like a peculiar knockoff of the 2007 animated comedy Meet the Robinsons, well, that’s exactly how it plays—though with considerably less charm.\n",
            "\n",
            "2. I should note here that we in fact first meet Reed and his friend Ben Grimm (a.k.a. the Thing) as fifth-graders, growing up in working-class Oyster Bay on Long Island. Reed has already created a working prototype of an inter-dimensional teleporter from spare parts in his garage. Ben, meanwhile, is being bullied by a thuggish older brother who shouts, “it’s clobberin’ time” while beating him up. The addition of this sad backstory to the Thing’s trademark catchphrase (which, yes, we’ll hear at the end of the movie) is not an improvement.\n",
            "\n",
            "3. But back to the science fair. Reed and Ben (Jamie Bell) show off their teleporter by sending a toy airplane into the beyond and back, but they are disqualified when their experiment also sends out an energy pulse that shatters the backboard of the school gymnasium. Luckily, who should show up at the fair but an avuncular scientist, Dr. Franklin Storm (Reg E. Cathey) and his adopted daughter, Sue (Kate Mara). They, too, have been experimenting with inter-dimensional travel, but they have never been able to bring back the objects they have sent out. (Why they are trolling high-school science fairs in search of talent to help them achieve this breakthrough is a question better left unasked.) Dr. Storm immediately offers Reed a full scholarship to the “Baxter Foundation” in Manhattan, which the latter gleefully accepts. Picture Peter Parker getting a job at Oscorp and you won’t be far off.\n",
            "\n",
            "4. Reed is put to work building a teleporter large enough to transport a capsule containing human subjects. Sue is working on the project, too. The two have a meet-cute in the company library, in which she reveals that she studies “pattern recognition” and he reveals that he’s a fan of 20,000 Leagues Under the Sea (a book that he is somehow unaware is a famous classic—what a nerd!). Depressingly, both of these revelations will have narrative significance later on.\n",
            "\n",
            "5. Seeking additional talent, Dr. Storm re-establishes contact with a former pupil, Victor Von Doom (Toby Kebbell), here presented as a surly, grungy cyber-hipster who reluctantly joins the team. He clearly has a thing for Sue, and he’s unhappy that she’s getting along so well with Reed.\n",
            "Having become the first woman to win the Oscar for best director with The Hurt Locker in 2010, Kathryn Bigelow became the focus of controversy when 2012’s Zero Dark Thirty was accused of somehow endorsing the use of torture in the hunt for Osama bin Laden (Naomi Wolf ludicrously compared Bigelow to Leni Riefenstahl). Torture rears its ugly head again in Detroit, but this time in a context that leaves no room for misinterpretation. Revisiting a shocking “incident” that took place amid five days of rioting in the summer of 1967, Detroit is a provocative period piece made all the more alarming by its stark contemporary relevance. More than 40 people died during the so-called “Detroit rebellion”, most of them African Americans, many shot by the police or national guardsmen. In attempting to unpack “the anatomy of an uprising”, Bigelow focuses in on a harrowing tragedy that has become emblematic of the racial tensions still haunting the US.\n",
            "\n",
            "Detroit opens with a contextualising history lesson, animating Jacob Lawrence’s vivid paintings of the “great migration” to recount the movement of African Americans from the rural south toward the industrialised north and midwest. Here, poverty-ridden urban ghettos offer a life where equality is “an illusion” and change is “inevitable”. \n",
            "\n",
            "Meanwhile, at the downtown Fox theatre, the disturbances rob rising stars the Dramatics of their moment in the spotlight, leaving singer Cleveland Larry Reed, played by Algee Smith, to perform a cappella to an empty auditorium – a spine-tingling moment. But it’s when Krauss and his uniformed henchmen descend upon an annex of the Algiers motel, where Reed and Fred Temple (Jacob Latimore) have sought safe haven, that Detroit shifts into something resembling a horror movie – a genre last explored by Bigelow in her vampire-western Near Dark. \n",
            "\n",
            "Paul Greengrass’s regular cinematographer Barry Ackroyd, who brought such urgent verisimilitude to Bigelow and Boal’s The Hurt Locker, once again lends a documentarian’s eye to the drama, using vintage lenses to capture multi-angle digital footage (largely shot around Boston), which interweaves seamlessly with archive material. Just as Point Break plunged its audience into breakneck chases and Strange Days toyed with virtual reality (a medium recently explored by Bigelow in the ivory-poachers documentary short The Protectors), so Detroit is an immersive experience which places the viewer at the heart of this unfolding chaos. It’s a sprawling, volatile melee of a movie, excellently edited by William Goldenberg and Harry Yoon, who jostle their way through a crowd of stories to focus in on one claustrophobic flashpoint.\n",
            "\n",
            "Crucially, despite the efficiently evoked period setting (plaudits to production designer Jeremy Hindle) there’s nothing distant about Detroit. As a broad-canvas work that shifts from social realism to courtroom drama via crime thriller, musical fantasy and social chiller, it confirms Bigelow as a dextrous master of her craft. As a wake-up call to a nation, it is tense, tough and terrifyingly timely.\n",
            "Stuck in Steerage for the Postapocalypse\n",
            "\n",
            "In the mood for allegory? Have a look at Bong Joon-ho’s “Snowpiercer,” which proceeds from a fantastical premise rich with real-world relevance. After a human-engineered planetary catastrophe (trying to arrest the planet’s warming, we accidentally froze it solid), the remaining people are stuck on a train that never stops moving. A few thousand survivors live in railway cars, sorted into a rigid and ruthlessly enforced social order. In the back are huddled masses fed on gelatinous, insect-based black protein bars and kept in line by a combination of propaganda and brute force. Toward the front, the more fortunate enjoy access to schools, nightclubs, fresh food and the reassurance that they deserve everything they have. An unseen, quasi-mythical entrepreneur is in charge, and a group of rebels have decided to challenge his power and the extreme inequality he represents.\n",
            "\n",
            "There are soldiers in riot gear, armed with clubs and guns, but for Mr. Bong evil is never anonymous. He gives it a grotesque, human face — or rather a series of faces, most memorably Tilda Swinton’s, almost unrecognizable in prosthetic teeth and oversize glasses. She serves as a kind of spokeswoman for Mr. Wilford (Ed Harris), the enigmatic engineer who is both dictator and deity in this postapocalyptic world. As the train moves in its long, winding route around the globe, teetering on the edge of both sustainability and plausibility, Curtis and his comrades undertake a long march toward the engine. They are joined by Minsu (the great shape-shifting South Korean actor Song Kang-ho), a security specialist, and his daughter, Yona (Ko Ah-sung), both addicted to an inhalant called Kronole.\n",
            "\n",
            "Like most dystopian science fiction, “Snowpiercer” has a lot of explaining to do. The idea of a high-speed train chugging through glaciers has a children’s-book charm, and the original graphic novel has some stylistic kinship with Chris Van Allsburg’s “The Polar Express.” But Mr. Bong is interested above all in imagining how the whole thing might work, as a matter of technology and social organization. And so every episode of fighting or conspiring is accompanied by a dollop of exposition, some of it recalling the start of the journey (18 years before the action takes place), some surveying its present condition and some looking around for clues about whether or how it might end.\n",
            "\n",
            "And though the movie is playfully postmodern in its pastiche of styles and its mingling of sincerity and self-consciousness, there is also something solidly old-fashioned about the way it tells its story. Long, crowded and ambitious almost to the point of hubris, it reminded me a little of “The Poseidon Adventure” and other 1970s-vintage action allegories full of great actors struggling to survive. That’s a compliment, by the way. Disaster has become a matter of routine at the movies (in more ways than one). Planetary destruction and human extinction happen a half-dozen times every summer. It’s rarely this refreshing, though.\n",
            "Osama bin Laden is dead, which everybody knows, and the principal facts leading up to that are also well-known. The decision to market \"Zero Dark Thirty\" as a thriller therefore takes a certain amount of courage, even given the fascination with this most zero and dark of deaths. (The title is spy-speak for \"half past midnight,\" the time of bin Laden's death.)\n",
            "\n",
            "The film stars Jessica Chastain, the ubiquitous new star who now dominates the American acting landscape. She plays \"Maya,\" a lone wolf CIA agent who sticks to her conviction that bin Laden is not in a cave in Afghanistan, hunched over a kidney dialysis machine, but is likely living in relatively open sight.\n",
            "\n",
            "\n",
            "\n",
            "Here is a disagreement between the time-honored methods of espionage and a quicker, more intuitive approach involving a hunch too good to be true.\n",
            "\n",
            "The film's first two hours or so consist of a struggle between the Maya faction and the Maya non-believers, and the stakes are huge in the decision to pull the trigger. Consider the embarrassment to President Barack Obama and his advisers if they had turned out to be publicly, sensationally, embarrassingly wrong. \n",
            "\n",
            "The subtext deserves a movie of its own, about a disagreement between macho males who feast on torture and hard-boiled guts, and a woman who depends on more on her intelligence and imagination. \n",
            "\n",
            "As Maya, Chastain shows again how versatile an actress she is. Apart from Meryl Streep, who else has appeared in new movies with such a range and ability to convince? Much credit is due to former journalist Mark Boal, the Oscar-winning screenwriter of Bigelow's \"The Hurt Locker,\" who begins with facts and not a formula easily shaped into conventional forms of fiction.\n",
            "\n",
            "The film's opening scenes are not great filmmaking. They're heavy on jargon and impenetrable calculation, murky and heavy on theory. The parts that everyone now wants to see involve the attack itself. Here the film uses the modern style of underlit Shaky-Cam, with dialogue hard to follow and rapid action in shadows and confusion. \n",
            "\n",
            "The raid on the compound cannot logically be well-lighted and staged, and the portrayal of bin Laden and the other occupants of his home cannot be based on our knowledge of his personality and motivation, because that's not how the film starts out. \n",
            "\n",
            "There isn't a whole lot of plot -- basically, just that Maya thinks she is right, and she is. The back story is that Bigelow has become a modern-day directorial heroine, which may be why this film is winning even more praise than her masterful Oscar-winner \"The Hurt Locker.\" That was a film firmly founded on plot, character and actors whose personalities and motivations became well-known to the audience. \n",
            "\n",
            "\n",
            "\n",
            "In comparison, \"Zero Dark Thirty\" is a slam-bang action picture, depending on Maya's inspiration. One problem may be that Maya turns out to be correct, with a long, steady build-up depriving the climax of much of its impact and providing mostly irony. Sorry, but there you have it.\n",
            "Hot damn! We have a winner. Director Ryan Coogler, 29, turbocharges the Rocky franchise in Creed. His focus: Adonis Johnson (a stellar Michael B. Jordan), the bastard son of late champ Apollo Creed (Carl Weathers), the father he never knew. The kid needs Rocky (Sylvester Stallone) to train him. Just enough plot for Jordan to strut his impressive stuff, and for a never-better Stallone to play the aging boxer with more feeling than I’ve seen from him since the original. The first Rocky, in 1976, took the Oscar for Best Picture, beating out All the President’s Men, Network and Taxi Driver, a fact that makes cinema buffs nuts to this day. Point taken. But there’s no denying the crowdpleasing impact of the first Rocky as Stallone the underdog beat the odds by forcing the studios to let him star as the boxer he created. Even though Stallone’s six sequels could never match his first time out, Rocky is movie history.\n",
            "\n",
            "\n",
            "\n",
            "Creed is the first of the Rocky films that Stallone didn’t write. You’d expect resentment. After all, who is this Coogler kid to tell Stallone how Rocky should behave? Here’s the thing: Coogler says he used to watch the Rocky films with his father, making his version a love letter to the series not a correction. You can feel Coogler’s affection for the material in every frame. Hell, the story Coogler cooked up with co-writer Aaron Covington is a virtual template of the first film. Adonis — Donny to his buds — came up out of foster homes, a chip firmly ensconced on his shoulder. It’s Apollo’s widow (Phylicia Rashad), forgiving her husband’s infidelity, who saves the boy from the system and takes him into her lush Los Angeles home. But Donny stays a troublemaker, taking fights in Mexico to work out the rage inside. From the minute Donny decides his dad’s old friend Rocky is the only guy who can train him, he’s off to Philadelphia, where Rocky runs a restaurant named Adrian’s, after his late wife, the script practically writes itself.\n",
            "\n",
            "\n",
            "\n",
            "The good news is that Coogler puts his own stamp on it. You can feel this fine indie talent stretching his wings in the mainstream. The first fight scene, gorgeously shot by the great Maryse Alberti, looks to be done in one long take and the effect is stunning. Even the romance Donny has with his own Adrian, R&B singer Bianca (a terrific Tessa Thompson), feels sexually frisky and freshly conceived.\n",
            "\n",
            "\n",
            "\n",
            "Okay, Donny’s rush from nowhere to taking on the current champ, “Pretty” Ricky Conlan — played by real-life Brit boxer Tony “Bomber” Bellew — is the purest of fantasy. But who cares? Donny has Rocky in his corner. And Stallone grabs us from his first, “how you doin’?” The big fight, held at Liverpool’s Goodison Park, is as pow as you’d expect. The score by Ludwig Goransson has a righteous, right-now feel, only topped when Bill Conti’s iconic theme pops in at just the right moment.\n",
            "Title: Titanic: Review\n",
            "\n",
            "Authors: Robert Ebert  \n",
            "\n",
            "Source/Date: New York Time / December 19, 1997\n",
            "\n",
            "URL: https://www.nytimes.com/1997/12/19/movies/film-review-a-spectacle-as-sweeping-as-the-sea.html \n",
            "\n",
            "Keywords: Titanic, Whilte Star Line, James Cameron, Leonardo DiCaprio, Kate Winslet, Ship, North Atlantic\n",
            "\n",
            "Total Word Count: 486 words (trimmed)\n",
            "\n",
            "Brief Summary: James Cameron's \"Titanic\" is an epic, action-packed romance set against the ill-fated maiden voyage of the R.M.S. Titanic; the pride and joy of the White Star Line and, at the time, the largest moving object ever built. She was the most luxurious liner of her era -- the \"ship of dreams\" -- which ultimately carried over 1,500 people to their death in the ice cold waters of the North Atlantic in the early hours of April 15, 1912. \n",
            "\n",
            "\n",
            "\n",
            "The long-awaited advent of the most expensive movie ever made, the reportedly $200 million ''Titanic,'' brings history to mind, and not just the legendary seafaring disaster of April 15, 1912. Think back also, exactly 58 years ago today, to the Dec. 19 New York premiere of another grand, transporting love story set against a backdrop of prideful excess, cataclysmic upheaval and character-defining trial by fire.\n",
            "\n",
            "Recall how that cultural landmark wowed audiences with its bravado, mad extravagance and state-of-the-art Hollywood showmanship, all fueled by one unstoppable filmmaker and his obsessive imagination. Just as David O. Selznick had Atlanta to burn, now James Cameron has a ship to sink, but he also has much more than calamity to explore in this gloriously retrograde new epic. Mr. Cameron's magnificent ''Titanic'' is the first spectacle in decades that honestly invites comparison to ''Gone With the Wind.''\n",
            "\n",
            "What a rarity that makes it in today's world of meaningless gimmicks and short attention spans: a huge, thrilling three-and-a-quarter-hour experience that unerringly lures viewers into the beauty and heartbreak of its lost world. Astonishing technological advances are at work here, but only in the service of one spectacular illusion: that the ship is afloat again, and that the audience is intimately involved in its voyage.\n",
            "\n",
            "What's more, Mr. Cameron succeeds magically in linking his film's young lovers, played enchantingly by Leonardo DiCaprio and Kate Winslet, with established details of the ''Titanic'' story. And let's not forget the offscreen drama: delayed release and outrageous costs made ''Titanic'' the joke of the summer. Now it's the movie of the year.\n",
            "\n",
            "\n",
            "\n",
            "Though the tender moments in Mr. Cameron's earlier films have mostly involved Arnold Schwarzenegger, graceful storytelling from this one-man army of a filmmaker (a director, a producer, a writer and an editor) is the biggest of many surprises here. Swept away by the romance of his subject matter, Mr. Cameron rises to the occasion with a simple, captivating narrative style, one that cares little for subtlety but overflows with wonderful, well-chosen Hollywood hokum. In its own sobering way, the film is forward-looking, too, as its early brashness gives way to near-religious humility when the moments of reckoning arrive.\n",
            "Kal Ho Naa Ho is the pinnacle of what I call the Shah Rukh Khan charm offensive. Here he plays Aman, a terminally ill man, who is so noble and large-hearted, that he engineers that the woman he loves – Naina – marries her best friend – Rohit – instead of Aman himself because he’s not going to be around too long. Kal Ho Naa Ho is basically a mash-up of two Hrishikesh Mukherjee films – Bawarchi and Anand – and Shah Rukh becomes the modern day avatar of Rajesh Khanna – exemplifying the line, “Zindagi badi honi chahiye, lambi nahin.” So Aman is also the farishta or angel who brings love and laughter into Naina’s tragic life. Early in the film, Naina, her mother and her younger siblings are praying. Naina says: “Dear god, if you’re listening, in andheron mein thodi si roshni le aao, thodi si roshni.”And on cue, the light goes on in the neighboring house and Aman walks into the balcony, wearing only a shirt in the snow. The next day, it’s summer.\n",
            "\n",
            "Kal Ho Naa Ho is filled with these ridiculously convenient plots twists, obviously manipulative emotional moments and problematic gender politics- at one point, Aman concocts a romantic scheme which he describes as ‘chhe din ladki in‘. But the one thing that helps you overlook all of this is Shah Rukh in all his glory – as both romantic hero and the ultimate family man. Of course there is no subtlety here – he’s animated, energetic and even when he’s dying, fabulously over the top.\n",
            "\n",
            "Watch him in the scene at a train station when he must convince Naina that Rohit loves her by reading from his diary, except that the pages are empty so he starts to reveal his own emotions for her, pretending that these are Rohit’s words. There is such a desperate longing in his eyes. Or in another scene, Rohit and Naina do the salsa together while he watches, god-like from a balcony above. The strains of the title song begin. Aman purses his lips, looks into the distance. Cut to him walking on Brooklyn Bridge. He spreads his arms and sings, har pal yahan jee bhar jiyo because of course, kal ho naa ho. It’s irresistible.\n",
            "Title: M.S. Dhoni: The Untold Story: Review\n",
            "\n",
            "Authors: Rachel Saltz  \n",
            "\n",
            "Source/Date: New York Times / October 2, 2016\n",
            "\n",
            "URL: https://www.nytimes.com/2016/10/03/movies/review-ms-dhoni-the-untold-story-recalls-a-cricketers-ascent.html \n",
            "\n",
            "Keywords: Dhoni, Sushant Singh Rajput, Cricket, Sports, Kiara Advani, Anupam Kher, Disha Patani, Bhoomika Chawla\n",
            "\n",
            "Total Word Count: 430 words\n",
            "\n",
            "Brief Summary: M.S. Dhoni: The Untold Story is a 2016 Indian Hindi-language biographical sports drama film written and directed by Neeraj Pandey. It is based on the life of former Test, ODI and T20I captain of the Indian national cricket team, Mahendra Singh Dhoni. The film stars Sushant Singh Rajput as Dhoni, along with Disha Patani, Kiara Advani, and Anupam Kher. The film chronicles the life of Dhoni from a young age through a series of life events. \n",
            "\n",
            "You don’t have to understand cricket to enjoy a good cricket movie. “Lagaan” (2001), whose centerpiece was a rousing match of underdog (Indian) versus overdog (British colonials), got the heart pounding, even if you couldn’t follow all the ins and outs of the game. It was the rare Bollywood movie to reach across the aisle, as it were, attracting moviegoers beyond the faithful.\n",
            "\n",
            "To warm to the biopic “M. S. Dhoni: The Untold Story,” you probably do have to be a cricket fan, and an indulgent one at that. Long (180 minutes) and languid, it takes you through the life of Mahendra Singh Dhoni, the unflappable captain of the Indian cricket team that won the 2011 World Cup.\n",
            "\n",
            "Dhoni (Sushant Singh Rajput), as presented here, is a natural athlete — cricket wasn’t even his sport of choice as a boy — a nice guy and, in the end, something like a national hero. He meets setbacks with a pause (a kind of timeout) and a hard-to-read smile. Then he goes on. What makes him tick? That remains the untold story.\n",
            "\n",
            "The movie, written and directed by Neeraj Pandey, is not hagiographic or overly obvious. Instead, it’s something of a quiet muddle, with too many squandered or dramatically blurry scenes. (Even the song montages are wasted; in one we see three versions of the same action, as if the editor ran out of ideas or footage.)\n",
            "\n",
            "\n",
            "\n",
            "Mr. Pandey gets a bit of help from his star: Mr. Rajput lends Dhoni a poker-faced charisma and manages to convey some vague determination. But vague determination does not a hero make. I learned more about Mr. Dhoni — his enigmatic character and what marked him as a great captain — by reading about him after watching this movie than I did during three long hours.\n",
            "This isn’t Ridley Scott’s first trip to space but the director of “Alien” and “Prometheus” takes a different kind of journey in “The Martian.” Thrilling, funny and, above all, human, it’s a crowd-pleasing story about the power of the will to survive.\n",
            "\n",
            "Matt Damon is Mark Watney, an astronaut left for dead during a mission to Mars. As the rest of the crew heads for Earth (Jessica Chastain, Kate Mara, Aksel Hennie, Michael Peña and Sebastian Stan) Watney comes to 140 million miles from home. A botanist by trade, to survive he knows he’ll have to “science the BLEEP out of this.” Rationing the food left behind and growing his own potatoes he’s able to feed himself, but the supplies won’t last forever.\n",
            "\n",
            "When NASA receives a message from Mars, “Hi, I’m Mark Watney and I’m still alive… obviously,” teams of scientists and Mark’s old crew stage a daring rescue attempt.\n",
            "\n",
            "The trick to casting a movie like “The Martian” lies in finding an actor able to hold the screen for extended periods of time by himself while being likeable enough to have an audience care whether or not he makes it back to Earth in one piece. Since Tom Hanks has aged out of playing roles like this, Damon, recently named as Hollywood’s Most Bankable Actor by Forbes, is that guy. His mix of humour, smarts and all-American problem solving keep you invested in Watney during the long stretches he putters around finding ways beat the insurmountable odds.\n",
            "\n",
            "The rest of the film isn’t as engaging as Damon’s “Castaway” act. “The Martian” is composed of three components: Life on Mars, Ground Control and the Space Cowboys who hurtle through the universe to rescue their lost friend. Each are well cast—Jeff Daniels is perfect as the spearhead of the NASA rescue and Peña brings some wonky good humour—but the when the film leaves the Red Planet it leaves some of its heart behind. There is drama, conflict and even some humour in all segments, but the compelling stuff happens when the film is at its quietest, when Damon is alone MacGyvering his way out of a bad situation.\n",
            "\n",
            "“The Martian” is a fun film, a space Western about the strength of the human spirit and the indomitable will. “Interstellar” tread similar thematic ground last year but did so without the humour, the cheesy 70’s soundtrack or, most importantly, Matt Damon.\n",
            "In the middle of this epic film there is a quiet, small scene that helps explain why “Gandhi” is such a remarkable experience. Mahatma Gandhi, at the height of his power and his fame, stands by the side of a lake with his wife of many years. Together, for the benefit of a visitor from the West, they reenact their marriage vows. They do it with solemnity, quiet warmth, and perhaps just a touch of shyness; they are simultaneously demonstrating an aspect of Indian culture and touching on something very personal to them both. At the end of the ceremony, Gandhi says, \"We were thirteen at the time.\" He shrugs. The marriage had been arranged. Gandhi and his wife had not been in love, had not been old enough for love, and yet love had grown between them. But that is not really the point of the scene. The point, I think, comes in the quiet smile with which Gandhi says the words. At that moment we believe that he is fully and truly human, and at that moment, a turning point in the film, Gandhi declares that it is not only a historical record but a breathing, living document. \n",
            "\n",
            "This is the sort of rare epic film that spans the decades, that uses the proverbial cast of thousands, and yet follows a human thread from beginning to end: “Gandhi” is no more overwhelmed by the scope of its production than was Gandhi overwhelmed by all the glory of the British Empire. The movie earns comparison with two classic works by David Lean, “Lawrence of Arabia” and “Doctor Zhivago”, in its ability to paint a strong human story on a very large canvas. \n",
            "\n",
            "The movie is a labor of love by Sir Richard Attenborough, who struggled for years to get financing for his huge but \"non-commercial\" project. Various actors were considered over the years for the all-important title role, but the actor who was finally chosen, Ben Kingsley, makes the role so completely his own that there is a genuine feeling that the spirit of Gandhi is on the screen. Kingsley's performance is powerful without being loud or histrionic; he is almost always quiet, observant, and soft-spoken on the screen, and yet his performance comes across with such might that we realize, afterward, that the sheer moral force of Gandhi must have been behind the words. Apart from all its other qualities, what makes this movie special is that it was obviously made by people who believed in it. \n",
            "\n",
            "What is important about this film is not that it serves as a history lesson (although it does) but that, at a time when the threat of nuclear holocaust hangs ominously in the air, it reminds us that we are, after all, human, and thus capable of the most extraordinary and wonderful achievements, simply through the use of our imagination, our will, and our sense of right.\n",
            "A fundamental difference between “The Silence of the Lambs” and its sequel, “Hannibal,” is that the former is frightening, involving and disturbing, while the latter is merely disturbing. It is easy enough to construct a geek show if you start with a cannibal. The secret of “Silence” is that it doesn't start with the cannibal--it arrives at him, through the eyes and minds of a young woman. “Silence of the Lambs” is the story of Clarice Starling, the FBI trainee played by Jodie Foster, and the story follows her without substantial interruption. Dr. Hannibal Lecter lurks at the heart of the story, a malevolent but somehow likable presence--likable because he likes Clarice, and helps her. But Lecter, as played by Anthony Hopkins, is the sideshow, and Clarice is in the center ring.\n",
            "\n",
            "The popularity of Jonathan Demme's movie is likely to last as long as there is a market for being scared. Like “Nosferatu,” “Psycho” and “Halloween,” it illustrates that the best thrillers don't age. Fear is a universal emotion and a timeless one. But “Silence of the Lambs” is not merely a thrill show. It is also about two of the most memorable characters in movie history, Clarice Starling and Hannibal Lecter, and their strange, strained relationship (“people will say we're in love,” Lecter cackles).\n",
            "\n",
            "They share so much. Both are ostracized by the worlds they want to inhabit--Lecter, by the human race because he is a serial killer and a cannibal, and Clarice, by the law enforcement profession because she is a woman. Both feel powerless--Lecter because he is locked in a maximum security prison (and bound and gagged like King Kong when he is moved), and Clarice because she is surrounded by men who tower over her and fondle her with their eyes. Both use their powers of persuasion to escape from their traps--Lecter is able to rid himself of the pest in the next cell by talking him into choking on his own tongue, and Clarice is able to persuade Lecter to aid her in the search for the serial killer named Buffalo Bill. And both share similar childhood wounds. Lecter is touched when he learns that Clarice lost both her parents at an early age, was shipped off to relatives, was essentially an unloved orphan. And Lecter himself was a victim of child abuse (on the DVD commentary track, Demme says he regrets not underlining this more).\n",
            "\n",
            "These parallel themes are mirrored by patterns in the visual strategy. Note that both Lecter in his prison cell and Buffalo Bill in his basement are arrived at by Starling after descending several flights of stairs and passing through several doors; they live in underworlds. Note the way the movie always seems to be looking at Clarice: The point-of-view camera takes the place of the scrutinizing men in her life, and when she enters dangerous spaces, it is there waiting for her instead of following her in.\n",
            "For his part, the director, Ivan Reitman, does an efficient job disguising this marshmallowy melodrama of masculinity in crisis as a tough sports movie. “Draft Day,” with a ticking-clock plot and a testosterone-saturated setting, trots along briskly, even though most of the action consists of rushed cellphone negotiations. A sinuous split-screen technique cleverly adds momentum to a series of static conversations, though it is finally Mr. Costner’s charisma that weaves it all together.\n",
            "\n",
            "\n",
            "\n",
            "“Draft Day,” made with what appears to be the very enthusiastic — not to say domineering — cooperation of the N.F.L., is less a football movie than a promotional film. You will see sweeping aerial shots of skylines and stadiums in franchise cities. You will see the league’s commissioner, Roger Goodell, and a bunch of players and executives, past and present, gamely portraying themselves. You will not hear anything about concussions or sexual assault or the exploitation of college athletes, though you may notice that this is a story of (mostly) white men buying and selling the labor of (mostly) African-Americans. But the spectacle of guys in suits making deals is nonetheless pretty entertaining, and while this film doesn’t have the fussy authenticity of “Moneyball,” it does offer a reasonably clear and convincing glimpse of the business of big-time sports.\n",
            "\n",
            "\n",
            "\n",
            "Sonny has to pick the right college players to help lift his team, the Cleveland Browns, out of the doldrums. Will he choose the seemingly flawless, Heisman Trophy-winning quarterback (Josh Pence), the good-hearted linebacker (Chadwick Boseman) or the talented but possibly troubled running back (Arian Foster)? The answer is telegraphed early, but the fun lies in watching Sonny hustle, bluster and beg his way toward a conclusion that is both predictable and exciting. In addition to rival general managers, he must contend with the Browns’ imperious owner (Frank Langella) and their pugnacious coach (Denis Leary). There are also a geeky intern (Griffin Newman), an angry quarterback (Tom Welling) and an office suite full of ex- and would-be jocks.\n",
            "\n",
            "\n",
            "\n",
            "Mr. Costner handles it all with his usual gruff grace, allowing you to entertain the possibility that he might be a jerk or a loser just long enough to be gratified when he turns out to be a great guy in every way. He has a knack for making born winners look like underdogs, and for making you root for him at his most brazenly manipulative. I don’t really buy “Draft Day” — it’s a shallow and evasive movie, built more around corporate wish fulfillment than around reality — but I have to say that it sells itself beautifully.\n",
            "Title: Guru: Review\n",
            "\n",
            "Authors: Andy Webster \n",
            "\n",
            "Source/Date: New York Times / January 15, 2007\n",
            "\n",
            "URL: https://www.nytimes.com/2007/01/15/movies/15guru.html \n",
            "\n",
            "Keywords: Abhishek Bachchan (Gurukant Desai), Guru, Aishwarya Rai (Sujata), Vidya Balan (Meenu), R. Madhavan (Shyam Saxena), Mallika Sherawat (Jhumpa) and Mithun Chakraborty (Nanaji).\n",
            "\n",
            "Total Word Count: 465 words\n",
            "\n",
            "Brief Summary: Following the life of ambitious Gurukanth Desai on his rise to power as a successful business magnate in late 50s India. Through chance and cunning, Guru marries the beautiful Sujata for her dowry, only later to discover he really does love her. Desai becomes a big-time player but his business methods leave much to be desired, and soon newspaper tycoon Gupta, an upright and principled man, is determined to destroy Desai.\n",
            "\n",
            "You might think it would be difficult to fashion an entertaining account of the life of a polyester manufacturer, even a fictitious one. But the Tamil director Mani Ratnam, known for intelligent political dramas, has done so with “Guru,” an epic paean to can-do spirit and Mumbai capitalism.\n",
            "\n",
            "Guru is the nickname of Gurukant Desai (played by the busy Bollywood star Abhishek Bachchan, lately in “Dhoom 2” and “Umrao Jaan”), who leaves his home in rural Gujarat state for work, but later returns determined, he says more than once, not to work for the white man. On his way to becoming a business mogul, he deals in textiles, establishes the Shakti Corporation and builds factories, fueled by (another refrain) his aversion to the word “no.” He also tussles with meddlesome relatives, a press lord (Mithun Chakraborty) and of course the government. Fortunately he has his devoted wife, Sujata (the stunning Aishwarya Rai, here hardheaded and practical), to lend support. Given a rich, multidimensional role, Mr. Bachchan ably seizes on its abundant opportunities.\n",
            "\n",
            "Mr. Ratnam’s experience shows in his gorgeous compositions and fluency with pacing and effects; the inevitable, though unobtrusive, musical sequences display a similar command. His convictions are evident when Guru is accused by the authorities of corruption.\n",
            "\n",
            "Defending himself, Guru exalts India’s rising influence: “You call us the third world; why can’t we be the first world?” He adds, “Shall we tell the world that we are coming?” The soundtrack responds with martial rhythms signaling a national dynamo barreling forward.\n",
            "\n",
            "\n",
            "\n",
            "Written (in Hindi, with English subtitles) and directed by Mani Ratnam; director of photography, Rajiv Menon; edited by Sreekar Prasad; music by A. R. Rahman; choreography by Saroj Khan and Brinda; production designer, Sameer Chanda; produced by Mr. Ratnam and G. Srinivasan; released by Adlabs Films. In Manhattan at the ImaginAsian Theater, 239 East 59th Street. Running time: 166 minutes. This film is not rated.\n",
            "\n",
            "WITH: Abhishek Bachchan (Gurukant Desai), Aishwarya Rai (Sujata), Vidya Balan (Meenu), R. Madhavan (Shyam Saxena), Mallika Sherawat (Jhumpa) and Mithun Chakraborty (Nanaji).\n",
            "Title: Kuch Kuch Hota Hai: Review\n",
            "\n",
            "Authors: Nandita Chowdhury \n",
            "\n",
            "Source/Date: India Today / October 26, 1998\n",
            "\n",
            "URL: https://www.indiatoday.in/magazine/society-the-arts/films/story/19981026-movie-review-kuch-kuch-hota-hai-starring-shah-rukh-khan-kajol-rani-mukherjee-827286-1998-10-26\n",
            "\n",
            " (Links to an external site.)\n",
            "\n",
            "Keywords: Romance/Musical\n",
            "\n",
            "Total Word Count: 472 words\n",
            "\n",
            "Brief Summary: After reading the letter her mother had written for her before she died, Anjali decides to bring together her widowed father, Rahul, with his true love who is also named Anjali.\n",
            "\n",
            "Kuch Kuch Hota Hai is a film that drills in the old adage - to be in love you have to first be the best of friends.\n",
            "\n",
            "A love triangle with little difference, Rahul Khanna (Shah Rukh Khan) and Anjali Sharma (Kajol) are the best of friends who paint the campus red. Tina (Rani Mukherjee) is the Oxford-educated, bhajan-singing daughter of the college principal (Anupam Kher) who returns from London and has Rahul fall promptly in love with her.\n",
            "\n",
            "So while Rahul and Tina do the necessary song and dance sequences amidst castle ruins in the English countryside, Anjali also falls in love with her best friend. So far so predictable then.\n",
            "\n",
            "To cut a long story short, Rahul and Tina marry, the latter dies leaving behind as her legacy a bunch of letters (the oft-repeated flashback device) and a daughter to reunite her father with old friend Anjali.\n",
            "\n",
            "The racy beginning of the film is marked by a sparkling chemistry between Khan, Kajol and Rani. Consummate performers in their own right, Khan with his powerhouse of energy and Kajol with her natural exuberance are quintessential yuppies.\n",
            "\n",
            "Yet, more than once they tend to go over the top. It is, however, the gorgeous Rani who steals the show. Oozing oomph from every pore, she also proves herself an actress whose time has come.\n",
            "\n",
            "In his much-hyped debut film, director Karan Johar tries to rekindle the Khan-Kajol magic of the phenomenally successful love lore Dilwale Dulhaniya Le Jayenge in which he assisted director Aditya Chopra. And he almost does.\n",
            "\n",
            "With Chopra supervising the entire project, the visually appealing (thanks to cine-matographer Santosh Thundyil) Kuch Kuch Hota Hai sports the slick, urbane look of a '90s love story.\n",
            "\n",
            "Popular child model Sana Saeed, making her debut as young Anjali, reacts incredibly well to the camera. However, Salman Khan is wasted in a cameo appearance.\n",
            "\n",
            "The music, with the exception of the title song, is quite mediocre. There is also a weak, half-hearted attempt at punching in the \"I love my India\" line that is fast catching up these days with filmmakers who recreate Indian locations in the vales of Europe and on the sunny beaches of Mauritius.\n",
            "\n",
            "Kuch Kuch Hota Hai is a film that has a good beginning, but goes slightly awry halfway down the line. For those who are not looking for anything new, the film is a good distraction nevertheless.\n",
            "Title: Disney‚Äôs New Mulan Is a Dull Reflection of the Original\n",
            "Publication Source/Venue: Vanity Fair, Sept. 3. 2020.\n",
            "URL: https://www.vanityfair.com/hollywood/2020/09/review-disneys-new-mulan-is-a-dull-reflection-of-the-original\n",
            "Top 5 Words: Mulan, Disney, action, remake, lifeless \n",
            "Summary: This article summarizes the recent Disney remake movie, Mulan. The author calls the movie a ‚Äòlifeless‚Äô remake that is missing the magic and creativity that was in the original Disney movie. \n",
            "\n",
            "\n",
            "\n",
            "Long ago, in the ancient year of 1998, Disney tried something tricky: an animated princess musical that was also an action movie, with big fight scenes no doubt aimed at appealing to little boys who may have balked at another Beauty and the Beast or Little Mermaid. (For such balking was encouraged in boys more back then than it is now, though it is still plenty encouraged.) In making Mulan‚Äîbased on the Chinese legend of warrior woman Hua Mulan, who fights for the emperor‚Äôs army in her father‚Äôs stead, disguised as a man‚Äîalso continued a half-hearted project of diversity, adding more global shape to its princess canon. It was, at the time, a big deal.\n",
            "\n",
            "The film, directed by Barry Cook and Tony Bancroft, earned that bigness in enough places. There was the powerhouse ballad ‚ÄúReflection,‚Äù sung by Lea Salonga in the film but rerecorded by Christina Aguilera, the belter‚Äôs first single and still one of her most enduring songs. And there was an eye-popping mountain battle scene, aided by ever more confident computer animation, in which an invading horde of Huns is subsumed by an avalanche. It‚Äôs stunning stuff, still now, even though much of the rest of the hand-drawn animation looks so sadly quaint from the vantage point of the digital age.\n",
            "\n",
            "Without the songs and silliness of the 1998 original, 2020‚Äôs Mulan throws itself into comparison not with other children‚Äôs classics, but with hundreds of other sword-and-sandal films that have all pretty much done what Mulan does before. Caro, filming in New Zealand and China, finds some stunning backdrops. The costumes look great. The martial arts sequences nicely approximate the fluid, floating grace of wuxia films. But somehow Mulan‚Äôs assets don‚Äôt coalesce into a thrilling whole. It‚Äôs certainly significant that there is a big Disney film with a Chinese actor, Liu Yifei, as its star. But watching Mulan, one gets the sense that this triumph of representation was considered enough‚Äîlike the job was done once casting was finished, and everything else was just mechanical detail. Mulan deserves better, as does Liu, as do eager audiences.\n",
            "\n",
            "Would that some of that magic had been applied elsewhere. Mulan‚Äôs choppy script, from four credited writers, has no time for flights of fancy or emotional depth. Instead it hurries us through the basic beats of Mulan‚Äôs story, from humble village girl bound for arranged marriage to military hero of the empire, and, after some just-fine battle sequences, dumps us out at the end, gesturing heavily toward an impressiveness it never actually conjured. Though Liu holds her scenes well, we barely even know Mulan. She‚Äôs a mere cipher‚Äîan emblem with which a huge studio can pat itself on the back, proud to offer this lukewarm plate of inspirational content before moving on to the next whatever. Who is that girl I see, indeed.\n",
            "\n",
            "Title: Cinderella review ‚Äì straight-faced sentimentality\n",
            "Publication Source/Venue: The Guardian, Mar. 29. 2015. 4:00PM\n",
            "URL: https://www.theguardian.com/film/2015/mar/29/cinderella-review-straight-faced-sentimentality-kenneth-branagh\n",
            "Top 5 Words: Disney, Cinderella, ravishing, fairytale, old-fashioned\n",
            "Summary: This article gives a review on Disney‚Äôs recent Cinderella remake. The author comments that the movie has stayed true to the original bringing back the old-fashioned world that Cinderella was set in. This article, like the first document gives a review on Disney remake of a classic. \n",
            "\n",
            "\n",
            "There‚Äôs always been a fairytale element to Kenneth Branagh‚Äôs directing career; the question of whether or not he‚Äôll go to the ball tends to hang over all his movies, right up until the clock strikes 12. One of Branagh‚Äôs finest fantasy flicks, Mary Shelley‚Äôs Frankenstein, was as cruelly treated as any of Charles Perrault‚Äôs fabled heroines, while the marvellously Ken Russell-esque The Magic Flute signally failed to be showered with riches or made the belle of any box-office ball. Meanwhile, the Hitchcock pastiche Dead Again went from being a copper-bottomed catastrophe to a Stateside hit after an 11th-hour sprinkling of fairy dust (in the form of reprocessed black-and-white flashbacks) turned it from pauper to princess. Most remarkably, Branagh took the straw of Marvel‚Äôs Thor comic strip and spun from it the gold of a surprisingly witty blockbuster (Transformers meets Xanadu), a remarkable feat of movie magic.\n",
            "\n",
            "And so to Cinderella, a live-action reboot of one of Disney‚Äôs most enduring animations (the credits cite their ‚ÄúCinderella properties‚Äù alongside Perrault), notable for its straight-faced sentimentality and unfashionable absence of post-Enchanted irony. While Maleficent and Into the Woods unpicked their fairytale roots, Chris Weitz‚Äôs screenplay is almost radically anti-revisionist in its refusal to rewrite familiar tropes. This is an unashamedly old-fashioned world of pumpkin coaches, glass slippers and chimes-at-midnight transformations. Why, Cinders even talks to the tiny mice who are the only friends in her coal-scuttle existence; I half expected her to burst into a chorus of A Dream Is a Wish Your Heart Makes. Resisting modern urban updates, Branagh thus returns us to the strange netherworld of European folklore and Disney Americana upon which the House of Mouse was built. If that sounds fantastically unexciting, a $132m worldwide opening proves that Branagh‚Äôs ‚Äúif it ain‚Äôt broke don‚Äôt fix it‚Äù instincts were entirely on the money.\n",
            "\n",
            "What has proved problematic are the gender politics, with stories of Downton Abbey‚Äôs Lily James employing a ‚Äúliquid diet‚Äù to pour herself into Sandy Powell‚Äôs tightly corseted costumes provoking controversy about negative body images, paradoxically reducing talk of her performance to discussions of her waistline. Yet while this throwback Cinderella may not enjoy the questing action-adventure of the ass-kicking heroines of Brave or Frozen (the Frozen Fever short provides a crowd-pulling curtain-raiser), she is more independent-spirited than her critics have acknowledged. Living by her mother‚Äôs deathbed mantra ‚ÄúHave courage and be kind‚Äù, this lonely girl is unimpressed by wealth (she falls not for a prince but an ‚Äúapprentice‚Äù whom she meets on equal ground), unimpeded by fear (she outrides the royal hunt in defence of a befriended stag), and undaunted by the spectacular cruelty of her step-family. \n",
            "\n",
            "\n",
            "Title: ‚ÄòAladdin‚Äô Review: This Is Not What You Wished For\n",
            "Publication Source/Venue: The New York Times, May. 22. 2019.\n",
            "URL: https://www.nytimes.com/2019/05/22/movies/aladdin-review.html?auth=login-facebook\n",
            "Top 5 Words: Disney, Aladdin, exploitation, weird, stereotypes\n",
            "Summary: This article gives a review on Disney‚Äôs recent Aladdin remake. The author mentions that most of the movie was done with the main focus being to gain profits from its various brands. There is nothing memorable about the movie and the racial and cultural stereotypes created various problems. \n",
            "\n",
            "\n",
            "‚ÄúAladdin,‚Äù the 1992 cartoon feature with Robin Williams as a garrulous blue genie, may not be the best movie from Disney‚Äôs second golden age of animation, but like the others it has durable charms and memorable songs. ‚ÄúAladdin,‚Äù the new live-action re-whatever with a blue Will Smith popping out of the lamp, may not be the worst product of the current era of legacy intellectual property exploitation (it‚Äôs likely that the worst is yet to come), but like most of the others it invites a simple question: Why?\n",
            "\n",
            "The answer ‚Äî spoiler alert: ‚Äúmoney‚Äù ‚Äî may not surprise you. I know it‚Äôs pointless to complain about Disney‚Äôs drive to wring every last dollar from its various brands. You might as well complain about the animal sidekicks (and I will). But the movie itself, while not entirely terrible ‚Äî a lot of craft has been purchased, and even a little art ‚Äî is pointless in a particularly aggressive way.\n",
            "\n",
            "\n",
            "The studio‚Äôs earlier cash-grab strategy was to protect the classic status of its ‚ÄúA‚Äù material through managed scarcity and lavish reissuing. Each new micro-generation of viewers could be initiated into fandom with a bit of ceremony: Here was an old thing that was being passed on to you in a shiny new package, a polished heirloom in the form of a special VHS or DVD edition or a limited run in theaters. What had belonged to your parents and grandparents could also be yours, whether it was ‚ÄúSnow White‚Äù or ‚ÄúThe Little Mermaid.‚Äù (Not anymore with ‚ÄúSong of the South,‚Äù though.)\n",
            "\n",
            "\n",
            "There were problems with this approach, including the preservation of tropes and images that came to seem old-fashioned, and not necessarily in a good way. The patriarchal princess stories. The cultural and racial stereotypes. That kind of thing. But Disney, long committed to doing well by meaning well, has synergized evolving social attitudes with advancing digital technology to concoct a series of updates.\n",
            "\n",
            "None of these have surpassed the original, but that might be too much to ask. I can‚Äôt think of one ‚Äî not ‚ÄúThe Jungle Book‚Äù; not ‚ÄúMary Poppins Returns‚Äù; not the recent, somber ‚ÄúDumbo‚Äù; certainly not this ‚ÄúAladdin‚Äù ‚Äî that seems able to stand alone in the popular imagination. They are weird and grotesque hybrids, belonging to no particular era, style or creative sensibility, like dishes at a chain restaurant that fuse disparate food trends to produce flavors alien to every known earthly cuisine.\n",
            "\n",
            "‚ÄúAladdin‚Äù is not a cartoon, but it takes place in cartoonlike spaces that trade the grace and flow of animation for the cold literalism of computer-generated imagery. The animal sidekicks ‚Äî a mischievous monkey, a loyal tiger and a malignant parrot ‚Äî are neither cute nor especially realistic. The human beings occupying the frame alongside them look, with the partial exception of the genie, like people dressed up as Disney characters. They run and jump and dance and sing and wear excruciatingly bright costumes, almost never memorably.\n",
            "\n",
            "Title: Review: ‚ÄòBeauty and the Beast‚Äô Revels in Joy and Enchantment\n",
            "Publication Source/Venue: The New York Times, Mar. 3. 2017.\n",
            "URL: https://www.nytimes.com/2017/03/03/movies/beauty-and-the-beast-review.html\n",
            "Top 5 Words: classicism, Disney, familiar, enchanted, vivid\n",
            "Summary: This article reviews the Disney remake of ‚ÄòBeauty and the Beast‚Äô. The author praises the movie saying that it has retained the enchantment and classicism that was present in the original. This article was chosen because it reviewed yet another Disney remake. \n",
            "\n",
            "To quote a lyric from one of the songs in ‚ÄúBeauty and the Beast,‚Äù ‚Äúthere may be something there that wasn‚Äôt there before.‚Äù The familiar elements are all in place, of course. It‚Äôs ‚ÄúBeauty and the Beast,‚Äù for goodness‚Äô sake: a tale as old as time, a song as old as rhyme and all that. And there are inspired flights of nostalgia as well, visual evocations of the predigital glory of Busby Berkeley, Ray Harryhausen and other masters of fantastical craft.\n",
            "But this live-action/digital hybrid, directed by Bill Condon and starring Emma Watson and Dan Stevens in the title roles, is more than a flesh-and-blood (and prosthetic fur-and-horns) revival of the 26-year-old cartoon, and more than a dutiful trip back to the pop-culture fairy-tale well. Its classicism feels unforced and fresh. Its romance neither winks nor panders. It looks good, moves gracefully and leaves a clean and invigorating aftertaste. I almost didn‚Äôt recognize the flavor: I think the name for it is joy.\n",
            "This was by no means a foregone conclusion. The reanimation of beloved properties ‚Äî to use the grim business nomenclature of Hollywood ‚Äî often leads to hack work and zombie-ism, as old archetypes are shocked to life and arrayed in garish, synthetic modern effects. That might easily have happened here. Look (I mean: don‚Äôt look) at the horrors that have been visited, in recent years, on Alice in Wonderland and Peter Pan and the Wizard of Oz. And even if Disney had done a more convincing upgrade, on the model of last year‚Äôs ‚ÄúJungle Book,‚Äù a new ‚ÄúBeauty‚Äù could have offended fans of the 1991 animated feature simply by existing. That movie, a high point of the ‚Äô80s and ‚Äô90s Disney revival, is close to perfect. What singing teapot would dare to challenge Angela Lansbury?\n",
            "The only possible answer is Emma Thompson, whose Mrs. Potts is joined by other household objects with the voices (and, briefly, the faces) of movie stars. Stanley Tucci and Audra McDonald are the excitable harpsichord and the operatic wardrobe; Ewan McGregor and Ian McKellen are the suave candelabra and the anxious clock. Gugu Mbatha-Raw is the lissome feather duster. Their singing and banter is so vivid and so natural that you almost take for granted that they appear to be mechanical objects clicking and whirling in physical space, sharing the frame with human characters.\n",
            "It‚Äôs Disney! Which means there will also be a villain and a comical sidekick, who steal many scenes on the way to their comeuppance. That would be Gaston (Luke Evans), a narcissistic cabbage-stomping former soldier and his adoring pal LeFou (Josh Gad). Gaston is sweet on Belle, and his excitement at her unambiguous refusals makes him the film‚Äôs avatar of nastiness. No redemption here. He goes from annoying to evil when he stirs up the anti-intellectualism and xenophobia of a populist mob to serve his own egomaniacal ends. The residents of the castle fight back because their humanity is at stake. It‚Äôs just a fairy tale.\n",
            "\n",
            "\n",
            "Title: Film Review: Tim Burton‚Äôs ‚ÄòDumbo‚Äô\n",
            "Publication Source/Venue: Variety, Mar. 26. 2019. 9:01 AM\n",
            "URL: https://variety.com/2019/film/reviews/dumbo-review-tim-burton-michael-keaton-1203171521/\n",
            "Top 5 Words: Disney, parable, emotional, cracked, wonderstruck\n",
            "Summary: This article reviews the Disney remake of ‚ÄòDumbo‚Äô. The author comments saying that the original Dumbo left viewers in awe with feelings of joy but the remake take‚Äôs a new twist and tells the story of an animal being exploited by a showman. \n",
            "\n",
            "The key image in Walt Disney‚Äôs 1941 ‚ÄúDumbo‚Äù is something out of a fairy-tale daydream: Dumbo, the baby elephant with long-lashed goo-goo eyes, a cuddly grin, and ears as long and floppy as wings, flapping those ears to soar around a circus big top, flying over the crowds with a freedom as touching as it is inexplicable. It‚Äôs one of the purest images in movies. ‚ÄúDumbo‚Äù was Disney‚Äôs fourth animated feature (after ‚ÄúSnow White and the Seven Dwarfs,‚Äù ‚ÄúPinocchio,‚Äù and ‚ÄúFantasia‚Äù), and like Dumbo himself it‚Äôs a beautiful oddball ‚Äî a solid-colored piece of stylized pop Americana, only 64 minutes long, at times almost a silent movie with sound effects. One of the more remarkable things about it is that Dumbo, after being cruelly separated from his mother (a primal twist that anticipates ‚ÄúBambi‚Äù), doesn‚Äôt discover his ability to fly until the last six minutes of the movie. When he does, he becomes a creature as enchanted in his yearning and escape as King Kong up on the Empire State Building or E.T. hoisting a bicycle into the sky. In ‚ÄúDumbo,‚Äù the magic of Dumbo‚Äôs ability to fly comes at the audience like a heavenly afterthought, one that tosses us into the sublime and leaves us there.\n",
            "The flying sequences in Tim Burton‚Äôs ‚ÄúDumbo,‚Äù a live-action reimagining of the Disney classic, have a touch of that same wonderstuck quality. Dumbo, now created with animatronic and digital effects, is still a cute, lonely pachyderm with impossibly large floppy ears who speaks to us with his soft pleading anthropomorphic Keane eyes (he has no dialogue.) When he‚Äôs slathered in clown make-up and forced to stand on top of a towering circus platform, his fear and humiliation are palpable. Then, after ingesting a feather into his trunk  he plunges downward and takes wing, and for a few moments you feel your heart soaring along with his.\n",
            "But in the new ‚ÄúDumbo,‚Äù our hero‚Äôs happy-sad flights of fancy aren‚Äôt the emotional culmination of the movie; they start early on and happen periodically, to gradually lesser effect. A bulgy little elephant, as suffused with feeling as a silent-movie clown, lofting himself into the air: That‚Äôs still a marvelous image. But the new ‚ÄúDumbo‚Äù is a meandering parable about the world‚Äôs attempt to corrupt it.\n",
            "Dumbo is born into a barnstorming circus run by the scuzzy carny barker Max Medici (Danny DeVito), who gets bought out by V.A. Vandevere (Michael Keaton), an entrepreneur in a silvery wig so ornate it makes Andy Warhol‚Äôs look organic. Vandevere believes in the go-big-or-go-home school of entertainment. The year is 1919, and his ‚Äúcircus‚Äù is really the world‚Äôs first theme park, a place called Dreamland that‚Äôs as packed with rides, exhibits, and chicanery as a small city. He‚Äôs not a showman; he‚Äôs an exploiter. He looks at Dumbo and sees a gold mine, and he doesn‚Äôt deliver the elephant‚Äôs gift in all its cracked glory so much as he squeezes the wonder out of it through packaging.\n",
            "\n",
            "\n",
            "Title: The Jungle Book review ‚Äì spectacular revival of Disney‚Äôs family favorite\n",
            "Publication Source/Venue: The Guardian, Apr. 12. 2016. 9:53 EDT\n",
            "URL: https://www.theguardian.com/film/2016/apr/12/the-jungle-book-review\n",
            "Top 5 Words: Disney, Mowgli, spectacular, witty, spirit\n",
            "Summary: This article reviews the Disney remake of The Jungle Book. The author claims that this new movie retains the spirit of the original Disney movie and is comparable to the original masterpiece. The author gives praise for the actors, digital rendering, and ease of story-telling. \n",
            "\n",
            "What on earth is the point of remaking Walt Disney‚Äôs great and possibly greatest masterpiece, the glorious animated musical from 1967, based on Kipling‚Äôs tales, all about the ‚Äúman cub‚Äù Mowgli, brought up by wolves in the Indian jungle ‚Äì famously the last film to get Disney‚Äôs personal touch? A remake which furthermore leaves old-fashioned animation behind, departing for the live-action uncanny valley of hyperreal CGI, which heretically loses most of the songs and which also abandons the original‚Äôs final, unforgettably exotic glimpse of a real-life human girl?\n",
            "Well, no point really ‚Ä¶ other than simply to create a terrifically enjoyable piece of old-fashioned storytelling and a beautiful-looking film: spectacular, exciting, funny and fun. It handsomely revives the spirit of Disney‚Äôs original film, while also having something of old-school family movies about animals like The Incredible Journey (1963) ‚Äì it almost feels like something I could have watched as a kid on TV. Yet also, weirdly, there‚Äôs a touch of Mel Gibson‚Äôs jungle nightmare Apocalypto (2006).\n",
            "\n",
            "Perhaps most strikingly of all, it re-imports into the story elements of the Disney classic The Lion King (1994) which The Jungle Book influenced in the first place: there‚Äôs a special rock for the animals to gather round, a stampede scene and an evil feline with a facial disfigurement.\n",
            "Newcomer Neel Sethi plays Mowgli himself; Ben Kingsley voices Bagheera the panther; Idris Elba is the evil tiger Shere Khan; Scarlett Johansson is the hissing snake mesmerist Kaa; Christopher Walken is the voice of King Louie the fire-hungry ape and inevitably ‚Äì but pleasingly, and very amusingly ‚Äì Bill Murray is an outstanding vocal turn as the notorious ursine slacker and pleasure-seeker Baloo the bear who teaches Mowgli the importance of kicking back and enjoying the bare necessities of life.\n",
            "I‚Äôve never seen digital rendering of talking animals look so persuasive and this film also creates witty and ingenious twists on the story we all know, including a new plot development concerning wolf-leader Akela (Giancarlo Esposito) and Shere Khan ‚Äì and even creates a backstory for Mowgli which explains how he got that modesty-preserving loincloth of his.\n",
            "It‚Äôs not a musical and yet the deployment of two famous songs ‚Äì The Bare Necessities and I Wanna Be Like You ‚Äì feels easy and natural. Actually, the film emphatically revives Kipling‚Äôs poem The Law of the Jungle with its collective all-for-one ethic: ‚ÄúThe strength of the pack is the wolf/And the strength of the wolf is the pack.‚Äù Baloo prefers songs to poems and calls that one ‚Äúpropaganda‚Äù.\n",
            "Interestingly, where the first film finally sticks to a never-the-twain-shall-meet attitude to humans‚Äô long-term cohabitation with animals, this one posits the idea of living together happily (though that size of loincloth can‚Äôt last for ever). As I said, this sacrifices the original‚Äôs bittersweet acknowledgment that Mowgli must one day grow up and look for romance.\n",
            "\n",
            "But what a tremendous success this is. The Jungle Book 2.0 is the unexpected treat of the week.\n",
            "\n",
            "\n",
            "Title: What‚Äôs a Nice Girl Doing in This Hole?\n",
            "Publication Source/Venue: The New York Times, Mar. 4. 2010\n",
            "URL: https://www.nytimes.com/2010/03/05/movies/05alice.html\n",
            "Top 5 Words: Disney, Alice, grim, dark, nightmarish\n",
            "Summary: This article reviews the Disney remake of Alice in Wonderland. The author comments on how Tim Burton turned this movie into a dark and grim story while eliminating the personality of the main character, Alice. \n",
            "\n",
            "Into the dark you tumble in ‚ÄúAlice in Wonderland,‚Äù Tim Burton‚Äôs busy, garish and periodically amusing repo of the Lewis Carroll hallucination ‚ÄúAlice‚Äôs Adventures in Wonderland.‚Äù It‚Äôs a long fall turned long haul, despite the Burtonian flourishes ¬ó the pinch of cruelty, the mordant wit ¬ó that animate the Red Queen (Helena Bonham Carter) and the porker that slides under her feet with a squeal. ‚ÄúI love a warm pig belly for my aching feet,‚Äù the queen tells Alice. Played by Mia Wasikowska, Alice looks a touch dazed: she seems to have left her pulse above ground when she fell down the rabbit hole of Mr. Burton‚Äôs imagination.\n",
            "Mr. Burton has done his best work with contemporary stories, so it‚Äôs curious if not curiouser that he‚Äôs turned his sights on another 19th-century tale. Perhaps after slitting all those throats in his adaptation of ‚ÄúSweeney Todd,‚Äù he thought he would chop off a few heads. Whatever his inspiration, he has tackled this new story with his customary mix of torpor and frenzy. After a short glance back at Alice‚Äôs childhood and an equally brief look at her present, he sends the 19-year-old on her way, first down the hole and then into a dreamscape ¬ó unfortunately tricked out with 3-D that distracts more than it delights ¬ó where she meets a grinning cat and a lugubrious caterpillar, among other fantastical creatures.\n",
            "Dark and sometimes grim, this isn‚Äôt your great-grandmother‚Äôs Alice or that of Uncle Walt, who was disappointed with the 1951 Disney version of ‚ÄúAlice in Wonderland.‚Äù ‚ÄúAlice has no character,‚Äù said a writer who worked on that project. ‚ÄúShe merely plays straight man to a cast of screwball comics.‚Äù Of course the character of Carroll‚Äôs original Alice is evident in each outrageous creation she dreams up in ‚ÄúWonderland‚Äù and in the sequel, ‚ÄúThrough the Looking-Glass,‚Äù which means that she‚Äôs a straight man to her own imagination. (She is Wonderland.) Here she mostly serves as a foil for the top biller Johnny Depp, who (yes, yes) plays the Mad Hatter, and Mr. Burton‚Äôs bright and leaden whimsies.\n",
            "Since narrative momentum isn‚Äôt Mr. Burton‚Äôs strength, ‚ÄúAlice in Wonderland‚Äù probably seemed a good fit for him, and there are moments when his transparent delight in the material lifts the movie and even carries it forward. His Wonderland (here, Underland) isn‚Äôt inviting or attractive. The colors are often bilious, though the palette also turns gunmetal gray, bringing to mind ‚ÄúSweeney Todd.‚Äù There‚Äôs a suggestively nightmarish aspect to Alice‚Äôs journey, as when she steps on some severed heads in the Red Queen‚Äôs moat as if they were stones. The queen herself is a horror: Bette Davis as Elizabeth I and reconfigured as a bobble-head doll. Ms. Bonham Carter makes you hear the petulant child in her barbarism and the wounded woman too. She rocks the house and the movie.\n",
            "\n",
            "In the spring of 1964 the filmmaker Stanley Kubrick was very worried. NASA was about to fly the Mariner 4 space probe past Mars.\n",
            "That was 54 years ago. We still havent discovered intelligence or even believable evidence of pond scum anywhere else in the universe  not for lack of effort. A new spacecraft,TESS, designed to look for habitable nearby planetsjust vaulted into space, and aninterstellar asteroidrecently spotted streaking through the solar system was inspected for radio signals. Another robot is on its way tolisten in on the heart of Mars. We still dont know if we are alone.\n",
            "The story begins four million years ago in Africa, where a bunch of bedraggled primates are losing the battle of the survival of the fittest until a strange black monolith appears. To the thunder of Also Sprach Zarathustra, one of those apemen is inspired to pick up a bone and use it as a club to kill the animals that have been pushing him around.\n",
            "Around that toss Kubrick pivots his movie and all of human evolution. Another monolith appears on the moon, and yet another in orbit around Jupiter, where an astronaut named Dave Bowman connects with it after subduing a neurotic computer, the HAL 9000, which has murdered his shipmates. In the finale, Bowman is sent through a star gate on a trip through space and time, death and rebirth, returning as a glowing Star Child to float like a fetus over the Earth.\n",
            "2001 comes back at another poignant time in history, especially as it relates to space and the cosmos. Once we got to the moon,the script of future historywas abandoned by the Nixon White House.\n",
            "But now the traditional sci-fi script has flipped. A generation of swashbuckling billionaires has taken center stage in the space business, as well as a new class of wealthy customers who can afford to indulge their services\n",
            "Where the script has really flipped is in the future history of evolution.\n",
            "Robots have taken over the sacred task of exploring for us. Increasingly sophisticated and smaller machines have spread out to every world of the solar system,buzzing the rings of Saturn, daring thedark voids beyond Plutoandlanding on comets, scanning the heavens for new planets, new places to dream about. There have been enough robots, landers and orbiters violating the skies and surface of Mars to spark legends and myths and paranoia among whatever life-forms might be there.\n",
            "Worse, we may all be part of the dream. The news from some physicists likethe late Stephen Hawkingis thatthe universe might be a hologram, an illusion like the three-dimensional images on a bank card. Some cosmologists have argued that it is not inconsistent  at least mathematically  to imagine thatthe entire universe as we know it could just be a computer simulation,as in The Matrix  another movie with long shadows. In effect, we are all made of bits, so the argument goes, removable, deformable at the click of an interstellar mouse.\n",
            "\n",
            "I am writing this review on a word processor that is connected to a computer that sets the type for the Sun-Times. If I make an error, the computer will tell me. Observe. I instruct it to set this review at a width of 90 characters. It flashes back: Margin too wide. Now things get interesting. I ask it to set the width at 100 characters\n",
            "Computers only do what they are programmed to do, and they will follow their programs to illogical conclusions. Example. This time I tell the computer to set my review at a width of 10 characters. It does! Having read 100 as 10 and found 10 too narrow, it reads 10 as 10, and lets me have my way. I've outsmarted the S.O.B.\n",
            "Sooner or later, one of these self-satisfied, sublimely confident thinking machines is going to blow us all off the face of the planet. That is the message of \"WarGames,\" a scary and intelligent new thriller that is one of the best films so far this year. The movie starsMatthew Broderick(the kid from \"Max Dugan Returns\") as a bright high school senior who spends a lot of time locked in his bedroom with his home computer. He speaks computerese well enough to dial by telephone into the computer at his school and change grades. But he's ready for bigger game.\n",
            "He reads about a toy company that's introducing a new computer game. He programs his computer for a random search of telephone numbers in the company's area code, looking for a number that answers with a computer tone. Eventually, he connects with a computer. Unfortunately, the computer he connects with does not belong to a toy company. It belongs to the Defense Department, and its mission is to coordinate early warning systems and nuclear deterrents in the case of World War III. The kid challenges the computer to play a game called \"Global Thermonuclear Warfare,\" and it cheerfully agrees.\n",
            "As a premise for a thriller, this is a masterstroke. The movie, however, could easily go wrong by bogging us down in impenetrable computerese, or by ignoring the technical details altogether and giving us a \"Fail Safe\" retread. \"WarGames\" makes neither mistake. It convinces us that it knows computers, and it makes its knowledge into an amazingly entertaining thriller. (Note I do not claim the movie is accurate about computers -- only convincing.)\n",
            "I've described only the opening gambits of the plot, and I will reveal no more. It's too much fun watching the story unwind. Another one of the pleasures of the movie is the way it takes cardboard characters and fleshes them out. Two in particular: the civilian chief of the US computer operation, played byDabney Colemanas a man who has his own little weakness for simple logic, and the Air Force general in charge of the war room, played byBarry Corbinas a military man who argues that men, not computers, should make the final nuclear decisions.\n",
            "\n",
            "\"The Matrix,\" with Keanu Reeves, Laurence Fishburne, Carrie-Anne Moss. Written and directed by Andy and Larry Wachowski. \n",
            "Extremely violent, extremely preposterous, extremely entertaining, \"The Matrix\" succeeds at two extremely difficult tasks: as a vast, exciting virtual-reality movie and as a defibrillator for Keanu Reeves' big screen career.\n",
            "Using the pantheon of movie iconography from the past 100 years - from \"High Noon\" showdowns, to bad kung fu, to love's first kiss - the writing/directing team of the Wachowski brothers, Larry and Andy, achieves a fantastic, hodgepodge symmetry using hacker noir, comedy and mindless action.\n",
            "Thomas Anderson (Reeves) is a talented computer programmer at a monolithic corporation during the day, but at night he's an unscrupulous hacker tagged Neo. His work brings him to the attention of Morpheus (Fishburne), a mysterious stranger who tantalizes Neo.\n",
            "Morpheus compares him to Lewis Carroll's Alice, with talk of other worlds and realities. He offers Neo two pills: a blue one, which will allow things to continue on as they have, and a red one, which purportedly will lift the veil from his eyes and allow him to see \"how deep the rabbit hole goes.\" This being a movie, and since the plot would pretty much stop here if he didn't, Neo takes the red one.\n",
            "When the veil does lift, it's Kafka meets \"Die Hard,\" and Neo realizes the awful truth that Morpheus has wanted him to see. It's a truth darker than \"Dark City,\" more memorable than \"Johnny Mnemonic\" and as terminal as \"The Terminator.\" It's bad for him, but it's good for us.\n",
            "The most critical aspect of this film's success is the creation of the Matrix world, a simulacrum of reality where most of the people in this film work, fight and die. The Wachowskis set up certain rules for this reality and try to stick to them - thus making the realm as important as the \"real\" world.\n",
            "Reeves, who in the past has been accused of being kind of a virtual-reality effect himself, acquits himself nicely as Neo. The long, lingering stench of \"Johnny Mnemonic\" dissipates in the first few moments of the film.\n",
            "Actually, it isn't dissipated, it's blown away with the exhilarating opening fight sequence. It's a desperate chase between Trinity (a Sigourney Weaver career jump-starter role for Carrie-Anne Moss) and the Matrix agents. \n",
            "It's evident that the Wachowski brothers (whose last effort was the erotic cranker \"Bound\") brought something extra to the table. Someone else's treatment of their script could have turned into a ponderous, gorgeous, somber affair, like \"Dark City.\"\n",
            "Most hacker noir films seem to vie for the \"Blade Runner\" production design award, entirely forgetting their audience and their story. Not the Wachowskis. They're like little kids playing with blocks, building and constructing. Then they use the wow-filled, \"Flo-mo\" and \"bullet time\" special effects of Jon Gaeta and the designs of Owen Paterson to knock those blocks down.\n",
            "And knock they do, demolishing the wall between the standard \"question reality\" movie and an action film. When the dust settles, \"The Matrix\" is all that's left standing.\n",
            "\n",
            "\n",
            "'I, Robot\" takes place in Chicago circa 2035, a city where spectacular new skyscrapers share the skyline with landmarks like the Sears (but not the Trump) Tower. The tallest of the buildings belongs to U.S. Robotics, and on the floor of its atrium lobby lies the dead body of its chief robot designer, apparently a suicide.\n",
            "Det. Del Spooner is on the case.Will Smithplays Spooner, a Chicago Police Department detective who doesn't think it's suicide. He has a deep-seated mistrust of robots, despite the famous Three Laws of Robotics, which declare above all that a robot must not harm a human being.\n",
            "The dead man is Dr. Alfred Lanning (James Cromwell), who, we are told, wrote the Three Laws. Every schoolchild knows the laws were set down by the good doctor Isaac Asimov, after a conversation he had on Dec. 23, 1940, withJohn W. Campbell, the legendary editor of Astounding Science Fiction. It is peculiar that no one in the film knows that, especially since the film is \"based on the book by Isaac Asimov.\" Would it have killed the filmmakers to credit Asimov?\n",
            "The movie makes Spooner into another one of those movie cops who insults the powerful, races recklessly around town, gets his badge pulled by his captain, solves the crime and survives incredible physical adventures. In many of these exploits he is accompanied by Dr. Susan Calvin (Bridget Moynahan), whose job at U.S. Robotics is \"to make the robots seem more human.\"\n",
            "At this she is not very successful. The movie's robots are curiously uninvolving as individuals, and when seen by the hundreds or thousands look like shiny chromium ants. True, a robot need not have much of a personality, but there is one robot, named Sonny and voiced byAlan Tudyk, who is more advanced than the standard robot, more \"human,\" and capable of questions like \"What am I?\" -- a question many movie characters might profitably ask themselves.\n",
            "If Sonny doesn't have real feelings, he comes as close to them as any of the humans in the movie. Both Spooner and Calvin are kept in motion so relentlessly that their human sides get overlooked, except for a touching story Spooner tells about how a little girl dies because a robot was too logical. Sonny doesn't seem as \"human\" as, say, Andrew, the robot played byRobin Williamsin \"Bicentennial Man\" (1999), based on a robot story by Asimov andRobert Silverberg. But his voice has a certain poignancy, and suggests some the chilly chumminess of HAL 9000.\n",
            "The plot I will not detail, except to note that you already know from the ads that the robots are up to no good, and Spooner could write a lot of tickets for Three Laws violations.\n",
            "As for the robots, they function like the giant insects in \"Starship Troopers,\" as video game targets. You can't even be mad at them, since they're only programs. Although, come to think of it, youcanbe mad at programs; Microsoft Word has inspired me to rage far beyond anything these robots engender.\n",
            "\n",
            "\n",
            "After a recent run ofoverly-hyped, butultimatelydisappointingsci-fi efforts, fans of the genre finally have something worth getting excited about. Non genre filmgoers should probably get excited too. For the first time in a long time, we have an artificial intelligence film with, well, intelligence.\n",
            "Ex Machina, novelist and screenwriterAlex Garlandsdirectorial debut, treads on the well-worn sci-fi territory of technophobia, god complexes, and lethal robots, but it does so with an intelligence and sophistication that never underestimates either the viewer or the capacity of the genre.\n",
            "The film kicks off when a nice young coder named Caleb (Domhnall Gleeson) wins a mysterious trip to spend a week at the opulent home (more of a compound, really) of Nathan (Oscar Isaac), his boss and CEO of fictional internet giant Blue Book. During his visit, Caleb meets two women: Nathans assistant and lover Kyoko (Sonoya Mizuno) and his invention, a robot named Ava (Alicia Vikander). Ava the robot is a CGI confection made of human face, hands, and feet held together by sinewy mesh, translucent limbs, and a see-through torso filled with blinking lights, and whirring gears.\n",
            "Nathan tasks Caleb with engaging Ava in the Turing test (yes,named forthatTuring) in order to determine whether his artificially intelligent creation can think and act like a human. As you might expect in a film about a vulnerable young man, an alluring robot girl, and a billionaire with a god complex locked up in a high-tec bunker, things start to go horribly wrong.\n",
            "Nathans claustrophobic underground lair takes on the feel of that classic sci-fi setting: the spaceship. But wide exterior shots (filmed on location in Norway) of lush forests and one particularly stunning glacier play the role of outer space, putting mans small, technological accomplishments in the context of natures vast splendor.\n",
            "That blurred relationship between the organic and inorganic used to best effect in Avas elegant flesh and mesh design  crops up throughoutEx Machinato underline the notion of artificial intelligence as the next, inevitable phase in our evolution. Vikanders face moves robotically, yes, but also takes on a curious bird-like quality  bright eyes blinking and inquisitive head tilting.\n",
            "Ex Machinacertainly isnt theonlysuccessful artificial intelligence film out there, and Vikanders crackling honey voice and seductive demeanor make the comparison toScarlett JohanssoninHerpretty inevitable. But whileSpike Jonzesfilm was all heart,Ex Machinais just brimming with brains. For every obvious cultural reference to scientific disaster (you bet Robert Oppenheimer gets quoted), theres a subtle one, like snippets of Orchestral Manoeuvres In The Darks 1980s anthem Enola Gay. And Garland never lets his camera linger too long on one ofEx Machinas visual punches like a fully humanoid robot dressed all in white pausing in front of Klimts iconic portrait of Margaret Stonborough Wittgenstein.\n",
            "Things do get physical, and also violent, butEx Machinais for the most part a three-way mental battle. With all the over-blown, but empty sci-fi offerings out there, wouldnt you prefer a nice game of chess?\n",
            "\n",
            "\n",
            "Spike Jonze's \"Her\" plays like a kind of miracle the first time around. Watching its opening shots ofJoaquin Phoenixmaking an unabashed declaration of eternal love to an unseen soul mate is immediately disarming. \n",
            "As the movie continues, and the viewer learns more of what an ordinary guy Theodore ishe checks his e-mail on the ride home from work, just like pretty much all of us these daysdirector Jonze, who also wrote the movie's script, constructs a beguiling cinematic world that also starts to embrace the viewer. The way Theodore's smart phone and its earpiece work is different from ours, and soon it becomes clear that \"Her\" is something of a science-fiction film, set in the not-too-distant but distinctly fantastic future. \n",
            "The futuristic premise sets the stage for an unusual love story: one in which Theo, still highly damaged and sensitive over the breakup of his marriage (\"I miss you,\" a friend tells him in a voice mail message; \"Not the sad, mopey you. The old, fun you\"), falls in love with the artificially intelligent operating system of his computer. The movie shows this product advertised and, presumably, bought in remarkable quantity, but focuses on Theo's interaction with his OS, which he gives a female voice. The female voice gives herself the name \"Samantha\" and soon Samantha is reorganizing Theo's files, making him laugh, and developing something like a human consciousness.\n",
            "It's in Theo and Samantha's initial interaction that \"Her\" finds its most interesting, and troubling depths. Samantha, being, you know, a computer, has the ability to process data, and a hell of a lot of it, at a higher speed than human Theo. \"I can understand how the limited perspective can look to the non-artificial mind,\" she playfully observes to Theo. And while Samantha's programming is designed to make her likable to Theo, her assimilation of humanity's tics soon have the operating system feeling emotion, or the simulation of it, and while the viewer is being beguiled by the peculiarities and particularities of Theo and Samantha's growing entanglement, he or she is also living through a crash course on the question of what it means to be human.\n",
            "At first Theo feels a little odd about his new \"girlfriend,\" and then finds out that his pal Amy (Amy Adams) is getting caught up in a relationship with the OS left behind by her estranged husband. Jonze drops funny hints about what the existence of artificial intelligence in human society might affect that society. He also gets off some pretty good jokes concerning video games.\n",
            "But he also creates moments of genuinely upsetting heartbreak, as in Theo's inability to understand what went wrong with his marriage to Catherine (Rooney Mara, quite wonderful in what could have been a problematic role) and their continuing inadvertent emotional laceration of each other at their sole \"present\" meeting in the movie.\n",
            "\"Her\" remains one of the most engaging and genuinely provocative movies you're likely to see this year, and definitely a challenging but not inapt date movie.\n",
            "\n",
            "\n",
            "On Oct. 26, 1984, a newsci-fifranchise was launched with the U.S. theatrical debut of The Terminator. That same day, The Hollywood Reporter saw the merits in the film, and even hoped for a sequel. Read the original review below:\n",
            "No doubt about it: Arnold Schwarzenegger was born to playThe Terminator. In this nail-biting Orionsci-fiadventure fromHemdale, the beefyConanstar, cast in his first villainous role, dishes out destruction with a fiendish relish certain to neutralize box-office competition. The havoc makes for a genuine steel metal trap of a movie that may very well be the best picture of its kind sinceThe Road Warrior.\n",
            "Schwarzenegger plays an emotionless cyborg sent from the future to assassinate a young woman (Linda Hamilton) whose unborn child is destined to become apostapocalypticsaviour. Tracking him is MichaelBiehn, assigned to protect the girl and terminate the Terminator. On the outcome of their struggle  as eerieflashforwardsto the skull-lined streets of21stcentury Los Angeles remind us rests the future of the world.\n",
            "A remarkably spare script by James Cameron and Gale AnneHurdgives new dimension to this age-old morality play, working in plenty of pointed comment on our presentovermechanizationinto its action-film context. Images do most of the talking, and Cameron, in his first major directorial effort, proves a lean, economical storyteller, setting up his shorts for maximum visceral impact.\n",
            "Cameron is ably abetted by Adam Greenberg's crisp, incisive camerawork; MarkGoldblatt'sfine-tooled editing, which discreetly cuts away from most of the bloodshed, and Brad Fidel'spulsatinglypersuasive score. The futuristic landscapes are impressively sketched by the Fantasy II visual effects group and Stan Winston provides stop-motion magic that recalls the best of RayHarryhausen.\n",
            "The most imposing special effect, however, is Schwarzenegger himself. Outfitted from head to toe in basic black and armed to the teeth with state-of-the-art weaponry, the ex-strong man comes on like evil incarnate, and his bullet-pumping presence lends the film a very tangible sense of menace. His single-handed destruction of an intercity police station is certain to rank high in the annals of on-screen dastardly deeds.\n",
            "Schwarzenegger has a worthy adversary in MichaelBiehn, whose grimly determined features expressively convey most of the film's thematic weight. Linda Hamilton displays tremendous resiliency as the unsuspecting target, and there is some engaging support from Paul Winfield and LanceHenriksenas harried detectives. But it's Arnold's movie all the way.\n",
            "There's something downright satisfying about seeing this big, lovable lug play a remorseless heavy, and one hopes the mean streak has not run its course.Terminator II, where are you?Kirk Ellis\n",
            "\n",
            "\n"
          ],
          "name": "stdout"
        }
      ]
    },
    {
      "cell_type": "code",
      "metadata": {
        "id": "gxOZWDsSHM_4"
      },
      "source": [
        "#Custom functions required as part of demonstration\n",
        "#functions used to process text and create the required TFIDF and Doc2vec Matrices\n",
        "def clean_doc(doc): \n",
        "    #split document into individual words\n",
        "    tokens=doc.split()\n",
        "    re_punc = re.compile('[%s]' % re.escape(string.punctuation))\n",
        "    # remove punctuation from each word\n",
        "    tokens = [re_punc.sub('', w) for w in tokens]\n",
        "    # remove remaining tokens that are not alphabetic\n",
        "    tokens = [word for word in tokens if word.isalpha()]\n",
        "    # filter out short tokens\n",
        "    tokens = [word for word in tokens if len(word) > 4]\n",
        "    #lowercase all words\n",
        "    tokens = [word.lower() for word in tokens]\n",
        "    # filter out stop words\n",
        "    stop_words = set(stopwords.words('english'))\n",
        "    tokens = [w for w in tokens if not w in stop_words]         \n",
        "    # word stemming    \n",
        "    # ps=PorterStemmer()\n",
        "    # tokens=[ps.stem(word) for word in tokens]\n",
        "    return tokens\n",
        "\n",
        "def final_processed_text(doc):\n",
        "    #this is a function to join the processed text back\n",
        "    ' '.join(doc)\n",
        "    return doc\n",
        "\n",
        "def tfidf(corpus, titles, ngram_range):\n",
        "    #this is a function to created the tfidf matrix\n",
        "    Tfidf=TfidfVectorizer(ngram_range)\n",
        "\n",
        "    #fit the vectorizer using final processed documents.  The vectorizer requires the \n",
        "    #stiched back together document.\n",
        "\n",
        "    TFIDF_matrix=Tfidf.fit_transform(corpus)     \n",
        "\n",
        "    #creating datafram from TFIDF Matrix\n",
        "    #words = Tfidf.get_feature_names()\n",
        "    #matrix=pd.DataFrame(TFIDF_matrix.toarray(), columns=Tfidf.get_feature_names(), index=titles)\n",
        "    return TFIDF_matrix.toarray()\n",
        "\n",
        "\n",
        "def One_Hot(variable):\n",
        "    #this is a function to one hot encode the classes\n",
        "    LE=LabelEncoder()\n",
        "    LE.fit(variable)\n",
        "    Label1=LE.transform(variable)\n",
        "    OHE=OneHotEncoder()\n",
        "    labels=OHE.fit_transform(Label1.reshape(-1,1)).toarray()\n",
        "    return labels\n"
      ],
      "execution_count": 18,
      "outputs": []
    },
    {
      "cell_type": "code",
      "metadata": {
        "id": "ng21MgeoH14s"
      },
      "source": [
        "#adding two columns to the dataframe to store the processed text and tokenized text\n",
        "data['processed_text'] = data['Text'].apply(lambda x: clean_doc(x))\n",
        "\n",
        "\n",
        "\n",
        "#creating final processed text variables for matrix creation\n",
        "final_processed_text = [' '.join(x) for x in data['processed_text'].tolist()]\n",
        "titles = data['DSI_Title'].tolist()\n",
        "processed_text = data['processed_text'].tolist()\n",
        "\n",
        "\n",
        "#generate tfidf for analysis\n",
        "tfidf_matrix = tfidf(final_processed_text, titles, ngram_range = (1,10))"
      ],
      "execution_count": 37,
      "outputs": []
    },
    {
      "cell_type": "code",
      "metadata": {
        "colab": {
          "base_uri": "https://localhost:8080/",
          "height": 388
        },
        "id": "g80QGohaob3h",
        "outputId": "3d7d9204-73f8-440d-c54a-7bd242915f22"
      },
      "source": [
        "# Doing Classification .... First Label Dataset\n",
        "\n",
        "labels = ['Disney', 'Disney', 'Disney', 'Disney', 'Disney', 'Disney', 'Disney', 'Hero', 'Horror', \n",
        "                       'Justice', 'Sports', 'Sports', 'Hero', 'Love', 'Hero', 'War', 'Horror', 'Horror', 'Horror', \n",
        "                        'Magic', 'Horror', 'Science-Fiction', 'Love', 'War', 'Science-Fiction', 'Sports', 'Love', \n",
        "                        'Horror', 'War', 'Sports', 'Comedy', 'Time', 'Science-Fiction', 'War', 'Science-Fiction', \n",
        "          'Hero', 'Sports', 'Hero', 'Science-Fiction', 'Science-Fiction', 'Sports', 'Science-Fiction', 'Hero', \n",
        "          'Science-Fiction', 'Science-Fiction', 'Science-Fiction', 'War', 'War', 'War', 'Science-Fiction', 'Thriller', \n",
        "          'Science-Fiction', 'War', 'Sports', 'Love', 'Love', 'Love', 'Science-Fiction', 'India', 'Horror', 'Sports', \n",
        "          'Love', 'Love', 'Disney', 'Disney', 'Disney', 'Disney', 'Disney', 'Disney', 'Disney', 'Science-Fiction', \n",
        "          'Science-Fiction', 'Science-Fiction', 'Science-Fiction', 'Science-Fiction', 'Science-Fiction', 'Science-Fiction']\n",
        "# encoding labels for classification\n",
        "from sklearn import preprocessing\n",
        "le = preprocessing.LabelEncoder()\n",
        "le.fit(labels)\n",
        "data['Labels']= le.transform(labels)\n",
        "data"
      ],
      "execution_count": 39,
      "outputs": [
        {
          "output_type": "execute_result",
          "data": {
            "text/html": [
              "<div>\n",
              "<style scoped>\n",
              "    .dataframe tbody tr th:only-of-type {\n",
              "        vertical-align: middle;\n",
              "    }\n",
              "\n",
              "    .dataframe tbody tr th {\n",
              "        vertical-align: top;\n",
              "    }\n",
              "\n",
              "    .dataframe thead th {\n",
              "        text-align: right;\n",
              "    }\n",
              "</style>\n",
              "<table border=\"1\" class=\"dataframe\">\n",
              "  <thead>\n",
              "    <tr style=\"text-align: right;\">\n",
              "      <th></th>\n",
              "      <th>Doc_ID</th>\n",
              "      <th>DSI_Title</th>\n",
              "      <th>Text</th>\n",
              "      <th>processed_text</th>\n",
              "      <th>Labels</th>\n",
              "    </tr>\n",
              "  </thead>\n",
              "  <tbody>\n",
              "    <tr>\n",
              "      <th>0</th>\n",
              "      <td>0</td>\n",
              "      <td>BJL_Doc3_Having-received-a.txt</td>\n",
              "      <td>Having received a mysterious signal emanating ...</td>\n",
              "      <td>[received, mysterious, signal, emanating, arca...</td>\n",
              "      <td>1</td>\n",
              "    </tr>\n",
              "    <tr>\n",
              "      <th>1</th>\n",
              "      <td>1</td>\n",
              "      <td>BJL_Doc2_An-exploration-of.txt</td>\n",
              "      <td>TL;DR – An exploration of a film that effortle...</td>\n",
              "      <td>[exploration, effortless, blends, music, visua...</td>\n",
              "      <td>1</td>\n",
              "    </tr>\n",
              "    <tr>\n",
              "      <th>2</th>\n",
              "      <td>2</td>\n",
              "      <td>BJL_Doc6_TRON-Legacy-is.txt</td>\n",
              "      <td>‘TRON: Legacy’ is the sequel to the 1982 film ...</td>\n",
              "      <td>[sequel, stars, bridges, garrett, hedlund, oli...</td>\n",
              "      <td>1</td>\n",
              "    </tr>\n",
              "    <tr>\n",
              "      <th>3</th>\n",
              "      <td>3</td>\n",
              "      <td>BJL_Doc1_So-when-I.txt</td>\n",
              "      <td>So when I say that Tron: Legacy had me on the ...</td>\n",
              "      <td>[legacy, impressed, special, effects, action, ...</td>\n",
              "      <td>1</td>\n",
              "    </tr>\n",
              "    <tr>\n",
              "      <th>4</th>\n",
              "      <td>4</td>\n",
              "      <td>BJL_Doc5_The_addition_of.txt</td>\n",
              "      <td>The addition of that stately \"legacy\" to the t...</td>\n",
              "      <td>[addition, stately, legacy, title, strains, co...</td>\n",
              "      <td>1</td>\n",
              "    </tr>\n",
              "    <tr>\n",
              "      <th>...</th>\n",
              "      <td>...</td>\n",
              "      <td>...</td>\n",
              "      <td>...</td>\n",
              "      <td>...</td>\n",
              "      <td>...</td>\n",
              "    </tr>\n",
              "    <tr>\n",
              "      <th>72</th>\n",
              "      <td>72</td>\n",
              "      <td>SCFIDRJ_Doc3_The_Matrix.txt</td>\n",
              "      <td>\"The Matrix,\" with Keanu Reeves, Laurence Fish...</td>\n",
              "      <td>[matrix, keanu, reeves, laurence, fishburne, c...</td>\n",
              "      <td>8</td>\n",
              "    </tr>\n",
              "    <tr>\n",
              "      <th>73</th>\n",
              "      <td>73</td>\n",
              "      <td>SCFIDRJ_Doc4_I_Robot.txt</td>\n",
              "      <td>'I, Robot\" takes place in Chicago circa 2035, ...</td>\n",
              "      <td>[robot, takes, place, chicago, circa, spectacu...</td>\n",
              "      <td>8</td>\n",
              "    </tr>\n",
              "    <tr>\n",
              "      <th>74</th>\n",
              "      <td>74</td>\n",
              "      <td>SCFIDRJ_Doc5_Ex_Machina.txt</td>\n",
              "      <td>After a recent run ofoverly-hyped, butultimate...</td>\n",
              "      <td>[recent, ofoverlyhyped, butultimatelydisappoin...</td>\n",
              "      <td>8</td>\n",
              "    </tr>\n",
              "    <tr>\n",
              "      <th>75</th>\n",
              "      <td>75</td>\n",
              "      <td>SCFIDRJ_Doc6_Her.txt</td>\n",
              "      <td>Spike Jonze's \"Her\" plays like a kind of mirac...</td>\n",
              "      <td>[spike, jonzes, plays, miracle, first, around,...</td>\n",
              "      <td>8</td>\n",
              "    </tr>\n",
              "    <tr>\n",
              "      <th>76</th>\n",
              "      <td>76</td>\n",
              "      <td>SCFIDRJ_Doc7_The Terminator.txt</td>\n",
              "      <td>On Oct. 26, 1984, a newsci-fifranchise was lau...</td>\n",
              "      <td>[newscififranchise, launched, theatrical, debu...</td>\n",
              "      <td>8</td>\n",
              "    </tr>\n",
              "  </tbody>\n",
              "</table>\n",
              "<p>77 rows × 5 columns</p>\n",
              "</div>"
            ],
            "text/plain": [
              "    Doc_ID  ... Labels\n",
              "0        0  ...      1\n",
              "1        1  ...      1\n",
              "2        2  ...      1\n",
              "3        3  ...      1\n",
              "4        4  ...      1\n",
              "..     ...  ...    ...\n",
              "72      72  ...      8\n",
              "73      73  ...      8\n",
              "74      74  ...      8\n",
              "75      75  ...      8\n",
              "76      76  ...      8\n",
              "\n",
              "[77 rows x 5 columns]"
            ]
          },
          "metadata": {
            "tags": []
          },
          "execution_count": 39
        }
      ]
    },
    {
      "cell_type": "code",
      "metadata": {
        "colab": {
          "base_uri": "https://localhost:8080/"
        },
        "id": "OUwwoh_s-wEr",
        "outputId": "485beda1-f876-4811-c4ca-b7a8ddcd7148"
      },
      "source": [
        "for i in range(0, len(data['processed_text'])):\n",
        "  print(data['processed_text'][i])"
      ],
      "execution_count": 40,
      "outputs": [
        {
          "output_type": "stream",
          "text": [
            "['received', 'mysterious', 'signal', 'emanating', 'arcade', 'investigate', 'following', 'brief', 'presses', 'computer', 'terminal', 'finds', 'locked', 'inside', 'almost', 'atonement', 'lengthy', 'scenesetting', 'forms', 'opening', 'kosinski', 'kinkily', 'stripped', 'civilian', 'zipped', 'skintight', 'costume', 'rubber', 'glowsticks', 'throws', 'series', 'tronreferencing', 'gladiatorial', 'games', 'beginning', 'highvelocity', 'tournament', 'deadly', 'discs', 'dizzying', 'light', 'cycle', 'chicken', 'whisked', 'slinky', 'heroine', 'quorra', 'quorra', 'played', 'feline', 'innocence', 'olivia', 'wilde', 'warrior', 'program', 'dangerously', 'multitalented', 'talking', 'century', 'literature', 'driving', 'offroad', 'vehicle', 'smashing', 'opponents', 'cubes', 'fists', 'whisking', 'quorra', 'ushers', 'refuge', 'digital', 'wilderness', 'father', 'kevin', 'zenlike', 'trance', 'learn', 'little', 'backstory', 'advanced', 'program', 'rogue', 'turning', 'fascist', 'state', 'subjugating', 'populace', 'trapping', 'kevin', 'inside', 'confines', 'feels', 'kosinski', 'little', 'impatient', 'trappings', 'inherited', 'battles', 'light', 'cycle', 'duels', 'dispensed', 'early', 'never', 'revisited', 'muddled', 'synapsefrying', 'sequences', 'never', 'topped', 'elsewhere', 'aerial', 'dogfight', 'attempts', 'dazzle', 'sheer', 'light', 'noise', 'obviously', 'reminiscent', 'analogues', 'movies', 'really', 'satisfy', 'gives', 'denouement', 'could', 'muted', 'reached', 'point', 'create', 'entirely', 'convincing', 'human', 'pixels', 'aspect', 'looked', 'least', 'fondly', 'another', 'years', 'awful', 'enormously', 'enjoyable', 'presence', 'texas', 'instruments', 'calculator', 'bridges', 'absolute', 'delight', 'kevin', 'flynn', 'playing', 'boomer', 'equivalent', 'kenobi', 'every', 'utterance', 'gonna', 'touch', 'perfectly', 'delivered', 'lines', 'could', 'coming', 'mouth', 'wandered', 'around', 'carton', 'could', 'easily', 'lebowski', 'garett', 'hedlund', 'merely', 'everyman', 'olivia', 'wilde', 'great', 'quorra', 'could', 'benefited', 'bigscreen', 'experience', 'eyecandy', 'legacy', 'colour', 'esoteric', 'design', 'visually', 'legacy', 'confident', 'debut', 'kosinski', 'storytelling', 'terms', 'legacy', 'seems', 'unusually', 'timid']\n",
            "['exploration', 'effortless', 'blends', 'music', 'visuals', 'story', 'passion', 'something', 'greater', 'almost', 'every', 'movies', 'touch', 'heart', 'really', 'explain', 'matter', 'times', 'watched', 'always', 'ready', 'crack', 'dvdbluraydigital', 'copywhatever', 'another', 'watch', 'legacy', 'ready', 'heart', 'first', 'excels', 'music', 'working', 'musical', 'score', 'something', 'special', 'happen', 'electronic', 'pulsing', 'changed', 'lively', 'strings', 'outlands', 'warmth', 'finale', 'really', 'glory', 'foreground', 'towards', 'second', 'makes', 'title', 'cameo', 'music', 'makers', 'begin', 'relatively', 'mellow', 'track', 'pulsating', 'rhythm', 'drums', 'underneath', 'entered', 'place', 'safety', 'samples', 'video', 'games', 'including', 'commander', 'dropped', 'throughout', 'course', 'unpunished', 'michael', 'sheen', 'turns', 'bringing', 'uptempo', 'derezzed', 'electronics', 'quick', 'succession', 'drums', 'louder', 'perfect', 'music', 'kickass', 'action', 'sequence', 'moment', 'flynn', 'arrives', 'changes', 'starts', 'states', 'wrong', 'amazing', 'couple', 'minutes', 'cinema', 'music', 'centrepiece', 'another', 'factor', 'beautiful', 'visuals', 'visual', 'effects', 'perspective', 'revolutionary', 'deageing', 'technic', 'bring', 'bridgesjohn', 'reardon', 'gotten', 'better', 'years', 'always', 'probably', 'shown', 'close', 'start', 'world', 'nevertheless', 'still', 'marvel', 'still', 'sucked', 'thanks', 'bridges', 'performance', 'deaging', 'filled', 'visual', 'effects', 'quality', 'still', 'today', 'world', 'filled', 'blending', 'physical', 'digital', 'combine', 'flawlessly', 'create', 'fantastic', 'world', 'fruition', 'games', 'first', 'light', 'cycle', 'battle']\n",
            "['sequel', 'stars', 'bridges', 'garrett', 'hedlund', 'olivia', 'wilde', 'hedlund', 'plays', 'flynn', 'kevin', 'flynn', 'original', 'creator', 'father', 'disappears', 'finds', 'thrust', 'digital', 'world', 'kevin', 'created', 'ruled', 'corrupted', 'digital', 'avatar', 'father', 'release', 'loved', 'despite', 'getting', 'mixed', 'reviews', 'however', 'since', 'disney', 'decided', 'another', 'watch', 'whether', 'disguised', 'amazing', 'awesome', 'soundtrack', 'incredible', 'visuals', 'whether', 'actually', 'watched', 'years', 'initial', 'release', 'still', 'really', 'enjoy', 'however', 'accept', 'story', 'interesting', 'experience', 'focus', 'garrett', 'hedlund', 'bridge', 'together', 'fatherson', 'relationship', 'believable', 'bridges', 'menacing', 'constantly', 'thriving', 'image', 'perfection', 'earliest', 'examples', 'disney', 'experimenting', 'deaging', 'technology', 'something', 'films', 'rouge', 'looks', 'little', 'dated', 'jarring', 'disney', 'handle', 'technology', 'basic', 'story', 'kevin', 'flynn', 'digital', 'world', 'trapped', 'portal', 'travel', 'closes', 'however', 'journey', 'incredible', 'visuals', 'still', 'today', 'digital', 'world', 'sleek', 'stylish', 'vehicles', 'source', 'material', 'given', 'modern', 'makeover', 'updated', 'colourful', 'still', 'recognizable', 'visuals', 'character', 'obvious', 'aspect', 'talked', 'another', 'aspect', 'highlighted', 'score', 'created', 'perfect', 'companion', 'gorgeous', 'piece', 'nominated', 'awards', 'including', 'grammy', 'award', 'score', 'clear', 'soundtrack', 'either', 'accompany', 'visuals', 'elevate', 'soundtrack', 'effortlessly', 'decision', 'create', 'sense', 'partly', 'influenced', 'original', 'perfectly', 'today', 'still', 'listen', 'soundtrack', 'overall', 'experience', 'perfect', 'watch', 'really', 'showcase', 'technology', 'could', 'something', 'repeated', 'countless', 'times', 'visuals', 'soundtrack', 'focused']\n",
            "['legacy', 'impressed', 'special', 'effects', 'action', 'really', 'means', 'simply', 'badass', 'movie', 'flaws', 'easily', 'overlooked', 'looks', 'action', 'probably', 'going', 'anywhere', 'short', 'almost', 'exactly', 'original', 'think', 'great', 'thing', 'hoping', 'meaningful', 'years', 'concocted', 'something', 'really', 'meaningful', 'first', 'going', 'pretty', 'disappointed', 'legacy', 'years', 'original', 'ended', 'kevin', 'flynn', 'bridges', 'child', 'technology', 'company', 'encom', 'making', 'millions', 'billions', 'dollars', 'simply', 'disappears', 'forward', 'years', 'garrett', 'hedlund', 'rejected', 'responsibility', 'company', 'despite', 'majority', 'stockholder', 'suddenly', 'comes', 'father', 'discovers', 'years', 'arcade', 'keystrokes', 'later', 'sucked', 'computer', 'world', 'original', 'finds', 'father', 'battle', 'digitally', 'younger', 'bridges', 'control', 'mainframe', 'stuff', 'creating', 'saving', 'world', 'trust', 'takes', 'absolutely', 'stunning', 'special', 'effects', 'action', 'sequences', 'enters', 'computer', 'wizard', 'ozinspired', 'twist', 'solid', 'crammed', 'battles', 'races', 'fistfights', 'simply', 'looks', 'together', 'impressive', 'especially', 'scene', 'great', 'effect', 'multileveled', 'arena', 'bikes', 'racing', 'around', 'noted', 'soundtrack', 'phenomenal', 'splittingly', 'cameo', 'simply', 'create', 'catchy', 'songs', 'actually', 'impressive', 'soundtrack', 'perfectly', 'world', 'imagine', 'anywhere', 'without', 'digital', 'soundtrack', 'getting', 'oscar', 'reason', 'original', 'scores', 'expecting', 'shakespeare', 'legacy', 'original', 'pedestal', 'afraid', 'hopes', 'going', 'crushed', 'however', 'simply', 'looking', 'forward', 'actionpacked', 'special', 'effect', 'bonanza', 'going']\n",
            "['addition', 'stately', 'legacy', 'title', 'strains', 'confer', 'retrospective', 'classic', 'status', 'disneys', 'virtual', 'reality', 'scifi', 'thriller', 'people', 'trapped', 'computer', 'forced', 'engage', 'gladiatorial', 'combat', 'might', 'surprise', 'legacy', 'overshadowed', 'spielbergs', 'suffered', 'mortification', 'upstaged', 'peter', 'greenaways', 'draughtsmans', 'contract', 'generation', 'prizing', 'audacious', 'ahead', 'futurist', 'trailblazer', 'games', 'culture', 'digital', 'world', 'famous', 'legatee', 'christopher', 'nolan', 'creator', 'inception', 'maybe', 'thats', 'movie', 'original', 'would', 'still', 'prefer', 'watch', 'hogwhimperingly', 'expensive', 'worryingly', 'reboot', 'stars', 'bridges', 'entrepreneur', 'genius', 'kevin', 'flynn', 'twenty', 'years', 'kevin', 'created', 'brilliant', 'digital', 'system', 'happened', 'incidentally', 'order', 'infant', 'young', 'enough', 'twentysomething', 'present', 'height', 'sensational', 'celebrity', 'flynn', 'vanished', 'garrett', 'hedlund', 'tumbles', 'virtual', 'domain', 'created', 'exile', 'hidden', 'universe', 'dominated', 'unimaginably', 'colossal', 'gaming', 'arena', 'ruled', 'kevins', 'alter', 'digitally', 'created', 'younger', 'kevin', 'hoped', 'positive', 'energies', 'secret', 'world', 'creating', 'biodigital', 'sinister', 'wants', 'digital', 'police', 'state', 'preside', 'cruel', 'neoimperial', 'spectacle', 'games', 'theres', 'interesting', 'stuff', 'particularly', 'subversive', 'regressive', 'solipsism', 'computer', 'games', 'theres', 'plenty', 'thats', 'laborious', 'digital', 'technology', 'create', 'young', 'bridges', 'weird', 'unlined', 'figure', 'resembles', 'westworld', 'robots', 'looks', 'original', 'superimposition', 'glowing', 'human', 'faces', 'computergraphic', 'figures', 'might', 'seemed', 'arguably', 'looks', 'interestingly', 'sovietheroic', 'something', 'fritz', 'obviously', 'question', 'seeing', 'digital', 'effects', 'finest', 'money', 'effect', 'strangely', 'retro', 'blackandchrome', 'stylings', 'something', 'early', 'nightclubs', 'looked', 'sudden', 'appearance', 'vividwhite', 'boudoir', 'spaces', 'taken', 'straight', 'sanderson', 'stanley', 'kubrick', 'successful', 'pushing', 'envelope', 'trying', 'something', 'legacy', 'paralysed', 'reverence']\n",
            "['legacy', 'serves', 'similarly', 'astonishing', 'sights', 'everyone', 'continue', 'scratching', 'heads', 'story', 'spotty', 'films', 'predecessor', 'filmmakers', 'offer', 'brief', 'prologue', 'refresh', 'memory', 'threedecade', 'break', 'original', 'kevin', 'flynn', 'bridges', 'digitally', 'altered', 'appear', 'closer', 'tells', 'young', 'bedtime', 'story', 'managed', 'digitize', 'enter', 'world', 'within', 'computer', 'ongoing', 'entrances', 'digital', 'realm', 'verge', 'revolutionizing', 'artificial', 'intelligences', 'present', 'garrett', 'hedlund', 'headstrong', 'computer', 'genius', 'without', 'authority', 'strongest', 'qualities', 'rebellion', 'riding', 'motorcycles', 'speed', 'staring', 'sullenly', 'water', 'industrial', 'garage', 'converted', 'mysterious', 'message', 'leads', 'fathers', 'arcade', 'winds', 'falling', 'digital', 'world', 'swallowed', 'father', 'viewing', 'screen', 'depth', 'kosinski', 'steals', 'wizard', 'using', 'three', 'dimensions', 'arrive', 'equivalent', 'colorized', 'director', 'medium', 'elegantly', 'without', 'cheap', 'gimmickry', 'bridges', 'plays', 'kevin', 'flynn', 'trapped', 'decades', 'artificial', 'intelligence', 'created', 'finds', 'fascist', 'world', 'ruled', 'artificially', 'intelligent', 'program', 'father', 'created', 'place', 'father', 'trapped', 'exile', 'bridges', 'plays', 'roles', 'though', 'digitally', 'altered', 'remain', 'young', 'character', 'represents', 'impressive', 'advancement', 'rendering', 'humans', 'digitally', 'still', 'lacking', 'enough', 'vaguely', 'creepy', 'problematic', 'trons', 'uneasy', 'juxtaposition', 'genres', 'conventions', 'distinct', 'worlds', 'movie', 'outing', 'wants', 'moody', 'science', 'fiction', 'ideas', 'ostensibly', 'movie', 'studio', 'obligated', 'stage', 'races', 'battles', 'audience', 'demands', 'result', 'experience', 'trying', 'meditate', 'roller', 'coaster', 'explain', 'flynn', 'trapped', 'inside', 'seems', 'become', 'digital', 'surfer', 'bodhisattva', 'appending', 'sentences', 'doling', 'proclamations', 'gonna', 'knock', 'listen', 'sound', 'tronworld', 'seems', 'abides', 'sounds', 'little', 'ridiculous', 'legacy', 'revels', 'overthetop', 'nature', 'sharp', 'contrast', 'blacks', 'vibrant', 'neons', 'bombastic', 'clash', 'orchestral', 'synthetic', 'elements', 'soundtrack', 'french', 'electronic', 'musicians', 'trippy', 'sometimes', 'incoherent', 'ideas', 'presents']\n",
            "['blade', 'runner', 'unlikely', 'considered', 'stateoftheart', 'examples', 'science', 'fiction', 'cinema', 'blade', 'runner', 'movies', 'darker', 'films', 'blade', 'runner', 'legacy', 'similar', 'themes', 'obsession', 'family', 'legacies', 'focuses', 'gosling', 'androidhunter', 'tasked', 'investigating', 'story', 'female', 'replicant', 'birth', 'child', 'investigation', 'proceeds', 'evidence', 'suggests', 'might', 'mystery', 'child', 'parents', 'blade', 'deckard', 'harrison', 'rachael', 'young', 'track', 'missing', 'parent', 'mirrored', 'setup', 'legacy', 'sequel', 'garrett', 'hedlund', 'plays', 'flynn', 'missinginaction', 'kevin', 'flynn', 'bridges', 'heroes', 'original', 'encouraged', 'friend', 'bruce', 'boxleitner', 'investigate', 'origin', 'message', 'emanating', 'arcade', 'older', 'worked', 'inexplicably', 'transported', 'virtualreality', 'world', 'known', 'inside', 'digital', 'inhabitants', 'quickly', 'identify', 'human', 'bring', 'leader', 'looks', 'exactly', 'kevin', 'young', 'eventually', 'learns', 'actual', 'father', 'inside', 'hiding', 'dangerous', 'ruler', 'movie', 'relies', 'believing', 'father', 'facing', 'virtualreality', 'creation', 'looks', 'young', 'bridges', 'means', 'relies', 'virtual', 'bridges', 'looking', 'large', 'amount', 'budget', 'dedicated', 'crucial', 'surrounding', 'feels', 'authentically', 'young', 'bridges', 'offshoot', 'motioncapture', 'horrorshow', 'films', 'uncannyvalley', 'effect', 'visual', 'palette', 'pulsating', 'soundtrack', 'striking', 'story', 'characters', 'dialogue', 'bridges', 'lebowski', 'elder', 'flynn', 'unironic', 'dialogue', 'biodigital', 'clunkiest', 'meant', 'describe', 'technological', 'power', 'representative', 'largely', 'uninspired', 'screenplay', 'legacy', 'blade', 'runner', 'booming', 'soundtrack', 'remarkable', 'visuals', 'sense', 'portent', 'permeating', 'story', 'boasts', 'multidimensional', 'complex', 'performances', 'abovetheline', 'leads', 'biggest', 'selling', 'point', 'roger', 'jawdropping', 'cinematography', 'audiences', 'really', 'biggest', 'screen', 'possible', 'imagery', 'performance', 'among', 'internal', 'subtly', 'emotional', 'character', 'satisfactory', 'gosling', 'brings', 'appropriate', 'welcome', 'sense', 'complexity', 'script', 'perhaps', 'overly', 'solemn', 'leaves', 'strands', 'untied', 'still', 'sense', 'completeness', 'intelligence', 'unfortunately', 'absent', 'legacy']\n",
            "['nearly', 'hours', 'runtime', 'woman', 'accomplishes', 'hollywood', 'tentpoles', 'whisks', 'worries', 'erasing', 'escapism', 'enough', 'remember', 'going', 'christmas', 'discovering', 'childhood', 'attic', 'watch', 'richard', 'first', 'marvel', 'strong', 'female', 'models', 'vintage', 'shows', 'bionic', 'distant', 'world', 'setting', 'patty', 'historymaking', 'feature', 'three', 'years', 'sequel', 'offers', 'amusing', 'tackiest', 'decades', 'shoulder', 'permed', 'origin', 'story', 'gadot', 'plays', 'water', 'amazon', 'princessgoddess', 'diana', 'prince', 'finds', 'thrust', 'wartorn', 'europe', 'years', 'invention', 'sliced', 'bread', 'adapt', 'conventions', 'enlightened', 'patriarchy', 'pilot', 'steve', 'trevor', 'chris', 'society', 'diana', 'makes', 'resurrects', 'bringing', 'apple', 'macintosh', 'unveiled', 'snyder', 'noisy', 'presentday', 'movie', 'jenkins', 'better', 'handle', 'audiences', 'divine', 'diana', 'woman', 'delivers', 'embracing', 'iconic', 'washington', 'setting', 'slightly', 'corny', 'comic', 'style', 'period', 'jenkins', 'serves', 'scenes', 'wonder', 'woman', 'intervenes', 'everyday', 'crises', 'saving', 'walkmanwearing', 'jogger', 'pontiac', 'firebird', 'rescuing', 'girls', 'endangered', 'shoppingmall', 'jewelry', 'heist', 'robbery', 'results', 'recovery', 'dreamstone', 'ancient', 'citrine', 'artifact', 'magic', 'powers', 'grant', 'anyone', 'touches', 'comes', 'catch', 'takes', 'gives', 'characters', 'hastily', 'reference', 'classic', 'jacobs', 'short', 'story', 'wishes', 'consequences', 'hardly', 'enough', 'explain', 'complicated', 'rules', 'touching', 'stone', 'diana', 'boyfriend', 'gonna', 'trouble', 'unless', 'renounces', 'eventually', 'wonder', 'woman', 'powers', 'clumsy', 'coworker', 'smithsonian', 'museum', 'superficially', 'selina', 'kylelike', 'barbara', 'minerva', 'kristen', 'strong', 'special', 'diana', 'loses', 'endearingly', 'uncouth', 'undesirable', 'unfashionable', 'unremarkable', 'qualities', 'better', 'tradeoff', 'diana', 'later', 'barbara', 'second', 'become', 'transforms', 'cheetah', 'creature', 'catwoman', 'miscalculation']\n",
            "['rodney', 'documentary', 'theorists', 'attempt', 'explain', 'hidden', 'messages', 'stanley', 'movie', 'ideas', 'movie', 'range', 'possible', 'downright', 'bizarre', 'theory', 'fixates', 'possibility', 'confessing', 'faked', 'landing', 'footage', 'another', 'obsesses', 'details', 'hedge', 'evidence', 'indirectly', 'references', 'either', 'genocide', 'native', 'americans', 'holocaust', 'number', 'different', 'interpret', 'jordan', 'excellent', 'horror', 'movie', 'every', 'image', 'seems', 'happen', 'standin', 'something', 'outside', 'story', 'family', 'danger', 'directed', 'wrote', 'produced', 'likely', 'reward', 'audiences', 'multiple', 'viewings', 'visit', 'revealing', 'secret', 'showing', 'something', 'missed', 'light', 'begins', 'young', 'parents', 'wandering', 'santa', 'boardwalk', 'night', 'separates', 'empty', 'beach', 'watching', 'foreboding', 'flock', 'thunderclouds', 'attraction', 'walks', 'looks', 'abandoned', 'mirrors', 'discovering', 'something', 'deeply', 'doppelgänger', 'movie', 'shifts', 'present', 'janelle', 'monae', 'radio', 'wilson', 'family', 'heading', 'towards', 'vacation', 'little', 'grown', 'woman', 'adelaide', 'lupita', 'nervous', 'returning', 'santa', 'beach', 'husband', 'winston', 'thinks', 'reaction', 'overblown', 'tries', 'shahadi', 'wright', 'joseph', 'jason', 'beach', 'friends', 'tylers', 'elisabeth', 'heidecker', 'daughters', 'small', 'scare', 'strange', 'coincidences', 'beach', 'family', 'returns', 'quiet', 'night', 'peace', 'broken', 'unlikely', 'trespassers', 'lined', 'across', 'driveway', 'doppelgängers', 'family', 'appeal', 'interpret', 'information', 'images', 'doubt', 'movie', 'audiences', 'plenty', 'credits', 'jeremiah', 'bible', 'verse', 'appears', 'twice', 'pivotal', 'moments', 'plenty', 'biblical', 'references', 'including', 'analogy', 'heaven', 'perhaps', 'shirt', 'reference', 'rocket', 'sweater', 'little', 'wears', 'could', 'warning', 'oceanside', 'dangers', 'scene', 'young', 'adelaide', 'walks', 'mysterious', 'attraction', 'welcoming', 'native', 'american', 'headdress', 'vision']\n",
            "['oldtime', 'american', 'religion', 'vengeance', 'river', 'comicserious', 'nasty', 'brutish', 'times', 'beautifully', 'adapted', 'ethan', 'parodic', 'western', 'novel', 'charles', 'portis', 'turns', 'arkansas', 'hires', 'killer', 'first', 'published', 'brought', 'screen', 'customfitted', 'wayne', 'rooster', 'cogburn', 'straight', 'oscar', 'thinner', 'scenestealer', 'bridges', 'sometimes', 'drunkenly', 'slumps', 'saddle', 'raucously', 'entertaining', 'original', 'directed', 'henry', 'hathaway', 'rooster', 'enters', 'behavior', 'seated', 'courtroom', 'cigar', 'smoke', 'conspicuous', 'ghostly', 'light', 'comes', 'courtesy', 'frequent', 'cinematographer', 'roger', 'deakins', 'twisty', 'funny', 'sentences', 'plucked', 'filmmakers', 'right', 'novel', 'deputy', 'united', 'states', 'marshal', 'rooster', 'attracted', 'interest', 'mattie', 'hailee', 'steinfeld', 'terrific', 'debut', 'halfpint', 'bloodlust', 'severely', 'braided', 'authentic', 'american', 'gothic', 'listens', 'rooster', 'recount', 'bloody', 'deeds', 'count', 'shine', 'excitement', 'avenging', 'father', 'keeping', 'close', 'track', 'expenses', 'preoccupy', 'mattie', 'richly', 'conceived', 'written', 'eccentric', 'memorable', 'screen', 'softened', 'first', 'played', 'darby', 'toughed', 'coens', 'resembles', 'seemingly', 'humorless', 'often', 'unintentionally', 'humorous', 'scripturequoting', 'martinet', 'imagination', 'times', 'brings', 'famed', 'formulation', 'essential', 'american', 'isolate', 'stoic', 'times', 'wears', 'oversize', 'looks', 'foolish', 'child', 'perilous', 'coens', 'deliver', 'touch', 'light', 'might', 'notice', 'sting', 'surprisingly', 'faithful', 'idiomatic', 'novel', 'perhaps', 'worldview', 'suits', 'ironic', 'purposes', 'whiskeysoaked', 'rooster', 'still', 'likes', 'coens', 'bridges', 'boozy', 'spirit', 'things', 'slurs', 'pratfalls', 'despite', 'showy', 'movie', 'opens', 'closes', 'voiceover', 'shifts', 'story', 'rooster', 'coens', 'restore', 'framing', 'device', 'story', 'gutsy', 'story', 'called', 'memory', 'woman', 'elizabeth', 'marvel', 'became']\n",
            "['misapprehension', 'heard', 'would', 'difficult', 'working', 'reviewer', 'orally', 'thought', 'title', 'pronounced', 'rhymed', 'pertinently', 'obscure', 'italianamerican', 'slang', 'robert', 'mamaluke', 'mamaluke', 'misapprehension', 'actually', 'underestimated', 'horror', 'movie', 'debut', 'feature', 'written', 'directed', 'australian', 'filmmaker', 'jennifer', 'wrong', 'pronunciation', 'title', 'short', 'implied', 'movie', 'turned', 'opinion', 'finest', 'genuinely', 'provocative', 'horror', 'movie', 'emerge', 'still', 'verynew', 'century', 'relentless', 'psychological', 'thriller', 'heavy', 'primal', 'stuff', 'fullthrottle', 'slambang', 'scarefest', 'delivers', 'sensation', 'without', 'insulting', 'intelligence', 'sensationalist', 'essentially', 'trite', 'pictures', 'horror', 'paradigm', 'along', 'lines', 'strictly', 'opinion', 'quick', 'point', 'impressed', 'seeing', 'tweeted', 'thought', 'might', 'first', 'capitalg', 'horror', 'movie', 'century', 'almost', 'immediately', 'beset', 'couple', 'thought', 'snoozefest', 'ridiculous', 'superior', 'films', 'included', 'ought', 'applied', 'horror', 'movies', 'especially', 'implying', 'comparison', 'stuff', 'ridiculous', 'ridiculous', 'sense', 'makes', 'difference', 'purposeful', 'ridiculousness', 'sense', 'urgency', 'establishes', 'immediately', 'nightmare', 'scene', 'essie', 'amelia', 'rushed', 'really', 'nightmare', 'scene', 'urgency', 'child', 'rushed', 'hospital', 'deliver', 'early', 'elementary', 'school', 'father', 'killed', 'accident', 'hospital', 'child', 'little', 'samuel', 'cherubfaced', 'wiseman', 'giving', 'amazing', 'intense', 'childactor', 'performances', 'spends', 'playing', 'games', 'concocting', 'crude', 'weapons', 'protect', 'imaginary', 'enemies', 'project', 'night', 'loudly', 'vigilance', 'literally', 'wreaking', 'havoc', 'small', 'house', 'within', 'amelia', 'nearisolation', 'needy', 'clinger', 'sleep']\n",
            "['models', 'coach', 'carter', 'jacksons', 'plays', 'carter', 'began', 'sports', 'richmond', 'california', 'school', 'setting', 'records', 'still', 'stand', 'success', 'military', 'small', 'businessman', 'asked', 'basketball', 'coach', 'unpaid', 'volunteer', 'position', 'former', 'coach', 'tells', 'school', 'carter', 'thinks', 'movie', 'directed', 'thomas', 'carter', 'dance', 'relation', 'coach', 'follows', 'longestablished', 'genre', 'patterns', 'sports', 'movie', 'usual', 'games', 'important', 'shots', 'coach', 'movie', 'inspiring', 'locker', 'speeches', 'difficult', 'moral', 'decisions', 'certain', 'parallels', 'friday', 'night', 'lights', 'although', 'movie', 'coach', 'underlines', 'futility', 'school', 'stars', 'planning', 'sports', 'career', 'certainly', 'movies', 'weight', 'public', 'opinion', 'communities', 'theyre', 'places', 'publics', 'interest', 'secondary', 'education', 'seems', 'entirely', 'focused', 'sports', 'coaches', 'important', 'teachers', 'scores', 'important', 'grades', 'coach', 'carter', 'wants', 'change', 'walks', 'gymnasium', 'ruled', 'arrogant', 'disrespectful', 'student', 'jocks', 'commands', 'attention', 'fierceness', 'attitude', 'makes', 'rules', 'requires', 'students', 'contract', 'promising', 'maintain', 'decent', 'gradepoint', 'average', 'price', 'deals', 'usual', 'personnel', 'problems', 'player', 'named', 'kenyon', 'stone', 'brown', 'pregnant', 'girlfriend', 'named', 'singer', 'ashanti', 'first', 'threat', 'future', 'carters', 'determination', 'players', 'college', 'carters', 'dramatic', 'decision', 'coverage', 'gymnasium', 'forfeit', 'games', 'endanger', 'teams', 'title', 'chances', 'players', 'refused', 'terms', 'contract', 'community', 'course', 'outraged', 'coach', 'would', 'grades', 'winning', 'games', 'future', 'student', 'athletes', 'education', 'given', 'making', 'dramatically', 'demonstrated', 'great', 'documentary', 'dreams', 'reasoning', 'considering', 'lottery', 'better', 'working', 'living']\n",
            "['miracle', 'movie', 'version', 'united', 'states', 'olympic', 'hockey', 'teams', 'cinderella', 'season', 'faces', 'hurdle', 'factbased', 'films', 'contemplate', 'actual', 'story', 'picture', 'based', 'corny', 'rousing', 'notes', 'filmmakers', 'would', 'shame', 'embrace', 'fortunately', 'unfortunately', 'depending', 'disney', 'restraint', 'accordingly', 'miracle', 'yeomans', 'recycling', 'dayold', 'dough', 'passes', 'story', 'chafing', 'restrictions', 'given', 'principals', 'goalie', 'craig', 'eddie', 'cahill', 'captain', 'eruzione', 'patrick', 'obrien', 'demsey', 'still', 'alive', 'since', 'miracle', 'opens', 'nationwide', 'today', 'aimed', 'mostly', 'audience', 'wasnt', 'coach', 'brookss', 'defeated', 'fearsome', 'soviet', 'hockey', 'placid', 'younger', 'audiences', 'recognize', 'pictures', 'staleness', 'miracle', 'chewier', 'movie', 'efficiently', 'delivers', 'story', 'points', 'though', 'nonsports', 'warned', 'climax', 'features', 'almost', 'recreation', 'penultimate', 'americans', 'soviets', 'voiceover', 'russell', 'recognizes', 'event', 'preceded', 'dream', 'invention', 'device', 'allowed', 'american', 'professionals', 'olympics', 'professionals', 'nations', 'teams', 'soviet', 'hockey', 'players', 'experienced', 'intimidating', 'squad', 'whipped', 'comers', 'including', 'national', 'hockey', 'league', 'allstar', 'olympics', 'began', 'squad', 'brooks', 'assembled', 'exhibition', 'brooks', 'accident', 'joked', 'already', 'applauding', 'opponents', 'russell', 'tightens', 'limiting', 'nearly', 'movement', 'lower', 'plays', 'brooks', 'refuses', 'waste', 'emotion', 'driving', 'seems', 'partly', 'shock', 'initially', 'bellower', 'taking', 'group', 'young', 'unproven', 'players', 'allows', 'constant', 'pressure', 'wants', 'theyre', 'right', 'russells', 'cagey', 'remote', 'performance', 'gives', 'miracle', 'breezes', 'fresh', 'performance', 'movie', 'people', 'turned', 'chance', 'realize', 'achievement', 'similar', 'plays', 'since', 'russell', 'screen', 'anyone', 'broadcaster', 'michaels', 'playing', 'capable', 'maintaining', 'focus', 'eventually', 'miracle', 'michaels', 'sportscaster', 'whose', 'heartfelt', 'enthusiastic', 'believe', 'miracles', 'shout', 'heard', 'round', 'world']\n",
            "['rather', 'fight', 'stereotype', 'singer', 'embraces', 'superman', 'returns', 'result', 'comparison', 'recent', 'superfare', 'singers', 'night', 'dayliterally', 'former', 'tended', 'toward', 'settings', 'noirish', 'brooding', 'perhaps', 'offset', 'innate', 'silliness', 'capeandtights', 'genre', 'superman', 'returns', 'contrast', 'takes', 'place', 'dazzling', 'daylight', 'viewers', 'might', 'forgiven', 'applying', 'sunscreen', 'looks', 'clark', 'brandon', 'routh', 'beckons', 'superalterego', 'innocent', 'first', 'twothirds', 'movie', 'singer', 'creates', 'geewhiz', 'credulity', 'remarkably', 'avoids', 'bathos', 'though', 'sometimes', 'close', 'jocular', 'without', 'jokey', 'heartfelt', 'without', 'sentimental', 'unlike', 'batmans', 'gotham', 'metropolis', 'cheery', 'place', 'almost', 'urban', 'first', 'perry', 'white', 'clarks', 'daily', 'planet', 'newspaper', 'played', 'formidable', 'frank', 'langella', 'might', 'expect', 'spideys', 'jonah', 'jameson', 'money', 'publisher', 'gruff', 'uncle', 'wishing', 'staff', 'superman', 'alike', 'luthor', 'kevin', 'spacey', 'worlds', 'villainous', 'egghead', 'senses', 'amiable', 'enough', 'presence', 'early', 'going', 'supplying', 'comedy', 'genuine', 'menace', 'first', 'calamity', 'causesthe', 'harrowing', 'nearcrash', 'jetliner', 'carrying', 'bosworthis', 'inadvertent', 'byproduct', 'experiment', 'undertakes', 'model', 'train', 'story', 'nutshell', 'fiveyear', 'journey', 'devastated', 'lifeless', 'planet', 'krypton', 'superman', 'returns', 'metropolis', 'discover', 'changes', 'taken', 'place', 'jilted', 'woman', 'getting', 'engaged', 'another', 'perhaps', 'cuttingly', 'journalist', 'winning', 'pulitzer', 'editorial', 'entitled', 'world', 'doesnt', 'superman', 'luthor', 'meanwhile', 'gotten', 'prison', 'married', 'wealthy', 'invalid', 'begun', 'turning', 'subsequent', 'inheritance', 'nefarious', 'perhaps', 'nefarious', 'ridiculous', 'luthors', 'involves', 'stealing', 'crystal', 'supermans', 'arctic', 'fortress', 'solitude', 'dropping', 'ocean', 'eastern', 'seaboard', 'submerged', 'expand', 'quickly', 'donald', 'trumps', 'selfregard', 'growing', 'continent', 'swamp', 'north', 'america', 'billions', 'people', 'provide', 'luthor', 'makings', 'realestate', 'empire', 'selfevidently', 'idiotic', 'global', 'domination', 'committed', 'celluloid', 'singer', 'somehow', 'prevents', 'ruining', 'gives', 'ominous', 'resonance', 'jagged', 'crystalline', 'peaks', 'luthors', 'world', 'emerge', 'waves', 'serpents', 'staking', 'claim', 'paradise', 'mountainous', 'mordor', 'suddenly', 'casting', 'shadow', 'skyscraperstudded', 'shire', 'metropolis']\n",
            "['title', 'notebook', 'review', 'authors', 'stephen', 'holden', 'sourcedate', 'times', 'keywords', 'gosling', 'rachel', 'mcadams', 'world', 'allie', 'james', 'marsden', 'cassavetes', 'affair', 'total', 'count', 'words', 'trimmed', 'brief', 'summary', 'south', 'carolina', 'worker', 'calhoun', 'gosling', 'allie', 'rachel', 'mcadams', 'desperately', 'parents', 'approve', 'serve', 'world', 'seems', 'affair', 'interim', 'allie', 'becomes', 'involved', 'another', 'james', 'marsden', 'returns', 'small', 'years', 'later', 'allies', 'marriage', 'becomes', 'clear', 'romance', 'anything', 'young', 'oldfashioned', 'flourished', 'hookup', 'always', 'challenging', 'emotions', 'portray', 'screen', 'specificity', 'beyond', 'smooches', 'sighs', 'adoring', 'glances', 'convey', 'reality', 'shared', 'private', 'paradise', 'strongest', 'scenes', 'notebook', 'screen', 'adaptation', 'nicholas', 'sparkss', 'treacly', 'seller', 'gosling', 'rachel', 'mcadams', 'break', 'barrier', 'evoke', 'highstrung', 'slightly', 'crazed', 'teenagers', 'plunging', 'headlong', 'first', 'passion', 'begins', 'playfulness', 'performances', 'spontaneous', 'combustible', 'quickly', 'identify', 'reckless', 'sweethearts', 'embody', 'innocence', 'vanished', 'american', 'teenage', 'better', 'judgment', 'romantic', 'drama', 'directed', 'cassavetes', 'screenplay', 'jeremy', 'leven', 'adapted', 'sardi', 'novel', 'opens', 'today', 'nationwide', 'flashback', 'james', 'garner', 'garrulous', 'ailing', 'codger', 'comfortable', 'nursing', 'reads', 'aloud', 'excerpts', 'story', 'allie', 'calhoun', 'rowlands', 'patient', 'suffering', 'alzheimers', 'smitten', 'gosling', 'southern', 'works', 'lumberyard', 'wealthy', 'girlfriend', 'named', 'allie', 'mcadams', 'brief', 'intervals', 'readings', 'blurred', 'memory', 'focus', 'movie', 'seesaws', 'seabrook', 'summer', 'allie', 'fairground', 'present', 'deliberately', 'annoyingly', 'oldsters', 'might', 'could', 'young', 'lovers', 'decades', 'later', 'garner', 'rowlands', 'wonderful', 'actors', 'garner', 'particular', 'plays', 'hammy', 'avuncularity', 'sugarcoats', 'character', 'glaze', 'nostalgia', 'performance', 'reinforces', 'impression', 'hollywood', 'difficult', 'depict', 'honesty', 'young']\n",
            "['story', 'follows', 'universal', 'fondness', 'finding', 'chinks', 'superhero', 'armor', 'superman', 'hadnt', 'kryptonite', 'would', 'perfect', 'therefore', 'boring', 'superheroes', 'since', 'spent', 'compensating', 'weaknesses', 'think', 'every', 'story', 'begins', 'superhero', 'invincible', 'faces', 'total', 'defeat', 'incredible', 'incredibles', 'superhero', 'traditional', 'dashing', 'fighting', 'crime', 'saving', 'lives', 'endangered', 'civilians', 'populace', 'unanimously', 'grateful', 'faced', 'lawsuits', 'unlawful', 'rescue', 'inadvertent', 'sideeffects', 'forced', 'retire', 'governments', 'superhero', 'relocation', 'program', 'incredible', 'voice', 'craig', 'nelson', 'moves', 'suburbs', 'joined', 'elastigirl', 'holly', 'hunter', 'children', 'violet', 'sarah', 'vowell', 'dashiell', 'spencer', 'little', 'fucile', 'maeve', 'andrews', 'officially', 'family', 'helen', 'works', 'insurance', 'agency', 'musclebound', 'supertorso', 'barely', 'squeezes', 'cubicle', 'helen', 'raises', 'theres', 'raising', 'world', 'occasionally', 'teenager', 'violet', 'whose', 'superpowers', 'allow', 'invisible', 'create', 'force', 'fields', 'think', 'impregnable', 'bubbles', 'dashiell', 'called', 'speed', 'light', 'considerably', 'finally', 'allowed', 'compete', 'school', 'track', 'meets', 'running', 'around', 'track', 'assume', 'never', 'finish', 'instead', 'youre', 'already', 'jacks', 'powers', 'still', 'limited', 'encompassing', 'potty', 'hates', 'insurance', 'business', 'joining', 'suburb', 'another', 'relocated', 'superhero', 'frozone', 'samuel', 'jackson', 'freeze', 'stuff', 'claiming', 'belong', 'bowling', 'league', 'sneak', 'nights', 'remember', 'little', 'lowprofile', 'superheroing', 'beckons', 'challenge', 'mirage', 'elizabeth', 'lures', 'pacific', 'island', 'incredible', 'overweight', 'slowed', 'battles', 'robot', 'named', 'omnidroid', 'robot', 'learn', 'fearsome', 'machines', 'created', 'mastermind', 'syndrome', 'jason', 'admired', 'incredible', 'became', 'bitter', 'incredible', 'refused', 'become', 'wonder', 'wants', 'superpower', 'unleashing', 'robots', 'unsuspecting', 'world', 'surface', 'incredibles', 'superhero', 'comics', 'underneath', 'critique', 'modern', 'american', 'uniformity', 'incredible', 'forced', 'retire', 'obsolescence', 'trial', 'lawyers', 'seeking', 'damages', 'unsolicited', 'deeds', 'position', 'scout', 'helps', 'little', 'across', 'street', 'doesnt', 'society', 'needs', 'superdeeds', 'reform', 'finding', 'sighs', 'celebrate', 'mediocrity']\n",
            "['based', 'iliad', 'homer', 'according', 'credits', 'homers', 'estate', 'movie', 'sidesteps', 'existence', 'greek', 'turns', 'heroes', 'action', 'movie', 'cliches', 'demonstrates', 'getting', 'tired', 'computergenerated', 'armies', 'better', 'couple', 'hundred', 'sweaty', 'warriors', 'masses', 'marching', 'toward', 'another', 'across', 'special', 'effects', 'actor', 'handsome', 'worked', 'months', 'achilles', 'character', 'inhabits', 'comfortably', 'charlton', 'heston', 'victor', 'mature', 'carry', 'swordandsandal', 'filmed', 'camera', 'around', 'knees', 'intone', 'quasiformal', 'prose', 'heroic', 'baritone', 'modern', 'nuanced', 'introspective', 'brings', 'complexity', 'required', 'treating', 'achilles', 'characters', 'human', 'instead', 'largerthanlife', 'creations', 'greek', 'director', 'wolfgang', 'petersen', 'miscalculates', 'happens', 'greek', 'cannot', 'happen', 'psychologically', 'plausible', 'characters', 'thats', 'whole', 'point', 'scene', 'movie', 'peter', 'otoole', 'creating', 'island', 'drama', 'emotion', 'middle', 'plodding', 'dialogue', 'plays', 'priam', 'night', 'ventures', 'outside', 'walls', 'enemy', 'surprising', 'achilles', 'achilles', 'defeated', 'priams', 'hector', 'handtohand', 'combat', 'walls', 'dragged', 'behind', 'chariot', 'priam', 'returned', 'proper', 'preparation', 'burial', 'scene', 'given', 'attention', 'needs', 'build', 'believe', 'achilles', 'tells', 'priam', 'youre', 'better', 'leads', 'greek', 'cities', 'cliche', 'hollywood', 'epics', 'remained', 'intact', 'convention', 'whenever', 'battle', 'great', 'drama', 'takes', 'place', 'important', 'characters', 'seats', 'achilles', 'battles', 'hector', 'walls', 'example', 'priam', 'family', 'viewing', 'stand', 'right', 'front', 'palace', 'usual', 'crowd', 'reaction', 'shots', 'awkward', 'closeups', 'actresses', 'grieved', 'resembles', 'alamo', 'fortresses', 'siege', 'defeated', 'faulty', 'night', 'watchmen', 'mexicans', 'sneak', 'alamo', 'undetected', 'absolutely', 'nobody', 'awake', 'greeks', 'climbing', 'trojan', 'horse', 'difference', 'movies', 'billy', 'thornton', 'alamo', 'actors', 'given', 'evocative', 'dialogue', 'deliver', 'provides', 'dialogue', 'probably', 'cannot', 'delivered', 'would', 'sound', 'sillier']\n",
            "['witch', 'period', 'dramahorror', 'firsttime', 'writerdirector', 'robert', 'eggers', 'tellingly', 'advertises', 'england', 'folktale', 'instead', 'fairy', 'fairy', 'tales', 'heart', 'parables', 'prescribe', 'moral', 'values', 'witch', 'feminist', 'narrative', 'focuses', 'american', 'colonial', 'family', 'undergo', 'seems', 'otherworldly', 'curse', 'sermon', 'sermons', 'questions', 'pointedly', 'allegorical', 'symbols', 'reconsider', 'lives', 'character', 'understand', 'family', 'shortly', 'witch', 'morality', 'traditional', 'sense', 'ensemble', 'drama', 'faithless', 'family', 'verge', 'selfdestruction', 'women', 'patriarchal', 'stresses', 'disenfranchisement', 'unclear', 'character', 'exactly', 'focus', 'witch', 'probably', 'grieving', 'mother', 'katherine', 'dickie', 'though', 'eggers', 'gives', 'ample', 'consideration', 'mourning', 'infant', 'samuel', 'disappeared', 'unusual', 'circumstances', 'definitely', 'katherines', 'mischievous', 'young', 'twins', 'jonas', 'mercy', 'lucas', 'dawson', 'ellie', 'grainger', 'respectively', 'though', 'mercy', 'often', 'speak', 'brothers', 'inability', 'understand', 'world', 'works', 'family', 'banished', 'foreboding', 'forest', 'nearby', 'colony', 'films', 'protagonist', 'might', 'william', 'ralph', 'ineson', 'katherines', 'troubled', 'husband', 'could', 'eldest', 'caleb', 'harvey', 'scrimshaw', 'young', 'desperate', 'defend', 'father', 'mothers', 'frustration', 'often', 'witch', 'concerns', 'thomasin', 'taylorjoy', 'eldest', 'katherine', 'williams', 'children', 'thomasin', 'undergoes', 'puberty', 'mistrustful', 'family', 'realistically', 'theyre', 'concerned', 'crops', 'failing', 'money', 'scarce', 'samuel', 'missing', 'still', 'thomasin', 'absorbs', 'brunt', 'familys', 'anxieties', 'younger', 'siblings', 'comfort', 'balks', 'added', 'pressure', 'especially', 'mother', 'makes', 'chores', 'family', 'members', 'subplots', 'witch', 'roads', 'eventually', 'thomasin', 'thats', 'beauty', 'eggerss', 'expansive', 'story', 'marginalized', 'presence', 'women', 'maledominated', 'microcosm', 'harsh', 'conditions', 'extremely', 'isolated', 'circumstances', 'women', 'resentment', 'crippling', 'selfdoubt', 'witch', 'sense', 'antiparable', 'eggers', 'eventually', 'leads', 'thomasin', 'woods', 'takes', 'clearing', 'result', 'sometimes', 'feels', 'imaginary', 'harold', 'pinterscripted', 'version', 'crucible', 'since', 'follows', 'desperate', 'lonely', 'souls', 'animal', 'traps', 'goats', 'fields', 'avoid', 'thinking', 'whats', 'really', 'troubling', 'takes', 'thomasins', 'consider', 'problems', 'caused', 'witch', 'demonic', 'enchantment', 'eventually', 'happens', 'signs', 'portents', 'particularly', 'evillooking', 'animals', 'tetchy']\n",
            "['creepy', 'beyond', 'belief', 'hereditary', 'movies', 'shouldnt', 'describe', 'detail', 'surprises', 'listener', 'wonder', 'dreamed', 'movie', 'sustains', 'throb', 'dread', 'throughout', 'first', 'minutes', 'final', 'offtherails', 'writerdirector', 'aster', 'structures', 'uncanny', 'events', 'youre', 'seeing', 'figments', 'imaginations', 'graham', 'family', 'cursed', 'biblical', 'genetic', 'disposition', 'towards', 'various', 'types', 'mental', 'illness', 'collette', 'stars', 'annie', 'graham', 'artist', 'mother', 'coping', 'death', 'mother', 'trying', 'finish', 'exhibition', 'dioramas', 'appear', 'depict', 'familys', 'annies', 'internal', 'state', 'wolff', 'annies', 'oldest', 'child', 'peter', 'sadeyed', 'pothead', 'drifting', 'milly', 'shapiro', 'plays', 'charlie', 'peters', 'younger', 'sister', 'disturbed', 'stare', 'statue', 'gabriel', 'byrne', 'plays', 'annies', 'stoic', 'kindhearted', 'husband', 'steve', 'wants', 'family', 'happy', 'struggles', 'peace', 'reeling', 'death', 'family', 'matriarch', 'learn', 'anything', 'cuddly', 'family', 'uncomfortable', 'frank', 'displays', 'emotion', 'anything', 'might', 'reveal', 'interiors', 'another', 'annie', 'tells', 'husband', 'going', 'movies', 'really', 'attending', 'grief', 'management', 'circle', 'meets', 'church', 'basement', 'peter', 'anesthetizes', 'marijuana', 'charlie', 'draws', 'obsessively', 'small', 'notebook', 'maybe', 'shouldnt', 'things', 'maybe', 'better', 'experience', 'story', 'deeper', 'hereditary', 'pulled', 'grateful', 'didnt', 'setting', 'relationship', 'movies', 'title', 'literate', 'extreme', 'hereditary', 'seems', 'inspired', 'array', 'classic', 'sources', 'inside', 'outside', 'horror', 'genre', 'rosemarys', 'exorcist', 'amityville', 'horror', 'texas', 'chainsaw', 'large', 'asian', 'horror', 'touchstones', 'grudge', 'intense', 'family', 'psychodramas', 'leigh', 'cassavetes', 'place', 'strongwilled', 'deeply', 'damaged', 'people', 'close', 'proximity', 'suffer', 'barelyconcealed', 'torment', 'sitting', 'finally', 'displays', 'emotional', 'violence', 'intense', 'bloodletting', 'surrealism', 'unspeakable', 'things', 'happen', 'family', 'throughout', 'every', 'experience', 'trauma', 'cracks', 'controlling', 'facades', 'exposes', 'emotional', 'fissures', 'family', 'whole', 'makes', 'wonder', 'perhaps', 'social', 'institutions', 'surrounding', 'intricate', 'practices', 'language', 'science']\n",
            "['houdini', 'would', 'active', 'prestige', 'insights', 'would', 'fatal', 'movies', 'problem', 'apprentice', 'magicians', 'robert', 'angier', 'jackman', 'alfred', 'borden', 'christian', 'volunteers', 'audience', 'milton', 'magician', 'invaluable', 'ricky', 'assist', 'tying', 'helpless', 'damsel', 'reality', 'roberts', 'julia', 'piper', 'perabo', 'lowering', 'chinese', 'water', 'torture', 'concealed', 'curtains', 'somehow', 'escapes', 'houdini', 'always', 'night', 'alfred', 'knots', 'tightly', 'cannot', 'escape', 'manager', 'michael', 'caine', 'rushes', 'onstage', 'drowning', 'lifelong', 'hatred', 'robert', 'alfred', 'frigid', 'ominous', 'alfred', 'rises', 'profession', 'hapless', 'alfred', 'assistant', 'olivia', 'played', 'scarlett', 'johansson', 'falls', 'bottom', 'reduced', 'performing', 'presents', 'illusion', 'named', 'transported', 'walks', 'stage', 'instantly', 'emerges', 'physically', 'possible', 'thing', 'claim', 'houdini', 'supernormal', 'robert', 'becomes', 'obsessed', 'finding', 'secret', 'trick', 'magicians', 'explain', 'illusions', 'peers', 'unless', 'money', 'changes', 'hands', 'trick', 'trick', 'transported', 'begins', 'agree', 'terrific', 'pledge', 'robert', 'discover', 'secret', 'prestige', 'treks', 'snows', 'colorado', 'visit', 'hidden', 'laboratory', 'reallife', 'nikola', 'tesla', 'david', 'bowie', 'manufactured', 'trick', 'alfred', 'tesla', 'discovererinventor', 'alternating', 'current', 'believed', 'capable', 'manner', 'wonders', 'genie', 'electricity', 'could', 'explain', 'transported', 'learn', 'learn', 'movie', 'believe', 'disappointment', 'nothing', 'trick', 'trick', 'sinking', 'heart', 'realized', 'prestige', 'jumped', 'rails', 'rules', 'thought', 'place', 'longer', 'applied', 'magic', 'though', 'bored', 'friends', 'years', 'cheesy', 'illusions', 'today', 'disappear', 'forehead', 'impressed', 'skills', 'required', 'closeup', 'magic', 'teddy', 'writerdirectors', 'gregory', 'thomas', 'cards', 'change', 'holding', 'hands', 'divine', 'intervention', 'fairly', 'holding']\n",
            "['insidious', 'affectionate', 'visit', 'haunted', 'house', 'movie', 'genre', 'seems', 'classic', 'contrast', 'queasycam', 'gorefests', 'depends', 'characters', 'atmosphere', 'sneaky', 'happenings', 'mounting', 'dread', 'terrifically', 'moviegoers', 'theyre', 'expecting', 'collaboration', 'director', 'james', 'writer', 'leigh', 'whannell', 'launched', 'franchise', 'movie', 'opens', 'unsuspecting', 'family', 'moving', 'house', 'found', 'amityville', 'multiple', 'listing', 'service', 'house', 'require', 'haunting', 'movie', 'rooms', 'nooks', 'crannies', 'corridors', 'staircases', 'closets', 'shadows', 'attic', 'course', 'although', 'modern', 'houses', 'paranormal', 'activity', 'movies', 'genre', 'really', 'requires', 'creaky', 'bells', 'whistles', 'lambert', 'family', 'seems', 'happy', 'estate', 'transaction', 'patrick', 'wilson', 'teacher', 'renai', 'byrne', 'writes', 'songs', 'young', 'dalton', 'simpkins', 'curious', 'thats', 'sneaks', 'attic', 'falls', 'treacherous', 'ladder', 'immediately', 'brain', 'scans', 'reveal', 'injury', 'could', 'something', 'renai', 'positive', 'something', 'sneaky', 'happening', 'boxes', 'moved', 'around', 'unseen', 'hands', 'doors', 'windows', 'renai', 'begin', 'stark', 'apparition', 'fearsome', 'specter', 'imagine', 'beast', 'hades', 'begins', 'movie', 'probably', 'wants', 'blame', 'caring', 'trying', 'avoid', 'problems', 'better', 'identify', 'example', 'absent', 'father', 'syndrome', 'screenwriters', 'convenience', 'getting', 'alone', 'imagining', 'things', 'family', 'needs', 'psychic', 'named', 'elise', 'rainier', 'shaye', 'sends', 'ghostbusters', 'angus', 'sampson', 'writer', 'leigh', 'whannell', 'singularly', 'incompetent', 'provide', 'chuckles', 'since', 'whole', 'teeters', 'comedy', 'probably', 'shaye', 'turns', 'brings', 'cause', 'serious', 'alarm', 'cases', 'malevolent', 'presence', 'hapless', 'lamberts', 'answers', 'questions', 'necessarily', 'remain', 'theoretical', 'metaphysical', 'level', 'practical', 'level', 'purpose', 'presence', 'generate', 'startling', 'bangs', 'frequent', 'intervals', 'materialize', 'unexpectedly', 'horrifying', 'nuisance', 'purpose', 'short']\n",
            "['necessarily', 'experience', 'would', 'shrink', 'appointment', 'diverting', 'reverie', 'primal', 'nightmare', 'something', 'mused', 'rather', 'analyzed', 'something', 'forget', 'nearly', 'hours', 'passes', 'quickly', 'pleasantly', 'things', 'amazing', 'amazingly', 'pretty', 'cities', 'pulsing', 'threedimensional', 'chases', 'fights', 'usually', 'govern', 'space', 'motion', 'marion', 'better', 'explain', 'living', 'since', 'exhaustive', 'enumeration', 'metaphysical', 'rules', 'profession', 'occupies', 'awful', 'dialogue', 'script', 'using', 'combination', 'drugs', 'wires', 'vaguely', 'matrixy', 'methods', 'coworkers', 'penetrate', 'minds', 'slumbering', 'targets', 'usually', 'purpose', 'extracting', 'hidden', 'information', 'wealthy', 'client', 'named', 'saito', 'watanabe', 'induces', 'difficult', 'trick', 'known', 'inception', 'involves', 'planting', 'someone', 'fruit', 'world', 'person', 'occasion', 'exclaim', 'trying', 'induce', 'young', 'cillian', 'murphy', 'whose', 'father', 'postlethwaite', 'business', 'rival', 'break', 'company', 'inherit', 'commercial', 'intrigue', 'provides', 'banal', 'material', 'foundation', 'phantasmagorical', 'world', 'built', 'content', 'dreams', 'company', 'dropped', 'sleeping', 'often', 'curiously', 'pedestrian', 'group', 'chases', 'another', 'across', 'rainsoaked', 'streets', 'angeles', 'corridors', 'retroelegant', 'hotel', 'snowmobiles', 'alpine', 'landscape', 'james', 'might', 'recently', 'departed', 'whose', 'depends', 'suppressing', 'emotions', 'memories', 'cannot', 'control', 'typical', 'christopher', 'nolan', 'guilt', 'sorrow', 'sense', 'unfinished', 'psychic', 'business', 'pushing', 'conscious', 'intentions', 'marks', 'kinship', 'christian', 'batman', 'accomplishments', 'mainly', 'technical', 'faint', 'praise', 'insist', 'expecting', 'something', 'commercial', 'entertainment', 'audiences', 'expect', 'partly', 'suspect', 'inspired', 'feverish', 'early', 'notices', 'hailing', 'masterpiece', 'desire', 'certifiably', 'great', 'superhero', 'movie', 'overrating', 'cases', 'virtuosity', 'conjurer', 'brilliant', 'scenes', 'stunning', 'pieces', 'along', 'ability', 'invest', 'grandeur', 'novelty', 'conventional', 'themes', 'fostered', 'illusion', 'visionary']\n",
            "['title', 'review', 'authors', 'rohini', 'sourcedate', 'rediff', 'november', 'keywords', 'naina', 'preity', 'zinta', 'bachchan', 'total', 'count', 'words', 'trimmed', 'brief', 'summary', 'student', 'naina', 'friends', 'classmate', 'skirtchaser', 'rohit', 'family', 'tensions', 'widowed', 'restaurant', 'difficulties', 'charismatic', 'moves', 'neighbourhood', 'changes', 'everyones', 'lives', 'bringing', 'breath', 'fresh', 'although', 'loses', 'heart', 'naina', 'secret', 'prevents', 'marrying', 'whether', 'remake', 'hrishikesh', 'mukherjees', 'anand', 'answer', 'khans', 'character', 'largely', 'inspired', 'rajesh', 'khannas', 'happygolucky', 'charmer', 'anand', 'whole', 'different', 'kicks', 'manhattan', 'resident', 'naina', 'catherine', 'kapur', 'preity', 'zinta', 'narrating', 'story', 'daily', 'morning', 'characters', 'nainas', 'introduced', 'energy', 'naina', 'jennifer', 'bachchan', 'jeans', 'shares', 'lovehate', 'relationship', 'motherinlaw', 'sushma', 'loudest', 'punjabi', 'mommy', 'restaurant', 'grandmother', 'singer', 'together', 'chaos', 'enough', 'reason', 'naina', 'boring', 'bespectacled', 'spinster', 'takes', 'seriously', 'interesting', 'person', 'nainas', 'buddy', 'rohit', 'patel', 'uncool', 'women', 'thinks', 'typical', 'gujarati', 'whose', 'father', 'satish', 'business', 'called', 'dhokla', 'enter', 'funny', 'turns', 'proverbial', 'angel', 'nainas', 'carnegiejim', 'carreyrichard', 'geredeepak', 'chopra', 'rolled', 'zooms', 'nainas', 'neighbourhood', 'singing', 'pretty', 'woman', 'everyone', 'sight', 'including', 'uppity', 'naina', 'naina', 'hates', 'first', 'sight', 'overwhelmed', 'amans', 'charm', 'rohit', 'takes', 'influence', 'people', 'dance', 'interval', 'interval', 'bring', 'tissues', 'entire', 'audience', 'discover', 'seems', 'marks', 'director', 'nikhil', 'advani', 'producer', 'karan', 'johar', 'letting', 'proceedings', 'heavy', 'climax', 'revelation', 'superbly', 'picturised', 'described', 'clapworthy', 'preity', 'zinta', 'slips', 'character', 'beautifully', 'right', 'preppy', 'spectacles', 'nononsense', 'demeanor', 'preity', 'captures', 'spirit', 'naina', 'kapur', 'never', 'looked', 'pretty']\n",
            "['although', 'extraordinary', 'world', 'drama', 'notable', 'technical', 'director', 'photography', 'roger', 'deakins', 'constructed', 'perceived', 'unbroken', 'effectiveness', 'central', 'actors', 'george', 'mackay', 'mackay', 'plays', 'young', 'british', 'soldier', 'schofield', 'happens', 'nearby', 'mates', 'blake', 'deancharles', 'chapman', 'accepts', 'dangerous', 'assignment', 'cross', 'enemy', 'lines', 'deliver', 'message', 'british', 'troops', 'blake', 'personal', 'stake', 'assignment', 'brother', 'among', 'troops', 'schofield', 'think', 'mission', 'sticks', 'friend', 'anyway', 'first', 'thing', 'strikes', 'young', 'barely', 'boyhood', 'mendes', 'captures', 'tense', 'sadness', 'cowrote', 'krysty', 'wilsoncairns', 'dedicated', 'grandfather', 'veteran', 'glorious', 'pulsing', 'energy', 'carefully', 'polished', 'picture', 'strives', 'gritty', 'realism', 'opens', 'moment', 'repose', 'blake', 'schofield', 'lounging', 'around', 'reveling', 'ultimate', 'luxury', 'killing', 'informed', 'report', 'special', 'assignment', 'general', 'gives', 'order', 'businesslike', 'cleareyed', 'colin', 'looks', 'fully', 'aware', 'likelihood', 'neither', 'camera', 'follows', 'bleak', 'safety', 'trenches', 'embark', 'bonerattling', 'across', 'horses', 'ringed', 'haloes', 'flies', 'corpses', 'fellow', 'soldiers', 'twisted', 'deformed', 'shallow', 'graves', 'mendes', 'moves', 'heroes', 'field', 'choppeddown', 'cherry', 'trees', 'desolate', 'lifeless', 'promise', 'stones', 'ground', 'trees', 'silently', 'young', 'german', 'soldier', 'hands', 'mendes', 'careful', 'pacing', 'never', 'assaulted', 'weight', 'every', 'movement', 'silent', 'dignity', 'overarching', 'calmness', 'intense', 'moments', 'actors', 'moving', 'world', 'terror', 'glory', 'terrific', 'sullen', 'moment', 'radiantly', 'goodnatured', 'haunts', 'screen', 'modern', 'young', 'staunch', 'gotten', 'inspires', 'movie']\n",
            "['intimacy', 'arrival', 'arrival', 'remarkable', 'denis', 'villeneuve', 'adams', 'plays', 'louise', 'banks', 'worldclass', 'linguist', 'needs', 'although', 'decidedly', 'esoteric', 'aliens', 'arrived', 'earth', 'dozen', 'giant', 'craft', 'scattered', 'across', 'globe', 'wilds', 'montana', 'colonel', 'weber', 'would', 'louise', 'learn', 'language', 'flight', 'country', 'introduced', 'partner', 'endeavor', 'genial', 'physicist', 'named', 'donelly', 'chopper', 'bearing', 'scientists', 'skims', 'plains', 'alien', 'craft', 'emerges', 'literally', 'edifice', 'looks', 'black', 'floating', 'weightlessly', 'ground', 'giant', 'skippingstone', 'poised', 'accompanied', 'soldiers', 'technicians', 'louise', 'enter', 'craft', 'means', 'square', 'shaft', 'inside', 'however', 'gravity', 'releases', 'shifts', 'degrees', 'shaft', 'corridor', 'walls', 'floor', 'responded', 'sudden', 'inversion', 'right', 'corridor', 'hosts', 'giant', 'squidlike', 'beings', 'float', 'transparent', 'barrier', 'louise', 'owing', 'seven', 'symmetrical', 'tentacles', 'efforts', 'verbal', 'communication', 'unsuccessful', 'written', 'language', 'proves', 'promising', 'starfishlike', 'hands', 'heptapods', 'swirling', 'circles', 'louise', 'fully', 'formed', 'sentence', 'neither', 'beginning', 'communication', 'creatures', 'moves', 'slowly', 'least', 'begins', 'events', 'unspool', 'sense', 'louise', 'entirely', 'comprehend', 'correct', 'decode', 'language', 'constrained', 'efforts', 'colonel', 'weber', 'especially', 'agent', 'named', 'halpern', 'michael', 'stuhlbarg', 'tourism', 'halpern', 'greatly', 'concerned', 'accidentally', 'teach', 'learn', 'arrival', 'stately', 'elegant', 'sober', 'deliberate', 'suffice', 'arrival', 'movie', 'twist', 'gimmick', 'entire', 'strong', 'arrival', 'movie', 'first', 'frame', 'confess', 'initially', 'thought', 'gifts', 'might', 'wasted', 'spaceinvader', 'performance', 'gives', 'mesmerizingly', 'turns', 'uplifting', 'sorrowful', 'unmoved', 'conclusion', 'considerably', 'harder', 'stuff']\n",
            "['mighty', 'ducks', 'movie', 'might', 'written', 'computer', 'program', 'tells', 'story', 'misfit', 'coach', 'handed', 'losers', 'turns', 'winners', 'redeeming', 'usual', 'supporting', 'characters', 'opposing', 'coach', 'persecuted', 'divorced', 'mother', 'falls', 'tough', 'rebel', 'needs', 'channel', 'anger', 'movie', 'minneapolis', 'deals', 'hockey', 'leagues', 'earlier', 'applied', 'baseball', 'bears', 'football', 'wildcats', 'basketball', 'hoosiers', 'hockey', 'youngblood', 'evidence', 'clear', 'hollywood', 'likes', 'wouldbe', 'screenwriter', 'desperate', 'videos', 'movies', 'simply', 'apply', 'formula', 'sport', 'hasnt', 'covered', 'lacrosse', 'maybe', 'special', 'attention', 'hoosiers', 'since', 'stars', 'emilio', 'estevez', 'coach', 'lawyer', 'arrested', 'crusty', 'ducksworth', 'thinks', 'leave', 'absence', 'coaches', 'hockey', 'estevez', 'arrives', 'first', 'practice', 'session', 'limousine', 'inexplicable', 'terms', 'inane', 'scenes', 'little', 'hockey', 'stars', 'flatten', 'noses', 'glass', 'season', 'starts', 'screenplay', 'steven', 'brill', 'leaves', 'nothing', 'chance', 'single', 'surprise', 'small', 'sport', 'march', 'lockstep', 'obligatory', 'flashbacks', 'estevezs', 'childhood', 'coach', 'smith', 'worthless', 'missed', 'important', 'course', 'villain', 'coaching', 'opponents', 'ducks', 'obligatory', 'stops', 'estevez', 'early', 'games', 'endure', 'change', 'ducks', 'named', 'mrducksworth', 'uniforms', 'teams', 'quack', 'leads', 'playoff', 'games', 'prizes', 'predicting', 'whether', 'everything', 'depends', 'final', 'coach', 'makes', 'stirring', 'speech', 'doesnt', 'matter', 'whether', 'movie', 'sweet', 'innocent', 'certain', 'level', 'might', 'appeal', 'younger', 'doubt', 'ambitions', 'reach', 'beyond']\n",
            "['title', 'pursuit', 'happyness', 'review', 'authors', 'frederic', 'brussat', 'sourcedate', 'spirituality', 'practice', 'december', 'keywords', 'scanner', 'smith', 'thandie', 'newton', 'jaden', 'smith', 'total', 'count', 'words', 'trimmed', 'brief', 'summary', 'struggle', 'single', 'father', 'chris', 'gardner', 'smith', 'evicted', 'apartment', 'young', 'jaden', 'christopher', 'smith', 'alone', 'place', 'though', 'chris', 'eventually', 'lands', 'intern', 'prestigious', 'brokerage', 'position', 'money', 'shelters', 'endure', 'hardships', 'chris', 'refuses', 'despair', 'struggles', 'create', 'better', 'chris', 'gardener', 'smith', 'trying', 'living', 'selling', 'scanner', 'machines', 'francisco', 'doctors', 'medical', 'centers', 'bother', 'around', 'clunky', 'machines', 'enjoys', 'making', 'connections', 'people', 'although', 'natural', 'salesman', 'africanamerican', 'believes', 'destined', 'better', 'career', 'linda', 'thandie', 'newton', 'working', 'bills', 'behind', 'fiveyear', 'christopher', 'jaden', 'christopher', 'smith', 'carecenter', 'outside', 'building', 'pursuit', 'happyness', 'misspelled', 'convinced', 'little', 'details', 'difference', 'constant', 'strain', 'financial', 'pressure', 'linda', 'handle', 'decides', 'relative', 'restaurant', 'although', 'husband', 'disappointment', 'confidence', 'leaves', 'christopher', 'chriss', 'persistence', 'chosen', 'internship', 'program', 'prestigious', 'stock', 'brokerage', 'determining', 'factor', 'seems', 'impresses', 'officers', 'solving', 'rubiks', 'record', 'obvious', 'special', 'numbers', 'addition', 'flair', 'sales', 'hitches', 'lease', 'program', 'salary', 'interns', 'eventually', 'hired', 'meanwhile', 'financial', 'condition', 'grows', 'shaky', 'scanning', 'machines', 'stolen', 'evicted', 'apartment', 'small', 'motel', 'forced', 'streets', 'father', 'sleeping', 'bathroom', 'station', 'luckily', 'harrowing', 'experience', 'pretending', 'hiding', 'dinosaurs']\n",
            "['instinctively', 'afraid', 'natural', 'things', 'snakes', 'barking', 'taught', 'walking', 'traffic', 'touching', 'electrical', 'horror', 'films', 'hardwired', 'instinctive', 'fears', 'probe', 'deeper', 'place', 'movies', 'sophisticated', 'threats', 'villain', 'actor', 'shark', 'shark', 'blair', 'witch', 'project', 'extraordinarily', 'effective', 'horror', 'knows', 'fancy', 'special', 'effects', 'digital', 'monsters', 'characters', 'woods', 'noises', 'night', 'disturbing', 'stick', 'figures', 'hanging', 'trees', 'discovers', 'slime', 'backpack', 'imaginations', 'inflamed', 'witches', 'hermits', 'child', 'murderers', 'forest', 'running', 'smokes', 'scared', 'merely', 'chased', 'movie', 'celebration', 'rockbottom', 'production', 'valuesof', 'doesnt', 'bells', 'whistles', 'scare', 'presented', 'documentary', 'learn', 'opening', 'titles', 'three', 'young', 'filmmakers', 'wooded', 'search', 'legendary', 'witch', 'later', 'footage', 'found', 'films', 'style', 'production', 'strategy', 'enhance', 'illusion', 'documentary', 'characters', 'names', 'actors', 'footage', 'camerasa', 'color', 'video', 'camcorder', 'operated', 'director', 'heather', 'heather', 'donahue', 'black', 'white', 'camera', 'operated', 'cameraman', 'joshua', 'leonard', 'michael', 'williams', 'sound', 'three', 'carry', 'backpacks', 'prepared', 'three', 'nights', 'sleeping', 'tents', 'woods', 'doesnt', 'buried', 'structure', 'written', 'directed', 'eduardo', 'sanchez', 'daniel', 'myrick', 'insidious', 'introduces', 'information', 'without', 'seeming', 'heather', 'arrive', 'small', 'burkittsville', 'formerly', 'blair', 'interview', 'locals', 'vaguely', 'heard', 'blair', 'witch', 'ominous', 'legends', 'think', 'documentary', 'discovery', 'channel', 'something', 'children', 'killed', 'woods', 'bodies', 'disappeared', 'strange', 'things', 'happened', 'coffin', 'movie', 'wisely', 'doesnt', 'present', 'information', 'trusted', 'gossip', 'legend', 'passed', 'along', 'halfjokingly', 'local', 'people', 'heather', 'footage', 'warning', 'woods', 'situation', 'gradually', 'turns', 'ominous', 'circles', 'something', 'happens', 'nature', 'begins', 'oppressive', 'ominous', 'signs', 'bundles', 'twigs', 'unsettling', 'stick', 'figures', 'crude', 'objects', 'scarier', 'elaborate', 'effects', 'created', 'haunts']\n",
            "['quentin', 'audacious', 'movie', 'annoy', 'startle', 'others', 'demonstrate', 'thing', 'director', 'quixotic', 'delights', 'starters', 'stage', 'premiere', 'cannes', 'believe', 'spoiling', 'anything', 'provides', 'world', 'muchneeded', 'alternative', 'ending', 'title', 'ripped', 'bmovie', 'western', 'sound', 'ennio', 'morricone', 'opening', 'music', 'location', 'movie', 'theater', 'embeds', 'movies', 'three', 'iconic', 'characters', 'drawn', 'broadly', 'three', 'played', 'christoph', 'waltz', 'melanie', 'laurent', 'tarantino', 'knack', 'taking', 'character', 'making', 'character', 'definitive', 'larger', 'approaching', 'satire', 'intensity', 'quite', 'going', 'story', 'begins', 'nazioccupied', 'france', 'early', 'cruel', 'droll', 'landa', 'waltz', 'arrives', 'isolated', 'dairy', 'believes', 'farmer', 'denis', 'menochet', 'hiding', 'right', 'young', 'woman', 'named', 'shosanna', 'melanie', 'laurent', 'flees', 'woods', 'scene', 'performance', 'throughout', 'movie', 'christoph', 'waltz', 'deserves', 'oscar', 'nomination', 'actor', 'award', 'cannes', 'creates', 'character', 'unlike', 'indeed', 'anyone', 'movie', 'sardonic', 'ironic', 'mannered', 'absurd', 'raine', 'leader', 'basterds', 'tarantino', 'probably', 'wants', 'countless', 'films', 'pictures', 'version', 'italian', 'worthy', 'brother', 'shosanna', 'played', 'laurent', 'curvy', 'siren', 'lipstick', 'slinky', 'dress', 'shosanna', 'calculatingly', 'flirts', 'frederick', 'zoller', 'daniel', 'bruhl', 'movie', 'persuades', 'joseph', 'goebbels', 'premiere', 'theater', 'tarantino', 'resists', 'categorization', 'course', 'nothing', 'movie', 'possible', 'except', 'bloody', 'entertaining', 'master', 'bringing', 'performances', 'toward', 'iconographic', 'exaggeration', 'tarantino', 'considerable', 'wanted', 'settle', 'movies', 'relish', 'immediately', 'played', 'cannes', 'asked', 'thought', 'either', 'worst', 'hardly', 'happened', 'answer', 'tarantino', 'films', 'growing', 'enough']\n",
            "['latest', 'canadian', 'director', 'michael', 'dowse', 'fubar', 'patterned', 'rocky', 'follows', 'seann', 'william', 'unlikely', 'junior', 'leagues', 'unlicensed', 'national', 'hockey', 'league', 'standin', 'inspired', 'story', 'hockey', 'smith', 'though', 'reported', 'biography', 'adapted', 'screen', 'baruchel', 'goldberg', 'aside', 'giddy', 'violence', 'scatological', 'humor', 'share', 'common', 'bygone', 'hybrid', 'sportscomedies', 'longest', 'major', 'league', 'necessary', 'roughness', 'opens', 'massachusetts', 'scott', 'works', 'barroom', 'bouncer', 'bighearted', 'apologizes', 'patrons', 'knocking', 'alley', 'defending', 'bigmouthed', 'friend', 'baruchel', 'local', 'hockey', 'scott', 'called', 'hometown', 'rechristened', 'inability', 'skate', 'offset', 'talent', 'taking', 'opponents', 'swift', 'eventually', 'transferred', 'halifax', 'protect', 'selfdestructive', 'player', 'marcandré', 'grondin', 'preparing', 'toetotoe', 'graying', 'leagueenforcer', 'legend', 'leavens', 'wellworn', 'sportsflick', 'trajectory', 'factors', 'first', 'effective', 'practically', 'acrobatic', 'humor', 'unabashedly', 'crass', 'violent', 'establishing', 'equilibrium', 'faithfully', 'rendered', 'splatter', 'jokes', 'skullfucking', 'secret', 'weapon', 'scott', 'david', 'excellent', 'models', 'excellent', 'southland', 'tales', 'scott', 'moves', 'smugdouche', 'mugging', 'american', 'films', 'plays', 'gentle', 'giant', 'lovable', 'balancing', 'violence', 'humor', 'sweetness', 'would', 'enough', 'dowse', 'flurrying', 'riposte', 'toothless', 'tradition', 'hockey', 'films', 'titles', 'breakaway', 'score', 'hockey', 'musical', 'hockey', 'movie', 'approach', 'violence', 'headon', 'without', 'hectoring', 'handwringing', 'essential', 'element', 'sport', 'inhumane', 'sideshow', 'george', 'former', 'reigning', 'champ', 'narrow', 'hockeyfilm', 'canon', 'descends', 'anticlimactic', 'lategame', 'zaniness', 'fully', 'commits', 'theme', 'violence', 'paper', 'peckinpah']\n",
            "['since', 'cracked', 'cable', 'television', 'audiences', 'trutv', 'hosts', 'joseph', 'gatto', 'james', 'murray', 'brian', 'quinn', 'salvatore', 'vulcano', 'bring', 'antics', 'screen', 'jokers', 'movie', 'improv', 'hidden', 'murray', 'years', 'filming', 'saved', 'dozens', 'crazy', 'ideas', 'crazy', 'afford', 'halfhour', 'episode', 'stuck', 'movie', 'structured', 'differently', 'hilarious', 'array', 'pranks', 'edited', 'together', 'instead', 'strings', 'together', 'fictional', 'storyline', 'nearly', 'order', 'decide', 'concert', 'tickets', 'crosscountry', 'competing', 'various', 'reality', 'challenges', 'involve', 'member', 'public', 'three', 'instructions', 'earpiece', 'hosts', 'hilariously', 'uncomfortable', 'others', 'elicit', 'genuine', 'terrified', 'murray', 'locked', 'motel', 'white', 'bengal', 'tiger', 'attached', 'chain', 'almost', 'soiled', 'movie', 'movie', 'audiences', 'enjoy', 'segment', 'involving', 'spreading', 'ashes', 'lincoln', 'memorial', 'reflecting', 'biggest', 'comes', 'infiltrating', 'atlanta', 'hawks', 'interview', 'increasingly', 'famous', 'faces', 'harder', 'undercover', 'happens', 'murray', 'honestly', 'thing', 'means', 'popular', 'rather', 'little', 'tougher', 'nobody', 'recognizes', 'would', 'problem', 'culmination', 'lifetime', 'rising', 'comedy', 'ranks', 'school', 'buddies', 'formed', 'standup', 'troupe', 'tenderloins', 'performing', 'various', 'comedy', 'clubs', 'around', 'pitched', 'pilots', 'never', 'series', 'surprised', 'lasted', 'nearly', 'decade', 'really', 'embraced', 'embraced', 'momentum', 'carried', 'episodes', 'television', 'ultimately', 'gatto', 'something', 'people', 'relate', 'enjoy', 'think', 'going', 'something', 'behind', 'scenes', 'seriousness', 'cherish', 'friendship', 'murray', 'think', 'funniest', 'heart', 'wears', 'emotions', 'sleeve', 'greatest', 'strength', 'greatest', 'weakness', 'sweet']\n",
            "['movies', 'timelines', 'stirring', 'chronology', 'switching', 'order', 'events', 'films', 'however', 'truly', 'turns', 'narrative', 'editing', 'specifically', 'artistic', 'endeavor', 'beginning', 'playing', 'scene', 'scene', 'reverse', 'complicate', 'matters', 'storylines', 'exist', 'first', 'color', 'moving', 'backwards', 'scene', 'initially', 'completely', 'reverse', 'disconnected', 'final', 'second', 'blackandwhite', 'unfolds', 'order', 'conclusion', 'stories', 'blackandwhite', 'turning', 'color', 'baffling', 'interchanges', 'marked', 'flashbacks', 'visions', 'director', 'christopher', 'second', 'feature', 'garnered', 'academy', 'award', 'nominations', 'editing', 'screenplay', 'though', 'relatively', 'obscure', 'original', 'release', 'success', 'subsequent', 'films', 'particularly', 'knight', 'trilogy', 'would', 'cause', 'audiences', 'revisit', 'early', 'masterpiece', 'storytelling', 'style', 'leonard', 'pearce', 'brain', 'damage', 'condition', 'caused', 'narrates', 'neonoirish', 'fashion', 'describing', 'symptoms', 'cause', 'amnesia', 'similar', 'remembers', 'everything', 'leading', 'attack', 'received', 'injury', 'trying', 'defend', 'nothing', 'beyond', 'manageable', 'strict', 'discipline', 'habits', 'routines', 'takes', 'plenty', 'notes', 'photographs', 'tattoos', 'inked', 'across', 'detailing', 'facts', 'raped', 'murdered', 'purpose', 'revenge', 'remember', 'satisfaction', 'system', 'unlike', 'sammy', 'jankis', 'stephen', 'tobolowsky', 'similar', 'condition', 'events', 'complete', 'surprises', 'mysteries', 'audience', 'characters', 'spontaneously', 'solve', 'several', 'sequences', 'start', 'sudden', 'action', 'chase', 'leonard', 'viewer', 'uncover', 'predicament', 'every', 'possesses', 'ulterior', 'motives', 'nolan', 'seems', 'intent', 'deceptive', 'imagery', 'visual', 'memories', 'distorted', 'influenced', 'planted', 'manipulates', 'audience', 'ensuring', 'predicting', 'moment', 'completely', 'impossible', 'firstrate', 'thriller', 'mindbogglingly', 'unique', 'storytelling', 'device', 'wickedly', 'clever', 'murdermystery', 'movie', 'never', 'mainstream', 'audiences', 'although', 'terribly', 'complex', 'editing', 'labyrinthine', 'multiple', 'viewings', 'almost', 'certainly', 'necessary', 'never', 'boring', 'paced', 'enthralling', 'little', 'details', 'discovered', 'every', 'moments', 'include', 'overlapping', 'mentally', 'organize', 'rearranged', 'segments', 'confuse', 'viewers', 'perhaps', 'point', 'singular', 'narrative', 'expert', 'character', 'actors', 'interesting', 'inventive', 'intelligent', 'cinematic', 'experiments', 'conducted']\n",
            "['inexorable', 'cuarons', 'gravity', 'doctoral', 'theses', 'penned', 'breathcatching', 'realistic', 'gorgeously', 'choreographed', 'entirely', 'mesmerizing', 'opening', 'director', 'alfonso', 'cuaron', 'conjured', 'gravity', 'scene', 'managed', 'works', 'viewers', 'psyche', 'leave', 'technical', 'stuff', 'students', 'immersive', 'cinema', 'rarely', 'manages', 'minutes', 'without', 'digitally', 'managed', 'single', 'cuaron', 'sends', 'camera', 'swooping', 'graceful', 'around', 'orbiting', 'repair', 'theyre', 'astronauts', 'working', 'hubble', 'space', 'telescope', 'earth', 'shuttle', 'idled', 'nearby', 'disaster', 'imminent', 'though', 'themwe', 'first', 'spacecraft', 'majestic', 'screenfilling', 'planet', 'isolation', 'sheer', 'cosmic', 'puniness', 'salient', 'feature', 'camera', 'floats', 'toward', 'perhaps', 'toward', 'chattering', 'faintly', 'staticky', 'nasaspeak', 'close', 'enough', 'discern', 'george', 'clooneys', 'veteran', 'space', 'walker', 'cracking', 'sails', 'around', 'sandra', 'bullocks', 'newbie', 'struggling', 'gamely', 'circuits', 'wiring', 'bolts', 'floats', 'straight', 'auditorium', 'queasy', 'stomach', 'dazzling', 'starbacked', 'blueandwhite', 'planet', 'register', 'physics', 'spacewalking', 'force', 'required', 'hubble', 'strut', 'another', 'happens', 'electronic', 'panel', 'floats', 'reach', 'mission', 'control', 'chimes', 'occasionally', 'voice', 'apollo', 'harris', 'mischievously', 'enough', 'words', 'encouragement', 'alarm', 'russian', 'satellite', 'exploded', 'sending', 'shards', 'potentially', 'lethal', 'space', 'debris', 'debris', 'becomes', 'visible', 'background', 'remember', 'still', 'single', 'hubble', 'shuttle', 'struts', 'panels', 'sending', 'astronauts', 'reeling', 'bullock', 'whose', 'anxiety', 'outside', 'enclosed', 'capsule', 'evident', 'moored', 'equipment', 'repairing', 'spinning', 'headoverheels', 'blackness', 'camera', 'joins', 'point', 'stars', 'streaks', 'breath', 'coming', 'rapidly', 'vision', 'disorientation', 'disorientation', 'clooney', 'tries', 'focus', 'position', 'doubt', 'filmmakers', 'reasons', 'meant', 'bullock', 'curled', 'fetal', 'position', 'signaling', 'moment', 'rebirth', 'spiritual', 'questions', 'might', 'reasonably', 'occur', 'someone', 'working', 'grief', 'surrounded', 'cosmic', 'infinity', 'space']\n",
            "['pearl', 'harbor', 'twohour', 'movie', 'squeezed', 'three', 'hours', 'japanese', 'staged', 'surprise', 'attack', 'american', 'triangle', 'centerpiece', 'minutes', 'redundant', 'special', 'effects', 'surrounded', 'story', 'stunning', 'banality', 'directed', 'without', 'grace', 'vision', 'originality', 'although', 'quoting', 'lines', 'dialog', 'admire', 'filmmakers', 'aimed', 'audience', 'heard', 'pearl', 'harbor', 'perhaps', 'world', 'sense', 'history', 'strategy', 'context', 'according', 'movie', 'japan', 'attacked', 'pearl', 'harbor', 'america', 'supply', 'month', 'reserve', 'would', 'going', 'restore', 'sources', 'perhaps', 'imperialist', 'designs', 'movie', 'doesnt', 'predict', 'viewers', 'leave', 'theater', 'sincerely', 'confused', 'japanese', 'china', 'movies', 'portrait', 'japanese', 'oblique', 'japanese', 'audiences', 'little', 'complain', 'apart', 'small', 'several', 'scenes', 'japanese', 'command', 'debates', 'military', 'tactics', 'dialog', 'strictly', 'expository', 'state', 'facts', 'emerge', 'personalities', 'passions', 'american', 'story', 'centers', 'childhood', 'friends', 'tennessee', 'standardissue', 'screenplay', 'names', 'mccawley', 'affleck', 'danny', 'walker', 'hartnett', 'enter', 'corps', 'nurse', 'evelyn', 'johnson', 'beckinsalefirst', 'falls', 'reported', 'danny', 'shred', 'conviction', 'chemistry', 'triangle', 'results', 'returns', 'alive', 'hawaii', 'shortly', 'pearl', 'harbor', 'angry', 'evelyn', 'falling', 'danny', 'inspiring', 'timeless', 'didnt', 'turned', 'aliveand', 'happened', 'involving', 'material', 'comes', 'jimmy', 'doolittle', 'baldwin', 'leads', 'famous', 'tokyo', 'flying', 'bombers', 'decks', 'carriers', 'hoping', 'crashland', 'china', 'point', 'really', 'planes', 'bombing', 'ships', 'explosions', 'fireballs', 'roars', 'soundtrack', 'bodies', 'flying', 'people', 'running', 'fighters', 'strafing', 'entertaining', 'moving', 'simply', 'appalling', 'slaughter', 'filmmakers', 'think', 'unrelieved', 'intelligence', 'viewpoint', 'insight', 'three', 'thousand', 'movie', 'unremarkable', 'action', 'movie', 'pearl', 'harbor', 'supplies', 'subject', 'inspiration']\n",
            "['scant', 'minutes', 'already', 'delivered', 'sequence', 'interior', 'exterior', 'shots', 'explosion', 'editor', 'jennifer', 'transforms', 'perfect', 'action', 'microsecond', 'reminded', 'something', 'months', 'conspired', 'forget', 'cinematic', 'scale', 'operates', 'physiological', 'level', 'stomachpit', 'rumbles', 'ludwig', 'score', 'dilatedpupil', 'responses', 'hoyte', 'cinematography', 'delivers', 'magnificence', 'whether', 'observing', 'narratively', 'superfluous', 'catamaran', 'weave', 'jeffrey', 'immaculately', 'creaseless', 'costumes', 'seriously', 'mindboggling', 'aspect', 'might', 'ironing', 'budget', 'unnamed', 'character', 'quickly', 'inducted', 'mysteries', 'process', 'object', 'person', 'entropy', 'reversed', 'making', 'appear', 'moving', 'lamely', 'forward', 'spooling', 'backward', 'inversionrelated', 'mission', 'leads', 'first', 'fixer', 'delightful', 'robert', 'pattinson', 'useful', 'action', 'chops', 'physics', 'mumbai', 'dealer', 'dimple', 'kapadia', 'whose', 'fortress', 'apartment', 'accessed', 'bungee', 'thence', 'villainous', 'ukrainian', 'squillionaire', 'andrei', 'sator', 'kenneth', 'branagh', 'accessed', 'elizabeth', 'debicki', 'miserable', 'imperiled', 'dealer', 'loathes', 'spoiler', 'sensitivity', 'might', 'luckiest', 'break', 'absolving', 'attempting', 'explanation', 'contorted', 'worry', 'scientist', 'played', 'clémence', 'poésy', 'exclusively', 'deliver', 'exposition', 'eventually', 'understand', 'advice', 'anyone', 'offers', 'suffice', 'timeinversion', 'impressive', 'grander', 'architecture', 'widely', 'surmised', 'loosely', 'resembles', 'palindrome', 'single', 'scenes', 'elements', 'forward', 'others', 'reverse', 'similar', 'created', 'entire', 'dreamworld', 'mythology', 'revolvinghallway', 'tussle', 'become', 'iconic', 'sequence', 'inversion', 'poses', 'civilizationannihilating', 'threat', 'killer', 'scene', 'corridor', 'fight', 'twice', 'brain', 'clicks', 'combatants', 'fighting', 'forward', 'backward', 'sheer', 'howdidtheydothat', 'ingenuity', 'dazzling', 'dazzles', 'senses', 'heart', 'criticism', 'common', 'original', 'films', 'widely', 'recognized', 'nolan', 'blind', 'spots', 'evidence', 'depressing', 'actress', 'debicki', 'saddled', 'cipher', 'given', 'character', 'responsible', 'decisions', 'everyone', 'performs', 'perfection', 'especially', 'historyless', 'protagonist', 'proves', 'superheroes', 'capes']\n",
            "['movie', 'blues', 'blahs', 'third', 'feels', 'bigscreen', 'comicbook', 'adaptations', 'ready', 'studio', 'talking', 'fourth', 'aesthetically', 'conceptually', 'wrung', 'fizzled', 'rather', 'fizzy', 'latest', 'installment', 'spiderbitesboy', 'adventure', 'story', 'shoots', 'swings', 'every', 'often', 'sweet', 'mostly', 'plods', 'plods', 'along', 'heart', 'pumping', 'tired', 'radioactive', 'blood', 'maybe', 'middle', 'fictional', 'terms', 'spiderman', 'peter', 'parker', 'tobey', 'maguire', 'looks', 'pushing', 'something', 'shrieks', 'midlife', 'crisis', 'peter', 'still', 'hitting', 'books', 'still', 'snapping', 'photographs', 'daily', 'bugle', 'flattop', 'blowhard', 'jonah', 'jameson', 'simmons', 'clover', 'usual', 'living', 'enough', 'enviably', 'situated', 'manhattan', 'artfully', 'peeling', 'walls', 'fabulous', 'picture', 'window', 'peter', 'regularly', 'bounds', 'superhero', 'neighbors', 'evidently', 'always', 'blinds', 'drawn', 'calling', 'though', 'started', 'punching', 'clock', 'programmatic', 'screenplay', 'credited', 'raimi', 'brother', 'raimi', 'third', 'raimi', 'brother', 'plays', 'picture', 'alvin', 'sargent', 'certainly', 'feels', 'selling', 'point', 'spiderman', 'peter', 'combination', 'discovers', 'socalled', 'extraterrestrial', 'symbiote', 'marvelspeak', 'spreads', 'gooey', 'tentacles', 'turning', 'black', 'though', 'something', 'dubious', 'black', 'still', 'conveys', 'culture', 'otherwise', 'batman', 'barack', 'obama', 'starters', 'messing', 'squeakyclean', 'profile', 'smearing', 'touch', 'naughtiness', 'seems', 'resist', 'knowing', 'problem', 'bottomline', 'reserve', 'imagination', 'creative', 'nerve', 'voyage', 'darkness', 'turns', 'little', 'overnighter', 'transforms', 'spiderman', 'alteration', 'barely', 'registers', 'wacky', 'misguided', 'nonsense', 'involving', 'superinflated', 'apparent', 'desire', 'direct', 'musical', 'fleeting', 'nastiness', 'resurrected', 'flint', 'marko', 'thomas', 'haden', 'church', 'recently', 'escaped', 'prison', 'marko', 'makings', 'superantagonist', 'church', 'brings', 'touching', 'delicacy', 'short', 'scenes', 'pulled', 'tightly', 'jagged', 'cheekbones', 'might', 'pierce', 'right', 'hardbody', 'physique', 'striped', 'shirt', 'evokes', 'chain', 'marko', 'feels', 'looks', 'fugitive', 'earlier', 'nostalgic', 'flourishes']\n",
            "['turning', 'points', 'blind', 'comes', 'memphis', 'school', 'football', 'michael', 'offensive', 'tackle', 'whose', 'remarkable', 'subject', 'nonfiction', 'seller', 'based', 'trouble', 'protecting', 'quarterback', 'michael', 'played', 'quinton', 'aaron', 'hapless', 'defender', 'pretty', 'sandra', 'bullock', 'audience', 'entirety', 'blind', 'bullock', 'plays', 'leigh', 'tuohy', 'memphis', 'decorator', 'along', 'family', 'rescues', 'michael', 'homelessness', 'football', 'stardom', 'outlines', 'story', 'interesting', 'inspiring', 'wealthy', 'white', 'southern', 'family', 'adopts', 'black', 'teenager', 'cultivating', 'athletic', 'gifts', 'providing', 'comfort', 'safety', 'happy', 'loving', 'unsurprisingly', 'holiday', 'football', 'season', 'release', 'major', 'hollywood', 'studio', 'plays', 'story', 'straight', 'middle', 'shedding', 'nuance', 'complication', 'favor', 'maximum', 'uplift', 'bullock', 'convincing', 'enough', 'energetic', 'multitasking', 'woman', 'south', 'knows', 'usually', 'tuohys', 'pretty', 'daughter', 'named', 'collins', 'collins', 'wisecracking', 'whirligig', 'would', 'animated', 'movie', 'annoyingbutlovable', 'talkinganimal', 'sidekick', 'blind', 'written', 'directed', 'hancock', 'effect', 'liveaction', 'realitybased', 'version', 'disney', 'cartoon', 'heartwarming', 'foundling', 'taken', 'strangers', 'accept', 'though', 'different', 'treat', 'typical', 'disney', 'movie', 'however', 'process', 'would', 'conflict', 'excitement', 'danger', 'blind', 'bureaucrat', 'throws', 'hasty', 'obstacle', 'triumph', 'twohour', 'holiday', 'greeting', 'leigh', 'first', 'michael', 'school', 'volleyball', 'games', 'drive', 'figure', 'though', 'attends', 'private', 'christian', 'academy', 'scholarship', 'place', 'sleep', 'impulsive', 'generosity', 'turns', 'project', 'leigh', 'devotes', 'tireless', 'audience', 'meant', 'respond', 'similar', 'fashion', 'choking', 'chuckling', 'laughter', 'feeling', 'sorry', 'young', 'gratified', 'found', 'someone', 'moved', 'maybe', 'though', 'sense', 'describe', 'experience', 'defensive', 'player', 'overpowered', 'blocker', 'possible', 'concussion']\n",
            "['despite', 'serious', 'potentially', 'stodgy', 'subject', 'matter', 'movie', 'deals', 'prejudice', 'cartesian', 'coordinates', 'material', 'handled', 'light', 'touch', 'introduced', 'skyblue', 'chrysler', 'broken', 'police', 'officer', 'nosing', 'suspicious', 'obstacles', 'deftly', 'overcome', 'revealing', 'traits', 'heroines', 'establishing', 'tight', 'janelle', 'monáe', 'quickwitted', 'thrillseeker', 'dorothy', 'octavia', 'spencer', 'practical', 'unflappable', 'katherine', 'taraji', 'henson', 'quiet', 'needlesharp', 'drafted', 'demand', 'smarts', 'agency', 'races', 'russia', 'split', 'fewer', 'scenes', 'together', 'brings', 'different', 'strength', 'screen', 'henson', 'aplot', 'pulled', 'allwomen', 'computors', 'dropped', 'event', 'previously', 'maleonly', 'caucasian', 'flight', 'research', 'despite', 'promotion', 'rhere', 'still', 'subject', 'manner', 'demeaning', 'rules', 'cannot', 'drink', 'communal', 'coffee', 'allowed', 'attend', 'briefing', 'meetings', 'needs', 'toilet', 'minutes', 'distant', 'restroom', 'suffers', 'indignities', 'stoically', 'perhaps', 'musical', 'montages', 'involving', 'legging', 'around', 'campus', 'clutching', 'stacks', 'paperwork', 'pressure', 'gauge', 'inside', 'cranking', 'release', 'comes', 'glorious', 'awards', 'chatter', 'costars', 'quite', 'impression', 'drama', 'subplot', 'though', 'deliver', 'couple', 'eloquent', 'monologues', 'strand', 'meanwhile', 'involves', 'fight', 'enrolled', 'segregated', 'school', 'moonlight', 'leavening', 'earnestness', 'flirty', 'lines', 'rights', 'right', 'every', 'perhaps', 'inevitably', 'supporting', 'thinnest', 'material', 'hidden', 'figures', 'features', 'racist', 'white', 'trump', 'cabinet', 'fleshedout', 'secondary', 'characters', 'still', 'pretty', 'broad', 'dunst', 'simpers', 'smirks', 'supervisor', 'parsons', 'though', 'perfectly', 'mathsheavy', 'project', 'given', 'theory', 'background', 'struggles', 'bring', 'dimension', 'snippy', 'egghead', 'fortunately', 'costner', 'present', 'bring', 'gravitas', 'heart', 'workforce', 'waistcoated', 'ballbuster', 'chewing', 'furiously', 'calculus', 'problems', 'alike', 'harrison', 'great', 'representation', 'american', 'idealist', 'slowly', 'waking', 'moral', 'moorings', 'unashamedly', 'pitched', 'audience', 'poppy', 'soundtrack', 'drives', 'allergic', 'clichés', 'nonfiction', 'based', 'instead', 'missing', 'moving', 'important', 'furiously', 'upbeat', 'times']\n",
            "['traveling', 'change', 'identities', 'jumping', 'across', 'space', 'tough', 'thankless', 'business', 'sciencefiction', 'speculation', 'draped', 'oldfashioned', 'detective', 'story', 'crepe', 'story', 'centers', 'temporal', 'agent', 'futuristic', 'enforcer', 'tries', 'right', 'wrongs', 'happen', 'nicely', 'played', 'ethan', 'hawke', 'hungry', 'hangdog', 'suggests', 'character', 'spent', 'nights', 'howling', 'wasteland', 'often', 'without', 'either', 'scrap', 'prayer', 'whether', 'slinking', 'another', 'vintage', 'usually', 'chasing', 'bomber', 'temporal', 'agent', 'looks', 'classic', 'wolfhe', 'multiple', 'twists', 'gradually', 'altogether', 'clearly', 'reveal', 'movie', 'opens', 'misterioso', 'figure', 'whose', 'obscured', 'fedora', 'clever', 'camera', 'angles', 'editing', 'atmospherics', 'included', 'largely', 'story', 'jumps', 'perhaps', 'writerdirector', 'brothers', 'peter', 'michael', 'spierig', 'tipping', 'fedoras', 'history', 'whatever', 'bandages', 'decade', 'newly', 'mustachioed', 'temporal', 'agent', 'turns', 'tending', 'another', 'pouring', 'shots', 'curiously', 'known', 'unmarried', 'mother', 'sarah', 'snook', 'wearing', 'sneer', 'unmarried', 'mother', 'writes', 'confession', 'stories', 'angle', 'knows', 'intimately', 'story', 'begins', 'little', 'leaps', 'across', 'years', 'yawning', 'logicthe', 'source', 'jumpy', 'action', 'robert', 'mindandbodybending', 'shortstory', 'classic', 'wrote', 'temporal', 'sexual', 'kinks', 'story', 'suggests', 'heinlein', 'looking', 'timetravel', 'machinations', 'transgender', 'sizzle', 'borrowed', 'touchstones', 'christine', 'jorgensen', 'snook', 'looks', 'remarkably', 'leonardo', 'dicaprio', 'cousin', 'duded', 'persuasive', 'dolled', 'period', 'dresses', 'slash', 'lipstick', 'smoothly', 'maneuvers', 'labyrinthine', 'hisandher', 'threads', 'character', 'might', 'worked', 'better', 'particularly', 'wouldbe', 'shocker', 'ending', 'someone', 'natural', 'vavavoom', 'appealalthough', 'disappears', 'large', 'stretches', 'hawke', 'serves', 'narrator', 'ballast', 'woowoo', 'interludes', 'disruptions', 'puzzle', 'piece', 'worry', 'scenery', 'changes', 'identities', 'shift', 'temporal', 'agent', 'contains', 'multitudes', 'could', 'easily', 'become', 'gimmick', 'hawke', 'brings', 'enough', 'pathos', 'performance', 'conceit', 'becomes', 'starters']\n",
            "['possibly', 'greatest', 'exponent', 'orson', 'welles', 'would', 'quizzed', 'final', 'within', 'morally', 'charged', 'story', 'voice', 'unicron', 'chaosbringer', 'massive', 'deadly', 'transformers', 'described', 'without', 'irony', 'attacked', 'smaller', 'understand', 'solace', 'however', 'straightup', 'brainonstandby', 'cgbuffed', 'explosion', 'outandout', 'summer', 'delivered', 'another', 'great', 'exponents', 'alfred', 'hitchcock', 'would', 'often', 'despair', 'certain', 'predilection', 'logic', 'would', 'ignore', 'fiddle', 'books', 'rollicking', 'suspense', 'michael', 'friend', 'plausibles', 'trick', 'deafen', 'blowing', 'sunset', 'sentient', 'robots', 'outer', 'space', 'originally', 'cybertron', 'fragged', 'planet', 'internecine', 'technosquabble', 'inhabit', 'guise', 'canaryyellow', 'camaro', 'fighter', 'boombox', 'gremlinlike', 'midgetbot', 'frenzy', 'injoke', 'reference', 'misconceived', 'swizzled', 'cassette', 'judging', 'tricky', 'transformers', 'hardly', 'going', 'embrace', 'giddy', 'naturalism', 'french', 'bravely', 'pushes', 'stern', 'hegemony', 'goofy', 'winningly', 'willing', 'admit', 'silliness', 'first', 'third', 'autobots', 'assemble', 'ateam', 'metallic', 'governorship', 'stiffrigged', 'headbot', 'optimus', 'prime', 'voiced', 'growl', 'peter', 'cullen', 'plays', 'comedy', 'brash', 'actioner', 'human', 'leads', 'every', 'charming', 'bouldersized', 'ornaments', 'favour', 'casting', 'labeouf', 'excitable', 'loser', 'discover', 'first', 'surprise', 'shares', 'popneurotic', 'jabber', 'young', 'woody', 'allen', 'steady', 'charisma', 'straightforwardlooking', 'still', 'shines', 'movie', 'smart', 'natural', 'comedian', 'levels', 'bluntness', 'story', 'ironic', 'bluster', 'young', 'older', 'actors', 'notably', 'voight', 'turturro', 'governmental', 'stooges', 'uptake', 'parent', 'might', 'hammily', 'undergoing', 'internal', 'shakeup', 'whether', 'optimus', 'prime', 'gracefully', 'unpacking', 'flamedecaled', 'truck', 'chassis', 'warriorrobot', 'polished', 'knights', 'excalibur', 'starscream', 'flitting', 'lockheed', 'raptor', 'steelclad', 'fairy', 'splendid', 'megatron', 'barbs', 'violent', 'blooms', 'psychopathic', 'dynamics', 'intricately', 'detailed', 'conjuring', 'images', 'million', 'sprockets', 'whirring', 'unison', 'uturns', 'spins', 'skidstops', 'takeoffs', 'choreographed', 'stunning', 'ballet', 'impossible', 'motion']\n",
            "['hungry', 'heart', 'movie', 'baseball', 'digital', 'beautiful', 'named', 'billy', 'beane', 'played', 'giving', 'quintessential', 'performance', 'seals', 'school', 'turned', 'majorleague', 'washout', 'longer', 'player', 'general', 'manager', 'oakland', 'athletics', 'based', 'michael', 'nimble', 'joyously', 'entertaining', 'nonfiction', 'chronicle', 'sprint', 'toward', 'despite', 'dollar', 'signs', 'exuberant', 'fictionalized', 'beane', 'helped', 'transform', 'poorest', 'baseball', 'serious', 'competition', 'wealthiest', 'franchises', 'mostly', 'ignoring', 'everything', 'taught', 'baseball', 'knowledge', 'earlier', 'movies', 'taught', 'built', 'whiffs', 'romance', 'highly', 'subjective', 'ideas', 'takes', 'including', 'looking', 'right', 'certain', 'stance', 'mound', 'early', 'funny', 'scene', 'billy', 'course', 'great', 'sitting', 'around', 'council', 'elders', 'oldtimers', 'mostly', 'scour', 'country', 'fundamental', 'cultural', 'shift', 'information', 'elite', 'instead', 'going', 'instinct', 'peter', 'knows', 'knows', 'disciple', 'james', 'oncemarginal', 'figure', 'starting', 'began', 'publishing', 'abstract', 'offered', 'rationalized', 'looking', 'nutshell', 'james', 'looked', 'baseball', 'statistics', 'different', 'light', 'breaking', 'numbers', 'another', 'seeing', 'appeared', 'objective', 'facts', 'fielding', 'statistics', 'wrote', 'record', 'numbers', 'describe', 'baseball', 'language', 'drama', 'miller', 'largely', 'shaking', 'official', 'arthouse', 'pretensions', 'breakout', 'feature', 'takes', 'seemingly', 'dusty', 'insidebaseball', 'stuff', 'turns', 'alltoorare', 'pleasurable', 'hollywood', 'diversion', 'gives', 'contact', 'still', 'serious', 'rather', 'tooserious', 'bookends', 'story', 'ophthalmologically', 'close', 'shots', 'shining', 'soliciting', 'windows', 'revealed', 'emerges', 'script', 'fully', 'inhabited', 'appealingly', 'barbed', 'performance', 'movie', 'meaning', 'already', 'details', 'performances', 'especially', 'emphasis', 'process', 'teams', 'players', 'built', 'broken', 'saved', 'discarded', 'works', 'showing', 'telling', 'scenes', 'sometimes', 'failing', 'interwoven', 'flashbacks', 'young', 'billy', 'played', 'thompson']\n",
            "['stars', 'grief', 'dread', 'regret', 'possibility', 'might', 'position', 'grant', 'clemency', 'tantalizing', 'puzzles', 'message', 'seems', 'coming', 'across', 'emptiness', 'space', 'along', 'kinks', 'fabric', 'offering', 'twinkle', 'rapidly', 'darkening', 'prospects', 'working', 'hypothesis', 'benevolent', 'alien', 'dwelling', 'somewhere', 'wormhole', 'moons', 'saturn', 'sending', 'across', 'universe', 'encrypted', 'advice', 'decode', 'enough', 'planet', 'species', 'saving', 'slowmotion', 'environmental', 'catastrophe', 'rather', 'explain', 'bleak', 'future', 'arrived', 'usual', 'montages', 'mayhem', 'nolan', 'wrote', 'screenplay', 'brother', 'jonathan', 'drops', 'quietly', 'looks', 'fairly', 'ordinary', 'reality', 'rural', 'stretch', 'north', 'america', 'battered', 'pickup', 'trucks', 'dusty', 'bluejeans', 'windburned', 'farmers', 'scanning', 'horizon', 'signs', 'storm', 'talkinghead', 'testimony', 'oldtimers', 'chronicles', 'sounds', 'laptop', 'table', 'family', 'dinner', 'family', 'question', 'cooper', 'matthew', 'mcconaughey', 'widower', 'lives', 'children', 'fatherinlaw', 'lithgow', 'pilot', 'cooper', 'grows', 'thing', 'blight', 'wiped', 'crops', 'human', 'population', 'shrunk', 'desperate', 'remnant', 'survivors', 'cling', 'habits', 'rituals', 'normal', 'plenty', 'candy', 'parentteacher', 'conferences', 'school', 'farmhouse', 'books', 'blight', 'spreading', 'storms', 'growing', 'worse', 'sense', 'ending', 'palpable', 'cooper', 'devoted', 'children', 'particular', 'daughter', 'murph', 'played', 'young', 'preternaturally', 'alert', 'skeptical', 'mackenzie', 'adult', 'jessica', 'chastain', 'father', 'recruited', 'secret', 'mission', 'search', 'habitable', 'planet', 'murph', 'devastated', 'departure', 'subsequent', 'scientific', 'career', 'tribute', 'memory', 'getting', 'built', 'around', 'twinned', 'fatherdaughter', 'stories', 'among', 'colleagues', 'board', 'spaceship', 'brand', 'whose', 'father', 'called', 'brand', 'developed', 'theories', 'behind', 'quest', 'murph', 'remain', 'ground', 'crunching', 'numbers', 'growing', 'older', 'usual', 'earthly', 'cooper', 'younger', 'brand', 'thanks', 'relativity', 'pretty', 'place', 'pantheon', 'space', 'movies', 'answers', 'acute', 'earthly', 'desire', 'adventure', 'novelty', 'comfort']\n",
            "['jason', 'momoa', 'aquaman', 'though', 'still', 'depiction', 'presumably', 'moment', 'humungous', 'tattoos', 'parents', 'together', 'earthling', 'curry', 'temuera', 'morrison', 'tending', 'lighthouse', 'massachusetts', 'discovered', 'beautiful', 'queen', 'atlanna', 'nicole', 'kidman', 'unconscious', 'beach', 'arranged', 'marriage', 'undersea', 'world', 'atlantis', 'atlanna', 'breathe', 'named', 'arthur', 'british', 'mythic', 'residual', 'ladyofthelake', 'vibes', 'terrifying', 'atlantis', 'stormtroopers', 'atlanna', 'waterfilled', 'helmets', 'reason', 'atlanna', 'kidman', 'rather', 'atlanna', 'willowy', 'grace', 'unearthly', 'beauty', 'plausible', 'atlantic', 'monarch', 'although', 'character', 'sadly', 'absents', 'action', 'single', 'really', 'moment', 'comes', 'lonely', 'years', 'bullied', 'couple', 'older', 'school', 'aquarium', 'enraged', 'shark', 'smashes', 'glass', 'attempt', 'protect', 'becomes', 'amiably', 'selfsatisfied', 'bunny', 'happyhour', 'enthusiast', 'pretty', 'agonised', 'selfquestioning', 'every', 'single', 'psychological', 'makeup', 'aquaman', 'emotional', 'vulnerability', 'crisis', 'adult', 'arrives', 'halfbrother', 'patrick', 'wilson', 'entirely', 'ridiculous', 'sometimes', 'goldclad', 'potentate', 'wishes', 'unite', 'various', 'kings', 'unscrupulous', 'preemptive', 'attack', 'airbreathers', 'walking', 'around', 'level', 'poisoning', 'aquaman', 'person', 'mixed', 'ancestry', 'bring', 'spiritually', 'amphibious', 'peace', 'humans', 'waterdwellers', 'ghastly', 'hired', 'gangstermercenary', 'david', 'black', 'manta', 'yahya', 'abdulmateen', 'rusty', 'doubloons', 'legal', 'tender', 'aquaman', 'black', 'manta', 'holds', 'grudge', 'killing', 'pirate', 'father', 'admittedly', 'ruthless', 'black', 'manta', 'point', 'extraordinary', 'thing', 'willem', 'dafoe', 'proving', 'everyone', 'sheer', 'actorly', 'integrity', 'whatever', 'silliness', 'finds', 'riding', 'creature', 'horse', 'completely', 'straight', 'laugh', 'dolph', 'lundgren', 'plays', 'nereus', 'carries', 'reasonably', 'although', 'every', 'marine', 'character', 'issue', 'distractingly', 'waving', 'rippling', 'water', 'seaweed', 'wilson', 'frankly']\n",
            "['latest', 'entry', 'asteroid', 'stakes', 'doomsday', 'countdown', 'spectacle', 'producer', 'jerry', 'bruckheimer', 'extends', 'commitment', 'extreme', 'messing', 'opens', 'demolition', 'downtown', 'manhattan', 'imperilment', 'little', 'within', 'minutes', 'yikes', 'meteor', 'shower', 'heralding', 'worst', 'parts', 'bible', 'first', 'thousandandone', 'bangs', 'whenever', 'theres', 'proceedings', 'theres', 'wakeup', 'splattering', 'shanghai', 'highlight', 'annihilation', 'paris', 'obligatory', 'scientificmilitary', 'crisis', 'conflab', 'nasas', 'director', 'thornton', 'refresher', 'course', 'extermination', 'events', 'particular', 'cosmic', 'asteroid', 'dottie', 'texas', 'planet', 'earth', 'leaving', 'bacterium', 'alive', 'rendezvous', 'mission', 'drill', 'sucker', 'hence', 'urgent', 'locate', 'worlds', 'deepcore', 'driller', 'bruce', 'willis', 'harry', 'stamper', 'rowdy', 'globetrotting', 'maverick', 'inspired', 'famed', 'firefighter', 'adair', 'harry', 'graciously', 'agrees', 'world', 'addition', 'credited', 'screenplay', 'jonathan', 'hensleigh', 'abrams', 'forever', 'young', 'veritable', 'serious', 'screenwriters', 'including', 'robert', 'towne', 'attanasio', 'scott', 'rosenberg', 'deployed', 'provide', 'action', 'ideas', 'dramatic', 'sequences', 'wisecracks', 'collectively', 'cringing', 'basic', 'content', 'cocacola', 'extras', 'clustered', 'intermittent', 'picturesque', 'group', 'poses', 'mahal', 'midwestern', 'farmstead', 'balkans', 'village', 'eyeing', 'skies', 'sharing', 'moment', 'abundant', 'gagmaking', 'shots', 'stoic', 'principals', 'framed', 'stars', 'stripes', 'hammering', 'inadequacies', 'russians', 'delapidated', 'spaceware', 'anyone', 'earth', 'undertake', 'armageddon', 'foregone', 'comedy', 'would', 'instead', 'twoandahalf', 'potentially', 'thrilling', 'momentum', 'bruckheimers', 'genius', 'posturing', 'vulgarity', 'cheap', 'sentiment', 'rivals', 'cecil', 'demilles', 'charlton', 'heston', 'narrator', 'credit', 'happens', 'first', 'minutes', 'armageddon', 'whole', 'impact', 'global', 'catastrophe', 'youll', 'enjoy', 'million', 'laughs', 'unintentional', 'mildly', 'revolutionary', 'ending', 'dismal', 'summer', 'popcorn', 'movies', 'silliest', 'still', 'looks']\n",
            "['marooned', 'alone', 'space', 'western', 'blissedout', 'cosmic', 'stars', 'damon', 'american', 'astronaut', 'latterday', 'robinson', 'crusoe', 'learns', 'survive', 'island', 'despair', 'intimate', 'involves', 'journey', 'outer', 'inner', 'space', 'takes', 'immensity', 'called', 'universe', 'equally', 'landscape', 'single', 'consciousness', 'accidental', 'castaway', 'space', 'place', 'physically', 'marooned', 'dynamic', 'course', 'invokes', 'moviegoing', 'based', 'novel', 'goddard', 'turned', 'fastmoving', 'streamlined', 'script', 'movie', 'focuses', 'watney', 'damon', 'windstorm', 'accidentally', 'behind', 'selfsurgery', 'spearing', 'along', 'anxious', 'stocktaking', 'plenty', 'tunes', 'enough', 'water', 'survive', 'watney', 'business', 'living', 'including', 'farming', 'going', 'helpfully', 'mutters', 'helpfully', 'talks', 'whether', 'murmuring', 'recording', 'video', 'entry', 'growing', 'space', 'keeps', 'words', 'flowing', 'could', 'fairly', 'quiet', 'movie', 'creating', 'animated', 'lively', 'babble', 'approaches', 'chummy', 'video', 'watney', 'makes', 'affably', 'pleasant', 'worrisome', 'company', 'mystery', 'purity', 'struggle', 'leave', 'least', 'dives', 'questions', 'existence', 'gradually', 'stories', 'become', 'watney', 'everyone', 'various', 'brainiacs', 'hammers', 'tongs', 'physics', 'johnson', 'space', 'center', 'propulsion', 'laboratory', 'super', 'nerds', 'logistics', 'rescue', 'mission', 'movie', 'gently', 'thumps', 'several', 'issues', 'unambiguously', 'science', 'rationalism', 'glints', 'manifest', 'destiny', 'american', 'candoism', 'little', 'flagwaving', 'folded', 'sweep', 'vanity', 'creeps', 'large', 'productions', 'turning', 'bloated', 'vehicles', 'directorial', 'selfaggrandizement', 'everyman', 'quality', 'jimmy', 'stewart', 'helps', 'scale', 'story', 'makes', 'personal', 'filmmaking', 'every', 'soaring', 'aerial', 'planet', 'answered', 'intimate', 'landscape', 'touch', 'cecil', 'demille', 'cinematic', 'better', 'occasionally', 'worse', 'though', 'space', 'esthetically', 'formative', 'years', 'stanley', 'kubrick', 'scott', 'artist', 'whose', 'reputation', 'visual', 'stylist', 'times', 'obscured', 'great', 'persistent', 'theme', 'means', 'human']\n",
            "['adaptation', 'frank', 'herberts', 'seminal', 'novel', 'released', 'december', 'nearunanimous', 'derision', 'roger', 'ebert', 'hated', 'hated', 'minutes', 'completely', 'strip', 'anticipation', 'movie', 'incomprehensible', 'unstructured', 'pointless', 'excursion', 'murkier', 'realms', 'confusing', 'screenplays', 'janet', 'maslin', 'opened', 'times', 'review', 'stating', 'several', 'characters', 'psychic', 'unique', 'position', 'understand', 'movie', 'herberts', 'offered', 'meticulously', 'detailed', 'future', 'royal', 'houses', 'control', 'desert', 'planet', 'arrakis', 'precious', 'resource', 'spice', 'melange', 'fitting', 'movie', 'length', 'proved', 'comically', 'impossible', 'jodorowsky', 'palpably', 'suffers', 'numerous', 'recuts', 'final', 'clocks', 'hours', 'minutes', 'instead', 'showing', 'telling', 'story', 'movie', 'relies', 'flurry', 'voiceover', 'breathy', 'exposition', 'probably', 'doesnt', 'sound', 'theres', 'anything', 'worthwhile', 'lynchs', 'thats', 'truth', 'certainly', 'different', 'created', 'comfort', 'entertain', 'wanted', 'challenge', 'though', 'stumbling', 'attempts', 'pontificate', 'religion', 'ecology', 'downfall', 'attempts', 'produced', 'films', 'resonant', 'moments', 'movies', 'create', 'world', 'utterly', 'alien', 'lynch', 'surreal', 'style', 'right', 'choice', 'bizarre', 'dream', 'sequences', 'images', 'unborn', 'fetuses', 'shimmering', 'energies', 'unsettling', 'scenery', 'industrial', 'harkonnen', 'homeworld', 'actually', 'closer', 'kubrick', 'space', 'odyssey', 'lucas', 'seeks', 'viewer', 'somewhere', 'unfamiliar', 'hinting', 'greater', 'hidden', 'story', 'special', 'effects', 'particularly', 'impressive', 'technical', 'standpoint', 'something', 'critics', 'eagerly', 'pointed', 'miniature', 'created', 'mostly', 'emilio', 'achieve', 'staggering', 'sense', 'scale', 'watch', 'scene', 'atreides', 'fleet', 'departs', 'arrakis', 'dozens', 'already', 'massive', 'ships', 'looks', 'ornate', 'keyhole', 'instantly', 'dwarfing', 'creating', 'sense', 'ponderous', 'motion', 'massive', 'interstellar', 'space', 'craft', 'iconic', 'sandworms', 'similarly', 'gargantuan', 'onscreen', 'rumble', 'barren', 'desert', 'death', 'herbert', 'largely', 'pleased', 'films', 'representation', 'universe', 'understand', 'hardly', 'cohesive', 'experience', 'individual', 'scenes', 'brought', 'striking', 'power', 'watching', 'today', 'holds', 'flipping', 'illustrated', 'version', 'novel', 'considering', 'density', 'imagination', 'herberts', 'world', 'count', 'something', 'achievement']\n",
            "['dunkirk', 'impressionist', 'masterpiece', 'somber', 'resolute', 'creative', 'confidence', 'british', 'ultimate', 'historical', 'narrative', 'christopher', 'nolan', 'earned', 'right', 'thanks', 'abundant', 'contributions', 'warner', 'knight', 'trilogy', 'resolve', 'determination', 'survival', 'ground', 'water', 'using', 'risky', 'radical', 'narrative', 'structure', 'splits', 'storytelling', 'three', 'intercut', 'chronologies', 'different', 'duration', 'dunkirk', 'dramatizes', 'calamitous', 'climax', 'attempt', 'british', 'expeditionary', 'force', 'french', 'belgian', 'canadian', 'forces', 'germans', 'stunningly', 'swift', 'sweep', 'france', 'spring', 'first', 'scene', 'several', 'english', 'soldiers', 'streets', 'except', 'tommy', 'fionn', 'whitehead', 'makes', 'beach', 'finds', 'countless', 'thousands', 'soldiers', 'already', 'lined', 'waiting', 'transport', 'arbitrariness', 'lives', 'established', 'flier', 'played', 'hardy', 'whose', 'largely', 'hidden', 'behind', 'nolans', 'knight', 'rises', 'recent', 'third', 'major', 'narrative', 'thread', 'involves', 'brave', 'effort', 'middleaged', 'civilian', 'sailor', 'dawson', 'rylance', 'teenagedson', 'peter', 'glynncarney', 'small', 'private', 'yacht', 'across', 'channel', 'bring', 'whomever', 'actions', 'combined', 'happening', 'simultaneously', 'strategy', 'ultimately', 'works', 'emphasize', 'seeing', 'highly', 'selective', 'representation', 'whole', 'number', 'participants', 'dunkirk', 'vividly', 'contrasts', 'hugely', 'different', 'soldiers', 'experienced', 'event', 'hundreds', 'thousands', 'soldiers', 'struggle', 'together', 'quite', 'respond', 'moment', 'demands', 'nolans', 'films', 'intensely', 'visual', 'dunkirk', 'especially', 'given', 'sparseness', 'strict', 'functionality', 'dialogue', 'hardy', 'probably', 'halfdozen', 'lines', 'whole', 'picture', 'given', 'acting', 'something', 'become', 'indeed', 'theres', 'never', 'sense', 'nolan', 'unlike', 'spielberg', 'manipulating', 'drama', 'order', 'viewers', 'heartstrings', 'anything', 'resembling', 'williams', 'score', 'emotional', 'adventurous', 'countless', 'soundtracks', 'zimmer', 'enormously', 'strengthens', 'equally', 'incorporates', 'sound', 'music', 'extraordinary', 'effect', 'climax', 'beautiful', 'thanks', 'visually', 'stunning', 'presentation', 'hardys', 'characters', 'beginning', 'dunkirk', 'nolan', 'gotten', 'everything', 'right']\n",
            "['saving', 'private', 'introduced', 'movies', 'replacing', 'stories', 'steeped', 'gritty', 'reality', 'combat', 'violent', 'bloody', 'horrific', 'chaotic', 'easily', 'sickened', 'visceral', 'cinematic', 'assaults', 'films', 'black', 'deliver', 'powerful', 'indelible', 'impact', 'bowden', 'staff', 'reporter', 'philadelphia', 'inquirer', 'first', 'detailed', 'disastrous', 'mogadishu', 'serialized', 'story', 'appeared', 'paper', 'november', 'december', 'final', 'product', 'attracted', 'interest', 'marquee', 'hollywood', 'names', 'uberproducer', 'jerry', 'bruckheimer', 'producerdirector', 'ridley', 'scott', 'search', 'something', 'followup', 'hannibal', 'gladiator', 'argued', 'enough', 'background', 'given', 'would', 'counter', 'introductory', 'crawl', 'sufficient', 'stage', 'black', 'attempt', 'analyze', 'happened', 'somalia', 'concern', 'dramatizing', 'hours', 'killed', 'united', 'states', 'servicemen', 'injured', 'others', 'racking', 'somalian', 'count', 'numbered', 'hundreds', 'story', 'begins', 'october', 'characters', 'introduced', 'major', 'general', 'william', 'garrison', 'shepard', 'command', 'military', 'presence', 'region', 'staff', 'sergeant', 'eversmann', 'hartnett', 'recently', 'promoted', 'commanding', 'company', 'clerk', 'grimes', 'mcgregor', 'exchange', 'paperwork', 'colonel', 'danny', 'mcknight', 'sizemore', 'charge', 'segment', 'ground', 'troops', 'master', 'sergeant', 'william', 'fichtner', 'challenge', 'orders', 'thinks', 'illadvised', 'objective', 'capture', 'several', 'advisors', 'mohamed', 'farrah', 'aidid', 'warlord', 'controls', 'mogadishu', 'troops', 'ground', 'encounter', 'stiffer', 'resistance', 'expected', 'results', 'downing', 'black', 'helicopters', 'ground', 'troops', 'become', 'divided', 'turns', 'rescue', 'mission', 'planning', 'fight', 'turns', 'debacle', 'scotts', 'movie', 'fastpaced', 'riveting', 'cinematographer', 'slavomir', 'idziak', 'known', 'frequent', 'collaborator', 'great', 'polish', 'filmmaker', 'krzysztof', 'kieslowski', 'makes', 'frequent', 'effective', 'filters', 'dampen', 'enhance', 'grittiness', 'black', 'downs', 'appearance', 'zimmers', 'music', 'generally', 'effective', 'although', 'times', 'calls', 'attention', 'little', 'stars', 'black', 'character', 'actors', 'sizemore', 'william', 'fichtner', 'create', 'vivid', 'personalities', 'limited', 'screen', 'jerry', 'bruckheimer', 'easily', 'recognized', 'involvement', 'bigbudget', 'hightestosterone', 'lowintelligence', 'projects', 'opportunity', 'upgrade', 'image', 'first', 'pundits', 'mentioning', 'bruckheimer', 'oscar', 'sentence', 'moment', 'ridley', 'scott', 'riding', 'highest', 'career', 'whole', 'black']\n",
            "['soldiers', 'killed', 'saving', 'private', 'comrades', 'carefully', 'preserve', 'messages', 'behind', 'steven', 'spielbergs', 'soberly', 'magnificent', 'second', 'pinnacle', 'career', 'magical', 'versatility', 'spirit', 'urgent', 'communication', 'ultimate', 'devastating', 'letter', 'since', 'world', 'virtual', 'death', 'western', 'combat', 'disintegrated', 'showcase', 'swagger', 'cynicism', 'obscenely', 'overblown', 'violence', 'hollow', 'selfserving', 'victories', 'simply', 'looks', 'looked', 'though', 'experience', 'recounts', 'grueling', 'viscerally', 'enthralling', 'saving', 'private', 'anything', 'soldiers', 'viewers', 'furiously', 'alive', 'crisis', 'never', 'films', 'immense', 'dignity', 'signal', 'characteristic', 'achieved', 'though', 'deliberate', 'elision', 'anything', 'prepare', 'omaha', 'beach', 'might', 'featureless', 'hands', 'intuitive', 'filmmaker', 'battle', 'scenes', 'avoid', 'conventional', 'suspense', 'sensationalism', 'disturb', 'manipulative', 'hellishly', 'frank', 'somehow', 'everywhere', 'aboard', 'landing', 'craft', 'throes', 'anticipatory', 'jitters', 'underwater', 'bullets', 'nearsilently', 'drown', 'weight', 'heavy', 'equipment', 'shore', 'flies', 'upward', 'explosion', 'comes', 'minus', 'moving', 'inland', 'cross', 'priest', 'sharpshooter', 'reaching', 'target', 'savagely', 'vengeful', 'troops', 'firebomb', 'german', 'bunker', 'miller', 'hanks', 'heights', 'furious', 'courage', 'suddenly', 'epiphany', 'shellshocked', 'confusion', 'drawn', 'incongruously', 'smallscale', 'drama', 'family', 'three', 'killed', 'remaining', 'somewhere', 'normandy', 'miller', 'played', 'seamless', 'ensemble', 'spirit', 'actors', 'whose', 'preproduction', 'bootcamp', 'experience', 'really', 'shows', 'captain', 'calls', 'needle', 'stack', 'needles', 'bring', 'alive', 'establish', 'strong', 'individual', 'identities', 'raise', 'films', 'underlying', 'questions', 'meaning', 'sacrifice', 'soldiers', 'decisions', 'never', 'easily', 'sometimes', 'fatally', 'wrong', 'divides', 'gracefully', 'string', 'welldefined', 'sequences', 'inexorably', 'still', 'manages', 'create', 'considerable', 'suspense', 'appear', 'among', 'epiphanies', 'saving', 'private', 'especially', 'unforgettable', 'anguished', 'ordeal', 'daviess', 'maker', 'translator', 'staircase', 'midst', 'battle', 'tranquil', 'pause', 'bombedout', 'french', 'village', 'strains', 'edith', 'brisk', 'soldiers', 'momentarily', 'forgetting', 'signifies', 'death', 'finest', 'movie']\n",
            "['first', 'announced', 'gifted', 'young', 'actor', 'miles', 'teller', 'would', 'playing', 'richards', 'fantastic', 'assumed', 'since', 'launch', 'primary', 'physical', 'signifiers', 'included', 'temples', 'among', 'prominent', 'patres', 'familias', 'comicdom', 'reverse', 'teller', 'plays', 'richards', 'selftaught', 'worldclass', 'genius', 'cracks', 'secret', 'interdimensional', 'travel', 'highschool', 'science', 'sounds', 'peculiar', 'knockoff', 'animated', 'comedy', 'robinsons', 'exactly', 'considerably', 'charm', 'first', 'friend', 'grimm', 'thing', 'fifthgraders', 'growing', 'workingclass', 'oyster', 'island', 'already', 'created', 'working', 'prototype', 'interdimensional', 'teleporter', 'spare', 'parts', 'garage', 'meanwhile', 'bullied', 'thuggish', 'older', 'brother', 'shouts', 'beating', 'addition', 'backstory', 'trademark', 'catchphrase', 'movie', 'improvement', 'science', 'jamie', 'teleporter', 'sending', 'airplane', 'beyond', 'disqualified', 'experiment', 'sends', 'energy', 'pulse', 'shatters', 'backboard', 'school', 'gymnasium', 'luckily', 'avuncular', 'scientist', 'franklin', 'storm', 'cathey', 'adopted', 'daughter', 'experimenting', 'interdimensional', 'travel', 'never', 'bring', 'objects', 'trolling', 'highschool', 'science', 'fairs', 'search', 'talent', 'achieve', 'breakthrough', 'question', 'better', 'unasked', 'storm', 'immediately', 'offers', 'scholarship', 'manhattan', 'latter', 'gleefully', 'accepts', 'picture', 'peter', 'parker', 'getting', 'oscorp', 'building', 'teleporter', 'large', 'enough', 'transport', 'capsule', 'containing', 'human', 'subjects', 'working', 'project', 'meetcute', 'company', 'library', 'reveals', 'studies', 'reveals', 'leagues', 'somehow', 'unaware', 'famous', 'depressingly', 'revelations', 'narrative', 'significance', 'later', 'seeking', 'additional', 'talent', 'storm', 'reestablishes', 'contact', 'former', 'pupil', 'victor', 'kebbell', 'presented', 'surly', 'grungy', 'cyberhipster', 'reluctantly', 'joins', 'clearly', 'thing', 'unhappy', 'getting', 'along']\n",
            "['become', 'first', 'woman', 'oscar', 'director', 'locker', 'kathryn', 'bigelow', 'became', 'focus', 'controversy', 'thirty', 'accused', 'somehow', 'endorsing', 'torture', 'osama', 'laden', 'naomi', 'ludicrously', 'compared', 'bigelow', 'riefenstahl', 'torture', 'rears', 'detroit', 'context', 'leaves', 'misinterpretation', 'revisiting', 'shocking', 'place', 'rioting', 'summer', 'detroit', 'provocative', 'period', 'piece', 'alarming', 'stark', 'contemporary', 'relevance', 'people', 'socalled', 'african', 'americans', 'police', 'national', 'guardsmen', 'attempting', 'unpack', 'anatomy', 'bigelow', 'focuses', 'harrowing', 'tragedy', 'become', 'emblematic', 'racial', 'tensions', 'still', 'haunting', 'detroit', 'opens', 'contextualising', 'history', 'lesson', 'animating', 'jacob', 'vivid', 'paintings', 'recount', 'movement', 'african', 'americans', 'rural', 'south', 'toward', 'industrialised', 'north', 'midwest', 'povertyridden', 'urban', 'ghettos', 'offer', 'equality', 'change', 'meanwhile', 'downtown', 'theatre', 'disturbances', 'rising', 'stars', 'dramatics', 'moment', 'spotlight', 'leaving', 'singer', 'cleveland', 'larry', 'played', 'algee', 'smith', 'perform', 'cappella', 'empty', 'auditorium', 'spinetingling', 'moment', 'krauss', 'uniformed', 'henchmen', 'descend', 'annex', 'algiers', 'motel', 'temple', 'jacob', 'latimore', 'sought', 'detroit', 'shifts', 'something', 'resembling', 'horror', 'movie', 'genre', 'explored', 'bigelow', 'vampirewestern', 'regular', 'cinematographer', 'barry', 'ackroyd', 'brought', 'urgent', 'verisimilitude', 'bigelow', 'locker', 'lends', 'drama', 'using', 'vintage', 'lenses', 'capture', 'multiangle', 'digital', 'footage', 'largely', 'around', 'boston', 'interweaves', 'seamlessly', 'archive', 'material', 'point', 'break', 'plunged', 'audience', 'breakneck', 'chases', 'strange', 'toyed', 'virtual', 'reality', 'medium', 'recently', 'explored', 'bigelow', 'ivorypoachers', 'documentary', 'short', 'protectors', 'detroit', 'immersive', 'experience', 'places', 'viewer', 'heart', 'unfolding', 'chaos', 'sprawling', 'volatile', 'melee', 'movie', 'excellently', 'edited', 'william', 'goldenberg', 'harry', 'jostle', 'crowd', 'stories', 'focus', 'claustrophobic', 'flashpoint', 'crucially', 'despite', 'efficiently', 'evoked', 'period', 'setting', 'plaudits', 'production', 'designer', 'jeremy', 'hindle', 'nothing', 'distant', 'detroit', 'broadcanvas', 'shifts', 'social', 'realism', 'courtroom', 'drama', 'crime', 'thriller', 'musical', 'fantasy', 'social', 'chiller', 'confirms', 'bigelow', 'dextrous', 'master', 'craft', 'wakeup', 'nation', 'tense', 'tough', 'terrifyingly', 'timely']\n",
            "['stuck', 'steerage', 'postapocalypse', 'allegory', 'proceeds', 'fantastical', 'premise', 'realworld', 'relevance', 'humanengineered', 'planetary', 'catastrophe', 'trying', 'arrest', 'warming', 'accidentally', 'froze', 'solid', 'remaining', 'people', 'stuck', 'train', 'never', 'stops', 'moving', 'thousand', 'survivors', 'railway', 'sorted', 'rigid', 'ruthlessly', 'enforced', 'social', 'order', 'huddled', 'masses', 'gelatinous', 'insectbased', 'black', 'protein', 'combination', 'propaganda', 'brute', 'force', 'toward', 'front', 'fortunate', 'enjoy', 'access', 'schools', 'nightclubs', 'fresh', 'reassurance', 'deserve', 'everything', 'unseen', 'quasimythical', 'entrepreneur', 'charge', 'group', 'rebels', 'decided', 'challenge', 'power', 'extreme', 'inequality', 'represents', 'soldiers', 'armed', 'clubs', 'never', 'anonymous', 'gives', 'grotesque', 'human', 'rather', 'series', 'faces', 'memorably', 'tilda', 'almost', 'unrecognizable', 'prosthetic', 'teeth', 'oversize', 'glasses', 'serves', 'spokeswoman', 'wilford', 'harris', 'enigmatic', 'engineer', 'dictator', 'deity', 'postapocalyptic', 'world', 'train', 'moves', 'winding', 'route', 'around', 'globe', 'teetering', 'sustainability', 'plausibility', 'curtis', 'comrades', 'undertake', 'march', 'toward', 'engine', 'joined', 'minsu', 'great', 'shapeshifting', 'south', 'korean', 'actor', 'kangho', 'security', 'specialist', 'daughter', 'ahsung', 'addicted', 'inhalant', 'called', 'kronole', 'dystopian', 'science', 'fiction', 'explaining', 'highspeed', 'train', 'chugging', 'glaciers', 'charm', 'original', 'graphic', 'novel', 'stylistic', 'kinship', 'chris', 'polar', 'interested', 'imagining', 'whole', 'thing', 'might', 'matter', 'technology', 'social', 'organization', 'every', 'episode', 'fighting', 'conspiring', 'accompanied', 'dollop', 'exposition', 'recalling', 'start', 'journey', 'years', 'action', 'takes', 'place', 'surveying', 'present', 'condition', 'looking', 'around', 'clues', 'whether', 'might', 'though', 'movie', 'playfully', 'postmodern', 'pastiche', 'styles', 'mingling', 'sincerity', 'selfconsciousness', 'something', 'solidly', 'oldfashioned', 'tells', 'story', 'crowded', 'ambitious', 'almost', 'point', 'hubris', 'reminded', 'little', 'poseidon', 'action', 'allegories', 'great', 'actors', 'struggling', 'survive', 'compliment', 'disaster', 'become', 'matter', 'routine', 'movies', 'planetary', 'destruction', 'human', 'extinction', 'happen', 'halfdozen', 'times', 'every', 'summer', 'rarely', 'refreshing', 'though']\n",
            "['osama', 'laden', 'everybody', 'knows', 'principal', 'facts', 'leading', 'wellknown', 'decision', 'market', 'thirty', 'thriller', 'therefore', 'takes', 'certain', 'amount', 'courage', 'given', 'fascination', 'deaths', 'title', 'spyspeak', 'midnight', 'ladens', 'death', 'stars', 'jessica', 'chastain', 'ubiquitous', 'dominates', 'american', 'acting', 'landscape', 'plays', 'agent', 'sticks', 'conviction', 'laden', 'afghanistan', 'hunched', 'kidney', 'dialysis', 'machine', 'likely', 'living', 'relatively', 'sight', 'disagreement', 'timehonored', 'methods', 'espionage', 'quicker', 'intuitive', 'approach', 'involving', 'hunch', 'films', 'first', 'hours', 'consist', 'struggle', 'faction', 'nonbelievers', 'stakes', 'decision', 'trigger', 'consider', 'embarrassment', 'president', 'barack', 'obama', 'advisers', 'turned', 'publicly', 'sensationally', 'embarrassingly', 'wrong', 'subtext', 'deserves', 'movie', 'disagreement', 'macho', 'males', 'feast', 'torture', 'hardboiled', 'woman', 'depends', 'intelligence', 'imagination', 'chastain', 'shows', 'versatile', 'actress', 'apart', 'meryl', 'streep', 'appeared', 'movies', 'range', 'ability', 'convince', 'credit', 'former', 'journalist', 'oscarwinning', 'screenwriter', 'bigelows', 'locker', 'begins', 'facts', 'formula', 'easily', 'shaped', 'conventional', 'forms', 'fiction', 'films', 'opening', 'scenes', 'great', 'filmmaking', 'theyre', 'heavy', 'jargon', 'impenetrable', 'calculation', 'murky', 'heavy', 'theory', 'parts', 'everyone', 'wants', 'involve', 'attack', 'modern', 'style', 'underlit', 'shakycam', 'dialogue', 'follow', 'rapid', 'action', 'shadows', 'confusion', 'compound', 'cannot', 'logically', 'welllighted', 'staged', 'portrayal', 'laden', 'occupants', 'cannot', 'based', 'knowledge', 'personality', 'motivation', 'thats', 'starts', 'whole', 'basically', 'thinks', 'right', 'story', 'bigelow', 'become', 'modernday', 'directorial', 'heroine', 'winning', 'praise', 'masterful', 'oscarwinner', 'locker', 'firmly', 'founded', 'character', 'actors', 'whose', 'personalities', 'motivations', 'became', 'wellknown', 'audience', 'comparison', 'thirty', 'slambang', 'action', 'picture', 'depending', 'mayas', 'inspiration', 'problem', 'turns', 'correct', 'steady', 'buildup', 'depriving', 'climax', 'impact', 'providing', 'mostly', 'irony', 'sorry']\n",
            "['winner', 'director', 'coogler', 'turbocharges', 'rocky', 'franchise', 'creed', 'focus', 'adonis', 'johnson', 'stellar', 'michael', 'jordan', 'bastard', 'champ', 'apollo', 'creed', 'weathers', 'father', 'never', 'needs', 'rocky', 'sylvester', 'stallone', 'train', 'enough', 'jordan', 'strut', 'impressive', 'stuff', 'neverbetter', 'stallone', 'aging', 'boxer', 'feeling', 'since', 'original', 'first', 'rocky', 'oscar', 'picture', 'beating', 'network', 'driver', 'makes', 'cinema', 'buffs', 'point', 'taken', 'denying', 'crowdpleasing', 'impact', 'first', 'rocky', 'stallone', 'underdog', 'forcing', 'studios', 'boxer', 'created', 'though', 'sequels', 'could', 'never', 'match', 'first', 'rocky', 'movie', 'history', 'creed', 'first', 'rocky', 'films', 'stallone', 'write', 'expect', 'resentment', 'coogler', 'stallone', 'rocky', 'behave', 'thing', 'coogler', 'watch', 'rocky', 'films', 'father', 'making', 'version', 'letter', 'series', 'correction', 'affection', 'material', 'every', 'frame', 'story', 'coogler', 'cooked', 'cowriter', 'aaron', 'covington', 'virtual', 'template', 'first', 'adonis', 'donny', 'foster', 'homes', 'firmly', 'ensconced', 'shoulder', 'widow', 'phylicia', 'rashad', 'forgiving', 'infidelity', 'saves', 'system', 'takes', 'angeles', 'donny', 'stays', 'troublemaker', 'taking', 'fights', 'mexico', 'inside', 'minute', 'donny', 'decides', 'friend', 'rocky', 'train', 'philadelphia', 'rocky', 'restaurant', 'named', 'script', 'practically', 'writes', 'coogler', 'stamp', 'indie', 'talent', 'stretching', 'wings', 'mainstream', 'first', 'fight', 'scene', 'gorgeously', 'great', 'maryse', 'alberti', 'looks', 'effect', 'stunning', 'romance', 'donny', 'adrian', 'singer', 'bianca', 'terrific', 'tessa', 'thompson', 'feels', 'sexually', 'frisky', 'freshly', 'conceived', 'nowhere', 'taking', 'current', 'champ', 'ricky', 'conlan', 'played', 'reallife', 'boxer', 'bellew', 'purest', 'fantasy', 'cares', 'donny', 'rocky', 'corner', 'stallone', 'grabs', 'first', 'fight', 'goodison', 'expect', 'score', 'ludwig', 'goransson', 'righteous', 'rightnow', 'topped', 'iconic', 'theme', 'right', 'moment']\n",
            "['title', 'titanic', 'review', 'authors', 'robert', 'ebert', 'sourcedate', 'december', 'keywords', 'titanic', 'whilte', 'james', 'cameron', 'leonardo', 'dicaprio', 'winslet', 'north', 'atlantic', 'total', 'count', 'words', 'trimmed', 'brief', 'summary', 'james', 'camerons', 'titanic', 'actionpacked', 'romance', 'illfated', 'maiden', 'voyage', 'titanic', 'pride', 'white', 'largest', 'moving', 'object', 'built', 'luxurious', 'liner', 'dreams', 'ultimately', 'carried', 'people', 'death', 'waters', 'north', 'atlantic', 'early', 'hours', 'april', 'longawaited', 'advent', 'expensive', 'movie', 'reportedly', 'million', 'titanic', 'brings', 'history', 'legendary', 'seafaring', 'disaster', 'april', 'think', 'exactly', 'years', 'today', 'premiere', 'another', 'grand', 'transporting', 'story', 'backdrop', 'prideful', 'excess', 'cataclysmic', 'upheaval', 'characterdefining', 'trial', 'recall', 'cultural', 'landmark', 'wowed', 'audiences', 'bravado', 'extravagance', 'stateoftheart', 'hollywood', 'showmanship', 'fueled', 'unstoppable', 'filmmaker', 'obsessive', 'imagination', 'david', 'selznick', 'atlanta', 'james', 'cameron', 'calamity', 'explore', 'gloriously', 'retrograde', 'camerons', 'magnificent', 'titanic', 'first', 'spectacle', 'decades', 'honestly', 'invites', 'comparison', 'rarity', 'makes', 'todays', 'world', 'meaningless', 'gimmicks', 'short', 'attention', 'spans', 'thrilling', 'threeandaquarterhour', 'experience', 'unerringly', 'lures', 'viewers', 'beauty', 'heartbreak', 'world', 'astonishing', 'technological', 'advances', 'service', 'spectacular', 'illusion', 'afloat', 'audience', 'intimately', 'involved', 'voyage', 'whats', 'cameron', 'succeeds', 'magically', 'linking', 'films', 'young', 'lovers', 'played', 'enchantingly', 'leonardo', 'dicaprio', 'winslet', 'established', 'details', 'titanic', 'story', 'forget', 'offscreen', 'drama', 'delayed', 'release', 'outrageous', 'costs', 'titanic', 'summer', 'movie', 'though', 'tender', 'moments', 'camerons', 'earlier', 'films', 'mostly', 'involved', 'arnold', 'schwarzenegger', 'graceful', 'storytelling', 'oneman', 'filmmaker', 'director', 'producer', 'writer', 'editor', 'biggest', 'surprises', 'swept', 'romance', 'subject', 'matter', 'cameron', 'rises', 'occasion', 'simple', 'captivating', 'narrative', 'style', 'cares', 'little', 'subtlety', 'overflows', 'wonderful', 'wellchosen', 'hollywood', 'hokum', 'sobering', 'forwardlooking', 'early', 'brashness', 'gives', 'nearreligious', 'humility', 'moments', 'reckoning', 'arrive']\n",
            "['pinnacle', 'charm', 'offensive', 'plays', 'terminally', 'noble', 'largehearted', 'engineers', 'woman', 'loves', 'naina', 'marries', 'friend', 'rohit', 'instead', 'going', 'around', 'basically', 'mashup', 'hrishikesh', 'mukherjee', 'films', 'bawarchi', 'anand', 'becomes', 'modern', 'avatar', 'rajesh', 'khanna', 'exemplifying', 'chahiye', 'lambi', 'farishta', 'angel', 'brings', 'laughter', 'tragic', 'early', 'naina', 'mother', 'younger', 'siblings', 'praying', 'naina', 'listening', 'andheron', 'thodi', 'roshni', 'thodi', 'light', 'neighboring', 'house', 'walks', 'balcony', 'wearing', 'shirt', 'summer', 'filled', 'ridiculously', 'convenient', 'plots', 'twists', 'obviously', 'manipulative', 'emotional', 'moments', 'problematic', 'gender', 'politics', 'point', 'concocts', 'romantic', 'scheme', 'describes', 'ladki', 'thing', 'helps', 'overlook', 'glory', 'romantic', 'ultimate', 'family', 'course', 'subtlety', 'animated', 'energetic', 'dying', 'fabulously', 'watch', 'scene', 'train', 'station', 'convince', 'naina', 'rohit', 'loves', 'reading', 'diary', 'except', 'pages', 'empty', 'starts', 'reveal', 'emotions', 'pretending', 'words', 'desperate', 'longing', 'another', 'scene', 'rohit', 'naina', 'salsa', 'together', 'watches', 'godlike', 'balcony', 'strains', 'title', 'begin', 'purses', 'looks', 'distance', 'walking', 'brooklyn', 'bridge', 'spreads', 'sings', 'yahan', 'course', 'irresistible']\n",
            "['title', 'dhoni', 'untold', 'story', 'review', 'authors', 'rachel', 'saltz', 'sourcedate', 'times', 'october', 'keywords', 'dhoni', 'sushant', 'singh', 'rajput', 'cricket', 'sports', 'kiara', 'advani', 'anupam', 'disha', 'patani', 'bhoomika', 'chawla', 'total', 'count', 'words', 'brief', 'summary', 'dhoni', 'untold', 'story', 'indian', 'hindilanguage', 'biographical', 'sports', 'drama', 'written', 'directed', 'neeraj', 'pandey', 'based', 'former', 'captain', 'indian', 'national', 'cricket', 'mahendra', 'singh', 'dhoni', 'stars', 'sushant', 'singh', 'rajput', 'dhoni', 'along', 'disha', 'patani', 'kiara', 'advani', 'anupam', 'chronicles', 'dhoni', 'young', 'series', 'events', 'understand', 'cricket', 'enjoy', 'cricket', 'movie', 'whose', 'centerpiece', 'rousing', 'match', 'underdog', 'indian', 'versus', 'overdog', 'british', 'colonials', 'heart', 'pounding', 'follow', 'bollywood', 'movie', 'reach', 'across', 'aisle', 'attracting', 'moviegoers', 'beyond', 'faithful', 'biopic', 'dhoni', 'untold', 'probably', 'cricket', 'indulgent', 'minutes', 'languid', 'takes', 'mahendra', 'singh', 'dhoni', 'unflappable', 'captain', 'indian', 'cricket', 'world', 'dhoni', 'sushant', 'singh', 'rajput', 'presented', 'natural', 'athlete', 'cricket', 'sport', 'choice', 'something', 'national', 'meets', 'setbacks', 'pause', 'timeout', 'hardtoread', 'smile', 'makes', 'remains', 'untold', 'story', 'movie', 'written', 'directed', 'neeraj', 'pandey', 'hagiographic', 'overly', 'obvious', 'instead', 'something', 'quiet', 'muddle', 'squandered', 'dramatically', 'blurry', 'scenes', 'montages', 'wasted', 'three', 'versions', 'action', 'editor', 'ideas', 'footage', 'pandey', 'rajput', 'lends', 'dhoni', 'pokerfaced', 'charisma', 'manages', 'convey', 'vague', 'determination', 'vague', 'determination', 'learned', 'dhoni', 'enigmatic', 'character', 'marked', 'great', 'captain', 'reading', 'watching', 'movie', 'three', 'hours']\n",
            "['ridley', 'first', 'space', 'director', 'takes', 'different', 'journey', 'thrilling', 'funny', 'human', 'crowdpleasing', 'story', 'power', 'survive', 'damon', 'watney', 'astronaut', 'mission', 'heads', 'earth', 'jessica', 'chastain', 'aksel', 'hennie', 'michael', 'sebastian', 'watney', 'comes', 'million', 'miles', 'botanist', 'trade', 'survive', 'knows', 'bleep', 'rationing', 'behind', 'growing', 'potatoes', 'supplies', 'forever', 'receives', 'message', 'watney', 'still', 'teams', 'scientists', 'stage', 'daring', 'rescue', 'attempt', 'trick', 'casting', 'movie', 'finding', 'actor', 'screen', 'extended', 'periods', 'likeable', 'enough', 'audience', 'whether', 'makes', 'earth', 'piece', 'since', 'hanks', 'playing', 'roles', 'damon', 'recently', 'named', 'bankable', 'actor', 'forbes', 'humour', 'smarts', 'allamerican', 'problem', 'solving', 'invested', 'watney', 'stretches', 'putters', 'around', 'finding', 'insurmountable', 'engaging', 'composed', 'three', 'components', 'ground', 'control', 'space', 'cowboys', 'hurtle', 'universe', 'rescue', 'friend', 'daniels', 'perfect', 'spearhead', 'rescue', 'brings', 'wonky', 'leaves', 'planet', 'leaves', 'heart', 'behind', 'drama', 'conflict', 'humour', 'segments', 'compelling', 'stuff', 'happens', 'quietest', 'damon', 'alone', 'macgyvering', 'situation', 'space', 'western', 'strength', 'human', 'spirit', 'indomitable', 'tread', 'similar', 'thematic', 'ground', 'without', 'humour', 'cheesy', 'soundtrack', 'importantly', 'damon']\n",
            "['middle', 'quiet', 'small', 'scene', 'helps', 'explain', 'remarkable', 'experience', 'mahatma', 'gandhi', 'height', 'power', 'stands', 'years', 'together', 'benefit', 'visitor', 'reenact', 'marriage', 'solemnity', 'quiet', 'warmth', 'perhaps', 'touch', 'shyness', 'simultaneously', 'demonstrating', 'aspect', 'indian', 'culture', 'touching', 'something', 'personal', 'ceremony', 'gandhi', 'thirteen', 'shrugs', 'marriage', 'arranged', 'gandhi', 'enough', 'grown', 'really', 'point', 'scene', 'point', 'think', 'comes', 'quiet', 'smile', 'gandhi', 'words', 'moment', 'believe', 'fully', 'truly', 'human', 'moment', 'turning', 'point', 'gandhi', 'declares', 'historical', 'record', 'breathing', 'living', 'document', 'spans', 'decades', 'proverbial', 'thousands', 'follows', 'human', 'thread', 'beginning', 'overwhelmed', 'scope', 'production', 'gandhi', 'overwhelmed', 'glory', 'british', 'empire', 'movie', 'earns', 'comparison', 'classic', 'works', 'david', 'ability', 'paint', 'strong', 'human', 'story', 'large', 'canvas', 'movie', 'labor', 'richard', 'attenborough', 'struggled', 'years', 'financing', 'noncommercial', 'project', 'various', 'actors', 'considered', 'years', 'allimportant', 'title', 'actor', 'finally', 'chosen', 'kingsley', 'makes', 'completely', 'genuine', 'feeling', 'spirit', 'gandhi', 'screen', 'kingsleys', 'performance', 'powerful', 'without', 'histrionic', 'almost', 'always', 'quiet', 'observant', 'softspoken', 'screen', 'performance', 'comes', 'across', 'might', 'realize', 'afterward', 'sheer', 'moral', 'force', 'gandhi', 'behind', 'words', 'apart', 'qualities', 'makes', 'movie', 'special', 'obviously', 'people', 'believed', 'important', 'serves', 'history', 'lesson', 'although', 'threat', 'nuclear', 'holocaust', 'hangs', 'ominously', 'reminds', 'human', 'capable', 'extraordinary', 'wonderful', 'achievements', 'simply', 'imagination', 'sense', 'right']\n",
            "['fundamental', 'difference', 'silence', 'sequel', 'former', 'frightening', 'involving', 'disturbing', 'latter', 'merely', 'disturbing', 'enough', 'construct', 'start', 'cannibal', 'secret', 'doesnt', 'start', 'cannibalit', 'arrives', 'minds', 'young', 'woman', 'story', 'clarice', 'starling', 'trainee', 'played', 'jodie', 'foster', 'story', 'follows', 'without', 'substantial', 'interruption', 'hannibal', 'lecter', 'lurks', 'heart', 'story', 'malevolent', 'somehow', 'likable', 'presencelikable', 'likes', 'clarice', 'helps', 'lecter', 'played', 'anthony', 'hopkins', 'sideshow', 'clarice', 'center', 'popularity', 'jonathan', 'demmes', 'movie', 'likely', 'market', 'scared', 'illustrates', 'thrillers', 'universal', 'emotion', 'timeless', 'merely', 'thrill', 'memorable', 'characters', 'movie', 'history', 'clarice', 'starling', 'hannibal', 'lecter', 'strange', 'strained', 'relationship', 'lecter', 'cackles', 'share', 'ostracized', 'worlds', 'inhabitlecter', 'human', 'serial', 'killer', 'cannibal', 'clarice', 'enforcement', 'profession', 'woman', 'powerlesslecter', 'locked', 'maximum', 'security', 'prison', 'bound', 'gagged', 'moved', 'clarice', 'surrounded', 'tower', 'fondle', 'powers', 'persuasion', 'escape', 'trapslecter', 'talking', 'choking', 'tongue', 'clarice', 'persuade', 'lecter', 'search', 'serial', 'killer', 'named', 'buffalo', 'share', 'similar', 'childhood', 'wounds', 'lecter', 'touched', 'learns', 'clarice', 'parents', 'early', 'shipped', 'relatives', 'essentially', 'unloved', 'orphan', 'lecter', 'victim', 'child', 'abuse', 'commentary', 'track', 'demme', 'regrets', 'underlining', 'parallel', 'themes', 'mirrored', 'patterns', 'visual', 'strategy', 'lecter', 'prison', 'buffalo', 'basement', 'arrived', 'starling', 'descending', 'several', 'flights', 'stairs', 'passing', 'several', 'doors', 'underworlds', 'movie', 'always', 'seems', 'looking', 'clarice', 'pointofview', 'camera', 'takes', 'place', 'scrutinizing', 'enters', 'dangerous', 'spaces', 'waiting', 'instead', 'following']\n",
            "['director', 'reitman', 'efficient', 'disguising', 'marshmallowy', 'melodrama', 'masculinity', 'crisis', 'tough', 'sports', 'movie', 'tickingclock', 'testosteronesaturated', 'setting', 'trots', 'along', 'briskly', 'though', 'action', 'consists', 'rushed', 'cellphone', 'negotiations', 'sinuous', 'splitscreen', 'technique', 'cleverly', 'momentum', 'series', 'static', 'conversations', 'though', 'finally', 'charisma', 'weaves', 'together', 'appears', 'enthusiastic', 'domineering', 'cooperation', 'football', 'movie', 'promotional', 'sweeping', 'aerial', 'shots', 'skylines', 'stadiums', 'franchise', 'cities', 'commissioner', 'roger', 'goodell', 'bunch', 'players', 'executives', 'present', 'gamely', 'portraying', 'anything', 'concussions', 'sexual', 'assault', 'exploitation', 'college', 'athletes', 'though', 'notice', 'story', 'mostly', 'white', 'buying', 'selling', 'labor', 'mostly', 'africanamericans', 'spectacle', 'suits', 'making', 'deals', 'nonetheless', 'pretty', 'entertaining', 'fussy', 'authenticity', 'offer', 'reasonably', 'clear', 'convincing', 'glimpse', 'business', 'bigtime', 'sports', 'sonny', 'right', 'college', 'players', 'cleveland', 'browns', 'doldrums', 'choose', 'seemingly', 'flawless', 'heisman', 'trophywinning', 'quarterback', 'pence', 'goodhearted', 'linebacker', 'chadwick', 'boseman', 'talented', 'possibly', 'troubled', 'running', 'arian', 'foster', 'answer', 'telegraphed', 'early', 'watching', 'sonny', 'hustle', 'bluster', 'toward', 'conclusion', 'predictable', 'exciting', 'addition', 'rival', 'general', 'managers', 'contend', 'imperious', 'owner', 'frank', 'langella', 'pugnacious', 'coach', 'denis', 'leary', 'geeky', 'intern', 'griffin', 'newman', 'angry', 'quarterback', 'welling', 'office', 'suite', 'wouldbe', 'jocks', 'costner', 'handles', 'usual', 'gruff', 'grace', 'allowing', 'entertain', 'possibility', 'might', 'loser', 'enough', 'gratified', 'turns', 'great', 'every', 'knack', 'making', 'winners', 'underdogs', 'making', 'brazenly', 'manipulative', 'really', 'shallow', 'evasive', 'movie', 'built', 'around', 'corporate', 'fulfillment', 'around', 'reality', 'sells', 'beautifully']\n",
            "['title', 'review', 'authors', 'webster', 'sourcedate', 'times', 'january', 'keywords', 'abhishek', 'bachchan', 'gurukant', 'desai', 'aishwarya', 'sujata', 'vidya', 'balan', 'meenu', 'madhavan', 'shyam', 'saxena', 'mallika', 'sherawat', 'jhumpa', 'mithun', 'chakraborty', 'nanaji', 'total', 'count', 'words', 'brief', 'summary', 'following', 'ambitious', 'gurukanth', 'desai', 'power', 'successful', 'business', 'magnate', 'india', 'chance', 'cunning', 'marries', 'beautiful', 'sujata', 'dowry', 'later', 'discover', 'really', 'desai', 'becomes', 'bigtime', 'player', 'business', 'methods', 'leave', 'desired', 'newspaper', 'tycoon', 'gupta', 'upright', 'principled', 'determined', 'destroy', 'desai', 'might', 'think', 'would', 'difficult', 'fashion', 'entertaining', 'account', 'polyester', 'manufacturer', 'fictitious', 'tamil', 'director', 'ratnam', 'known', 'intelligent', 'political', 'dramas', 'paean', 'cando', 'spirit', 'mumbai', 'capitalism', 'nickname', 'gurukant', 'desai', 'played', 'bollywood', 'abhishek', 'bachchan', 'lately', 'leaves', 'rural', 'gujarat', 'state', 'later', 'returns', 'determined', 'white', 'becoming', 'business', 'mogul', 'deals', 'textiles', 'establishes', 'shakti', 'corporation', 'builds', 'factories', 'fueled', 'another', 'refrain', 'aversion', 'tussles', 'meddlesome', 'relatives', 'press', 'mithun', 'chakraborty', 'course', 'government', 'fortunately', 'devoted', 'sujata', 'stunning', 'aishwarya', 'hardheaded', 'practical', 'support', 'given', 'multidimensional', 'bachchan', 'seizes', 'abundant', 'opportunities', 'experience', 'shows', 'gorgeous', 'compositions', 'fluency', 'pacing', 'effects', 'inevitable', 'though', 'unobtrusive', 'musical', 'sequences', 'display', 'similar', 'command', 'convictions', 'evident', 'accused', 'authorities', 'corruption', 'defending', 'exalts', 'rising', 'influence', 'third', 'world', 'first', 'world', 'soundtrack', 'responds', 'martial', 'rhythms', 'signaling', 'national', 'dynamo', 'barreling', 'forward', 'written', 'hindi', 'english', 'subtitles', 'directed', 'ratnam', 'director', 'photography', 'rajiv', 'menon', 'edited', 'sreekar', 'prasad', 'music', 'rahman', 'choreography', 'saroj', 'brinda', 'production', 'designer', 'sameer', 'chanda', 'produced', 'ratnam', 'srinivasan', 'released', 'adlabs', 'films', 'manhattan', 'imaginasian', 'theater', 'street', 'running', 'minutes', 'rated', 'abhishek', 'bachchan', 'gurukant', 'desai', 'aishwarya', 'sujata', 'vidya', 'balan', 'meenu', 'madhavan', 'shyam', 'saxena', 'mallika', 'sherawat', 'jhumpa', 'mithun', 'chakraborty', 'nanaji']\n",
            "['title', 'review', 'authors', 'nandita', 'chowdhury', 'sourcedate', 'india', 'today', 'october', 'links', 'external', 'keywords', 'romancemusical', 'total', 'count', 'words', 'brief', 'summary', 'reading', 'letter', 'mother', 'written', 'anjali', 'decides', 'bring', 'together', 'widowed', 'father', 'rahul', 'named', 'anjali', 'drills', 'adage', 'first', 'friends', 'triangle', 'little', 'difference', 'rahul', 'khanna', 'anjali', 'sharma', 'kajol', 'friends', 'paint', 'campus', 'mukherjee', 'oxfordeducated', 'bhajansinging', 'daughter', 'college', 'principal', 'anupam', 'returns', 'london', 'rahul', 'promptly', 'rahul', 'necessary', 'dance', 'sequences', 'amidst', 'castle', 'ruins', 'english', 'countryside', 'anjali', 'falls', 'friend', 'predictable', 'story', 'short', 'rahul', 'marry', 'latter', 'leaving', 'behind', 'legacy', 'bunch', 'letters', 'oftrepeated', 'flashback', 'device', 'daughter', 'reunite', 'father', 'friend', 'anjali', 'beginning', 'marked', 'sparkling', 'chemistry', 'kajol', 'consummate', 'performers', 'right', 'powerhouse', 'energy', 'kajol', 'natural', 'exuberance', 'quintessential', 'yuppies', 'however', 'gorgeous', 'steals', 'oozing', 'oomph', 'every', 'proves', 'actress', 'whose', 'muchhyped', 'debut', 'director', 'karan', 'johar', 'tries', 'rekindle', 'khankajol', 'magic', 'phenomenally', 'successful', 'dilwale', 'dulhaniya', 'jayenge', 'assisted', 'director', 'aditya', 'chopra', 'almost', 'chopra', 'supervising', 'entire', 'project', 'visually', 'appealing', 'thanks', 'cinematographer', 'santosh', 'thundyil', 'sports', 'slick', 'urbane', 'story', 'popular', 'child', 'model', 'saeed', 'making', 'debut', 'young', 'anjali', 'reacts', 'incredibly', 'camera', 'however', 'salman', 'wasted', 'cameo', 'appearance', 'music', 'exception', 'title', 'quite', 'mediocre', 'halfhearted', 'attempt', 'punching', 'india', 'catching', 'filmmakers', 'recreate', 'indian', 'locations', 'vales', 'europe', 'sunny', 'beaches', 'mauritius', 'beginning', 'slightly', 'halfway', 'looking', 'anything', 'distraction', 'nevertheless']\n",
            "['title', 'mulan', 'reflection', 'original', 'publication', 'sourcevenue', 'vanity', 'words', 'mulan', 'disney', 'action', 'remake', 'lifeless', 'summary', 'article', 'summarizes', 'recent', 'disney', 'remake', 'movie', 'mulan', 'author', 'calls', 'movie', 'remake', 'missing', 'magic', 'creativity', 'original', 'disney', 'movie', 'ancient', 'disney', 'tried', 'something', 'tricky', 'animated', 'princess', 'musical', 'action', 'movie', 'fight', 'scenes', 'doubt', 'aimed', 'appealing', 'little', 'balked', 'another', 'beauty', 'beast', 'little', 'mermaid', 'balking', 'encouraged', 'though', 'still', 'plenty', 'encouraged', 'making', 'chinese', 'legend', 'warrior', 'woman', 'mulan', 'fights', 'stead', 'disguised', 'continued', 'halfhearted', 'project', 'diversity', 'adding', 'global', 'shape', 'princess', 'canon', 'directed', 'barry', 'bancroft', 'earned', 'bigness', 'enough', 'places', 'powerhouse', 'ballad', 'salonga', 'rerecorded', 'christina', 'aguilera', 'first', 'single', 'still', 'enduring', 'songs', 'eyepopping', 'mountain', 'battle', 'scene', 'aided', 'confident', 'computer', 'animation', 'invading', 'horde', 'subsumed', 'avalanche', 'stunning', 'stuff', 'still', 'though', 'handdrawn', 'animation', 'looks', 'sadly', 'quaint', 'vantage', 'point', 'digital', 'without', 'songs', 'silliness', 'original', 'mulan', 'throws', 'comparison', 'classics', 'hundreds', 'swordandsandal', 'films', 'pretty', 'mulan', 'filming', 'zealand', 'china', 'finds', 'stunning', 'backdrops', 'costumes', 'great', 'martial', 'sequences', 'nicely', 'approximate', 'fluid', 'floating', 'grace', 'wuxia', 'films', 'somehow', 'assets', 'coalesce', 'thrilling', 'whole', 'certainly', 'significant', 'disney', 'chinese', 'actor', 'yifei', 'watching', 'mulan', 'sense', 'triumph', 'representation', 'considered', 'casting', 'finished', 'everything', 'mechanical', 'detail', 'mulan', 'deserves', 'better', 'eager', 'audiences', 'would', 'magic', 'applied', 'elsewhere', 'choppy', 'script', 'credited', 'writers', 'flights', 'fancy', 'emotional', 'depth', 'instead', 'hurries', 'basic', 'beats', 'story', 'humble', 'village', 'bound', 'arranged', 'marriage', 'military', 'empire', 'justfine', 'battle', 'sequences', 'dumps', 'gesturing', 'heavily', 'toward', 'impressiveness', 'never', 'actually', 'conjured', 'though', 'holds', 'scenes', 'barely', 'mulan', 'emblem', 'studio', 'proud', 'offer', 'lukewarm', 'plate', 'inspirational', 'content', 'moving', 'whatever', 'indeed']\n",
            "['title', 'cinderella', 'review', 'straightfaced', 'sentimentality', 'publication', 'sourcevenue', 'guardian', 'words', 'disney', 'cinderella', 'ravishing', 'fairytale', 'oldfashioned', 'summary', 'article', 'gives', 'review', 'recent', 'cinderella', 'remake', 'author', 'comments', 'movie', 'stayed', 'original', 'bringing', 'oldfashioned', 'world', 'cinderella', 'article', 'first', 'document', 'gives', 'review', 'disney', 'remake', 'classic', 'always', 'fairytale', 'element', 'kenneth', 'directing', 'career', 'question', 'whether', 'tends', 'movies', 'right', 'clock', 'strikes', 'finest', 'fantasy', 'flicks', 'frankenstein', 'cruelly', 'treated', 'charles', 'fabled', 'heroines', 'marvellously', 'russellesque', 'magic', 'flute', 'signally', 'failed', 'showered', 'riches', 'belle', 'boxoffice', 'meanwhile', 'hitchcock', 'pastiche', 'copperbottomed', 'catastrophe', 'stateside', 'sprinkling', 'fairy', 'reprocessed', 'blackandwhite', 'flashbacks', 'turned', 'pauper', 'princess', 'remarkably', 'branagh', 'straw', 'comic', 'strip', 'surprisingly', 'witty', 'blockbuster', 'transformers', 'meets', 'xanadu', 'remarkable', 'movie', 'magic', 'cinderella', 'liveaction', 'reboot', 'enduring', 'animations', 'credits', 'alongside', 'perrault', 'notable', 'straightfaced', 'sentimentality', 'unfashionable', 'absence', 'postenchanted', 'irony', 'maleficent', 'woods', 'unpicked', 'fairytale', 'roots', 'chris', 'screenplay', 'almost', 'radically', 'antirevisionist', 'refusal', 'rewrite', 'familiar', 'tropes', 'unashamedly', 'oldfashioned', 'world', 'pumpkin', 'coaches', 'glass', 'slippers', 'chimesatmidnight', 'transformations', 'cinders', 'talks', 'friends', 'coalscuttle', 'existence', 'expected', 'burst', 'chorus', 'dream', 'heart', 'makes', 'resisting', 'modern', 'urban', 'updates', 'branagh', 'returns', 'strange', 'netherworld', 'european', 'folklore', 'disney', 'americana', 'house', 'mouse', 'built', 'sounds', 'fantastically', 'unexciting', 'worldwide', 'opening', 'proves', 'broke', 'instincts', 'entirely', 'money', 'proved', 'problematic', 'gender', 'politics', 'stories', 'downton', 'james', 'employing', 'sandy', 'tightly', 'corseted', 'costumes', 'provoking', 'controversy', 'negative', 'images', 'paradoxically', 'reducing', 'performance', 'discussions', 'waistline', 'throwback', 'cinderella', 'enjoy', 'questing', 'actionadventure', 'asskicking', 'heroines', 'brave', 'frozen', 'frozen', 'fever', 'short', 'provides', 'crowdpulling', 'curtainraiser', 'independentspirited', 'critics', 'acknowledged', 'living', 'deathbed', 'mantra', 'courage', 'lonely', 'unimpressed', 'wealth', 'falls', 'prince', 'meets', 'equal', 'ground', 'unimpeded', 'outrides', 'royal', 'defence', 'befriended', 'undaunted', 'spectacular', 'cruelty', 'stepfamily']\n",
            "['title', 'review', 'wished', 'publication', 'sourcevenue', 'times', 'words', 'disney', 'aladdin', 'exploitation', 'weird', 'stereotypes', 'summary', 'article', 'gives', 'review', 'recent', 'aladdin', 'remake', 'author', 'mentions', 'movie', 'focus', 'profits', 'various', 'brands', 'nothing', 'memorable', 'movie', 'racial', 'cultural', 'stereotypes', 'created', 'various', 'problems', 'cartoon', 'feature', 'robin', 'williams', 'garrulous', 'genie', 'movie', 'second', 'golden', 'animation', 'others', 'durable', 'charms', 'memorable', 'songs', 'liveaction', 'rewhatever', 'smith', 'popping', 'worst', 'product', 'current', 'legacy', 'intellectual', 'property', 'exploitation', 'likely', 'worst', 'others', 'invites', 'simple', 'question', 'answer', 'spoiler', 'alert', 'surprise', 'pointless', 'complain', 'drive', 'wring', 'every', 'dollar', 'various', 'brands', 'might', 'complain', 'animal', 'sidekicks', 'movie', 'entirely', 'terrible', 'craft', 'purchased', 'little', 'pointless', 'particularly', 'aggressive', 'earlier', 'cashgrab', 'strategy', 'protect', 'classic', 'status', 'material', 'managed', 'scarcity', 'lavish', 'reissuing', 'microgeneration', 'viewers', 'could', 'initiated', 'fandom', 'ceremony', 'thing', 'passed', 'shiny', 'package', 'polished', 'heirloom', 'special', 'edition', 'limited', 'theaters', 'belonged', 'parents', 'grandparents', 'could', 'whether', 'little', 'anymore', 'though', 'problems', 'approach', 'including', 'preservation', 'tropes', 'images', 'oldfashioned', 'necessarily', 'patriarchal', 'princess', 'stories', 'cultural', 'racial', 'stereotypes', 'thing', 'disney', 'committed', 'meaning', 'synergized', 'evolving', 'social', 'attitudes', 'advancing', 'digital', 'technology', 'concoct', 'series', 'updates', 'surpassed', 'original', 'might', 'think', 'jungle', 'poppins', 'recent', 'somber', 'certainly', 'seems', 'stand', 'alone', 'popular', 'imagination', 'weird', 'grotesque', 'hybrids', 'belonging', 'particular', 'style', 'creative', 'sensibility', 'dishes', 'chain', 'restaurant', 'disparate', 'trends', 'produce', 'flavors', 'alien', 'every', 'known', 'earthly', 'cuisine', 'cartoon', 'takes', 'place', 'cartoonlike', 'spaces', 'trade', 'grace', 'animation', 'literalism', 'computergenerated', 'imagery', 'animal', 'sidekicks', 'mischievous', 'monkey', 'loyal', 'tiger', 'malignant', 'parrot', 'neither', 'especially', 'realistic', 'human', 'beings', 'occupying', 'frame', 'alongside', 'partial', 'exception', 'genie', 'people', 'dressed', 'disney', 'characters', 'dance', 'excruciatingly', 'bright', 'costumes', 'almost', 'never', 'memorably']\n",
            "['title', 'review', 'revels', 'enchantment', 'publication', 'sourcevenue', 'times', 'words', 'classicism', 'disney', 'familiar', 'enchanted', 'vivid', 'summary', 'article', 'reviews', 'disney', 'remake', 'author', 'praises', 'movie', 'saying', 'retained', 'enchantment', 'classicism', 'present', 'original', 'article', 'chosen', 'reviewed', 'another', 'disney', 'remake', 'quote', 'lyric', 'songs', 'something', 'familiar', 'elements', 'place', 'course', 'rhyme', 'inspired', 'flights', 'nostalgia', 'visual', 'evocations', 'predigital', 'glory', 'busby', 'berkeley', 'harryhausen', 'masters', 'fantastical', 'craft', 'liveactiondigital', 'hybrid', 'directed', 'condon', 'starring', 'watson', 'stevens', 'title', 'roles', 'fleshandblood', 'prosthetic', 'furandhorns', 'revival', 'cartoon', 'dutiful', 'popculture', 'fairytale', 'classicism', 'feels', 'unforced', 'fresh', 'romance', 'neither', 'winks', 'panders', 'looks', 'moves', 'gracefully', 'leaves', 'clean', 'invigorating', 'aftertaste', 'almost', 'recognize', 'flavor', 'think', 'means', 'foregone', 'conclusion', 'reanimation', 'beloved', 'properties', 'business', 'nomenclature', 'hollywood', 'often', 'leads', 'zombieism', 'archetypes', 'shocked', 'arrayed', 'garish', 'synthetic', 'modern', 'effects', 'might', 'easily', 'happened', 'horrors', 'visited', 'recent', 'years', 'alice', 'wonderland', 'peter', 'wizard', 'disney', 'convincing', 'upgrade', 'model', 'could', 'offended', 'animated', 'feature', 'simply', 'existing', 'movie', 'point', 'disney', 'revival', 'close', 'perfect', 'singing', 'teapot', 'would', 'challenge', 'angela', 'lansbury', 'possible', 'answer', 'thompson', 'whose', 'potts', 'joined', 'household', 'objects', 'voices', 'briefly', 'faces', 'movie', 'stars', 'stanley', 'tucci', 'audra', 'mcdonald', 'excitable', 'harpsichord', 'operatic', 'wardrobe', 'mcgregor', 'mckellen', 'suave', 'candelabra', 'anxious', 'clock', 'mbatharaw', 'lissome', 'feather', 'duster', 'singing', 'banter', 'vivid', 'natural', 'almost', 'granted', 'appear', 'mechanical', 'objects', 'clicking', 'whirling', 'physical', 'space', 'sharing', 'frame', 'human', 'characters', 'disney', 'means', 'villain', 'comical', 'sidekick', 'steal', 'scenes', 'comeuppance', 'would', 'gaston', 'evans', 'narcissistic', 'cabbagestomping', 'former', 'soldier', 'adoring', 'lefou', 'gaston', 'sweet', 'belle', 'excitement', 'unambiguous', 'refusals', 'makes', 'avatar', 'nastiness', 'redemption', 'annoying', 'stirs', 'antiintellectualism', 'xenophobia', 'populist', 'serve', 'egomaniacal', 'residents', 'castle', 'fight', 'humanity', 'stake', 'fairy']\n",
            "['title', 'review', 'publication', 'sourcevenue', 'variety', 'words', 'disney', 'parable', 'emotional', 'cracked', 'wonderstruck', 'summary', 'article', 'reviews', 'disney', 'remake', 'author', 'comments', 'saying', 'original', 'dumbo', 'viewers', 'feelings', 'remake', 'twist', 'tells', 'story', 'animal', 'exploited', 'showman', 'image', 'something', 'fairytale', 'daydream', 'dumbo', 'elephant', 'longlashed', 'googoo', 'cuddly', 'floppy', 'wings', 'flapping', 'around', 'circus', 'flying', 'crowds', 'freedom', 'touching', 'inexplicable', 'purest', 'images', 'movies', 'fourth', 'animated', 'feature', 'white', 'seven', 'dumbo', 'beautiful', 'oddball', 'solidcolored', 'piece', 'stylized', 'americana', 'minutes', 'times', 'almost', 'silent', 'movie', 'sound', 'effects', 'remarkable', 'things', 'dumbo', 'cruelly', 'separated', 'mother', 'primal', 'twist', 'anticipates', 'discover', 'ability', 'minutes', 'movie', 'becomes', 'creature', 'enchanted', 'yearning', 'escape', 'empire', 'state', 'building', 'hoisting', 'bicycle', 'magic', 'ability', 'comes', 'audience', 'heavenly', 'afterthought', 'tosses', 'sublime', 'leaves', 'flying', 'sequences', 'liveaction', 'reimagining', 'disney', 'classic', 'touch', 'wonderstuck', 'quality', 'dumbo', 'created', 'animatronic', 'digital', 'effects', 'still', 'lonely', 'pachyderm', 'impossibly', 'large', 'floppy', 'speaks', 'pleading', 'anthropomorphic', 'keane', 'dialogue', 'slathered', 'clown', 'makeup', 'forced', 'stand', 'towering', 'circus', 'platform', 'humiliation', 'palpable', 'ingesting', 'feather', 'trunk', 'plunges', 'downward', 'takes', 'moments', 'heart', 'soaring', 'along', 'happysad', 'flights', 'fancy', 'emotional', 'culmination', 'movie', 'start', 'early', 'happen', 'periodically', 'gradually', 'lesser', 'effect', 'bulgy', 'little', 'elephant', 'suffused', 'feeling', 'silentmovie', 'clown', 'lofting', 'still', 'marvelous', 'image', 'meandering', 'parable', 'attempt', 'corrupt', 'dumbo', 'barnstorming', 'circus', 'scuzzy', 'carny', 'barker', 'medici', 'danny', 'devito', 'bought', 'vandevere', 'michael', 'keaton', 'entrepreneur', 'silvery', 'ornate', 'makes', 'organic', 'vandevere', 'believes', 'gobigorgohome', 'school', 'entertainment', 'really', 'first', 'theme', 'place', 'called', 'dreamland', 'packed', 'rides', 'exhibits', 'chicanery', 'small', 'showman', 'exploiter', 'looks', 'dumbo', 'deliver', 'cracked', 'glory', 'squeezes', 'wonder', 'packaging']\n",
            "['title', 'jungle', 'review', 'spectacular', 'revival', 'family', 'favorite', 'publication', 'sourcevenue', 'guardian', 'words', 'disney', 'mowgli', 'spectacular', 'witty', 'spirit', 'summary', 'article', 'reviews', 'disney', 'remake', 'jungle', 'author', 'claims', 'movie', 'retains', 'spirit', 'original', 'disney', 'movie', 'comparable', 'original', 'masterpiece', 'author', 'gives', 'praise', 'actors', 'digital', 'rendering', 'storytelling', 'earth', 'point', 'remaking', 'great', 'possibly', 'greatest', 'masterpiece', 'glorious', 'animated', 'musical', 'based', 'tales', 'mowgli', 'brought', 'wolves', 'indian', 'jungle', 'famously', 'personal', 'touch', 'remake', 'furthermore', 'leaves', 'oldfashioned', 'animation', 'behind', 'departing', 'liveaction', 'uncanny', 'valley', 'hyperreal', 'heretically', 'loses', 'songs', 'abandons', 'final', 'unforgettably', 'exotic', 'glimpse', 'reallife', 'human', 'point', 'really', 'simply', 'create', 'terrifically', 'enjoyable', 'piece', 'oldfashioned', 'storytelling', 'beautifullooking', 'spectacular', 'exciting', 'funny', 'handsomely', 'revives', 'spirit', 'original', 'something', 'oldschool', 'family', 'movies', 'animals', 'incredible', 'journey', 'almost', 'feels', 'something', 'could', 'watched', 'weirdly', 'touch', 'jungle', 'nightmare', 'apocalypto', 'perhaps', 'strikingly', 'reimports', 'story', 'elements', 'disney', 'classic', 'jungle', 'influenced', 'first', 'place', 'special', 'animals', 'gather', 'round', 'stampede', 'scene', 'feline', 'facial', 'disfigurement', 'newcomer', 'sethi', 'plays', 'mowgli', 'kingsley', 'voices', 'bagheera', 'panther', 'idris', 'tiger', 'shere', 'scarlett', 'johansson', 'hissing', 'snake', 'mesmerist', 'christopher', 'walken', 'voice', 'louie', 'firehungry', 'inevitably', 'pleasingly', 'amusingly', 'murray', 'outstanding', 'vocal', 'notorious', 'ursine', 'slacker', 'pleasureseeker', 'baloo', 'teaches', 'mowgli', 'importance', 'kicking', 'enjoying', 'necessities', 'never', 'digital', 'rendering', 'talking', 'animals', 'persuasive', 'creates', 'witty', 'ingenious', 'twists', 'story', 'including', 'development', 'concerning', 'wolfleader', 'akela', 'giancarlo', 'esposito', 'shere', 'creates', 'backstory', 'mowgli', 'explains', 'modestypreserving', 'loincloth', 'musical', 'deployment', 'famous', 'songs', 'necessities', 'wanna', 'feels', 'natural', 'actually', 'emphatically', 'revives', 'jungle', 'collective', 'allforone', 'ethic', 'strength', 'wolfand', 'strength', 'baloo', 'prefers', 'songs', 'poems', 'calls', 'interestingly', 'first', 'finally', 'sticks', 'neverthetwainshallmeet', 'attitude', 'longterm', 'cohabitation', 'animals', 'posits', 'living', 'together', 'happily', 'though', 'loincloth', 'sacrifices', 'bittersweet', 'acknowledgment', 'mowgli', 'romance', 'tremendous', 'success', 'jungle', 'unexpected', 'treat']\n",
            "['title', 'publication', 'sourcevenue', 'times', 'words', 'disney', 'alice', 'nightmarish', 'summary', 'article', 'reviews', 'disney', 'remake', 'alice', 'wonderland', 'author', 'comments', 'burton', 'turned', 'movie', 'story', 'eliminating', 'personality', 'character', 'alice', 'tumble', 'garish', 'periodically', 'amusing', 'lewis', 'carroll', 'hallucination', 'adventures', 'turned', 'despite', 'burtonian', 'flourishes', 'pinch', 'cruelty', 'mordant', 'animate', 'queen', 'helena', 'bonham', 'carter', 'porker', 'slides', 'squeal', 'belly', 'aching', 'queen', 'tells', 'alice', 'played', 'wasikowska', 'alice', 'looks', 'touch', 'dazed', 'seems', 'pulse', 'ground', 'rabbit', 'imagination', 'burton', 'contemporary', 'stories', 'curious', 'curiouser', 'turned', 'sights', 'another', 'perhaps', 'slitting', 'throats', 'adaptation', 'thought', 'would', 'heads', 'whatever', 'inspiration', 'tackled', 'story', 'customary', 'torpor', 'frenzy', 'short', 'glance', 'childhood', 'equally', 'brief', 'present', 'sends', 'first', 'dreamscape', 'unfortunately', 'tricked', 'distracts', 'delights', 'meets', 'grinning', 'lugubrious', 'caterpillar', 'among', 'fantastical', 'creatures', 'sometimes', 'alice', 'uncle', 'disappointed', 'disney', 'version', 'writer', 'worked', 'project', 'merely', 'plays', 'straight', 'screwball', 'course', 'character', 'original', 'alice', 'evident', 'outrageous', 'creation', 'dreams', 'sequel', 'means', 'straight', 'imagination', 'wonderland', 'mostly', 'serves', 'biller', 'johnny', 'plays', 'hatter', 'bright', 'leaden', 'whimsies', 'since', 'narrative', 'momentum', 'strength', 'probably', 'seemed', 'moments', 'transparent', 'delight', 'material', 'lifts', 'movie', 'carries', 'forward', 'wonderland', 'underland', 'inviting', 'attractive', 'colors', 'often', 'bilious', 'though', 'palette', 'turns', 'gunmetal', 'bringing', 'suggestively', 'nightmarish', 'aspect', 'journey', 'steps', 'severed', 'heads', 'stones', 'queen', 'horror', 'bette', 'davis', 'elizabeth', 'reconfigured', 'bobblehead', 'bonham', 'carter', 'makes', 'petulant', 'child', 'barbarism', 'wounded', 'woman', 'rocks', 'house', 'movie']\n",
            "['spring', 'filmmaker', 'stanley', 'kubrick', 'worried', 'mariner', 'space', 'probe', 'years', 'still', 'havent', 'discovered', 'intelligence', 'believable', 'evidence', 'anywhere', 'universe', 'effort', 'spacecrafttess', 'designed', 'habitable', 'nearby', 'planetsjust', 'vaulted', 'space', 'aninterstellar', 'asteroidrecently', 'spotted', 'streaking', 'solar', 'system', 'inspected', 'radio', 'signals', 'another', 'robot', 'tolisten', 'heart', 'still', 'alone', 'story', 'begins', 'million', 'years', 'africa', 'bunch', 'bedraggled', 'primates', 'losing', 'battle', 'survival', 'fittest', 'strange', 'black', 'monolith', 'appears', 'thunder', 'sprach', 'zarathustra', 'apemen', 'inspired', 'animals', 'pushing', 'around', 'around', 'kubrick', 'pivots', 'movie', 'human', 'evolution', 'another', 'monolith', 'appears', 'another', 'orbit', 'around', 'jupiter', 'astronaut', 'named', 'bowman', 'connects', 'subduing', 'neurotic', 'computer', 'murdered', 'shipmates', 'finale', 'bowman', 'space', 'death', 'rebirth', 'returning', 'glowing', 'child', 'float', 'fetus', 'earth', 'comes', 'another', 'poignant', 'history', 'especially', 'relates', 'space', 'cosmos', 'moonthe', 'script', 'future', 'historywas', 'abandoned', 'nixon', 'white', 'house', 'traditional', 'scifi', 'script', 'flipped', 'generation', 'swashbuckling', 'billionaires', 'taken', 'center', 'stage', 'space', 'business', 'class', 'wealthy', 'customers', 'afford', 'indulge', 'services', 'script', 'really', 'flipped', 'future', 'history', 'evolution', 'robots', 'taken', 'sacred', 'exploring', 'increasingly', 'sophisticated', 'smaller', 'machines', 'spread', 'every', 'world', 'solar', 'systembuzzing', 'rings', 'saturn', 'daring', 'thedark', 'voids', 'beyond', 'plutoandlanding', 'comets', 'scanning', 'heavens', 'planets', 'places', 'dream', 'enough', 'robots', 'landers', 'orbiters', 'violating', 'skies', 'surface', 'spark', 'legends', 'myths', 'paranoia', 'among', 'whatever', 'lifeforms', 'might', 'worse', 'dream', 'physicists', 'likethe', 'stephen', 'hawkingis', 'thatthe', 'universe', 'might', 'hologram', 'illusion', 'threedimensional', 'images', 'cosmologists', 'argued', 'inconsistent', 'least', 'mathematically', 'imagine', 'thatthe', 'entire', 'universe', 'could', 'computer', 'simulationas', 'matrix', 'another', 'movie', 'shadows', 'effect', 'argument', 'removable', 'deformable', 'click', 'interstellar', 'mouse']\n",
            "['writing', 'review', 'processor', 'connected', 'computer', 'suntimes', 'error', 'computer', 'observe', 'instruct', 'review', 'width', 'characters', 'flashes', 'margin', 'things', 'interesting', 'width', 'characters', 'computers', 'programmed', 'follow', 'programs', 'illogical', 'conclusions', 'example', 'computer', 'review', 'width', 'characters', 'found', 'narrow', 'reads', 'outsmarted', 'sooner', 'later', 'selfsatisfied', 'sublimely', 'confident', 'thinking', 'machines', 'going', 'planet', 'message', 'wargames', 'scary', 'intelligent', 'thriller', 'films', 'movie', 'starsmatthew', 'broderickthe', 'dugan', 'returns', 'bright', 'school', 'senior', 'spends', 'locked', 'bedroom', 'computer', 'speaks', 'computerese', 'enough', 'telephone', 'computer', 'school', 'change', 'grades', 'ready', 'bigger', 'reads', 'company', 'thats', 'introducing', 'computer', 'programs', 'computer', 'random', 'search', 'telephone', 'numbers', 'companys', 'looking', 'number', 'answers', 'computer', 'eventually', 'connects', 'computer', 'unfortunately', 'computer', 'connects', 'belong', 'company', 'belongs', 'defense', 'department', 'mission', 'coordinate', 'early', 'warning', 'systems', 'nuclear', 'deterrents', 'world', 'challenges', 'computer', 'called', 'global', 'thermonuclear', 'warfare', 'cheerfully', 'agrees', 'premise', 'thriller', 'masterstroke', 'movie', 'however', 'could', 'easily', 'wrong', 'bogging', 'impenetrable', 'computerese', 'ignoring', 'technical', 'details', 'altogether', 'giving', 'retread', 'wargames', 'makes', 'neither', 'mistake', 'convinces', 'knows', 'computers', 'makes', 'knowledge', 'amazingly', 'entertaining', 'thriller', 'claim', 'movie', 'accurate', 'computers', 'convincing', 'described', 'opening', 'gambits', 'reveal', 'watching', 'story', 'unwind', 'another', 'pleasures', 'movie', 'takes', 'cardboard', 'characters', 'fleshes', 'particular', 'civilian', 'chief', 'computer', 'operation', 'played', 'bydabney', 'colemanas', 'little', 'weakness', 'simple', 'logic', 'force', 'general', 'charge', 'played', 'bybarry', 'corbinas', 'military', 'argues', 'computers', 'final', 'nuclear', 'decisions']\n",
            "['matrix', 'keanu', 'reeves', 'laurence', 'fishburne', 'carrieanne', 'written', 'directed', 'larry', 'wachowski', 'extremely', 'violent', 'extremely', 'preposterous', 'extremely', 'entertaining', 'matrix', 'succeeds', 'extremely', 'difficult', 'tasks', 'exciting', 'virtualreality', 'movie', 'defibrillator', 'keanu', 'reeves', 'screen', 'career', 'using', 'pantheon', 'movie', 'iconography', 'years', 'showdowns', 'loves', 'first', 'writingdirecting', 'wachowski', 'brothers', 'larry', 'achieves', 'fantastic', 'hodgepodge', 'symmetry', 'using', 'hacker', 'comedy', 'mindless', 'action', 'thomas', 'anderson', 'reeves', 'talented', 'computer', 'programmer', 'monolithic', 'corporation', 'night', 'unscrupulous', 'hacker', 'tagged', 'brings', 'attention', 'morpheus', 'fishburne', 'mysterious', 'stranger', 'tantalizes', 'morpheus', 'compares', 'lewis', 'carrolls', 'alice', 'worlds', 'realities', 'offers', 'pills', 'allow', 'things', 'continue', 'purportedly', 'allow', 'rabbit', 'movie', 'since', 'would', 'pretty', 'didnt', 'takes', 'kafka', 'meets', 'realizes', 'awful', 'truth', 'morpheus', 'wanted', 'truth', 'darker', 'memorable', 'johnny', 'mnemonic', 'terminal', 'terminator', 'critical', 'aspect', 'films', 'success', 'creation', 'matrix', 'world', 'simulacrum', 'reality', 'people', 'fight', 'wachowskis', 'certain', 'rules', 'reality', 'stick', 'making', 'realm', 'important', 'world', 'reeves', 'accused', 'virtualreality', 'effect', 'acquits', 'nicely', 'lingering', 'stench', 'johnny', 'mnemonic', 'dissipates', 'first', 'moments', 'actually', 'dissipated', 'blown', 'exhilarating', 'opening', 'fight', 'sequence', 'desperate', 'chase', 'trinity', 'sigourney', 'weaver', 'career', 'jumpstarter', 'carrieanne', 'matrix', 'agents', 'evident', 'wachowski', 'brothers', 'whose', 'effort', 'erotic', 'cranker', 'bound', 'brought', 'something', 'extra', 'table', 'someone', 'elses', 'treatment', 'script', 'could', 'turned', 'ponderous', 'gorgeous', 'somber', 'affair', 'hacker', 'films', 'blade', 'runner', 'production', 'design', 'award', 'entirely', 'forgetting', 'audience', 'story', 'wachowskis', 'theyre', 'little', 'playing', 'blocks', 'building', 'constructing', 'wowfilled', 'flomo', 'bullet', 'special', 'effects', 'gaeta', 'designs', 'paterson', 'knock', 'blocks', 'knock', 'demolishing', 'standard', 'question', 'reality', 'movie', 'action', 'settles', 'matrix', 'thats', 'standing']\n",
            "['robot', 'takes', 'place', 'chicago', 'circa', 'spectacular', 'skyscrapers', 'share', 'skyline', 'landmarks', 'sears', 'trump', 'tower', 'tallest', 'buildings', 'belongs', 'robotics', 'floor', 'atrium', 'lobby', 'chief', 'robot', 'designer', 'apparently', 'suicide', 'spooner', 'casewill', 'smithplays', 'spooner', 'chicago', 'police', 'department', 'detective', 'doesnt', 'think', 'suicide', 'deepseated', 'mistrust', 'robots', 'despite', 'famous', 'three', 'robotics', 'declare', 'robot', 'human', 'alfred', 'lanning', 'james', 'cromwell', 'wrote', 'three', 'every', 'schoolchild', 'knows', 'doctor', 'isaac', 'asimov', 'conversation', 'withjohn', 'campbell', 'legendary', 'editor', 'astounding', 'science', 'fiction', 'peculiar', 'knows', 'especially', 'since', 'based', 'isaac', 'asimov', 'would', 'killed', 'filmmakers', 'credit', 'asimov', 'movie', 'makes', 'spooner', 'another', 'movie', 'insults', 'powerful', 'races', 'recklessly', 'around', 'badge', 'pulled', 'captain', 'solves', 'crime', 'survives', 'incredible', 'physical', 'adventures', 'exploits', 'accompanied', 'susan', 'calvin', 'bridget', 'moynahan', 'whose', 'robotics', 'robots', 'human', 'successful', 'movies', 'robots', 'curiously', 'uninvolving', 'individuals', 'hundreds', 'thousands', 'shiny', 'chromium', 'robot', 'personality', 'robot', 'named', 'sonny', 'voiced', 'byalan', 'tudyk', 'advanced', 'standard', 'robot', 'human', 'capable', 'questions', 'question', 'movie', 'characters', 'might', 'profitably', 'sonny', 'doesnt', 'feelings', 'comes', 'close', 'humans', 'movie', 'spooner', 'calvin', 'motion', 'relentlessly', 'human', 'sides', 'overlooked', 'except', 'touching', 'story', 'spooner', 'tells', 'little', 'robot', 'logical', 'sonny', 'doesnt', 'human', 'andrew', 'robot', 'played', 'byrobin', 'williamsin', 'bicentennial', 'based', 'robot', 'story', 'asimov', 'androbert', 'silverberg', 'voice', 'certain', 'poignancy', 'suggests', 'chilly', 'chumminess', 'detail', 'except', 'already', 'robots', 'spooner', 'could', 'write', 'tickets', 'three', 'violations', 'robots', 'function', 'giant', 'insects', 'starship', 'troopers', 'video', 'targets', 'since', 'theyre', 'programs', 'although', 'think', 'youcanbe', 'programs', 'microsoft', 'inspired', 'beyond', 'anything', 'robots', 'engender']\n",
            "['recent', 'ofoverlyhyped', 'butultimatelydisappointingscifi', 'efforts', 'genre', 'finally', 'something', 'worth', 'getting', 'excited', 'genre', 'filmgoers', 'probably', 'excited', 'first', 'artificial', 'intelligence', 'intelligence', 'machina', 'novelist', 'screenwriteralex', 'garlandsdirectorial', 'debut', 'treads', 'wellworn', 'scifi', 'territory', 'technophobia', 'complexes', 'lethal', 'robots', 'intelligence', 'sophistication', 'never', 'underestimates', 'either', 'viewer', 'capacity', 'genre', 'kicks', 'young', 'coder', 'named', 'caleb', 'domhnall', 'gleeson', 'mysterious', 'spend', 'opulent', 'compound', 'really', 'nathan', 'oscar', 'isaac', 'fictional', 'internet', 'giant', 'visit', 'caleb', 'meets', 'women', 'nathans', 'assistant', 'lover', 'kyoko', 'sonoya', 'mizuno', 'invention', 'robot', 'named', 'alicia', 'vikander', 'robot', 'confection', 'human', 'hands', 'together', 'sinewy', 'translucent', 'limbs', 'seethrough', 'torso', 'filled', 'blinking', 'lights', 'whirring', 'gears', 'nathan', 'tasks', 'caleb', 'engaging', 'turing', 'yesnamed', 'forthatturing', 'order', 'determine', 'whether', 'artificially', 'intelligent', 'creation', 'think', 'human', 'might', 'expect', 'vulnerable', 'young', 'alluring', 'robot', 'billionaire', 'complex', 'locked', 'hightec', 'bunker', 'things', 'start', 'horribly', 'wrong', 'nathans', 'claustrophobic', 'underground', 'takes', 'classic', 'scifi', 'setting', 'spaceship', 'exterior', 'shots', 'filmed', 'location', 'norway', 'forests', 'particularly', 'stunning', 'glacier', 'outer', 'space', 'putting', 'small', 'technological', 'accomplishments', 'context', 'natures', 'splendor', 'blurred', 'relationship', 'organic', 'inorganic', 'effect', 'elegant', 'flesh', 'design', 'crops', 'throughoutex', 'machinato', 'underline', 'notion', 'artificial', 'intelligence', 'inevitable', 'phase', 'evolution', 'vikanders', 'moves', 'robotically', 'takes', 'curious', 'birdlike', 'quality', 'bright', 'blinking', 'inquisitive', 'tilting', 'machinacertainly', 'theonlysuccessful', 'artificial', 'intelligence', 'vikanders', 'crackling', 'honey', 'voice', 'seductive', 'demeanor', 'comparison', 'toscarlett', 'johanssoninherpretty', 'inevitable', 'whilespike', 'jonzesfilm', 'heartex', 'machinais', 'brimming', 'brains', 'every', 'obvious', 'cultural', 'reference', 'scientific', 'disaster', 'robert', 'oppenheimer', 'quoted', 'theres', 'subtle', 'snippets', 'orchestral', 'manoeuvres', 'darks', 'anthem', 'enola', 'garland', 'never', 'camera', 'linger', 'machinas', 'visual', 'punches', 'fully', 'humanoid', 'robot', 'dressed', 'white', 'pausing', 'front', 'klimts', 'iconic', 'portrait', 'margaret', 'stonborough', 'wittgenstein', 'things', 'physical', 'violent', 'butex', 'machinais', 'threeway', 'mental', 'battle', 'overblown', 'empty', 'scifi', 'offerings', 'wouldnt', 'prefer', 'chess']\n",
            "['spike', 'jonzes', 'plays', 'miracle', 'first', 'around', 'watching', 'opening', 'shots', 'ofjoaquin', 'phoenixmaking', 'unabashed', 'declaration', 'eternal', 'unseen', 'immediately', 'disarming', 'movie', 'continues', 'viewer', 'learns', 'ordinary', 'theodore', 'checks', 'email', 'pretty', 'daysdirector', 'jonze', 'wrote', 'movies', 'script', 'constructs', 'beguiling', 'cinematic', 'world', 'starts', 'embrace', 'viewer', 'theodores', 'smart', 'phone', 'earpiece', 'different', 'becomes', 'clear', 'something', 'sciencefiction', 'nottoodistant', 'distinctly', 'fantastic', 'future', 'futuristic', 'premise', 'stage', 'unusual', 'story', 'still', 'highly', 'damaged', 'sensitive', 'breakup', 'marriage', 'friend', 'tells', 'voice', 'message', 'mopey', 'falls', 'artificially', 'intelligent', 'operating', 'system', 'computer', 'movie', 'shows', 'product', 'advertised', 'presumably', 'bought', 'remarkable', 'quantity', 'focuses', 'theos', 'interaction', 'gives', 'female', 'voice', 'female', 'voice', 'gives', 'samantha', 'samantha', 'reorganizing', 'theos', 'files', 'making', 'laugh', 'developing', 'something', 'human', 'consciousness', 'samanthas', 'initial', 'interaction', 'finds', 'interesting', 'troubling', 'depths', 'samantha', 'computer', 'ability', 'process', 'higher', 'speed', 'human', 'understand', 'limited', 'perspective', 'nonartificial', 'playfully', 'observes', 'samanthas', 'programming', 'designed', 'likable', 'assimilation', 'humanitys', 'operating', 'system', 'feeling', 'emotion', 'simulation', 'viewer', 'beguiled', 'peculiarities', 'particularities', 'samanthas', 'growing', 'entanglement', 'living', 'crash', 'course', 'question', 'means', 'human', 'first', 'feels', 'little', 'girlfriend', 'finds', 'adams', 'getting', 'caught', 'relationship', 'behind', 'estranged', 'husband', 'jonze', 'drops', 'funny', 'hints', 'existence', 'artificial', 'intelligence', 'human', 'society', 'might', 'affect', 'society', 'pretty', 'jokes', 'concerning', 'video', 'games', 'creates', 'moments', 'genuinely', 'upsetting', 'heartbreak', 'theos', 'inability', 'understand', 'wrong', 'marriage', 'catherine', 'rooney', 'quite', 'wonderful', 'could', 'problematic', 'continuing', 'inadvertent', 'emotional', 'laceration', 'present', 'meeting', 'movie', 'remains', 'engaging', 'genuinely', 'provocative', 'movies', 'youre', 'likely', 'definitely', 'challenging', 'inapt', 'movie']\n",
            "['newscififranchise', 'launched', 'theatrical', 'debut', 'terminator', 'hollywood', 'reporter', 'merits', 'hoped', 'sequel', 'original', 'review', 'doubt', 'arnold', 'schwarzenegger', 'playthe', 'terminator', 'nailbiting', 'orionscifiadventure', 'fromhemdale', 'beefyconanstar', 'first', 'villainous', 'dishes', 'destruction', 'fiendish', 'relish', 'certain', 'neutralize', 'boxoffice', 'competition', 'havoc', 'makes', 'genuine', 'steel', 'metal', 'movie', 'picture', 'sincethe', 'warrior', 'schwarzenegger', 'plays', 'emotionless', 'cyborg', 'future', 'assassinate', 'young', 'woman', 'linda', 'hamilton', 'whose', 'unborn', 'child', 'destined', 'become', 'apostapocalypticsaviour', 'tracking', 'michaelbiehn', 'assigned', 'protect', 'terminate', 'terminator', 'outcome', 'struggle', 'eerieflashforwardsto', 'skulllined', 'streets', 'angeles', 'remind', 'rests', 'future', 'world', 'remarkably', 'spare', 'script', 'james', 'cameron', 'annehurdgives', 'dimension', 'ageold', 'morality', 'working', 'plenty', 'pointed', 'comment', 'presentovermechanizationinto', 'actionfilm', 'context', 'images', 'talking', 'cameron', 'first', 'major', 'directorial', 'effort', 'proves', 'economical', 'storyteller', 'setting', 'shorts', 'maximum', 'visceral', 'impact', 'cameron', 'abetted', 'greenbergs', 'crisp', 'incisive', 'camerawork', 'markgoldblattsfinetooled', 'editing', 'discreetly', 'bloodshed', 'fidelspulsatinglypersuasive', 'score', 'futuristic', 'landscapes', 'impressively', 'sketched', 'fantasy', 'visual', 'effects', 'group', 'winston', 'provides', 'stopmotion', 'magic', 'recalls', 'rayharryhausen', 'imposing', 'special', 'effect', 'however', 'schwarzenegger', 'outfitted', 'basic', 'black', 'armed', 'teeth', 'stateoftheart', 'weaponry', 'exstrong', 'comes', 'incarnate', 'bulletpumping', 'presence', 'lends', 'tangible', 'sense', 'menace', 'singlehanded', 'destruction', 'intercity', 'police', 'station', 'certain', 'annals', 'onscreen', 'dastardly', 'deeds', 'schwarzenegger', 'worthy', 'adversary', 'michaelbiehn', 'whose', 'grimly', 'determined', 'features', 'expressively', 'convey', 'films', 'thematic', 'weight', 'linda', 'hamilton', 'displays', 'tremendous', 'resiliency', 'unsuspecting', 'target', 'engaging', 'support', 'winfield', 'lancehenriksenas', 'harried', 'detectives', 'arnolds', 'movie', 'theres', 'something', 'downright', 'satisfying', 'seeing', 'lovable', 'remorseless', 'heavy', 'hopes', 'streak', 'courseterminator', 'youkirk', 'ellis']\n"
          ],
          "name": "stdout"
        }
      ]
    },
    {
      "cell_type": "code",
      "metadata": {
        "colab": {
          "base_uri": "https://localhost:8080/"
        },
        "id": "XdhJQgOUs-Cp",
        "outputId": "63fa6464-e457-42b0-80ac-0fdcacd48a0e"
      },
      "source": [
        "def get_integer_mapping(le):\n",
        "    '''\n",
        "    Return a dict mapping labels to their integer values\n",
        "    from an SKlearn LabelEncoder\n",
        "    le = a fitted SKlearn LabelEncoder\n",
        "    '''\n",
        "    res = {}\n",
        "    for cl in le.classes_:\n",
        "        res.update({cl:le.transform([cl])[0]})\n",
        "\n",
        "    return res\n",
        "\n",
        "integerMapping = get_integer_mapping(le)\n",
        "{\"Disney\": integerMapping['Disney'], \"Thriller\": integerMapping['Thriller'], \"Magic\": integerMapping['Magic'], \"Hero\": integerMapping['Hero'], \"Justice\": integerMapping['Justice'], \n",
        " \"Comedy\": integerMapping['Comedy'], \"India\": integerMapping['India'], \"Horror\": integerMapping['Horror'], \"Sports\": integerMapping['Sports'], \"Love\": integerMapping['Love'], \n",
        " \"Science-Fiction\": integerMapping['Science-Fiction'], \"War\" : integerMapping['War'],  \"Time\" : integerMapping['Time']}"
      ],
      "execution_count": 41,
      "outputs": [
        {
          "output_type": "execute_result",
          "data": {
            "text/plain": [
              "{'Comedy': 0,\n",
              " 'Disney': 1,\n",
              " 'Hero': 2,\n",
              " 'Horror': 3,\n",
              " 'India': 4,\n",
              " 'Justice': 5,\n",
              " 'Love': 6,\n",
              " 'Magic': 7,\n",
              " 'Science-Fiction': 8,\n",
              " 'Sports': 9,\n",
              " 'Thriller': 10,\n",
              " 'Time': 11,\n",
              " 'War': 12}"
            ]
          },
          "metadata": {
            "tags": []
          },
          "execution_count": 41
        }
      ]
    },
    {
      "cell_type": "code",
      "metadata": {
        "colab": {
          "base_uri": "https://localhost:8080/"
        },
        "id": "ghYcjlHySwGi",
        "outputId": "4533815d-3276-4638-e9d0-dbbe7397539f"
      },
      "source": [
        "type(data['Labels'])"
      ],
      "execution_count": 22,
      "outputs": [
        {
          "output_type": "execute_result",
          "data": {
            "text/plain": [
              "pandas.core.series.Series"
            ]
          },
          "metadata": {
            "tags": []
          },
          "execution_count": 22
        }
      ]
    },
    {
      "cell_type": "code",
      "metadata": {
        "colab": {
          "base_uri": "https://localhost:8080/"
        },
        "id": "T7sbVBvoG6NF",
        "outputId": "e0b3aba0-74d8-4750-f4db-9d29a1ebe685"
      },
      "source": [
        "tfidf_matrix"
      ],
      "execution_count": 23,
      "outputs": [
        {
          "output_type": "execute_result",
          "data": {
            "text/plain": [
              "array([[0., 0., 0., ..., 0., 0., 0.],\n",
              "       [0., 0., 0., ..., 0., 0., 0.],\n",
              "       [0., 0., 0., ..., 0., 0., 0.],\n",
              "       ...,\n",
              "       [0., 0., 0., ..., 0., 0., 0.],\n",
              "       [0., 0., 0., ..., 0., 0., 0.],\n",
              "       [0., 0., 0., ..., 0., 0., 0.]])"
            ]
          },
          "metadata": {
            "tags": []
          },
          "execution_count": 23
        }
      ]
    },
    {
      "cell_type": "code",
      "metadata": {
        "id": "u04SB4-oc4Bf",
        "colab": {
          "base_uri": "https://localhost:8080/",
          "height": 280
        },
        "outputId": "241ed0d1-cd53-4d7a-b232-a70868a70ae0"
      },
      "source": [
        "#Importing required modules\n",
        " \n",
        "from sklearn.datasets import load_digits\n",
        "from sklearn.decomposition import PCA\n",
        "from sklearn.cluster import KMeans\n",
        "import numpy as np\n",
        " \n",
        "#Load Data\n",
        "pca = PCA(2)\n",
        " \n",
        "#Transform the data\n",
        "df = pca.fit_transform(tfidf_matrix)\n",
        " \n",
        "#Import KMeans module\n",
        "from sklearn.cluster import KMeans\n",
        " \n",
        "#Initialize the class object\n",
        "kmeans = KMeans(n_clusters= 15)\n",
        " \n",
        "#predict the labels of clusters.\n",
        "label = kmeans.fit_predict(df)\n",
        " \n",
        "#Getting unique labels\n",
        "u_labels = np.unique(label)\n",
        " \n",
        "#plotting the results:\n",
        "for i in u_labels:\n",
        "    plt.scatter(df[label == i , 0] , df[label == i , 1] , label = i)\n",
        "plt.legend()\n",
        "plt.show()\n",
        "\n"
      ],
      "execution_count": 24,
      "outputs": [
        {
          "output_type": "display_data",
          "data": {
            "image/png": "[encoded data removed]",
            "text/plain": [
              "<Figure size 432x288 with 1 Axes>"
            ]
          },
          "metadata": {
            "tags": [],
            "needs_background": "light"
          }
        }
      ]
    },
    {
      "cell_type": "markdown",
      "metadata": {
        "id": "NQYATQzeJ1T0"
      },
      "source": [
        "# Support Vector Machines"
      ]
    },
    {
      "cell_type": "code",
      "metadata": {
        "id": "ztnBhnOZxkGm"
      },
      "source": [
        "#split \n",
        "from sklearn.model_selection import train_test_split\n",
        "X_train, X_test, y_train, y_test = train_test_split(tfidf_matrix , data['Labels'], test_size=0.4, random_state=0)"
      ],
      "execution_count": 46,
      "outputs": []
    },
    {
      "cell_type": "code",
      "metadata": {
        "colab": {
          "base_uri": "https://localhost:8080/"
        },
        "id": "Rs4w3e0O7iK9",
        "outputId": "cc661ba6-d0f4-4e92-f1ed-15d577e7d5fd"
      },
      "source": [
        "from sklearn.svm import SVC\n",
        "model = SVC(kernel=\"poly\")\n",
        "model.fit(X_train, y_train)"
      ],
      "execution_count": 47,
      "outputs": [
        {
          "output_type": "execute_result",
          "data": {
            "text/plain": [
              "SVC(C=1.0, break_ties=False, cache_size=200, class_weight=None, coef0=0.0,\n",
              "    decision_function_shape='ovr', degree=3, gamma='scale', kernel='poly',\n",
              "    max_iter=-1, probability=False, random_state=None, shrinking=True,\n",
              "    tol=0.001, verbose=False)"
            ]
          },
          "metadata": {
            "tags": []
          },
          "execution_count": 47
        }
      ]
    },
    {
      "cell_type": "code",
      "metadata": {
        "colab": {
          "base_uri": "https://localhost:8080/"
        },
        "id": "WxEzYSn-JUf_",
        "outputId": "90328d3e-26a3-42f5-e366-7d2e90263e18"
      },
      "source": [
        "  #NOTE THIS IS AN OVERFIT CASE SO YOU KNOW THAT IT IS WORKING\n",
        "    #ONCE YOU GET CLOSE TO 100% ACCURACY THEN COMMENT OUT THESE TWO LINES\n",
        "predictions = model.predict(X_train)\n",
        "accy = accuracy_score(y_train, predictions)\n",
        "    #NOTE THIS IS THE CORRECT WAY TO TEST YOUR CLASSIFIERS\n",
        "    #UNCOMMENT THESE TWO LINES ONCE THE OVERFIT CASE YIELDS CLOSE TO 100% ACCURACY\n",
        "    #predictions = model.predict(X_test)\n",
        "    #accy = accuracy_score(y_test, predictions)\n",
        "print(accy)\n",
        "predictionstest = model.predict(X_test)\n",
        "acctest = accuracy_score(y_test, predictionstest)\n",
        "print(acctest)"
      ],
      "execution_count": 48,
      "outputs": [
        {
          "output_type": "stream",
          "text": [
            "1.0\n",
            "0.2903225806451613\n"
          ],
          "name": "stdout"
        }
      ]
    },
    {
      "cell_type": "markdown",
      "metadata": {
        "id": "uOjT8Kn3J6tl"
      },
      "source": [
        "# Random Forests"
      ]
    },
    {
      "cell_type": "code",
      "metadata": {
        "colab": {
          "base_uri": "https://localhost:8080/"
        },
        "id": "MfYBWh-NJ8X3",
        "outputId": "0872beb4-6aed-4c6a-f924-d527d894643a"
      },
      "source": [
        "classifier = RandomForestClassifier(n_estimators=1000, random_state=0)\n",
        "classifier.fit(X_train, y_train) "
      ],
      "execution_count": 55,
      "outputs": [
        {
          "output_type": "execute_result",
          "data": {
            "text/plain": [
              "RandomForestClassifier(bootstrap=True, ccp_alpha=0.0, class_weight=None,\n",
              "                       criterion='gini', max_depth=None, max_features='auto',\n",
              "                       max_leaf_nodes=None, max_samples=None,\n",
              "                       min_impurity_decrease=0.0, min_impurity_split=None,\n",
              "                       min_samples_leaf=1, min_samples_split=2,\n",
              "                       min_weight_fraction_leaf=0.0, n_estimators=1000,\n",
              "                       n_jobs=None, oob_score=False, random_state=0, verbose=0,\n",
              "                       warm_start=False)"
            ]
          },
          "metadata": {
            "tags": []
          },
          "execution_count": 55
        }
      ]
    },
    {
      "cell_type": "code",
      "metadata": {
        "colab": {
          "base_uri": "https://localhost:8080/"
        },
        "id": "FhuPLQZiKrAB",
        "outputId": "ba11d8a2-8257-45bb-a6a5-d779b8bfad49"
      },
      "source": [
        "predictions = classifier.predict(X_train)\n",
        "accy = accuracy_score(y_train, predictions)\n",
        "accy"
      ],
      "execution_count": 56,
      "outputs": [
        {
          "output_type": "execute_result",
          "data": {
            "text/plain": [
              "1.0"
            ]
          },
          "metadata": {
            "tags": []
          },
          "execution_count": 56
        }
      ]
    },
    {
      "cell_type": "code",
      "metadata": {
        "colab": {
          "base_uri": "https://localhost:8080/"
        },
        "id": "1MOtJD_3J_yL",
        "outputId": "26849697-54bd-45dc-fb51-f4a87cf12272"
      },
      "source": [
        "y_pred = classifier.predict(X_test)\n",
        "\n",
        "print(accuracy_score(y_test, y_pred))"
      ],
      "execution_count": 57,
      "outputs": [
        {
          "output_type": "stream",
          "text": [
            "0.45161290322580644\n"
          ],
          "name": "stdout"
        }
      ]
    },
    {
      "cell_type": "code",
      "metadata": {
        "colab": {
          "base_uri": "https://localhost:8080/"
        },
        "id": "BVBXNQ81LPzY",
        "outputId": "14f0df98-d117-4c29-e6ac-353f9d1e7735"
      },
      "source": [
        "from sklearn.naive_bayes import MultinomialNB\n",
        "model = MultinomialNB()\n",
        "model.fit(X_train, y_train)"
      ],
      "execution_count": 58,
      "outputs": [
        {
          "output_type": "execute_result",
          "data": {
            "text/plain": [
              "MultinomialNB(alpha=1.0, class_prior=None, fit_prior=True)"
            ]
          },
          "metadata": {
            "tags": []
          },
          "execution_count": 58
        }
      ]
    },
    {
      "cell_type": "code",
      "metadata": {
        "colab": {
          "base_uri": "https://localhost:8080/"
        },
        "id": "nKsKedE_LmIn",
        "outputId": "fd101e8b-066d-49ca-f7ce-f1f1f385df82"
      },
      "source": [
        "predictions = classifier.predict(X_train)\n",
        "accy = accuracy_score(y_train, predictions)\n",
        "accy"
      ],
      "execution_count": 59,
      "outputs": [
        {
          "output_type": "execute_result",
          "data": {
            "text/plain": [
              "1.0"
            ]
          },
          "metadata": {
            "tags": []
          },
          "execution_count": 59
        }
      ]
    },
    {
      "cell_type": "code",
      "metadata": {
        "colab": {
          "base_uri": "https://localhost:8080/"
        },
        "id": "SRCic_7eLnyn",
        "outputId": "d53ab758-efd6-4c2e-af83-f710b78bd245"
      },
      "source": [
        "y_pred = classifier.predict(X_test)\n",
        "\n",
        "print(accuracy_score(y_test, y_pred))"
      ],
      "execution_count": 60,
      "outputs": [
        {
          "output_type": "stream",
          "text": [
            "0.45161290322580644\n"
          ],
          "name": "stdout"
        }
      ]
    },
    {
      "cell_type": "code",
      "metadata": {
        "colab": {
          "base_uri": "https://localhost:8080/"
        },
        "id": "bC_HCm7EaM3r",
        "outputId": "2baa3d02-578b-4c89-be44-ee1ccfcbde37"
      },
      "source": [
        "from sklearn.neighbors import KNeighborsClassifier\n",
        "classifier = KNeighborsClassifier(n_neighbors=1)\n",
        "classifier.fit(X_train, y_train)"
      ],
      "execution_count": 61,
      "outputs": [
        {
          "output_type": "execute_result",
          "data": {
            "text/plain": [
              "KNeighborsClassifier(algorithm='auto', leaf_size=30, metric='minkowski',\n",
              "                     metric_params=None, n_jobs=None, n_neighbors=1, p=2,\n",
              "                     weights='uniform')"
            ]
          },
          "metadata": {
            "tags": []
          },
          "execution_count": 61
        }
      ]
    },
    {
      "cell_type": "code",
      "metadata": {
        "colab": {
          "base_uri": "https://localhost:8080/"
        },
        "id": "5TudOKJoaNDl",
        "outputId": "899c0021-8ee1-4910-8b5f-838ffb8a5960"
      },
      "source": [
        "y_pred = classifier.predict(X_train)\n",
        "print(accuracy_score(y_train, y_pred))"
      ],
      "execution_count": 62,
      "outputs": [
        {
          "output_type": "stream",
          "text": [
            "1.0\n"
          ],
          "name": "stdout"
        }
      ]
    },
    {
      "cell_type": "code",
      "metadata": {
        "colab": {
          "base_uri": "https://localhost:8080/"
        },
        "id": "mnyPE39_aQB0",
        "outputId": "fc0d9118-8f09-4e67-9aaa-0239c4e6b68b"
      },
      "source": [
        "y_pred = classifier.predict(X_test)\n",
        "print(accuracy_score(y_test, y_pred))"
      ],
      "execution_count": 63,
      "outputs": [
        {
          "output_type": "stream",
          "text": [
            "0.45161290322580644\n"
          ],
          "name": "stdout"
        }
      ]
    },
    {
      "cell_type": "markdown",
      "metadata": {
        "id": "lTIHGSfyg-aI"
      },
      "source": [
        "# ALSO APPLIED LABELS USING K MEANS; K = 15 PRODUCED HIGHEST ACCURACY"
      ]
    },
    {
      "cell_type": "code",
      "metadata": {
        "id": "9HZyRacoezvr"
      },
      "source": [
        "#Section 1: K-Means\n",
        "def k_means(titles, tfidf_matrix, k):\n",
        "    \n",
        "    #this is a function to generate the k-means output using the tfidf matrix.  Inputs \n",
        "    #to the function include: titles of text, processed text, and desired k value. \n",
        "    #Returns dataframe indicating cluster number per document\n",
        "\n",
        "    km = KMeans(n_clusters=k, random_state =89)\n",
        "    km.fit(tfidf_matrix)\n",
        "    clusters = km.labels_.tolist()\n",
        "\n",
        "    Dictionary={'Doc Name':titles, 'Cluster':clusters,  'Text': final_processed_text}\n",
        "    frame=pd.DataFrame(Dictionary, columns=['Cluster', 'Doc Name','Text'])\n",
        "    #dictionary to store clusters and respective titles\n",
        "    cluster_title={}\n",
        "\n",
        "    #note doc2vec clusters will not have individual words due to the vector representation\n",
        "    #is based on the entire document not indvidual words. As a result, there won't be individual\n",
        "    #word outputs from each cluster.   \n",
        "    for i in range(k):\n",
        "        temp=frame[frame['Cluster']==i]\n",
        "        temp_title_list=[]\n",
        "        for title in temp['Doc Name']:\n",
        "            temp_title_list.append(title)\n",
        "        cluster_title[i]=temp_title_list\n",
        "\n",
        "    print(cluster_title)\n",
        "    return cluster_title,clusters,frame"
      ],
      "execution_count": 64,
      "outputs": []
    },
    {
      "cell_type": "code",
      "metadata": {
        "colab": {
          "base_uri": "https://localhost:8080/"
        },
        "id": "4b4XL253e7ho",
        "outputId": "90787ab7-8231-4ab4-f19f-be8b649310a0"
      },
      "source": [
        "#Section 1: Execute K-means clustering\n",
        "cluster_title,clusters,k_means_df = k_means(titles, tfidf_matrix, k = 15)\n",
        "\n",
        "#labels used for supervised learning\n",
        "labels = k_means_df['Cluster']"
      ],
      "execution_count": 65,
      "outputs": [
        {
          "output_type": "stream",
          "text": [
            "{0: ['MSS_Doc4_Troy-Is-Based.docx', 'EG_Doc2_This_Time_Dream.docx', 'MSS_Doc6_Having-Become-The.docx', 'CVN_Doc3_The_CIA_Agent.docx'], 1: ['BJL_Doc3_Having-received-a.txt', 'BJL_Doc2_An-exploration-of.txt', 'BJL_Doc6_TRON-Legacy-is.txt', 'BJL_Doc1_So-when-I.txt', 'BJL_Doc5_The_addition_of.txt', 'BJL_Doc4_The-good-news.txt', 'BJL_Doc7_Both-Blade-Runner.txt', 'MSS_Doc3_That-Old-Time.docx', 'WS_DOC1_Tenet.docx', 'GS_DOC6_Hidden_Figures_Review.docx', 'EG_Doc1_When_Traveling.docx', 'MSS_Doc5_When-Dune-The.docx'], 2: ['CVN_Doc7_1917.docx', 'EG_Doc3_Epic_Intimacy_Arrival.docx', 'CVN_Doc5_Dunkirk_Film_Review.docx', 'CVN_Doc2_Film_Review_Panoramic.docx'], 3: ['GS_DOC5_Delightfully_smart_exciting.docx', 'MSS_Doc2_As-Possibly-Cinema_s.docx', 'SCFIDRJ_Doc4_I_Robot.txt', 'SCFIDRJ_Doc5_Ex_Machina.txt'], 4: ['RC_Doc5_I_went_into.docx', 'RC_Doc3_The_witch_a.docx', 'RC_Doc4_Were_instinctively_afraid.docx', 'CVN_Doc1_To_Hell_With.docx', 'CVN_Doc4_Pearl_Harbor.docx', 'SIM_Doc5_Movie_MS_Dhoni.docx', 'RC_Doc7_A_fundamental_difference.docx', 'SCFIDRJ_Doc3_The_Matrix.txt'], 5: ['WS_DOC3_Prestige.docx', 'MSS_Doc7_The-Latest-Entry.docx', 'EG_Doc7_The_Martian.docx', 'WS_DOC6_Martian.docx', 'SCFIDRJ_Doc1_2001 Space Odyssey.txt'], 6: ['SD_Doc5_A-Hollywood-Ending.docx', 'SD_Doc3_The-Mighty-Ducks.docx', 'SD_Doc2_Goon.docx', 'CVN_Doc6_Black_Hawk_Down.docx', 'SD_Doc7_Creed.docx'], 7: ['SIM_Doc3_Movie_Kal_Ho_Naa_Ho.docx', 'SIM_Doc7_Movie_The_Pursuit_of_Happyness.docx', 'WS_DOC2_KalhoNaHo.docx', 'SIM_Doc4_Movie_Guru.docx', 'SIM_Doc6_Movie_Kutch_Kutch_Hota_Hai.docx'], 8: ['GS_DOC3_Movie_Review_Superman.docx', 'GS_DOC1_Superhero_Sandbagged.docx', 'GS_DOC4_Aquaman_Complete_Bellyflop.docx', 'ADRJ_Doc1_Disneys_New_Mulan.txt'], 9: ['WS_DOC7_CoachCarter.docx', 'SD_Doc4_Throwing-A-Digital.docx', 'SD_Doc1_Writing-a-Playbook .docx'], 10: ['RC_Doc6_In_Rodney_Aschers.docx', 'RC_Doc1_Creepy_beyond_belief.docx', 'RC_Doc2_Insidious_is_an.docx', 'WS_DOC4_ImpracticalJokers.docx', 'WS_DOC5_Memento.docx'], 11: ['SIM_Doc1_Movie_The_Notebook.docx', 'SIM_Doc2_Move_Titanic.docx', 'SCFIDRJ_Doc7_The Terminator.txt'], 12: ['SD_Doc6_Steamrolling-Over-Lifes.docx', 'EG_Doc5_Stuck_Steerage.docx', 'ADRJ_Doc2_Cinderella_Review_Straight-Faced.txt', 'ADRJ_Doc3_Aladdin_Review_This.txt', 'ADRJ_Doc4_Review_Beauty_And.txt', 'ADRJ_Doc5_Film_Review_Tim.txt', 'ADRJ_Doc6_The_Jungle_Book.txt', 'ADRJ_Doc7_Whats_A_Nice.txt'], 13: ['GS_DOC2_Wonder_Woman1984_Review.docx', 'MSS_Doc1_In-The-Middle.docx', 'SCFIDRJ_Doc2_Wargames.txt', 'SCFIDRJ_Doc6_Her.txt'], 14: ['EG_Doc6_The_Inexorable_Pull.docx', 'EG_Doc4_Off_Stars_With_Grief.docx', 'GS_DOC7_Fantastic_Four_Spoilreview.docx']}\n"
          ],
          "name": "stdout"
        }
      ]
    },
    {
      "cell_type": "code",
      "metadata": {
        "id": "cBr9K3W3fMZU"
      },
      "source": [
        "#split \n",
        "from sklearn.model_selection import train_test_split\n",
        "X_train, X_test, y_train, y_test = train_test_split(tfidf_matrix , labels, test_size=0.10, random_state=0)"
      ],
      "execution_count": 98,
      "outputs": []
    },
    {
      "cell_type": "code",
      "metadata": {
        "colab": {
          "base_uri": "https://localhost:8080/"
        },
        "id": "mxPlwD4pfFNT",
        "outputId": "37655178-dadf-4d7a-b585-6b7b8d3bdbd8"
      },
      "source": [
        "classifier = RandomForestClassifier(n_estimators=1000, random_state=0)\n",
        "classifier.fit(X_train, y_train) "
      ],
      "execution_count": 111,
      "outputs": [
        {
          "output_type": "execute_result",
          "data": {
            "text/plain": [
              "RandomForestClassifier(bootstrap=True, ccp_alpha=0.0, class_weight=None,\n",
              "                       criterion='gini', max_depth=None, max_features='auto',\n",
              "                       max_leaf_nodes=None, max_samples=None,\n",
              "                       min_impurity_decrease=0.0, min_impurity_split=None,\n",
              "                       min_samples_leaf=1, min_samples_split=2,\n",
              "                       min_weight_fraction_leaf=0.0, n_estimators=1000,\n",
              "                       n_jobs=None, oob_score=False, random_state=0, verbose=0,\n",
              "                       warm_start=False)"
            ]
          },
          "metadata": {
            "tags": []
          },
          "execution_count": 111
        }
      ]
    },
    {
      "cell_type": "code",
      "metadata": {
        "colab": {
          "base_uri": "https://localhost:8080/"
        },
        "id": "EohAfap3fSae",
        "outputId": "7661009c-ada4-408f-d989-34183cf8e0ee"
      },
      "source": [
        "predictions = classifier.predict(X_train)\n",
        "accy = accuracy_score(y_train, predictions)\n",
        "accy"
      ],
      "execution_count": 112,
      "outputs": [
        {
          "output_type": "execute_result",
          "data": {
            "text/plain": [
              "1.0"
            ]
          },
          "metadata": {
            "tags": []
          },
          "execution_count": 112
        }
      ]
    },
    {
      "cell_type": "code",
      "metadata": {
        "colab": {
          "base_uri": "https://localhost:8080/"
        },
        "id": "uBEQI5JVfbtz",
        "outputId": "bd6b69b3-4206-4f2f-df9d-a6ad24b689d3"
      },
      "source": [
        "y_pred = classifier.predict(X_test)\n",
        "\n",
        "print(accuracy_score(y_test, y_pred))"
      ],
      "execution_count": 113,
      "outputs": [
        {
          "output_type": "stream",
          "text": [
            "0.75\n"
          ],
          "name": "stdout"
        }
      ]
    },
    {
      "cell_type": "code",
      "metadata": {
        "colab": {
          "base_uri": "https://localhost:8080/"
        },
        "id": "4RI6F2e7NR9d",
        "outputId": "13827f81-99f1-4d7f-be8f-285f3ac23aec"
      },
      "source": [
        "from sklearn.metrics import confusion_matrix\n",
        "confusion_matrix(y_test, y_pred)"
      ],
      "execution_count": 114,
      "outputs": [
        {
          "output_type": "execute_result",
          "data": {
            "text/plain": [
              "array([[1, 0, 0, 0, 0, 0, 0],\n",
              "       [1, 0, 0, 0, 0, 0, 0],\n",
              "       [0, 0, 1, 0, 0, 0, 0],\n",
              "       [0, 0, 0, 2, 0, 0, 0],\n",
              "       [0, 0, 0, 0, 1, 0, 0],\n",
              "       [0, 0, 0, 0, 1, 0, 0],\n",
              "       [0, 0, 0, 0, 0, 0, 1]])"
            ]
          },
          "metadata": {
            "tags": []
          },
          "execution_count": 114
        }
      ]
    },
    {
      "cell_type": "code",
      "metadata": {
        "colab": {
          "base_uri": "https://localhost:8080/"
        },
        "id": "Mkipf6vTgYKm",
        "outputId": "dd62fa2b-d346-4297-c5c0-fcc732a9b935"
      },
      "source": [
        "model = SVC(kernel=\"rbf\")\n",
        "model.fit(X_train, y_train)"
      ],
      "execution_count": 89,
      "outputs": [
        {
          "output_type": "execute_result",
          "data": {
            "text/plain": [
              "SVC(C=1.0, break_ties=False, cache_size=200, class_weight=None, coef0=0.0,\n",
              "    decision_function_shape='ovr', degree=3, gamma='scale', kernel='rbf',\n",
              "    max_iter=-1, probability=False, random_state=None, shrinking=True,\n",
              "    tol=0.001, verbose=False)"
            ]
          },
          "metadata": {
            "tags": []
          },
          "execution_count": 89
        }
      ]
    },
    {
      "cell_type": "code",
      "metadata": {
        "colab": {
          "base_uri": "https://localhost:8080/"
        },
        "id": "DJWUU9STghbK",
        "outputId": "bae8790d-75e7-4eac-89cc-09a3c6d7e1df"
      },
      "source": [
        "  #NOTE THIS IS AN OVERFIT CASE SO YOU KNOW THAT IT IS WORKING\n",
        "    #ONCE YOU GET CLOSE TO 100% ACCURACY THEN COMMENT OUT THESE TWO LINES\n",
        "predictions = model.predict(X_train)\n",
        "accy = accuracy_score(y_train, predictions)\n",
        "    \n",
        "    #NOTE THIS IS THE CORRECT WAY TO TEST YOUR CLASSIFIERS\n",
        "    #UNCOMMENT THESE TWO LINES ONCE THE OVERFIT CASE YIELDS CLOSE TO 100% ACCURACY\n",
        "    #predictions = model.predict(X_test)\n",
        "    #accy = accuracy_score(y_test, predictions)\n",
        "print(accy)\n",
        "predictionstest = model.predict(X_test)\n",
        "acctest = accuracy_score(y_test, predictionstest)\n",
        "print(acctest)"
      ],
      "execution_count": 90,
      "outputs": [
        {
          "output_type": "stream",
          "text": [
            "1.0\n",
            "0.1935483870967742\n"
          ],
          "name": "stdout"
        }
      ]
    },
    {
      "cell_type": "code",
      "metadata": {
        "colab": {
          "base_uri": "https://localhost:8080/"
        },
        "id": "9Rs2nHAJMok-",
        "outputId": "24125f9f-8208-4725-c63c-6bbbc9dac07f"
      },
      "source": [
        "model = MultinomialNB()\n",
        "model.fit(X_train, y_train)"
      ],
      "execution_count": 107,
      "outputs": [
        {
          "output_type": "execute_result",
          "data": {
            "text/plain": [
              "MultinomialNB(alpha=1.0, class_prior=None, fit_prior=True)"
            ]
          },
          "metadata": {
            "tags": []
          },
          "execution_count": 107
        }
      ]
    },
    {
      "cell_type": "code",
      "metadata": {
        "colab": {
          "base_uri": "https://localhost:8080/"
        },
        "id": "xa_9d5DBMoue",
        "outputId": "27e6c983-26ec-41ce-ccdc-af767ca92f91"
      },
      "source": [
        "predictions = classifier.predict(X_train)\n",
        "accy = accuracy_score(y_train, predictions)\n",
        "accy"
      ],
      "execution_count": 108,
      "outputs": [
        {
          "output_type": "execute_result",
          "data": {
            "text/plain": [
              "1.0"
            ]
          },
          "metadata": {
            "tags": []
          },
          "execution_count": 108
        }
      ]
    },
    {
      "cell_type": "code",
      "metadata": {
        "colab": {
          "base_uri": "https://localhost:8080/"
        },
        "id": "Nq1BJu_0MuRP",
        "outputId": "16ec2764-6a1c-4221-ccad-62396e459536"
      },
      "source": [
        "y_pred = classifier.predict(X_test)\n",
        "\n",
        "print(accuracy_score(y_test, y_pred))"
      ],
      "execution_count": 109,
      "outputs": [
        {
          "output_type": "stream",
          "text": [
            "0.75\n"
          ],
          "name": "stdout"
        }
      ]
    },
    {
      "cell_type": "code",
      "metadata": {
        "colab": {
          "base_uri": "https://localhost:8080/"
        },
        "id": "9dLaXGeJNK2k",
        "outputId": "ee7c348f-9a42-443e-b7bc-b6794fb75e72"
      },
      "source": [
        "from sklearn.metrics import confusion_matrix\n",
        "confusion_matrix(y_test, y_pred)"
      ],
      "execution_count": 110,
      "outputs": [
        {
          "output_type": "execute_result",
          "data": {
            "text/plain": [
              "array([[1, 0, 0, 0, 0, 0, 0],\n",
              "       [1, 0, 0, 0, 0, 0, 0],\n",
              "       [0, 0, 1, 0, 0, 0, 0],\n",
              "       [0, 0, 0, 2, 0, 0, 0],\n",
              "       [0, 0, 0, 0, 1, 0, 0],\n",
              "       [0, 0, 0, 0, 1, 0, 0],\n",
              "       [0, 0, 0, 0, 0, 0, 1]])"
            ]
          },
          "metadata": {
            "tags": []
          },
          "execution_count": 110
        }
      ]
    },
    {
      "cell_type": "code",
      "metadata": {
        "colab": {
          "base_uri": "https://localhost:8080/"
        },
        "id": "uB_Cvu-2ZeXN",
        "outputId": "7b7c55f8-0207-4ba4-cfb1-106b06180ea8"
      },
      "source": [
        "from sklearn.neighbors import KNeighborsClassifier\n",
        "classifier = KNeighborsClassifier(n_neighbors=1)\n",
        "classifier.fit(X_train, y_train)"
      ],
      "execution_count": 94,
      "outputs": [
        {
          "output_type": "execute_result",
          "data": {
            "text/plain": [
              "KNeighborsClassifier(algorithm='auto', leaf_size=30, metric='minkowski',\n",
              "                     metric_params=None, n_jobs=None, n_neighbors=1, p=2,\n",
              "                     weights='uniform')"
            ]
          },
          "metadata": {
            "tags": []
          },
          "execution_count": 94
        }
      ]
    },
    {
      "cell_type": "code",
      "metadata": {
        "colab": {
          "base_uri": "https://localhost:8080/"
        },
        "id": "OTh98mKjZ1UV",
        "outputId": "afc363cc-468d-4ef8-833e-cd5e803a758a"
      },
      "source": [
        "y_pred = classifier.predict(X_train)\n",
        "print(accuracy_score(y_train, y_pred))"
      ],
      "execution_count": 95,
      "outputs": [
        {
          "output_type": "stream",
          "text": [
            "1.0\n"
          ],
          "name": "stdout"
        }
      ]
    },
    {
      "cell_type": "code",
      "metadata": {
        "id": "hrm_-jllZjpV"
      },
      "source": [
        "y_pred = classifier.predict(X_test)"
      ],
      "execution_count": 96,
      "outputs": []
    },
    {
      "cell_type": "code",
      "metadata": {
        "colab": {
          "base_uri": "https://localhost:8080/"
        },
        "id": "fdr2Cz3QZo5W",
        "outputId": "327a69f4-f25d-458b-9c93-f33805d0e618"
      },
      "source": [
        "print(accuracy_score(y_test, y_pred))"
      ],
      "execution_count": 103,
      "outputs": [
        {
          "output_type": "stream",
          "text": [
            "0.75\n"
          ],
          "name": "stdout"
        }
      ]
    },
    {
      "cell_type": "code",
      "metadata": {
        "colab": {
          "base_uri": "https://localhost:8080/"
        },
        "id": "XAHjRBLXMzxt",
        "outputId": "53bc9a76-77e0-4df1-da36-da45ee8f63fc"
      },
      "source": [
        "from sklearn.metrics import confusion_matrix\n",
        "confusion_matrix(y_test, y_pred)"
      ],
      "execution_count": 106,
      "outputs": [
        {
          "output_type": "execute_result",
          "data": {
            "text/plain": [
              "array([[1, 0, 0, 0, 0, 0, 0],\n",
              "       [1, 0, 0, 0, 0, 0, 0],\n",
              "       [0, 0, 1, 0, 0, 0, 0],\n",
              "       [0, 0, 0, 2, 0, 0, 0],\n",
              "       [0, 0, 0, 0, 1, 0, 0],\n",
              "       [0, 0, 0, 0, 1, 0, 0],\n",
              "       [0, 0, 0, 0, 0, 0, 1]])"
            ]
          },
          "metadata": {
            "tags": []
          },
          "execution_count": 106
        }
      ]
    },
    {
      "cell_type": "markdown",
      "metadata": {
        "id": "Pk5CHL2pBswy"
      },
      "source": [
        "# Trying Neural Networks"
      ]
    },
    {
      "cell_type": "code",
      "metadata": {
        "id": "SDocMXa0PUGh"
      },
      "source": [
        "#split \n",
        "from sklearn.model_selection import train_test_split\n",
        "X_train, X_test, y_train, y_test = train_test_split(tfidf_matrix , labels, test_size=0.5, random_state=0)"
      ],
      "execution_count": 79,
      "outputs": []
    },
    {
      "cell_type": "code",
      "metadata": {
        "colab": {
          "base_uri": "https://localhost:8080/"
        },
        "id": "pgj29cegBwMA",
        "outputId": "56844ba3-c462-458a-ec01-95e69ff6ca66"
      },
      "source": [
        "from keras.models import Sequential\n",
        "from keras import layers\n",
        "from keras.preprocessing.text import Tokenizer\n",
        "from keras.preprocessing.sequence import pad_sequences\n",
        "from keras.wrappers.scikit_learn import KerasClassifier\n",
        "\n",
        "input_dim = X_train[0].shape\n",
        "print(input_dim)  # Number of features\n",
        "model = Sequential()\n",
        "model.add(layers.Dense(128, input_shape=input_dim, activation='relu'))\n",
        "model.add(layers.Dense(128, input_shape=input_dim, activation='relu'))\n",
        "model.add(layers.Dense(1, activation='softmax'))"
      ],
      "execution_count": 81,
      "outputs": [
        {
          "output_type": "stream",
          "text": [
            "(7099,)\n"
          ],
          "name": "stdout"
        }
      ]
    },
    {
      "cell_type": "code",
      "metadata": {
        "colab": {
          "base_uri": "https://localhost:8080/"
        },
        "id": "Yj8YuqvOCXmy",
        "outputId": "bc0d2d8e-ea39-4f0b-f8bf-95e9d4ff36b8"
      },
      "source": [
        "model.compile(loss='categorical_crossentropy', \n",
        "              optimizer='adam', \n",
        "              metrics=['accuracy'])\n",
        "model.summary()"
      ],
      "execution_count": 82,
      "outputs": [
        {
          "output_type": "stream",
          "text": [
            "Model: \"sequential\"\n",
            "_________________________________________________________________\n",
            "Layer (type)                 Output Shape              Param #   \n",
            "=================================================================\n",
            "dense (Dense)                (None, 128)               908800    \n",
            "_________________________________________________________________\n",
            "dense_1 (Dense)              (None, 128)               16512     \n",
            "_________________________________________________________________\n",
            "dense_2 (Dense)              (None, 1)                 129       \n",
            "=================================================================\n",
            "Total params: 925,441\n",
            "Trainable params: 925,441\n",
            "Non-trainable params: 0\n",
            "_________________________________________________________________\n"
          ],
          "name": "stdout"
        }
      ]
    },
    {
      "cell_type": "code",
      "metadata": {
        "colab": {
          "base_uri": "https://localhost:8080/"
        },
        "id": "-bkVh_-tCXt2",
        "outputId": "10e9d8f1-7e3e-41f2-d96d-bed94ddc7ecf"
      },
      "source": [
        "history = model.fit(X_train, y_train,\n",
        "                    epochs=125,\n",
        "                    verbose=True,\n",
        "                    validation_data=(X_test, y_test))"
      ],
      "execution_count": 83,
      "outputs": [
        {
          "output_type": "stream",
          "text": [
            "Epoch 1/125\n",
            "2/2 [==============================] - 3s 325ms/step - loss: 0.0000e+00 - accuracy: 0.1398 - val_loss: 0.0000e+00 - val_accuracy: 0.1795\n",
            "Epoch 2/125\n",
            "2/2 [==============================] - 0s 37ms/step - loss: 0.0000e+00 - accuracy: 0.1294 - val_loss: 0.0000e+00 - val_accuracy: 0.1795\n",
            "Epoch 3/125\n",
            "2/2 [==============================] - 0s 36ms/step - loss: 0.0000e+00 - accuracy: 0.1398 - val_loss: 0.0000e+00 - val_accuracy: 0.1795\n",
            "Epoch 4/125\n",
            "2/2 [==============================] - 0s 43ms/step - loss: 0.0000e+00 - accuracy: 0.1190 - val_loss: 0.0000e+00 - val_accuracy: 0.1795\n",
            "Epoch 5/125\n",
            "2/2 [==============================] - 0s 35ms/step - loss: 0.0000e+00 - accuracy: 0.1294 - val_loss: 0.0000e+00 - val_accuracy: 0.1795\n",
            "Epoch 6/125\n",
            "2/2 [==============================] - 0s 40ms/step - loss: 0.0000e+00 - accuracy: 0.1294 - val_loss: 0.0000e+00 - val_accuracy: 0.1795\n",
            "Epoch 7/125\n",
            "2/2 [==============================] - 0s 43ms/step - loss: 0.0000e+00 - accuracy: 0.1190 - val_loss: 0.0000e+00 - val_accuracy: 0.1795\n",
            "Epoch 8/125\n",
            "2/2 [==============================] - 0s 37ms/step - loss: 0.0000e+00 - accuracy: 0.1190 - val_loss: 0.0000e+00 - val_accuracy: 0.1795\n",
            "Epoch 9/125\n",
            "2/2 [==============================] - 0s 35ms/step - loss: 0.0000e+00 - accuracy: 0.1294 - val_loss: 0.0000e+00 - val_accuracy: 0.1795\n",
            "Epoch 10/125\n",
            "2/2 [==============================] - 0s 35ms/step - loss: 0.0000e+00 - accuracy: 0.1398 - val_loss: 0.0000e+00 - val_accuracy: 0.1795\n",
            "Epoch 11/125\n",
            "2/2 [==============================] - 0s 37ms/step - loss: 0.0000e+00 - accuracy: 0.1294 - val_loss: 0.0000e+00 - val_accuracy: 0.1795\n",
            "Epoch 12/125\n",
            "2/2 [==============================] - 0s 34ms/step - loss: 0.0000e+00 - accuracy: 0.1294 - val_loss: 0.0000e+00 - val_accuracy: 0.1795\n",
            "Epoch 13/125\n",
            "2/2 [==============================] - 0s 34ms/step - loss: 0.0000e+00 - accuracy: 0.1294 - val_loss: 0.0000e+00 - val_accuracy: 0.1795\n",
            "Epoch 14/125\n",
            "2/2 [==============================] - 0s 36ms/step - loss: 0.0000e+00 - accuracy: 0.1294 - val_loss: 0.0000e+00 - val_accuracy: 0.1795\n",
            "Epoch 15/125\n",
            "2/2 [==============================] - 0s 37ms/step - loss: 0.0000e+00 - accuracy: 0.1398 - val_loss: 0.0000e+00 - val_accuracy: 0.1795\n",
            "Epoch 16/125\n",
            "2/2 [==============================] - 0s 39ms/step - loss: 0.0000e+00 - accuracy: 0.1294 - val_loss: 0.0000e+00 - val_accuracy: 0.1795\n",
            "Epoch 17/125\n",
            "2/2 [==============================] - 0s 39ms/step - loss: 0.0000e+00 - accuracy: 0.1398 - val_loss: 0.0000e+00 - val_accuracy: 0.1795\n",
            "Epoch 18/125\n",
            "2/2 [==============================] - 0s 37ms/step - loss: 0.0000e+00 - accuracy: 0.1086 - val_loss: 0.0000e+00 - val_accuracy: 0.1795\n",
            "Epoch 19/125\n",
            "2/2 [==============================] - 0s 34ms/step - loss: 0.0000e+00 - accuracy: 0.1398 - val_loss: 0.0000e+00 - val_accuracy: 0.1795\n",
            "Epoch 20/125\n",
            "2/2 [==============================] - 0s 38ms/step - loss: 0.0000e+00 - accuracy: 0.1294 - val_loss: 0.0000e+00 - val_accuracy: 0.1795\n",
            "Epoch 21/125\n",
            "2/2 [==============================] - 0s 36ms/step - loss: 0.0000e+00 - accuracy: 0.1398 - val_loss: 0.0000e+00 - val_accuracy: 0.1795\n",
            "Epoch 22/125\n",
            "2/2 [==============================] - 0s 40ms/step - loss: 0.0000e+00 - accuracy: 0.1294 - val_loss: 0.0000e+00 - val_accuracy: 0.1795\n",
            "Epoch 23/125\n",
            "2/2 [==============================] - 0s 38ms/step - loss: 0.0000e+00 - accuracy: 0.1294 - val_loss: 0.0000e+00 - val_accuracy: 0.1795\n",
            "Epoch 24/125\n",
            "2/2 [==============================] - 0s 37ms/step - loss: 0.0000e+00 - accuracy: 0.1398 - val_loss: 0.0000e+00 - val_accuracy: 0.1795\n",
            "Epoch 25/125\n",
            "2/2 [==============================] - 0s 35ms/step - loss: 0.0000e+00 - accuracy: 0.1294 - val_loss: 0.0000e+00 - val_accuracy: 0.1795\n",
            "Epoch 26/125\n",
            "2/2 [==============================] - 0s 34ms/step - loss: 0.0000e+00 - accuracy: 0.1398 - val_loss: 0.0000e+00 - val_accuracy: 0.1795\n",
            "Epoch 27/125\n",
            "2/2 [==============================] - 0s 36ms/step - loss: 0.0000e+00 - accuracy: 0.1294 - val_loss: 0.0000e+00 - val_accuracy: 0.1795\n",
            "Epoch 28/125\n",
            "2/2 [==============================] - 0s 40ms/step - loss: 0.0000e+00 - accuracy: 0.1398 - val_loss: 0.0000e+00 - val_accuracy: 0.1795\n",
            "Epoch 29/125\n",
            "2/2 [==============================] - 0s 35ms/step - loss: 0.0000e+00 - accuracy: 0.1294 - val_loss: 0.0000e+00 - val_accuracy: 0.1795\n",
            "Epoch 30/125\n",
            "2/2 [==============================] - 0s 34ms/step - loss: 0.0000e+00 - accuracy: 0.1294 - val_loss: 0.0000e+00 - val_accuracy: 0.1795\n",
            "Epoch 31/125\n",
            "2/2 [==============================] - 0s 36ms/step - loss: 0.0000e+00 - accuracy: 0.1294 - val_loss: 0.0000e+00 - val_accuracy: 0.1795\n",
            "Epoch 32/125\n",
            "2/2 [==============================] - 0s 40ms/step - loss: 0.0000e+00 - accuracy: 0.1294 - val_loss: 0.0000e+00 - val_accuracy: 0.1795\n",
            "Epoch 33/125\n",
            "2/2 [==============================] - 0s 42ms/step - loss: 0.0000e+00 - accuracy: 0.1190 - val_loss: 0.0000e+00 - val_accuracy: 0.1795\n",
            "Epoch 34/125\n",
            "2/2 [==============================] - 0s 39ms/step - loss: 0.0000e+00 - accuracy: 0.1294 - val_loss: 0.0000e+00 - val_accuracy: 0.1795\n",
            "Epoch 35/125\n",
            "2/2 [==============================] - 0s 37ms/step - loss: 0.0000e+00 - accuracy: 0.1294 - val_loss: 0.0000e+00 - val_accuracy: 0.1795\n",
            "Epoch 36/125\n",
            "2/2 [==============================] - 0s 33ms/step - loss: 0.0000e+00 - accuracy: 0.1294 - val_loss: 0.0000e+00 - val_accuracy: 0.1795\n",
            "Epoch 37/125\n",
            "2/2 [==============================] - 0s 36ms/step - loss: 0.0000e+00 - accuracy: 0.1190 - val_loss: 0.0000e+00 - val_accuracy: 0.1795\n",
            "Epoch 38/125\n",
            "2/2 [==============================] - 0s 35ms/step - loss: 0.0000e+00 - accuracy: 0.1398 - val_loss: 0.0000e+00 - val_accuracy: 0.1795\n",
            "Epoch 39/125\n",
            "2/2 [==============================] - 0s 34ms/step - loss: 0.0000e+00 - accuracy: 0.1398 - val_loss: 0.0000e+00 - val_accuracy: 0.1795\n",
            "Epoch 40/125\n",
            "2/2 [==============================] - 0s 36ms/step - loss: 0.0000e+00 - accuracy: 0.1294 - val_loss: 0.0000e+00 - val_accuracy: 0.1795\n",
            "Epoch 41/125\n",
            "2/2 [==============================] - 0s 37ms/step - loss: 0.0000e+00 - accuracy: 0.1294 - val_loss: 0.0000e+00 - val_accuracy: 0.1795\n",
            "Epoch 42/125\n",
            "2/2 [==============================] - 0s 35ms/step - loss: 0.0000e+00 - accuracy: 0.1398 - val_loss: 0.0000e+00 - val_accuracy: 0.1795\n",
            "Epoch 43/125\n",
            "2/2 [==============================] - 0s 34ms/step - loss: 0.0000e+00 - accuracy: 0.1398 - val_loss: 0.0000e+00 - val_accuracy: 0.1795\n",
            "Epoch 44/125\n",
            "2/2 [==============================] - 0s 37ms/step - loss: 0.0000e+00 - accuracy: 0.1398 - val_loss: 0.0000e+00 - val_accuracy: 0.1795\n",
            "Epoch 45/125\n",
            "2/2 [==============================] - 0s 34ms/step - loss: 0.0000e+00 - accuracy: 0.1294 - val_loss: 0.0000e+00 - val_accuracy: 0.1795\n",
            "Epoch 46/125\n",
            "2/2 [==============================] - 0s 34ms/step - loss: 0.0000e+00 - accuracy: 0.1294 - val_loss: 0.0000e+00 - val_accuracy: 0.1795\n",
            "Epoch 47/125\n",
            "2/2 [==============================] - 0s 39ms/step - loss: 0.0000e+00 - accuracy: 0.1294 - val_loss: 0.0000e+00 - val_accuracy: 0.1795\n",
            "Epoch 48/125\n",
            "2/2 [==============================] - 0s 39ms/step - loss: 0.0000e+00 - accuracy: 0.1398 - val_loss: 0.0000e+00 - val_accuracy: 0.1795\n",
            "Epoch 49/125\n",
            "2/2 [==============================] - 0s 35ms/step - loss: 0.0000e+00 - accuracy: 0.1294 - val_loss: 0.0000e+00 - val_accuracy: 0.1795\n",
            "Epoch 50/125\n",
            "2/2 [==============================] - 0s 36ms/step - loss: 0.0000e+00 - accuracy: 0.1398 - val_loss: 0.0000e+00 - val_accuracy: 0.1795\n",
            "Epoch 51/125\n",
            "2/2 [==============================] - 0s 40ms/step - loss: 0.0000e+00 - accuracy: 0.1294 - val_loss: 0.0000e+00 - val_accuracy: 0.1795\n",
            "Epoch 52/125\n",
            "2/2 [==============================] - 0s 38ms/step - loss: 0.0000e+00 - accuracy: 0.1398 - val_loss: 0.0000e+00 - val_accuracy: 0.1795\n",
            "Epoch 53/125\n",
            "2/2 [==============================] - 0s 36ms/step - loss: 0.0000e+00 - accuracy: 0.1294 - val_loss: 0.0000e+00 - val_accuracy: 0.1795\n",
            "Epoch 54/125\n",
            "2/2 [==============================] - 0s 42ms/step - loss: 0.0000e+00 - accuracy: 0.1398 - val_loss: 0.0000e+00 - val_accuracy: 0.1795\n",
            "Epoch 55/125\n",
            "2/2 [==============================] - 0s 37ms/step - loss: 0.0000e+00 - accuracy: 0.1294 - val_loss: 0.0000e+00 - val_accuracy: 0.1795\n",
            "Epoch 56/125\n",
            "2/2 [==============================] - 0s 39ms/step - loss: 0.0000e+00 - accuracy: 0.1190 - val_loss: 0.0000e+00 - val_accuracy: 0.1795\n",
            "Epoch 57/125\n",
            "2/2 [==============================] - 0s 33ms/step - loss: 0.0000e+00 - accuracy: 0.1294 - val_loss: 0.0000e+00 - val_accuracy: 0.1795\n",
            "Epoch 58/125\n",
            "2/2 [==============================] - 0s 37ms/step - loss: 0.0000e+00 - accuracy: 0.1398 - val_loss: 0.0000e+00 - val_accuracy: 0.1795\n",
            "Epoch 59/125\n",
            "2/2 [==============================] - 0s 36ms/step - loss: 0.0000e+00 - accuracy: 0.1398 - val_loss: 0.0000e+00 - val_accuracy: 0.1795\n",
            "Epoch 60/125\n",
            "2/2 [==============================] - 0s 35ms/step - loss: 0.0000e+00 - accuracy: 0.1294 - val_loss: 0.0000e+00 - val_accuracy: 0.1795\n",
            "Epoch 61/125\n",
            "2/2 [==============================] - 0s 35ms/step - loss: 0.0000e+00 - accuracy: 0.1294 - val_loss: 0.0000e+00 - val_accuracy: 0.1795\n",
            "Epoch 62/125\n",
            "2/2 [==============================] - 0s 36ms/step - loss: 0.0000e+00 - accuracy: 0.1190 - val_loss: 0.0000e+00 - val_accuracy: 0.1795\n",
            "Epoch 63/125\n",
            "2/2 [==============================] - 0s 36ms/step - loss: 0.0000e+00 - accuracy: 0.1398 - val_loss: 0.0000e+00 - val_accuracy: 0.1795\n",
            "Epoch 64/125\n",
            "2/2 [==============================] - 0s 36ms/step - loss: 0.0000e+00 - accuracy: 0.1398 - val_loss: 0.0000e+00 - val_accuracy: 0.1795\n",
            "Epoch 65/125\n",
            "2/2 [==============================] - 0s 36ms/step - loss: 0.0000e+00 - accuracy: 0.1398 - val_loss: 0.0000e+00 - val_accuracy: 0.1795\n",
            "Epoch 66/125\n",
            "2/2 [==============================] - 0s 40ms/step - loss: 0.0000e+00 - accuracy: 0.1398 - val_loss: 0.0000e+00 - val_accuracy: 0.1795\n",
            "Epoch 67/125\n",
            "2/2 [==============================] - 0s 36ms/step - loss: 0.0000e+00 - accuracy: 0.1190 - val_loss: 0.0000e+00 - val_accuracy: 0.1795\n",
            "Epoch 68/125\n",
            "2/2 [==============================] - 0s 36ms/step - loss: 0.0000e+00 - accuracy: 0.1294 - val_loss: 0.0000e+00 - val_accuracy: 0.1795\n",
            "Epoch 69/125\n",
            "2/2 [==============================] - 0s 36ms/step - loss: 0.0000e+00 - accuracy: 0.1294 - val_loss: 0.0000e+00 - val_accuracy: 0.1795\n",
            "Epoch 70/125\n",
            "2/2 [==============================] - 0s 37ms/step - loss: 0.0000e+00 - accuracy: 0.1294 - val_loss: 0.0000e+00 - val_accuracy: 0.1795\n",
            "Epoch 71/125\n",
            "2/2 [==============================] - 0s 36ms/step - loss: 0.0000e+00 - accuracy: 0.1294 - val_loss: 0.0000e+00 - val_accuracy: 0.1795\n",
            "Epoch 72/125\n",
            "2/2 [==============================] - 0s 42ms/step - loss: 0.0000e+00 - accuracy: 0.1398 - val_loss: 0.0000e+00 - val_accuracy: 0.1795\n",
            "Epoch 73/125\n",
            "2/2 [==============================] - 0s 37ms/step - loss: 0.0000e+00 - accuracy: 0.1294 - val_loss: 0.0000e+00 - val_accuracy: 0.1795\n",
            "Epoch 74/125\n",
            "2/2 [==============================] - 0s 37ms/step - loss: 0.0000e+00 - accuracy: 0.1398 - val_loss: 0.0000e+00 - val_accuracy: 0.1795\n",
            "Epoch 75/125\n",
            "2/2 [==============================] - 0s 43ms/step - loss: 0.0000e+00 - accuracy: 0.1398 - val_loss: 0.0000e+00 - val_accuracy: 0.1795\n",
            "Epoch 76/125\n",
            "2/2 [==============================] - 0s 35ms/step - loss: 0.0000e+00 - accuracy: 0.1294 - val_loss: 0.0000e+00 - val_accuracy: 0.1795\n",
            "Epoch 77/125\n",
            "2/2 [==============================] - 0s 36ms/step - loss: 0.0000e+00 - accuracy: 0.1294 - val_loss: 0.0000e+00 - val_accuracy: 0.1795\n",
            "Epoch 78/125\n",
            "2/2 [==============================] - 0s 37ms/step - loss: 0.0000e+00 - accuracy: 0.1398 - val_loss: 0.0000e+00 - val_accuracy: 0.1795\n",
            "Epoch 79/125\n",
            "2/2 [==============================] - 0s 35ms/step - loss: 0.0000e+00 - accuracy: 0.1294 - val_loss: 0.0000e+00 - val_accuracy: 0.1795\n",
            "Epoch 80/125\n",
            "2/2 [==============================] - 0s 35ms/step - loss: 0.0000e+00 - accuracy: 0.1294 - val_loss: 0.0000e+00 - val_accuracy: 0.1795\n",
            "Epoch 81/125\n",
            "2/2 [==============================] - 0s 39ms/step - loss: 0.0000e+00 - accuracy: 0.1294 - val_loss: 0.0000e+00 - val_accuracy: 0.1795\n",
            "Epoch 82/125\n",
            "2/2 [==============================] - 0s 36ms/step - loss: 0.0000e+00 - accuracy: 0.1190 - val_loss: 0.0000e+00 - val_accuracy: 0.1795\n",
            "Epoch 83/125\n",
            "2/2 [==============================] - 0s 36ms/step - loss: 0.0000e+00 - accuracy: 0.1294 - val_loss: 0.0000e+00 - val_accuracy: 0.1795\n",
            "Epoch 84/125\n",
            "2/2 [==============================] - 0s 36ms/step - loss: 0.0000e+00 - accuracy: 0.1294 - val_loss: 0.0000e+00 - val_accuracy: 0.1795\n",
            "Epoch 85/125\n",
            "2/2 [==============================] - 0s 36ms/step - loss: 0.0000e+00 - accuracy: 0.1398 - val_loss: 0.0000e+00 - val_accuracy: 0.1795\n",
            "Epoch 86/125\n",
            "2/2 [==============================] - 0s 35ms/step - loss: 0.0000e+00 - accuracy: 0.1294 - val_loss: 0.0000e+00 - val_accuracy: 0.1795\n",
            "Epoch 87/125\n",
            "2/2 [==============================] - 0s 35ms/step - loss: 0.0000e+00 - accuracy: 0.1398 - val_loss: 0.0000e+00 - val_accuracy: 0.1795\n",
            "Epoch 88/125\n",
            "2/2 [==============================] - 0s 34ms/step - loss: 0.0000e+00 - accuracy: 0.1190 - val_loss: 0.0000e+00 - val_accuracy: 0.1795\n",
            "Epoch 89/125\n",
            "2/2 [==============================] - 0s 35ms/step - loss: 0.0000e+00 - accuracy: 0.1294 - val_loss: 0.0000e+00 - val_accuracy: 0.1795\n",
            "Epoch 90/125\n",
            "2/2 [==============================] - 0s 37ms/step - loss: 0.0000e+00 - accuracy: 0.1398 - val_loss: 0.0000e+00 - val_accuracy: 0.1795\n",
            "Epoch 91/125\n",
            "2/2 [==============================] - 0s 36ms/step - loss: 0.0000e+00 - accuracy: 0.1398 - val_loss: 0.0000e+00 - val_accuracy: 0.1795\n",
            "Epoch 92/125\n",
            "2/2 [==============================] - 0s 36ms/step - loss: 0.0000e+00 - accuracy: 0.1398 - val_loss: 0.0000e+00 - val_accuracy: 0.1795\n",
            "Epoch 93/125\n",
            "2/2 [==============================] - 0s 36ms/step - loss: 0.0000e+00 - accuracy: 0.1294 - val_loss: 0.0000e+00 - val_accuracy: 0.1795\n",
            "Epoch 94/125\n",
            "2/2 [==============================] - 0s 36ms/step - loss: 0.0000e+00 - accuracy: 0.1190 - val_loss: 0.0000e+00 - val_accuracy: 0.1795\n",
            "Epoch 95/125\n",
            "2/2 [==============================] - 0s 38ms/step - loss: 0.0000e+00 - accuracy: 0.1398 - val_loss: 0.0000e+00 - val_accuracy: 0.1795\n",
            "Epoch 96/125\n",
            "2/2 [==============================] - 0s 35ms/step - loss: 0.0000e+00 - accuracy: 0.1398 - val_loss: 0.0000e+00 - val_accuracy: 0.1795\n",
            "Epoch 97/125\n",
            "2/2 [==============================] - 0s 35ms/step - loss: 0.0000e+00 - accuracy: 0.1190 - val_loss: 0.0000e+00 - val_accuracy: 0.1795\n",
            "Epoch 98/125\n",
            "2/2 [==============================] - 0s 37ms/step - loss: 0.0000e+00 - accuracy: 0.1294 - val_loss: 0.0000e+00 - val_accuracy: 0.1795\n",
            "Epoch 99/125\n",
            "2/2 [==============================] - 0s 38ms/step - loss: 0.0000e+00 - accuracy: 0.1294 - val_loss: 0.0000e+00 - val_accuracy: 0.1795\n",
            "Epoch 100/125\n",
            "2/2 [==============================] - 0s 37ms/step - loss: 0.0000e+00 - accuracy: 0.1190 - val_loss: 0.0000e+00 - val_accuracy: 0.1795\n",
            "Epoch 101/125\n",
            "2/2 [==============================] - 0s 36ms/step - loss: 0.0000e+00 - accuracy: 0.1294 - val_loss: 0.0000e+00 - val_accuracy: 0.1795\n",
            "Epoch 102/125\n",
            "2/2 [==============================] - 0s 35ms/step - loss: 0.0000e+00 - accuracy: 0.1398 - val_loss: 0.0000e+00 - val_accuracy: 0.1795\n",
            "Epoch 103/125\n",
            "2/2 [==============================] - 0s 34ms/step - loss: 0.0000e+00 - accuracy: 0.1294 - val_loss: 0.0000e+00 - val_accuracy: 0.1795\n",
            "Epoch 104/125\n",
            "2/2 [==============================] - 0s 39ms/step - loss: 0.0000e+00 - accuracy: 0.1190 - val_loss: 0.0000e+00 - val_accuracy: 0.1795\n",
            "Epoch 105/125\n",
            "2/2 [==============================] - 0s 43ms/step - loss: 0.0000e+00 - accuracy: 0.1294 - val_loss: 0.0000e+00 - val_accuracy: 0.1795\n",
            "Epoch 106/125\n",
            "2/2 [==============================] - 0s 43ms/step - loss: 0.0000e+00 - accuracy: 0.1398 - val_loss: 0.0000e+00 - val_accuracy: 0.1795\n",
            "Epoch 107/125\n",
            "2/2 [==============================] - 0s 38ms/step - loss: 0.0000e+00 - accuracy: 0.1398 - val_loss: 0.0000e+00 - val_accuracy: 0.1795\n",
            "Epoch 108/125\n",
            "2/2 [==============================] - 0s 34ms/step - loss: 0.0000e+00 - accuracy: 0.1190 - val_loss: 0.0000e+00 - val_accuracy: 0.1795\n",
            "Epoch 109/125\n",
            "2/2 [==============================] - 0s 38ms/step - loss: 0.0000e+00 - accuracy: 0.1294 - val_loss: 0.0000e+00 - val_accuracy: 0.1795\n",
            "Epoch 110/125\n",
            "2/2 [==============================] - 0s 35ms/step - loss: 0.0000e+00 - accuracy: 0.1398 - val_loss: 0.0000e+00 - val_accuracy: 0.1795\n",
            "Epoch 111/125\n",
            "2/2 [==============================] - 0s 34ms/step - loss: 0.0000e+00 - accuracy: 0.1398 - val_loss: 0.0000e+00 - val_accuracy: 0.1795\n",
            "Epoch 112/125\n",
            "2/2 [==============================] - 0s 39ms/step - loss: 0.0000e+00 - accuracy: 0.1294 - val_loss: 0.0000e+00 - val_accuracy: 0.1795\n",
            "Epoch 113/125\n",
            "2/2 [==============================] - 0s 35ms/step - loss: 0.0000e+00 - accuracy: 0.1294 - val_loss: 0.0000e+00 - val_accuracy: 0.1795\n",
            "Epoch 114/125\n",
            "2/2 [==============================] - 0s 40ms/step - loss: 0.0000e+00 - accuracy: 0.1294 - val_loss: 0.0000e+00 - val_accuracy: 0.1795\n",
            "Epoch 115/125\n",
            "2/2 [==============================] - 0s 49ms/step - loss: 0.0000e+00 - accuracy: 0.1294 - val_loss: 0.0000e+00 - val_accuracy: 0.1795\n",
            "Epoch 116/125\n",
            "2/2 [==============================] - 0s 52ms/step - loss: 0.0000e+00 - accuracy: 0.1294 - val_loss: 0.0000e+00 - val_accuracy: 0.1795\n",
            "Epoch 117/125\n",
            "2/2 [==============================] - 0s 44ms/step - loss: 0.0000e+00 - accuracy: 0.1398 - val_loss: 0.0000e+00 - val_accuracy: 0.1795\n",
            "Epoch 118/125\n",
            "2/2 [==============================] - 0s 40ms/step - loss: 0.0000e+00 - accuracy: 0.1398 - val_loss: 0.0000e+00 - val_accuracy: 0.1795\n",
            "Epoch 119/125\n",
            "2/2 [==============================] - 0s 48ms/step - loss: 0.0000e+00 - accuracy: 0.1398 - val_loss: 0.0000e+00 - val_accuracy: 0.1795\n",
            "Epoch 120/125\n",
            "2/2 [==============================] - 0s 35ms/step - loss: 0.0000e+00 - accuracy: 0.1398 - val_loss: 0.0000e+00 - val_accuracy: 0.1795\n",
            "Epoch 121/125\n",
            "2/2 [==============================] - 0s 36ms/step - loss: 0.0000e+00 - accuracy: 0.1294 - val_loss: 0.0000e+00 - val_accuracy: 0.1795\n",
            "Epoch 122/125\n",
            "2/2 [==============================] - 0s 38ms/step - loss: 0.0000e+00 - accuracy: 0.1398 - val_loss: 0.0000e+00 - val_accuracy: 0.1795\n",
            "Epoch 123/125\n",
            "2/2 [==============================] - 0s 34ms/step - loss: 0.0000e+00 - accuracy: 0.1294 - val_loss: 0.0000e+00 - val_accuracy: 0.1795\n",
            "Epoch 124/125\n",
            "2/2 [==============================] - 0s 38ms/step - loss: 0.0000e+00 - accuracy: 0.1398 - val_loss: 0.0000e+00 - val_accuracy: 0.1795\n",
            "Epoch 125/125\n",
            "2/2 [==============================] - 0s 42ms/step - loss: 0.0000e+00 - accuracy: 0.1190 - val_loss: 0.0000e+00 - val_accuracy: 0.1795\n"
          ],
          "name": "stdout"
        }
      ]
    },
    {
      "cell_type": "code",
      "metadata": {
        "colab": {
          "base_uri": "https://localhost:8080/"
        },
        "id": "ygTcnwnHCXyR",
        "outputId": "1fa1ebc4-1a7c-4d5b-b111-93fc9325a5ef"
      },
      "source": [
        "loss, accuracy = model.evaluate(X_train, y_train, verbose=False)\n",
        "print(\"Training Accuracy: {:.4f}\".format(accuracy))\n",
        "loss, accuracy = model.evaluate(X_test, y_test, verbose=False)\n",
        "print(\"Testing Accuracy:  {:.4f}\".format(accuracy))"
      ],
      "execution_count": 84,
      "outputs": [
        {
          "output_type": "stream",
          "text": [
            "Training Accuracy: 0.1316\n",
            "Testing Accuracy:  0.1795\n"
          ],
          "name": "stdout"
        }
      ]
    }
  ]
}